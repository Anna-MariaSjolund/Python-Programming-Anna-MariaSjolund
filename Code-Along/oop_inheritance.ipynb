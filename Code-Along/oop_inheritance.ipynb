{
 "cells": [
  {
   "cell_type": "code",
   "execution_count": 1,
   "source": [
    "import oldcoins\n",
    "\n",
    "class Person:\n",
    "    def __init__(self, name, age) -> None:\n",
    "        self.age = age\n",
    "        self.name = name\n",
    "    \n",
    "    @property\n",
    "    def age(self):\n",
    "        return self._age\n",
    "\n",
    "    @age.setter\n",
    "    def age(self, value):\n",
    "        if not isinstance(value, int):\n",
    "            raise TypeError(\"Must be int.\")\n",
    "\n",
    "    #TODO: make a property for name and use, e.g. regex to check that we have a valid name\n",
    "\n",
    "    def say_hi(self):\n",
    "        print(f\"Person {self.name} says hi.\")\n",
    "\n",
    "class Student(Person): #Student inherits from Person, i.e. Student is a Person\n",
    "    def __init__(self, name, age, language) -> None:\n",
    "        super().__init__(name, age)\n",
    "\n",
    "        self.language = language\n",
    "    \n",
    "    #TODO: make language into property\n",
    "\n",
    "    def say_hi(self):\n",
    "        print(f\"Student {self.name} says yo in language {self.language}.\")\n",
    "\n",
    "class Viking(Person):\n",
    "    def __init__(self, name, age) -> None:\n",
    "        super().__init__(name, age)\n",
    "        self.stash = oldcoins.OldCoinStash(name)\n",
    "\n",
    "p1 = Person(\"Anita\", 45)\n",
    "\n",
    "try:\n",
    "    s1 = Student(\"Gore\", \"femtio\", \"Python\") #We get an error because it inherits the age.setter validation from Person\n",
    "except TypeError as err:\n",
    "    print(err)\n",
    "\n",
    "s2 = Student(\"Gore\", 50, \"Java\")\n",
    "\n",
    "v1 = Viking(\"Ragnar\", 50)\n",
    "\n",
    "for person in (p1, s2, v1):\n",
    "    person.say_hi()\n",
    "\n",
    "print(v1.stash)"
   ],
   "outputs": [
    {
     "output_type": "stream",
     "name": "stdout",
     "text": [
      "Must be int.\n",
      "Person Anita says hi.\n",
      "Student Gore says yo in language Java.\n",
      "Person Ragnar says hi.\n",
      "OldCoinStash(owner='Ragnar)'.\n"
     ]
    }
   ],
   "metadata": {}
  }
 ],
 "metadata": {
  "orig_nbformat": 4,
  "language_info": {
   "name": "python",
   "version": "3.9.6",
   "mimetype": "text/x-python",
   "codemirror_mode": {
    "name": "ipython",
    "version": 3
   },
   "pygments_lexer": "ipython3",
   "nbconvert_exporter": "python",
   "file_extension": ".py"
  },
  "kernelspec": {
   "name": "python3",
   "display_name": "Python 3.9.6 64-bit ('python-programming-Anna-Maria-Sjolund-Htb3K3oR': pipenv)"
  },
  "interpreter": {
   "hash": "d058bb7a222ccb114394dd2dbf09376c772f658c97746095daf69714e9de45e0"
  }
 },
 "nbformat": 4,
 "nbformat_minor": 2
}