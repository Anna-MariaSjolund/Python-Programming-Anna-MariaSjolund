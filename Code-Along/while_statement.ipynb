{
 "cells": [
  {
   "cell_type": "code",
   "execution_count": 4,
   "source": [
    "# skriva ut alla tal mellan -10 och 10\n",
    "\n",
    "number = -10\n",
    "while(number <= 10): #Så långe som villkoret är sant så upprepas satserna i while-blocket\n",
    "    print(number, end = \", \") #För att skriva ut allt på en rad\n",
    "    number += 1 #assignment operator (tilldelningsoperator), andra språk: n = n +1 eller n++"
   ],
   "outputs": [
    {
     "output_type": "stream",
     "name": "stdout",
     "text": [
      "-10, -9, -8, -7, -6, -5, -4, -3, -2, -1, 0, 1, 2, 3, 4, 5, 6, 7, 8, 9, 10, "
     ]
    }
   ],
   "metadata": {}
  },
  {
   "cell_type": "code",
   "execution_count": 14,
   "source": [
    "#Skriva ut alla jämna tal mellan -10 och 10\n",
    "number = -10\n",
    "\n",
    "while number <= 10:\n",
    "    if number % 2 == 0:\n",
    "        print(number, end = \", \")\n",
    "    number += 1\n",
    "\n",
    "print(\"\\n\")\n",
    "\n",
    "#Eller\n",
    "\n",
    "number = -10 \n",
    "\n",
    "while number <= 10:\n",
    "    print(number, end = \", \")\n",
    "    number += 2"
   ],
   "outputs": [
    {
     "output_type": "stream",
     "name": "stdout",
     "text": [
      "-10, -8, -6, -4, -2, 0, 2, 4, 6, 8, 10, \n",
      "\n",
      "-10, -8, -6, -4, -2, 0, 2, 4, 6, 8, 10, "
     ]
    }
   ],
   "metadata": {}
  },
  {
   "cell_type": "code",
   "execution_count": null,
   "source": [],
   "outputs": [],
   "metadata": {}
  }
 ],
 "metadata": {
  "orig_nbformat": 4,
  "language_info": {
   "name": "python",
   "version": "3.9.6",
   "mimetype": "text/x-python",
   "codemirror_mode": {
    "name": "ipython",
    "version": 3
   },
   "pygments_lexer": "ipython3",
   "nbconvert_exporter": "python",
   "file_extension": ".py"
  },
  "kernelspec": {
   "name": "python3",
   "display_name": "Python 3.9.6 64-bit"
  },
  "interpreter": {
   "hash": "aee8b7b246df8f9039afb4144a1f6fd8d2ca17a180786b69acc140d282b71a49"
  }
 },
 "nbformat": 4,
 "nbformat_minor": 2
}