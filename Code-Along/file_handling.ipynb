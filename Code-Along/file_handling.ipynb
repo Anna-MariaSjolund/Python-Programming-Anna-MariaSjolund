{
 "cells": [
  {
   "cell_type": "markdown",
   "source": [
    "# File handling\n",
    "- \"r\" reads the file\n",
    "- \"w\" writes to file\n",
    "- \"a\" appends to the file \n",
    "- \"x\" creates a file (gives error if it already exists)"
   ],
   "metadata": {}
  },
  {
   "cell_type": "code",
   "execution_count": 10,
   "source": [
    "#with -> use this when opening files\n",
    "#takes care of error handling, otherwise we have to do try except\n",
    "#takes care of closing down the file\n",
    "#we can use .. to go up a folder\n",
    "with open(\"Files/quotes.txt\", \"r\") as f:\n",
    "    text = f.read()\n",
    "\n",
    "#print(text)\n",
    "print(repr(text)) #When running this you will see what more is inside the string. For example \\n are added"
   ],
   "outputs": [
    {
     "output_type": "stream",
     "name": "stdout",
     "text": [
      "'  If     we     knew what it was      we were doing, it would not be called research,          would it?     - Albert Einstein\\n\\nTime is a drug. Too       much of it kills you.  -  Terry Pratchett\\n\\n\\n An expert is a person who       has made all the mistakes that           can be made in a          very narrow field - Niels Bohr\\n\\n   Everything must be made as simple as possible. But not simpler. - Albert Einstein     \\n\\n\\n  Nothing in life                is to be feared, it is only to be understood. Now is the time to understand more, so that we may fear less. - Marie  Curie  \\n\\nIf I have seen further     it is by standing on the shoulders of Giants. - Isaac Newton'\n"
     ]
    }
   ],
   "metadata": {}
  },
  {
   "cell_type": "markdown",
   "source": [
    "## Clean up quotes.txt\n",
    "- inspect quotes\n",
    "- remove leading and trailing whitespaces\n",
    "- remove excessive whitespaces between words\n",
    "- add quote numbers\n",
    "- extract authors"
   ],
   "metadata": {}
  },
  {
   "cell_type": "code",
   "execution_count": 14,
   "source": [
    "path = \"Files/quotes.txt\"\n",
    "\n",
    "with open(path, \"r\") as f1:\n",
    "    #quotes = f1.readlines()#Now we get the file as a list\n",
    "    #print(quotes)\n",
    "\n",
    "    quotes = [quote.strip(\"\\n\") for quote in f1.readlines()]\n",
    "    print(quotes)"
   ],
   "outputs": [
    {
     "output_type": "stream",
     "name": "stdout",
     "text": [
      "['  If     we     knew what it was      we were doing, it would not be called research,          would it?     - Albert Einstein', '', 'Time is a drug. Too       much of it kills you.  -  Terry Pratchett', '', '', ' An expert is a person who       has made all the mistakes that           can be made in a          very narrow field - Niels Bohr', '', '   Everything must be made as simple as possible. But not simpler. - Albert Einstein     ', '', '', '  Nothing in life                is to be feared, it is only to be understood. Now is the time to understand more, so that we may fear less. - Marie  Curie  ', '', 'If I have seen further     it is by standing on the shoulders of Giants. - Isaac Newton']\n"
     ]
    }
   ],
   "metadata": {}
  },
  {
   "cell_type": "code",
   "execution_count": 60,
   "source": [
    "import re\n",
    "path = \"Files/quotes.txt\"\n",
    "path_clean = \"Files/quotes_cleaned.txt\"\n",
    "i = 1 #Set i to 1 so that we can use this to get the number of the quote\n",
    "\n",
    "with open(path, \"r\") as f1, open(path_clean, \"w\") as f2: #Second part opens a new file that we can write to\n",
    "    \n",
    "    f2.write(\"Famous quotes\\n\\n\") #Writes a headline to the new file with two new lines after\n",
    "    for quote in f1.readlines():\n",
    "        quote = quote.strip(\" \\n\") #Removes leading and trailing whitespaces and newlines\n",
    "        quote = re.sub(\" +\", \" \", quote) #\" +\" means one whitespace OR several whitespaces should be substituted with one whitespace\n",
    "        #We still have empty strings in our files\n",
    "        if quote != \"\":\n",
    "            f2.write(f\"{i}. {quote}\\n\")\n",
    "            i += 1"
   ],
   "outputs": [],
   "metadata": {}
  },
  {
   "cell_type": "markdown",
   "source": [
    "## Extract authors from quotes_cleaned.txt"
   ],
   "metadata": {}
  },
  {
   "cell_type": "code",
   "execution_count": 61,
   "source": [
    "path_clean = \"Files/quotes_cleaned.txt\"\n",
    "\n",
    "with open(path_clean, \"r\") as f1, open(path_clean, \"a\") as f2: #We open it in two different modes\n",
    "    #print(f1.read())\n",
    "    quotes = [quote.strip(\"\\n\") for quote in f1.readlines() if quote[0].isdigit()] #Removes the empty strings, since all our quotes start with a digit\n",
    "    #print(quotes)\n",
    "    authors = [quote.split()[-2:] for quote in quotes] #Chooses the last two elements, starting at -2 and goes to the end (-1)\n",
    "    #set picks out all of the unic elements in a list, one of the names Albert Einstein is removed; set([4, 4, 4, 4, 1, 1, 2]) -> {1, 2, 4}\n",
    "    authors = set([\" \".join(author) for author in authors]) #For each author join the names with a whitespace and put them all in a list\n",
    "    print(authors)\n",
    "\n",
    "    f2.write(\"\\nAuthors: \")\n",
    "    \n",
    "    for author in authors:\n",
    "        f2.write(f\"{author}, \")"
   ],
   "outputs": [
    {
     "output_type": "stream",
     "name": "stdout",
     "text": [
      "{'Marie Curie', 'Niels Bohr', 'Terry Pratchett', 'Albert Einstein', 'Isaac Newton'}\n"
     ]
    }
   ],
   "metadata": {}
  }
 ],
 "metadata": {
  "orig_nbformat": 4,
  "language_info": {
   "name": "python",
   "version": "3.9.6",
   "mimetype": "text/x-python",
   "codemirror_mode": {
    "name": "ipython",
    "version": 3
   },
   "pygments_lexer": "ipython3",
   "nbconvert_exporter": "python",
   "file_extension": ".py"
  },
  "kernelspec": {
   "name": "python3",
   "display_name": "Python 3.9.6 64-bit ('python-programming-Anna-Maria-Sjolund-Htb3K3oR': pipenv)"
  },
  "interpreter": {
   "hash": "d058bb7a222ccb114394dd2dbf09376c772f658c97746095daf69714e9de45e0"
  }
 },
 "nbformat": 4,
 "nbformat_minor": 2
}