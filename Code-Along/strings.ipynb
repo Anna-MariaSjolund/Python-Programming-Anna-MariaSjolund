{
 "cells": [
  {
   "cell_type": "markdown",
   "source": [
    "# Strings"
   ],
   "metadata": {}
  },
  {
   "cell_type": "markdown",
   "source": [
    "## Concatenating strings"
   ],
   "metadata": {}
  },
  {
   "cell_type": "code",
   "execution_count": 4,
   "source": [
    "firstname = \"Anna-Maria\"\n",
    "lastname = \"Sjölund\"\n",
    "\n",
    "#Concatenating strings, the plus sign has different functions depending on the datatype (polymorphism)\n",
    "fullname = firstname + \" \" + lastname\n",
    "\n",
    "school = \"IT-högskolan\"\n",
    "address = \"Ebbe Lierbathsgatan 18C\"\n",
    "phone = \"112\"\n",
    "\n",
    "print(fullname)\n",
    "\n",
    "#Multiline f-string\n",
    "contact_details = f\"\"\"\n",
    "Name: {fullname}\n",
    "School: {school}\n",
    "Address = {address}\n",
    "Phone: {phone}\n",
    "\"\"\"\n",
    "\n",
    "print(contact_details)"
   ],
   "outputs": [
    {
     "output_type": "stream",
     "name": "stdout",
     "text": [
      "Anna-Maria Sjölund\n",
      "\n",
      "Name: Anna-Maria Sjölund\n",
      "School: IT-högskolan\n",
      "Address = Ebbe Lierbathsgatan 18C\n",
      "Phone: 112\n",
      "\n",
      "\n"
     ]
    }
   ],
   "metadata": {}
  },
  {
   "cell_type": "markdown",
   "source": [
    "## Concatenate with loop"
   ],
   "metadata": {}
  },
  {
   "cell_type": "code",
   "execution_count": 14,
   "source": [
    "bamba = \"Chili sin carne, Köttbullar, Fisk, Pannkakor, Taco\".split(\", \") #Separated by comma, because then we can split it with comma\n",
    "bamba #When printed it will be a list. We can use it if we have a text file where the words are separated by comma\n",
    "\n",
    "days = \"Må Ti On To Fr\".split() #Split() per default on empty space \" \"\n",
    "days\n",
    "\n",
    "menu = \"Veckomeny \\n\"\n",
    "\n",
    "for day, food in zip(days, bamba): #day will take each element from the days list and food will take each element from the bamba list\n",
    "    menu += f\"{day}: {food}\\n\"\n",
    "\n",
    "print(menu)"
   ],
   "outputs": [
    {
     "output_type": "stream",
     "name": "stdout",
     "text": [
      "Veckomeny \n",
      "Må: Chili sin carne\n",
      "Ti: Köttbullar\n",
      "On: Fisk\n",
      "To: Pannkakor\n",
      "Fr: Taco\n",
      "\n"
     ]
    }
   ],
   "metadata": {}
  },
  {
   "cell_type": "markdown",
   "source": [
    "## Indexing\n",
    "\n",
    "- indexing with [] operator to access elements\n",
    "- slicing operator:"
   ],
   "metadata": {}
  },
  {
   "cell_type": "code",
   "execution_count": 41,
   "source": [
    "quote = \"!False - it's funny because it's True\"\n",
    "#quote = '!False - it's funny because it's True' This doesn't work because it thinks that ' in it's is the end of the string\n",
    "#We can use r string if we have both \" and ' inside or other functions. It will read everthing as a string\n",
    "\n",
    "print(f\"quote[0]: {quote[0]}\")\n",
    "print(f\"quote[-1]: {quote[-1]}\")\n",
    "print(f\"quote[-4:]: {quote[-4:]}\")\n",
    "print(f\"quote[1:6]: {quote[1:6]}\") #[start:stop-1]\n",
    "print(f\"Backwards quote[::-1]: {quote[::-1]}\") #[start:stop-1:step]"
   ],
   "outputs": [
    {
     "output_type": "stream",
     "name": "stdout",
     "text": [
      "quote[0]: !\n",
      "quote[-1]: e\n",
      "quote[-4:]: True\n",
      "quote[1:6]: False\n",
      "Backwards quote[::-1]: eurT s'ti esuaceb ynnuf s'ti - eslaF!\n"
     ]
    }
   ],
   "metadata": {}
  },
  {
   "cell_type": "markdown",
   "source": [
    "## Split strings"
   ],
   "metadata": {}
  },
  {
   "cell_type": "code",
   "execution_count": 59,
   "source": [
    "numbers = input(\"Ange några tal separerade med mellanslag: \").split() #data type is string, when splitted it will be a list with the elements inputed \n",
    "#print(numbers[0]+numbers[1]) #String concatenations \"5\" + \"4\" = \"54\"\n",
    "\n",
    "numbers = [float(number) for number in numbers if number.isdigit()] #We cannot change the input directly to an int (int(input(\"\"))) because then we cannot split it (split only works on strings)\n",
    "#if number.isdigit() checks if the input is a digit, so we cannot input \"två\"\n",
    "\n",
    "print(numbers)\n",
    "\n",
    "mean = (sum(numbers)/len(numbers))\n",
    "print(f\"Medelvärdet är {mean}.\")"
   ],
   "outputs": [
    {
     "output_type": "stream",
     "name": "stdout",
     "text": [
      "[5.0, 4.0, 3.0]\n",
      "Medelvärdet är 4.0.\n"
     ]
    }
   ],
   "metadata": {}
  },
  {
   "cell_type": "markdown",
   "source": [
    "## Regular expression\n",
    "\n",
    "- find particular patterns in a string\n",
    "- e.g. phone numbers, personal numbers, emails ...\n",
    "- 031-548652\n",
    "- ddd-dddddd"
   ],
   "metadata": {}
  },
  {
   "cell_type": "code",
   "execution_count": 65,
   "source": [
    "import re\n",
    "\n",
    "text = \"Mitt telefonnummber är 021-432567, Adas telefonnummer är 041-414546, Bedas: 0739-231451\"\n",
    "\n",
    "match1 = re.findall(r\"\\d\\d\\d-\\d\\d\\d\\d\\d\\d\", text) #r means raw string pattern, so Python does not escape certain letters/numbers\n",
    "print(match1) #However this will also find 739-231451\n",
    "\n",
    "match2 = re.findall(r\"\\d{3}-\\d{6}\", text) #This is a shorter way of doing the above\n",
    "print(match2) "
   ],
   "outputs": [
    {
     "output_type": "stream",
     "name": "stdout",
     "text": [
      "['021-432567', '041-414546', '739-231451']\n",
      "['021-432567', '041-414546', '739-231451']\n"
     ]
    }
   ],
   "metadata": {}
  },
  {
   "cell_type": "code",
   "execution_count": 67,
   "source": [
    "import re\n",
    "\n",
    "#Find all words ending with att\n",
    "text = \"Det var en gång en katt, som tog på sig en hatt, jag blev matt så jag spelade schack och vann med skolmatt\"\n",
    "\n",
    "match = re.findall(r\".att\", text) #.means all the signs that stands before att\n",
    "print(match)"
   ],
   "outputs": [
    {
     "output_type": "stream",
     "name": "stdout",
     "text": [
      "['katt', 'hatt', 'matt', 'matt']\n"
     ]
    }
   ],
   "metadata": {}
  }
 ],
 "metadata": {
  "orig_nbformat": 4,
  "language_info": {
   "name": "python",
   "version": "3.9.6",
   "mimetype": "text/x-python",
   "codemirror_mode": {
    "name": "ipython",
    "version": 3
   },
   "pygments_lexer": "ipython3",
   "nbconvert_exporter": "python",
   "file_extension": ".py"
  },
  "kernelspec": {
   "name": "python3",
   "display_name": "Python 3.9.6 64-bit ('python-programming-Anna-Maria-Sjolund-Htb3K3oR': pipenv)"
  },
  "interpreter": {
   "hash": "d058bb7a222ccb114394dd2dbf09376c772f658c97746095daf69714e9de45e0"
  }
 },
 "nbformat": 4,
 "nbformat_minor": 2
}