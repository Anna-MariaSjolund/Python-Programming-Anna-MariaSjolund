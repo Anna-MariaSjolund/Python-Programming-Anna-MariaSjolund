{
 "cells": [
  {
   "cell_type": "markdown",
   "source": [
    "# Dictionary\n",
    "- key:value pair (we have a key and we get an output of some kind)"
   ],
   "metadata": {}
  },
  {
   "cell_type": "code",
   "execution_count": 8,
   "source": [
    "person = dict(\n",
    "    name = \"Anna-Maria\",\n",
    "    age = 29.9,\n",
    "    work = \"student\",\n",
    "    interests = [\"writing\", \"gymnastics\", \"kayaking\"],\n",
    "    likes_job = True)\n",
    "\n",
    "print(f\"person dictionary {person}\")\n",
    "print(f\"Personens namn är {person['name']}\") #We have to use '' because we call the variable from an f-string\n",
    "print(f\"Personens ålder är {person['age']}\")\n",
    "\n",
    "for interest in person[\"interests\"]:\n",
    "    print(f\"{person['name']} likes {interest}\")"
   ],
   "outputs": [
    {
     "output_type": "stream",
     "name": "stdout",
     "text": [
      "person dictionary {'name': 'Anna-Maria', 'age': 29.9, 'work': 'student', 'interests': ['writing', 'gymnastics', 'kayaking'], 'likes_job': True}\n",
      "Personens namn är Anna-Maria\n",
      "Personens ålder är 29.9\n",
      "Anna-Maria likes writing\n",
      "Anna-Maria likes gymnastics\n",
      "Anna-Maria likes kayaking\n"
     ]
    }
   ],
   "metadata": {}
  },
  {
   "cell_type": "code",
   "execution_count": 4,
   "source": [
    "#The key has to be a string (the value does not have to be a string)\n",
    "words = {\n",
    "    \"data structure\": \"means of storing and organizing data\",\n",
    "    \"lambda\": \"anonymous function\", \n",
    "    \"class\": \"blueprint for objects\"\n",
    "}\n",
    "\n",
    "print(\"Vi ska lära oss dessa ord:\")\n",
    "for key in words:\n",
    "    print(key, end = \", \")\n",
    "\n",
    "print(f\"\\n\\nGlosa {'':<15} Betydelse\") #'':<15 means jump 15 whitespaces forward\n",
    "\n",
    "for key, value in words.items(): #.items() helps us loop through the dictionaries and loop through both key and value (otherwise just write for key in words)\n",
    "    print(f\"{key:<21} {value}\")\n",
    "\n",
    "print()\n",
    "\n",
    "#We can also do like this\n",
    "for key in words: \n",
    "    print(f\"{key:<21} {words[key]}\")"
   ],
   "outputs": [
    {
     "output_type": "stream",
     "name": "stdout",
     "text": [
      "Vi ska lära oss dessa ord:\n",
      "data structure, lambda, class, \n",
      "\n",
      "Glosa                 Betydelse\n",
      "data structure        means of storing and organizing data\n",
      "lambda                anonymous function\n",
      "class                 blueprint for objects\n",
      "\n",
      "data structure        means of storing and organizing data\n",
      "lambda                anonymous function\n",
      "class                 blueprint for objects\n"
     ]
    }
   ],
   "metadata": {}
  },
  {
   "cell_type": "code",
   "execution_count": 17,
   "source": [
    "words[\"lambda\"] = \"an anonymous function\" #Overwrites the previous value for the key lambda\n",
    "print(words)\n",
    "words[\"regression\"] = \"find a function that best fits oberseved data\" #Adds a new key:value pair\n",
    "print(words)"
   ],
   "outputs": [
    {
     "output_type": "stream",
     "name": "stdout",
     "text": [
      "{'data structure': 'means of storing and organizing data', 'lambda': 'an anonymous function', 'class': 'blueprint for objects'}\n",
      "{'data structure': 'means of storing and organizing data', 'lambda': 'an anonymous function', 'class': 'blueprint for objects', 'regression': 'find a function that best fits oberseved data'}\n"
     ]
    }
   ],
   "metadata": {}
  },
  {
   "cell_type": "code",
   "execution_count": 22,
   "source": [
    "#F<10, E: 10, D:20, C: 30, B:40, A: 50\n",
    "grade_limits = {}\n",
    "\n",
    "grades = list(\"FEDCBA\") #Stores it as a list with each value separated \n",
    "print(grades)\n",
    "\n",
    "for i, grade in enumerate(grades): #enumerate(iterable, start=0). Enumerate creates a counter\n",
    "    grade_limits[grade] = i*10\n",
    "\n",
    "grade_limits[\"F\"] = \"< 10\"\n",
    "\n",
    "print(grade_limits)"
   ],
   "outputs": [
    {
     "output_type": "stream",
     "name": "stdout",
     "text": [
      "['F', 'E', 'D', 'C', 'B', 'A']\n",
      "{'F': '< 10', 'E': 10, 'D': 20, 'C': 30, 'B': 40, 'A': 50}\n"
     ]
    }
   ],
   "metadata": {}
  },
  {
   "cell_type": "markdown",
   "source": [
    "## Dictionary comprehension"
   ],
   "metadata": {}
  },
  {
   "cell_type": "code",
   "execution_count": 35,
   "source": [
    "import random as rnd\n",
    "\n",
    "#grade: i*10 - each element in the string \"FEDCBA\" gets looped through and \"i\" is set to 0, 1, 2, 3, 4, 5 through enumerate (and is multiplied by 10 to generate the grades)\n",
    "grade_limits = {grade: i*10 for i, grade in enumerate(\"FEDCBA\")}\n",
    "print(grade_limits) #{'F': 0, 'E': 10, 'D': 20, 'C': 30, 'B': 40, 'A': 50}\n",
    "\n",
    "def generate_scores(number_scores): #number_scores is the number of scores we want to generate\n",
    "    rnd.seed(42) #Sets the seed so that it will always be the same numbers that will be generated when runnin rnd.randint(). If we use the same numbers, this will always be the same.\n",
    "    scores = [rnd.randint(0, 59) for _ in range(number_scores)] #rnd.randint(0, 59) generates a random int between 0 and 59\n",
    "    return scores\n",
    "\n",
    "scores = generate_scores(20) #Run the function and save the scores\n",
    "print(f\"Student scores: {scores}\") #Student scores: [40, 7, 1, 47, 17, 15, 14, 8, 47, 6, 43, 47, 57, 34, 5, 37, 27, 2, 1, 5]\n",
    "\n",
    "grade_count = {key: 0 for key in grade_limits} #This will create a new dictionary, where the key will be F to A and all of the values will be set to 0\n",
    "print(grade_count) #{'F': 0, 'E': 0, 'D': 0, 'C': 0, 'B': 0, 'A': 0}\n",
    "\n",
    "#For each point we will go through every grade limit\n",
    "for score in scores: #For each generated score\n",
    "    for grade, limit in grade_limits.items(): #items() loop through both the grade and the limit\n",
    "        #limit is 0, 10, 20, 30, 40 and 50\n",
    "        #score is the element in the list of scores\n",
    "        #limit + 10 is the upper limit\n",
    "        if limit <= score < limit + 10: \n",
    "            grade_count[grade] += 1 #Add one to the key grade in grade count\n",
    "\n",
    "print(f\"Grade count {grade_count}\") #Grade count {'F': 8, 'E': 3, 'D': 1, 'C': 2, 'B': 5, 'A': 1}"
   ],
   "outputs": [
    {
     "output_type": "stream",
     "name": "stdout",
     "text": [
      "{'F': 0, 'E': 10, 'D': 20, 'C': 30, 'B': 40, 'A': 50}\n",
      "Student scores: [40, 7, 1, 47, 17, 15, 14, 8, 47, 6, 43, 47, 57, 34, 5, 37, 27, 2, 1, 5]\n",
      "{'F': 0, 'E': 0, 'D': 0, 'C': 0, 'B': 0, 'A': 0}\n",
      "Grade count {'F': 8, 'E': 3, 'D': 1, 'C': 2, 'B': 5, 'A': 1}\n"
     ]
    }
   ],
   "metadata": {}
  },
  {
   "cell_type": "code",
   "execution_count": 32,
   "source": [
    "#How to change a list to a set\n",
    "lista = [1, 2, 4, \"hej\", True] #True will generate to 1 and will be removed when changing the list to a set\n",
    "mitt_set = set(lista)\n",
    "mitt_set"
   ],
   "outputs": [
    {
     "output_type": "execute_result",
     "data": {
      "text/plain": [
       "{1, 2, 4, 'hej'}"
      ]
     },
     "metadata": {},
     "execution_count": 32
    }
   ],
   "metadata": {}
  }
 ],
 "metadata": {
  "orig_nbformat": 4,
  "language_info": {
   "name": "python",
   "version": "3.9.6",
   "mimetype": "text/x-python",
   "codemirror_mode": {
    "name": "ipython",
    "version": 3
   },
   "pygments_lexer": "ipython3",
   "nbconvert_exporter": "python",
   "file_extension": ".py"
  },
  "kernelspec": {
   "name": "python3",
   "display_name": "Python 3.9.6 64-bit ('python-programming-Anna-Maria-Sjolund-Htb3K3oR': pipenv)"
  },
  "interpreter": {
   "hash": "d058bb7a222ccb114394dd2dbf09376c772f658c97746095daf69714e9de45e0"
  }
 },
 "nbformat": 4,
 "nbformat_minor": 2
}