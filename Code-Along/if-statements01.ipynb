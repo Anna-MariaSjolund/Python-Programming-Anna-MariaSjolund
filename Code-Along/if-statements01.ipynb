{
 "cells": [
  {
   "cell_type": "markdown",
   "source": [
    "# if-sats\n",
    "\n",
    "if condition:\n",
    "    statement 1\n",
    "    statement 2\n",
    "else:\n",
    "    statement 1\n",
    "    statement 2\n",
    "    ..."
   ],
   "metadata": {}
  },
  {
   "cell_type": "code",
   "execution_count": 2,
   "source": [
    "age = int(input(\"Hur gammal är du?\")) #Typomvandlar sträng till heltal\n",
    "\n",
    "if age < 18:\n",
    "    print(\"Du får inte gå till puben\")\n",
    "else:\n",
    "    print(\"Du får gå till puben\")\n",
    "\n",
    "print(\"Programmet fortsätter här\")"
   ],
   "outputs": [
    {
     "output_type": "stream",
     "name": "stdout",
     "text": [
      "Du får gå till puben\n"
     ]
    }
   ],
   "metadata": {}
  },
  {
   "cell_type": "code",
   "execution_count": 4,
   "source": [
    "age = 15\n",
    "height = 150\n",
    "\n",
    "#För att få åka Balder: Åldergräns 11 år & höjd 130 cm\n",
    "if age >= 11 and height >= 130: #Båda villkoren ska vara sanna\n",
    "    print(\"Du får åka Balder\")\n",
    "else:\n",
    "    print(\"Åk Rabalder istället\")\n",
    "\n",
    "print(\"Ha det så roligt på Liseberg!\")"
   ],
   "outputs": [
    {
     "output_type": "stream",
     "name": "stdout",
     "text": [
      "Du får åka Balder\n",
      "Ha det så roligt på Liseberg!\n"
     ]
    }
   ],
   "metadata": {}
  },
  {
   "cell_type": "code",
   "execution_count": 8,
   "source": [
    "age = 15\n",
    "height = 129\n",
    "\n",
    "#För att få åka Balder: Åldergräns 11 år & höjd 130 cm\n",
    "if age >= 11 and height >= 130: #Båda villkoren ska vara sanna\n",
    "    print(\"Du får åka Balder\")\n",
    "else:\n",
    "    print(\"Åk Rabalder istället\")\n",
    "\n",
    "print(\"Ha det så roligt på Liseberg!\")"
   ],
   "outputs": [
    {
     "output_type": "stream",
     "name": "stdout",
     "text": [
      "Åk Rabalder istället\n",
      "Ha det så roligt på Liseberg!\n"
     ]
    }
   ],
   "metadata": {}
  },
  {
   "cell_type": "code",
   "execution_count": 9,
   "source": [
    "age = 15\n",
    "height = 129\n",
    "\n",
    "#För att få åka Balder: Åldergräns 11 år eller höjd 130 cm\n",
    "if age >= 11 or height >= 130: #Minst ett av villkoren ska vara sann\n",
    "    print(\"Du får åka Balder\")\n",
    "else:\n",
    "    print(\"Åk Rabalder istället\")\n",
    "\n",
    "print(\"Ha det så roligt på Liseberg!\")"
   ],
   "outputs": [
    {
     "output_type": "stream",
     "name": "stdout",
     "text": [
      "Du får åka Balder\n",
      "Ha det så roligt på Liseberg!\n"
     ]
    }
   ],
   "metadata": {}
  },
  {
   "cell_type": "code",
   "execution_count": 14,
   "source": [
    "#Modulusoperator % --> ger resten vid en heltalsdivision.\n",
    "\n",
    "number = 7\n",
    "#Hur checkar vi om number är jämnt eller udda?\n",
    "#Dividera talet med 2 och kolla om resten är 0.\n",
    "if number % 2 == 0:\n",
    "    print(f\"{number} är jämnt.\")\n",
    "else:\n",
    "    print(f\"{number} är udda.\")"
   ],
   "outputs": [
    {
     "output_type": "stream",
     "name": "stdout",
     "text": [
      "7 är udda.\n"
     ]
    }
   ],
   "metadata": {}
  },
  {
   "cell_type": "code",
   "execution_count": 4,
   "source": [
    "\"\"\"\n",
    "IG: 0-10\n",
    "G: 11-20\n",
    "VG: 21-30\n",
    "MVG: > 30\n",
    "\"\"\"\n",
    "\n",
    "import random as rnd\n",
    "\n",
    "rnd.seed(12)\n",
    "points = rnd.randint(0, 35) #Slumpat heltal mellan 0 och 35.\n",
    "print(points)\n",
    "\n",
    "if points > 30:\n",
    "    print(\"MVG\")\n",
    "elif points > 20:\n",
    "    print(\"VG\")\n",
    "elif points > 10:\n",
    "    print(\"G\")\n",
    "else: \n",
    "    print(\"IG\")\n"
   ],
   "outputs": [
    {
     "output_type": "stream",
     "name": "stdout",
     "text": [
      "30\n",
      "VG\n"
     ]
    }
   ],
   "metadata": {}
  },
  {
   "cell_type": "code",
   "execution_count": 5,
   "source": [
    "number = 10\n",
    "if number % 2 == 0 and number % 5 == 0:\n",
    "    print(\"jämnt och delbart med 5\")"
   ],
   "outputs": [
    {
     "output_type": "stream",
     "name": "stdout",
     "text": [
      "jämnt och delbart med 5\n"
     ]
    }
   ],
   "metadata": {}
  },
  {
   "cell_type": "code",
   "execution_count": 6,
   "source": [
    "#nästlade if-satser. Ett alternativt sätt att skriva koden ovanför.\n",
    "number = 10\n",
    "if number % 2 == 0:\n",
    "    if number % 5 == 0:\n",
    "        print(\"Jämnt och delbart med 5.\")"
   ],
   "outputs": [
    {
     "output_type": "stream",
     "name": "stdout",
     "text": [
      "Jämnt och delbart med 5.\n"
     ]
    }
   ],
   "metadata": {}
  },
  {
   "cell_type": "code",
   "execution_count": 12,
   "source": [
    "#summera alla udda tal mellan 0 och 10\n",
    "n = 1\n",
    "summa = 0\n",
    "\n",
    "while n <= 10:\n",
    "    if n == 9:\n",
    "        print(\"9=\", end=\"\")\n",
    "    else:\n",
    "        print(f\"{n}+\", end=\"\")\n",
    "    summa += n\n",
    "    n += 2\n",
    "\n",
    "print(summa)"
   ],
   "outputs": [
    {
     "output_type": "stream",
     "name": "stdout",
     "text": [
      "1+3+5+7+9=25\n"
     ]
    }
   ],
   "metadata": {}
  },
  {
   "cell_type": "markdown",
   "source": [
    "## Fåglar och oljeutsläpp\n",
    "\n",
    "- Finns 8000 fåglar från början. \n",
    "- Ett oljeutsläpp gör att populationen halveras varje år\n",
    "- Hur många år tar det tills fågelpopulationen blivit en tiondel?"
   ],
   "metadata": {}
  },
  {
   "cell_type": "code",
   "execution_count": 18,
   "source": [
    "birds, year = 8000, 0\n",
    "\n",
    "while birds > 800:\n",
    "    birds /= 2 #motsvarar birds = birds/2\n",
    "    year += 1\n",
    "    print(f\"År {year}: antal fåglar: {birds: .0f} st.\") #.0f no decimals"
   ],
   "outputs": [
    {
     "output_type": "stream",
     "name": "stdout",
     "text": [
      "År 1: antal fåglar:  4000 st.\n",
      "År 2: antal fåglar:  2000 st.\n",
      "År 3: antal fåglar:  1000 st.\n",
      "År 4: antal fåglar:  500 st.\n"
     ]
    }
   ],
   "metadata": {}
  },
  {
   "cell_type": "markdown",
   "source": [
    "## Mjölkuppgift\n",
    "\n",
    "- 1L mjölk 1 500 000 bakterier i rumstemperatur\n",
    "- Bakterier ökar med 50% per timme i rumstemp\n",
    "- Mjölk surnar när vi har mer än 10 000 000 st bakterier.\n",
    "- Hur många timmar tar det tills mjölken surnar? (hela timmar)"
   ],
   "metadata": {}
  },
  {
   "cell_type": "code",
   "execution_count": 28,
   "source": [
    "bacteria_milk = 1500000 #Eller 1.5e6\n",
    "hours = 0\n",
    "\n",
    "while bacteria_milk < 10000000: #Eller 1e7\n",
    "    bacteria_milk *= 1.5\n",
    "    hours += 1\n",
    "    print(f\"After {hours} hours the bacteria level is {bacteria_milk:.0f}.\")\n"
   ],
   "outputs": [
    {
     "output_type": "stream",
     "name": "stdout",
     "text": [
      "After 1 hours the bacteria level is 2250000.\n",
      "After 2 hours the bacteria level is 3375000.\n",
      "After 3 hours the bacteria level is 5062500.\n",
      "After 4 hours the bacteria level is 7593750.\n",
      "After 5 hours the bacteria level is 11390625.\n"
     ]
    }
   ],
   "metadata": {}
  }
 ],
 "metadata": {
  "orig_nbformat": 4,
  "language_info": {
   "name": "python",
   "version": "3.9.6",
   "mimetype": "text/x-python",
   "codemirror_mode": {
    "name": "ipython",
    "version": 3
   },
   "pygments_lexer": "ipython3",
   "nbconvert_exporter": "python",
   "file_extension": ".py"
  },
  "kernelspec": {
   "name": "python3",
   "display_name": "Python 3.9.6 64-bit"
  },
  "interpreter": {
   "hash": "aee8b7b246df8f9039afb4144a1f6fd8d2ca17a180786b69acc140d282b71a49"
  }
 },
 "nbformat": 4,
 "nbformat_minor": 2
}