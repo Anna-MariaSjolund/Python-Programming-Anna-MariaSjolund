{
 "cells": [
  {
   "cell_type": "markdown",
   "source": [
    "# if-sats\n",
    "\n",
    "if condition:\n",
    "    statement 1\n",
    "    statement 2\n",
    "else:\n",
    "    statement 1\n",
    "    statement 2\n",
    "    ..."
   ],
   "metadata": {}
  },
  {
   "cell_type": "code",
   "execution_count": 2,
   "source": [
    "age = int(input(\"Hur gammal är du?\")) #Typomvandlar sträng till heltal\n",
    "\n",
    "if age < 18:\n",
    "    print(\"Du får inte gå till puben\")\n",
    "else:\n",
    "    print(\"Du får gå till puben\")\n",
    "\n",
    "print(\"Programmet fortsätter här\")"
   ],
   "outputs": [
    {
     "output_type": "stream",
     "name": "stdout",
     "text": [
      "Du får gå till puben\n"
     ]
    }
   ],
   "metadata": {}
  },
  {
   "cell_type": "code",
   "execution_count": 4,
   "source": [
    "age = 15\n",
    "height = 150\n",
    "\n",
    "#För att få åka Balder: Åldergräns 11 år & höjd 130 cm\n",
    "if age >= 11 and height >= 130: #Båda villkoren ska vara sanna\n",
    "    print(\"Du får åka Balder\")\n",
    "else:\n",
    "    print(\"Åk Rabalder istället\")\n",
    "\n",
    "print(\"Ha det så roligt på Liseberg!\")"
   ],
   "outputs": [
    {
     "output_type": "stream",
     "name": "stdout",
     "text": [
      "Du får åka Balder\n",
      "Ha det så roligt på Liseberg!\n"
     ]
    }
   ],
   "metadata": {}
  },
  {
   "cell_type": "code",
   "execution_count": 8,
   "source": [
    "age = 15\n",
    "height = 129\n",
    "\n",
    "#För att få åka Balder: Åldergräns 11 år & höjd 130 cm\n",
    "if age >= 11 and height >= 130: #Båda villkoren ska vara sanna\n",
    "    print(\"Du får åka Balder\")\n",
    "else:\n",
    "    print(\"Åk Rabalder istället\")\n",
    "\n",
    "print(\"Ha det så roligt på Liseberg!\")"
   ],
   "outputs": [
    {
     "output_type": "stream",
     "name": "stdout",
     "text": [
      "Åk Rabalder istället\n",
      "Ha det så roligt på Liseberg!\n"
     ]
    }
   ],
   "metadata": {}
  },
  {
   "cell_type": "code",
   "execution_count": 9,
   "source": [
    "age = 15\n",
    "height = 129\n",
    "\n",
    "#För att få åka Balder: Åldergräns 11 år eller höjd 130 cm\n",
    "if age >= 11 or height >= 130: #Minst ett av villkoren ska vara sann\n",
    "    print(\"Du får åka Balder\")\n",
    "else:\n",
    "    print(\"Åk Rabalder istället\")\n",
    "\n",
    "print(\"Ha det så roligt på Liseberg!\")"
   ],
   "outputs": [
    {
     "output_type": "stream",
     "name": "stdout",
     "text": [
      "Du får åka Balder\n",
      "Ha det så roligt på Liseberg!\n"
     ]
    }
   ],
   "metadata": {}
  },
  {
   "cell_type": "code",
   "execution_count": 14,
   "source": [
    "#Modulusoperator % --> ger resten vid en heltalsdivision.\n",
    "\n",
    "number = 7\n",
    "#Hur checkar vi om number är jämnt eller udda?\n",
    "#Dividera talet med 2 och kolla om resten är 0.\n",
    "if number % 2 == 0:\n",
    "    print(f\"{number} är jämnt.\")\n",
    "else:\n",
    "    print(f\"{number} är udda.\")"
   ],
   "outputs": [
    {
     "output_type": "stream",
     "name": "stdout",
     "text": [
      "7 är udda.\n"
     ]
    }
   ],
   "metadata": {}
  },
  {
   "cell_type": "code",
   "execution_count": 4,
   "source": [
    "\"\"\"\n",
    "IG: 0-10\n",
    "G: 11-20\n",
    "VG: 21-30\n",
    "MVG: > 30\n",
    "\"\"\"\n",
    "\n",
    "import random as rnd\n",
    "\n",
    "rnd.seed(12)\n",
    "points = rnd.randint(0, 35) #Slumpat heltal mellan 0 och 35.\n",
    "print(points)\n",
    "\n",
    "if points > 30:\n",
    "    print(\"MVG\")\n",
    "elif points > 20:\n",
    "    print(\"VG\")\n",
    "elif points > 10:\n",
    "    print(\"G\")\n",
    "else: \n",
    "    print(\"IG\")\n"
   ],
   "outputs": [
    {
     "output_type": "stream",
     "name": "stdout",
     "text": [
      "30\n",
      "VG\n"
     ]
    }
   ],
   "metadata": {}
  },
  {
   "cell_type": "code",
   "execution_count": 5,
   "source": [
    "number = 10\n",
    "if number % 2 == 0 and number % 5 == 0:\n",
    "    print(\"jämnt och delbart med 5\")"
   ],
   "outputs": [
    {
     "output_type": "stream",
     "name": "stdout",
     "text": [
      "jämnt och delbart med 5\n"
     ]
    }
   ],
   "metadata": {}
  },
  {
   "cell_type": "code",
   "execution_count": 6,
   "source": [
    "#nästlade if-satser. Ett alternativt sätt att skriva koden ovanför.\n",
    "number = 10\n",
    "if number % 2 == 0:\n",
    "    if number % 5 == 0:\n",
    "        print(\"Jämnt och delbart med 5.\")"
   ],
   "outputs": [
    {
     "output_type": "stream",
     "name": "stdout",
     "text": [
      "Jämnt och delbart med 5.\n"
     ]
    }
   ],
   "metadata": {}
  }
 ],
 "metadata": {
  "orig_nbformat": 4,
  "language_info": {
   "name": "python",
   "version": "3.9.6",
   "mimetype": "text/x-python",
   "codemirror_mode": {
    "name": "ipython",
    "version": 3
   },
   "pygments_lexer": "ipython3",
   "nbconvert_exporter": "python",
   "file_extension": ".py"
  },
  "kernelspec": {
   "name": "python3",
   "display_name": "Python 3.9.6 64-bit"
  },
  "interpreter": {
   "hash": "aee8b7b246df8f9039afb4144a1f6fd8d2ca17a180786b69acc140d282b71a49"
  }
 },
 "nbformat": 4,
 "nbformat_minor": 2
}