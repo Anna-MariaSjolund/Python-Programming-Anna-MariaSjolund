{
 "cells": [
  {
   "cell_type": "markdown",
   "source": [
    "# Functions\n",
    "\n",
    "## Basic functions"
   ],
   "metadata": {}
  },
  {
   "cell_type": "code",
   "execution_count": 3,
   "source": [
    "def cube(number):\n",
    "    return number**3\n",
    "\n",
    "print(f\"cube(3): {cube(3)}.\")\n",
    "\n",
    "cube5 = cube(5)\n",
    "print(cube5)\n",
    "\n",
    "cubes = [cube(x) for x in range(10)]\n",
    "print(cubes)"
   ],
   "outputs": [
    {
     "output_type": "stream",
     "name": "stdout",
     "text": [
      "cube(3): 27.\n",
      "125\n",
      "[0, 1, 8, 27, 64, 125, 216, 343, 512, 729]\n"
     ]
    }
   ],
   "metadata": {}
  },
  {
   "cell_type": "code",
   "execution_count": 5,
   "source": [
    "def mean1(num1, num2, num3):\n",
    "    mean = (num1 + num2 + num3)/3\n",
    "    return mean\n",
    "\n",
    "print(f\"mean1(1, 3, 5): {mean1(1, 3, 5)}\")\n",
    "#print(mean) - Mean is not defined outside the scope of the function. The variables in a function are local."
   ],
   "outputs": [
    {
     "output_type": "stream",
     "name": "stdout",
     "text": [
      "mean1(1, 3, 5): 3.0\n"
     ]
    }
   ],
   "metadata": {}
  },
  {
   "cell_type": "markdown",
   "source": [
    "## Default values"
   ],
   "metadata": {}
  },
  {
   "cell_type": "code",
   "execution_count": 9,
   "source": [
    "#Function without a return value\n",
    "def say_hi(name = \"friend\", age = 0): #We can use default values that will be outputed if the user does not gives arguments\n",
    "    print(f\"Hi {name}, you are {age} years old.\")\n",
    "\n",
    "say_hi(\"Anna-Maria\", \"30\") #Default values are overwritten by input arguments\n",
    "say_hi() #Default values are used\n",
    "say_hi(age = 30) #Only overwrites name. This is a keyword argument (age is the keyword)"
   ],
   "outputs": [
    {
     "output_type": "stream",
     "name": "stdout",
     "text": [
      "Hi Anna-Maria, you are 30 years old.\n",
      "Hi friend, you are 0 years old.\n",
      "Hi friend, you are 30 years old.\n"
     ]
    }
   ],
   "metadata": {}
  },
  {
   "cell_type": "markdown",
   "source": [
    "## Keyword arguments\n",
    "- key = value syntax"
   ],
   "metadata": {}
  },
  {
   "cell_type": "code",
   "execution_count": 13,
   "source": [
    "def count_words(text = \"\"):\n",
    "    words = text.split()\n",
    "    return len(words)\n",
    "\n",
    "print(count_words(\"I stand on the shoulders of giants - Isaac Newton\"))\n",
    "print(count_words())"
   ],
   "outputs": [
    {
     "output_type": "stream",
     "name": "stdout",
     "text": [
      "10\n",
      "0\n"
     ]
    }
   ],
   "metadata": {}
  }
 ],
 "metadata": {
  "orig_nbformat": 4,
  "language_info": {
   "name": "python",
   "version": "3.9.6",
   "mimetype": "text/x-python",
   "codemirror_mode": {
    "name": "ipython",
    "version": 3
   },
   "pygments_lexer": "ipython3",
   "nbconvert_exporter": "python",
   "file_extension": ".py"
  },
  "kernelspec": {
   "name": "python3",
   "display_name": "Python 3.9.6 64-bit ('python-programming-Anna-Maria-Sjolund-Htb3K3oR': pipenv)"
  },
  "interpreter": {
   "hash": "d058bb7a222ccb114394dd2dbf09376c772f658c97746095daf69714e9de45e0"
  }
 },
 "nbformat": 4,
 "nbformat_minor": 2
}