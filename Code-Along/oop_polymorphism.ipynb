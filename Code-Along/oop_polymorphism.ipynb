{
 "cells": [
  {
   "cell_type": "markdown",
   "source": [
    "# OOP Polymorphism\n",
    "- Same method names and operators can be used in different ways for different types"
   ],
   "metadata": {}
  },
  {
   "cell_type": "code",
   "execution_count": 3,
   "source": [
    "#len can be used for both strings and lists\n",
    "s1 = \"abc\"\n",
    "l1 = [1, 2, 3, 4]\n",
    "print(len(s1))\n",
    "print(len(l1))\n",
    "\n",
    "# + can be used for both string concatenation and for addition in math\n",
    "s2 = s1 + \"5\" # + operator makes string concatenation \n",
    "print(s2)\n",
    "\n",
    "num1 = 5 + 6 # + operator makes arithmetic addition of two integers\n",
    "print(num1)"
   ],
   "outputs": [
    {
     "output_type": "stream",
     "name": "stdout",
     "text": [
      "3\n",
      "4\n",
      "abc5\n",
      "11\n"
     ]
    }
   ],
   "metadata": {}
  },
  {
   "cell_type": "code",
   "execution_count": 7,
   "source": [
    "class Animal:\n",
    "    # Will run a default init if we do not write __init__\n",
    "    # We can alo have an __init__ here, and then use super() in the subclasses\n",
    "    def speak(self):\n",
    "        print(\"Hello, I am animal.\")\n",
    "\n",
    "class Fish(Animal): #Fish inherits from Animal/Fish extends Animal. It will get the methods in the Parent class\n",
    "    def __init__(self, name) -> None:\n",
    "        self.name = name\n",
    "    \n",
    "    def __str__(self): #This is a dunder string which will be printed to the user\n",
    "        return f\"I am a fish, my name is {self.name}.\"\n",
    "    \n",
    "    def speak(self):\n",
    "        print(\"Blupp blupp\")\n",
    "\n",
    "class Fox(Animal):\n",
    "    def __init__(self, name) -> None:\n",
    "        self.name = name\n",
    "    \n",
    "    def __str__(self) -> str:\n",
    "        return f\"I am a fox, my name is {self.name}, my sound is weird.\"\n",
    "    \n",
    "    #def speak(self):\n",
    "        #print(\"Fox says ...\")\n",
    "        #return NotImplemented #What does the fox say?\n",
    "\n",
    "animals = (Fish(\"Wanda\"), Fox(\"Ylvis\")) #Create a tuple with animals\n",
    "\n",
    "for animal in animals: #Loops through the animals\n",
    "    print(animal) #This prints the __str__\n",
    "    animal.speak()"
   ],
   "outputs": [
    {
     "output_type": "stream",
     "name": "stdout",
     "text": [
      "I am a fish, my name is Wanda.\n",
      "Blupp blupp\n",
      "I ama fox, my name is Ylvis, my sound is weird.\n",
      "Hello, I am animal.\n"
     ]
    }
   ],
   "metadata": {}
  },
  {
   "cell_type": "markdown",
   "source": [
    "## Operator overloading\n",
    "\n",
    "- +, -, /, //, %, **, <, <=, ...\n",
    "- see vector example"
   ],
   "metadata": {}
  },
  {
   "cell_type": "markdown",
   "source": [],
   "metadata": {}
  }
 ],
 "metadata": {
  "orig_nbformat": 4,
  "language_info": {
   "name": "python",
   "version": "3.9.6",
   "mimetype": "text/x-python",
   "codemirror_mode": {
    "name": "ipython",
    "version": 3
   },
   "pygments_lexer": "ipython3",
   "nbconvert_exporter": "python",
   "file_extension": ".py"
  },
  "kernelspec": {
   "name": "python3",
   "display_name": "Python 3.9.6 64-bit ('python-programming-Anna-Maria-Sjolund-Htb3K3oR': pipenv)"
  },
  "interpreter": {
   "hash": "d058bb7a222ccb114394dd2dbf09376c772f658c97746095daf69714e9de45e0"
  }
 },
 "nbformat": 4,
 "nbformat_minor": 2
}