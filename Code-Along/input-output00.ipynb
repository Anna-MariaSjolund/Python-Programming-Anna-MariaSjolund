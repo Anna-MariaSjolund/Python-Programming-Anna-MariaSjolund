{
 "cells": [
  {
   "cell_type": "markdown",
   "source": [
    "# Input/output"
   ],
   "metadata": {}
  },
  {
   "cell_type": "code",
   "execution_count": 15,
   "source": [
    "#Det här är en kommentar som ignoreras vid körning\n",
    "name = \"Anna-Maria\" #Skapar en variabel som heter name och som innehåller värdet \"Anna-Maria\"\n",
    "age = 30 #Skapar en variabel vid namn age och tilldelar det värdet 30 (automatiskt en int)\n",
    "\n",
    "print(\"Hello\") #Går också att skriva print('Hello')\n",
    "print(\"Hej\", name, \"!\") #Ett sätt att blanda strängar och variabler i en print\n",
    "print(f\"Hej {name}, du är {age} år gammal!\") #f-string (formatted string). Kan även använda andra format. Detta är ett snyggare sätt att skriva (jämfört med raden ovan)\n",
    "\n",
    "name = \"Anna\" #Tilldelar nytt värde till variabeln name\n",
    "print(f\"Hej {name}!\")\n",
    "\n",
    "name = 35 #Att byta datatyp fungerar också. Men gör inte detta. Variabelnamnet bör vara beskrivande.\n",
    "print(f\"Hej {name}!\")\n",
    "\n",
    "age = 29.9 #Datatypen är nu en float.\n",
    "print(f\"Mer specifikt är jag {age} år gammal.\")"
   ],
   "outputs": [
    {
     "output_type": "stream",
     "name": "stdout",
     "text": [
      "Hello\n",
      "Hej Anna-Maria !\n",
      "Hej Anna-Maria, du är 30 år gammal!\n",
      "Hej Anna!\n",
      "Hej 35!\n",
      "Mer specifikt är jag 29.9 år gammal.\n"
     ]
    }
   ],
   "metadata": {}
  },
  {
   "cell_type": "markdown",
   "source": [
    "## Input från användaren"
   ],
   "metadata": {}
  },
  {
   "cell_type": "code",
   "execution_count": 23,
   "source": [
    "name = input(\"Vad heter du?\") #Tar input från användaren\n",
    "print(f\"Du heter {name}.\")\n",
    "age = input(\"Hur gammal är du?\")\n",
    "print(f\"Du heter {name} och är {age} år gammal.\")"
   ],
   "outputs": [
    {
     "output_type": "stream",
     "name": "stdout",
     "text": [
      "Du heter Anna-Maria.\n",
      "Du heter Anna-Maria och är 30 år gammal.\n"
     ]
    }
   ],
   "metadata": {}
  },
  {
   "cell_type": "code",
   "execution_count": 21,
   "source": [
    "#F = m*g\n",
    "gravity = 9.82\n",
    "\n",
    "# mass = input(\"Hur mycket väger du?\") fungerar inte pga mass är en str, medan gravity är en float\n",
    "mass = float(input(\"Hur mycket väger du?\")) #Har typomvandlat från str -> float\n",
    "\n",
    "force = mass*gravity \n",
    "\n",
    "print(f\"Din tyngd är {force} N\")\n",
    "print(f\"Din tyngd är {force:.1f} N\") #Har formaterat force, så att floaten avrundas till en decimal."
   ],
   "outputs": [
    {
     "output_type": "stream",
     "name": "stdout",
     "text": [
      "Din tyngd är 638.3000000000001N\n",
      "Din tyngd är 638.3 N\n"
     ]
    }
   ],
   "metadata": {}
  }
 ],
 "metadata": {
  "orig_nbformat": 4,
  "language_info": {
   "name": "python",
   "version": "3.9.6",
   "mimetype": "text/x-python",
   "codemirror_mode": {
    "name": "ipython",
    "version": 3
   },
   "pygments_lexer": "ipython3",
   "nbconvert_exporter": "python",
   "file_extension": ".py"
  },
  "kernelspec": {
   "name": "python3",
   "display_name": "Python 3.9.6 64-bit"
  },
  "interpreter": {
   "hash": "aee8b7b246df8f9039afb4144a1f6fd8d2ca17a180786b69acc140d282b71a49"
  }
 },
 "nbformat": 4,
 "nbformat_minor": 2
}