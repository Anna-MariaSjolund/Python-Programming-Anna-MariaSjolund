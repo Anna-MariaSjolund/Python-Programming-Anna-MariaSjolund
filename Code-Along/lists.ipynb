{
 "cells": [
  {
   "cell_type": "markdown",
   "source": [
    "# Lists\n",
    "- We can add different variable types: a = ['a', \"Hej\", 5, 5.3, True]\n",
    "- index: 0, 1, 2, 3, 4\n",
    "- -5, -4, -3, -2, -1 (We can also count backwards) so we can call the last element, without knowing the length. \n",
    "- len(a) = 5"
   ],
   "metadata": {}
  },
  {
   "cell_type": "markdown",
   "source": [],
   "metadata": {}
  },
  {
   "cell_type": "code",
   "execution_count": 13,
   "source": [
    "tv_shows = [\"Antikrundan\", \"Mästerkockarna\", \"Aktuellt\", \"Talang\"]\n",
    "\n",
    "#Access items - [] operator\n",
    "print(f\"tv_shows[0]: {tv_shows[0]}\")\n",
    "print(tv_shows[1])\n",
    "print(tv_shows[-1])\n",
    "\n",
    "#Slicing operator - : operator\n",
    "print(f\"tv_shows[:]: {tv_shows[:]}\")\n",
    "print(f\"tv_shows[:]: {tv_shows[1:]}\") #Start with index 1 and \"goes\" to the end\n",
    "print(f\"tv_shows[1:3]: {tv_shows[1:3]}\") #Start with index 1 and \"goes to 2 (3 is not included)\n",
    "print(f\"tv_shows[::-1]: {tv_shows[::-1]}\") #Goes backwards [start:end-1:step] Run the whole list and -1 means that it should go backwards (the step)\n"
   ],
   "outputs": [
    {
     "output_type": "stream",
     "name": "stdout",
     "text": [
      "tv_shows[0]: Antikrundan\n",
      "Mästerkockarna\n",
      "Talang\n",
      "tv_shows[:]: ['Antikrundan', 'Mästerkockarna', 'Aktuellt', 'Talang']\n",
      "tv_shows[:]: ['Mästerkockarna', 'Aktuellt', 'Talang']\n",
      "tv_shows[1:3]: ['Mästerkockarna', 'Aktuellt']\n",
      "tv_shows[::-1]: ['Talang', 'Aktuellt', 'Mästerkockarna', 'Antikrundan']\n"
     ]
    }
   ],
   "metadata": {}
  },
  {
   "cell_type": "code",
   "execution_count": 1,
   "source": [
    "tv_shows = [\"Antikrundan\", \"Mästerkockarna\", \"Aktuellt\", \"Talang\"]\n",
    "tv_shows[0] = \"Vetenskapens värld\" #Overwrites Antikrundan\n",
    "print(tv_shows)\n",
    "\n",
    "tv_shows.append(\"Go kväll\") #Always adds the new item to the end of the list\n",
    "print(tv_shows)"
   ],
   "outputs": [
    {
     "output_type": "stream",
     "name": "stdout",
     "text": [
      "['Vetenskapens värld', 'Mästerkockarna', 'Aktuellt', 'Talang']\n",
      "['Vetenskapens värld', 'Mästerkockarna', 'Aktuellt', 'Talang', 'Go kväll']\n"
     ]
    }
   ],
   "metadata": {}
  },
  {
   "cell_type": "markdown",
   "source": [
    "## Iterate through list"
   ],
   "metadata": {}
  },
  {
   "cell_type": "code",
   "execution_count": 21,
   "source": [
    "for tv_show in tv_shows:\n",
    "    print(tv_show)"
   ],
   "outputs": [
    {
     "output_type": "stream",
     "name": "stdout",
     "text": [
      "Vetenskapens värld\n",
      "Mästerkockarna\n",
      "Aktuellt\n",
      "Talang\n",
      "Go kväll\n"
     ]
    }
   ],
   "metadata": {}
  },
  {
   "cell_type": "code",
   "execution_count": null,
   "source": [
    "for i, tv_show in enumerate(tv_shows):\n",
    "    print(f\"{i}: {tv_show}\")"
   ],
   "outputs": [],
   "metadata": {}
  },
  {
   "cell_type": "code",
   "execution_count": 23,
   "source": [
    "#List of cubes\n",
    "cubes = []\n",
    "\n",
    "for i in range (10):\n",
    "    cubes.append(i**3)\n",
    "\n",
    "print(cubes)"
   ],
   "outputs": [
    {
     "output_type": "stream",
     "name": "stdout",
     "text": [
      "[0, 1, 8, 27, 64, 125, 216, 343, 512, 729]\n"
     ]
    }
   ],
   "metadata": {}
  },
  {
   "cell_type": "code",
   "execution_count": 24,
   "source": [
    "#List comprehensions\n",
    "cubes2 = [x**3 for x in range(10)]\n",
    "print(cubes2)"
   ],
   "outputs": [
    {
     "output_type": "stream",
     "name": "stdout",
     "text": [
      "[0, 1, 8, 27, 64, 125, 216, 343, 512, 729]\n"
     ]
    }
   ],
   "metadata": {}
  },
  {
   "cell_type": "code",
   "execution_count": 35,
   "source": [
    "import random as rnd\n",
    "dices = [rnd.randint(1, 6) for _ in range(10)]\n",
    "\n",
    "print(dices)\n",
    "dices.sort() #returns None if we write print(dices.sort())\n",
    "print(dices)"
   ],
   "outputs": [
    {
     "output_type": "stream",
     "name": "stdout",
     "text": [
      "[4, 3, 2, 6, 5, 1, 3, 6, 4, 5]\n",
      "[1, 2, 3, 3, 4, 4, 5, 5, 6, 6]\n"
     ]
    }
   ],
   "metadata": {}
  },
  {
   "cell_type": "code",
   "execution_count": 39,
   "source": [
    "tv_shows = ['Äta', 'Vetenskapens värld', '1', 'Mästerkockarna', 'Aktuellt', 'Talang', 'Go kväll', '89'] \n",
    "print(tv_shows)\n",
    "\n",
    "tv_shows.sort() #Sort works for digits, works for str, but not a mix of data types\n",
    "print(tv_shows)\n",
    "\n",
    "tv_shows.sort(reverse = True)\n",
    "print(tv_shows)"
   ],
   "outputs": [
    {
     "output_type": "stream",
     "name": "stdout",
     "text": [
      "['Äta', 'Vetenskapens värld', '1', 'Mästerkockarna', 'Aktuellt', 'Talang', 'Go kväll', '89']\n",
      "['1', '89', 'Aktuellt', 'Go kväll', 'Mästerkockarna', 'Talang', 'Vetenskapens värld', 'Äta']\n",
      "['Äta', 'Vetenskapens värld', 'Talang', 'Mästerkockarna', 'Go kväll', 'Aktuellt', '89', '1']\n"
     ]
    }
   ],
   "metadata": {}
  },
  {
   "cell_type": "code",
   "execution_count": 40,
   "source": [
    "example_tuple = (1, 2, 3)\n",
    "example_tuple[2] = 5 #This does not work. Tuple object does not support item assignment."
   ],
   "outputs": [
    {
     "output_type": "error",
     "ename": "TypeError",
     "evalue": "'tuple' object does not support item assignment",
     "traceback": [
      "\u001b[0;31m---------------------------------------------------------------------------\u001b[0m",
      "\u001b[0;31mTypeError\u001b[0m                                 Traceback (most recent call last)",
      "\u001b[0;32m/var/folders/11/k_09161j4vnft7tn925fp6600000gn/T/ipykernel_13020/2731105513.py\u001b[0m in \u001b[0;36m<module>\u001b[0;34m\u001b[0m\n\u001b[1;32m      1\u001b[0m \u001b[0mexample_tuple\u001b[0m \u001b[0;34m=\u001b[0m \u001b[0;34m(\u001b[0m\u001b[0;36m1\u001b[0m\u001b[0;34m,\u001b[0m \u001b[0;36m2\u001b[0m\u001b[0;34m,\u001b[0m \u001b[0;36m3\u001b[0m\u001b[0;34m)\u001b[0m\u001b[0;34m\u001b[0m\u001b[0;34m\u001b[0m\u001b[0m\n\u001b[0;32m----> 2\u001b[0;31m \u001b[0mexample_tuple\u001b[0m\u001b[0;34m[\u001b[0m\u001b[0;36m2\u001b[0m\u001b[0;34m]\u001b[0m \u001b[0;34m=\u001b[0m \u001b[0;36m5\u001b[0m\u001b[0;34m\u001b[0m\u001b[0;34m\u001b[0m\u001b[0m\n\u001b[0m",
      "\u001b[0;31mTypeError\u001b[0m: 'tuple' object does not support item assignment"
     ]
    }
   ],
   "metadata": {}
  },
  {
   "cell_type": "code",
   "execution_count": 46,
   "source": [
    "#List in a list\n",
    "grades = [\"A\", 30], [\"B\", 25], [\"C\", 20]\n",
    "print(f\"grades[1]: {grades[1]}\") #Outputes the second list\n",
    "print(f\"grades[1][0]: {grades[1][0]}\") #[the list][the element in the list]"
   ],
   "outputs": [
    {
     "output_type": "stream",
     "name": "stdout",
     "text": [
      "grades[1]: ['B', 25]\n",
      "grades[1][0]: B\n"
     ]
    }
   ],
   "metadata": {}
  }
 ],
 "metadata": {
  "orig_nbformat": 4,
  "language_info": {
   "name": "python",
   "version": "3.9.6",
   "mimetype": "text/x-python",
   "codemirror_mode": {
    "name": "ipython",
    "version": 3
   },
   "pygments_lexer": "ipython3",
   "nbconvert_exporter": "python",
   "file_extension": ".py"
  },
  "kernelspec": {
   "name": "python3",
   "display_name": "Python 3.9.6 64-bit ('python-programming-Anna-Maria-Sjolund-Htb3K3oR': pipenv)"
  },
  "interpreter": {
   "hash": "d058bb7a222ccb114394dd2dbf09376c772f658c97746095daf69714e9de45e0"
  }
 },
 "nbformat": 4,
 "nbformat_minor": 2
}