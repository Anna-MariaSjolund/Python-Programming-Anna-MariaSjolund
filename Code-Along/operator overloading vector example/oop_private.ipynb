{
 "cells": [
  {
   "cell_type": "markdown",
   "source": [
    "# Private Attributes"
   ],
   "metadata": {}
  },
  {
   "cell_type": "code",
   "execution_count": 6,
   "source": [
    "class Patient:\n",
    "    def __init__(self, name, diagnosis) -> None:\n",
    "        self._name = name\n",
    "        self.__diagnosis = diagnosis\n",
    "\n",
    "    def __repr__(self) -> str:\n",
    "        return f\"Patient {self._name}, {self.__diagnosis}\"\n",
    "\n",
    "p1 = Patient(\"Gore Bord\", \"Migraine\")\n",
    "print(p1)\n",
    "\n",
    "p1._name = \"Gree Bree\" #We could change it here, when using _, we should not do this.\n",
    "print(p1)\n",
    "\n",
    "#Try to change __diagnosis\n",
    "p1.__diagnosis = \"Cold\" #It does not change, when we have used __\n",
    "print(p1)\n",
    "#Name mangling - changes __diagnosis to _Patient__diagnosis\n",
    "print(p1.__dict__) #Prints out {'_name': 'Gree Bree', '_Patient__diagnosis': 'Migraine', '__diagnosis': 'Cold'} - a variable is added\n",
    "p1._Patient__diagnosis = \"Fever\" #Now the name for diagnosis has changed to Fever\n",
    "print(p1)\n",
    "\n",
    "#Be consequent when using _ (always one or always two)"
   ],
   "outputs": [
    {
     "output_type": "stream",
     "name": "stdout",
     "text": [
      "Patient Gore Bord, Migraine\n",
      "Patient Gree Bree, Migraine\n",
      "Patient Gree Bree, Migraine\n",
      "{'_name': 'Gree Bree', '_Patient__diagnosis': 'Migraine', '__diagnosis': 'Cold'}\n",
      "Patient Gree Bree, Fever\n"
     ]
    }
   ],
   "metadata": {}
  }
 ],
 "metadata": {
  "orig_nbformat": 4,
  "language_info": {
   "name": "python",
   "version": "3.9.6",
   "mimetype": "text/x-python",
   "codemirror_mode": {
    "name": "ipython",
    "version": 3
   },
   "pygments_lexer": "ipython3",
   "nbconvert_exporter": "python",
   "file_extension": ".py"
  },
  "kernelspec": {
   "name": "python3",
   "display_name": "Python 3.9.6 64-bit ('python-programming-Anna-Maria-Sjolund-Htb3K3oR': pipenv)"
  },
  "interpreter": {
   "hash": "d058bb7a222ccb114394dd2dbf09376c772f658c97746095daf69714e9de45e0"
  }
 },
 "nbformat": 4,
 "nbformat_minor": 2
}