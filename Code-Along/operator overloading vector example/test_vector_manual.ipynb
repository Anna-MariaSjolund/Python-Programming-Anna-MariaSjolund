{
 "cells": [
  {
   "cell_type": "code",
   "execution_count": 3,
   "source": [
    "#Every time we change the code we have to restart the kernel, because Jupyter notebook saves the import\n",
    "import vector as vec\n",
    "\n",
    "v1 = vec.Vector(1, 2)\n",
    "v2 = vec.Vector(1, 1)\n",
    "\n",
    "print(v1.numbers)\n",
    "\n",
    "v_test = vec.Vector(True, False, 5)\n",
    "print(v_test.numbers) #The output will be (1.0, 0.0, 5.0)\n",
    "\n",
    "print(f\"v1 = {v1}\")\n",
    "print(f\"v2 = {v2}\")\n",
    "\n",
    "#Because of the operator overload, we can use the + operator in this way\n",
    "v3 = v1 + v2\n",
    "\n",
    "print(f\"v3 = v1 + v2 = {v3}\")\n",
    "\n",
    "try: \n",
    "    v3 + v_test #If we run this we will get an error message, since the two Vectors does not have the same length\n",
    "except TypeError as err:\n",
    "    print(err)\n",
    "\n",
    "# We cannot run this without making it subscriptable: v3[1], i.e. we cannot reach the second element\n",
    "v3[1] #This works when we have cretated the __getitem__\n"
   ],
   "outputs": [
    {
     "output_type": "stream",
     "name": "stdout",
     "text": [
      "(1.0, 2.0)\n",
      "(1.0, 0.0, 5.0)\n",
      "v1 = (1.0, 2.0)\n",
      "v2 = (1.0, 1.0)\n",
      "v3 = v1 + v2 = (2.0, 3.0)\n",
      "Both must be Vector and same length.\n"
     ]
    },
    {
     "output_type": "execute_result",
     "data": {
      "text/plain": [
       "3.0"
      ]
     },
     "metadata": {},
     "execution_count": 3
    }
   ],
   "metadata": {}
  },
  {
   "cell_type": "code",
   "execution_count": 2,
   "source": [
    "print(f\"len(v1): {len(v1)}\")\n",
    "print(f\"len(v_test): {len(v_test)}\")"
   ],
   "outputs": [
    {
     "output_type": "stream",
     "name": "stdout",
     "text": [
      "len(v1): 2\n",
      "len(v_test): 3\n"
     ]
    }
   ],
   "metadata": {}
  },
  {
   "cell_type": "code",
   "execution_count": 3,
   "source": [
    "#This will output True, since False is 0 and True is 1\n",
    "isinstance(False, int)"
   ],
   "outputs": [
    {
     "output_type": "execute_result",
     "data": {
      "text/plain": [
       "True"
      ]
     },
     "metadata": {},
     "execution_count": 3
    }
   ],
   "metadata": {}
  }
 ],
 "metadata": {
  "orig_nbformat": 4,
  "language_info": {
   "name": "python",
   "version": "3.9.6",
   "mimetype": "text/x-python",
   "codemirror_mode": {
    "name": "ipython",
    "version": 3
   },
   "pygments_lexer": "ipython3",
   "nbconvert_exporter": "python",
   "file_extension": ".py"
  },
  "kernelspec": {
   "name": "python3",
   "display_name": "Python 3.9.6 64-bit ('python-programming-Anna-Maria-Sjolund-Htb3K3oR': pipenv)"
  },
  "interpreter": {
   "hash": "d058bb7a222ccb114394dd2dbf09376c772f658c97746095daf69714e9de45e0"
  }
 },
 "nbformat": 4,
 "nbformat_minor": 2
}