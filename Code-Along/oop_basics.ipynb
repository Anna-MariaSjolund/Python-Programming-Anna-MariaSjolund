{
 "cells": [
  {
   "cell_type": "markdown",
   "source": [
    "## OOP Basic"
   ],
   "metadata": {}
  },
  {
   "cell_type": "code",
   "execution_count": 64,
   "source": [
    "class Antagning: #Creates a class. Should have capital letters for each word (StudentRepresentative) (although Python's own classes do not always have capital letters)\n",
    "    def __init__(self): #__init__ is the initialiser \n",
    "        pass\n",
    "\n",
    "a1 = Antagning() #Instantiated an object from the class Antagning\n",
    "print(a1) #<__main__.Antagning object at 0x7fe7364396d0> will return the memory"
   ],
   "outputs": [
    {
     "output_type": "stream",
     "name": "stdout",
     "text": [
      "<__main__.Antagning object at 0x7fe73769c160>\n"
     ]
    }
   ],
   "metadata": {}
  },
  {
   "cell_type": "code",
   "execution_count": 65,
   "source": [
    "class Antagning:\n",
    "    #self refers to the object that is created \n",
    "    #When we instantiate an object from a class we can reach the object using self\n",
    "    #Defualt arguments (such as accept=False) should be last and positional parameter first\n",
    "    def __init__(self, school, program, name, accept=False) -> None: #It returns None #__init__ is a dunder init\n",
    "        #Assigns arguments to the objects attributes (egenskaper/variabler)\n",
    "        self.school = school\n",
    "        self.program = program\n",
    "        self.name = name\n",
    "        self.accept = accept\n",
    "    \n",
    "    #We can use a __repr__ method so that other developers get more info about the class (and also for us to remember)\n",
    "    #We can also use a dunder string to output info to a user\n",
    "    def __repr__(self): #dunder __repr__ read: \"repper\"  \n",
    "        #We cannot just write school because this will be invisible outside of the first method. We have to call self.school\n",
    "        #The following will be returned when running for example print(person2)\n",
    "        return f\"Antagning(school='{self.school}', program='{self.program}', name='{self.name}', accept={self.accept})\" #If we have a lot of parameters we can also write a description.\n",
    "\n",
    "#The object created will be self. \"Cool school\", will be assigned the self.school\n",
    "person1 = Antagning(\"Cool school\", \"AI\", \"Gore Bord\", False) #Constructor\n",
    "print(person1.name) #The . operator is used to reach methods and attributes\n",
    "print(person1.school)\n",
    "print(person1.__dict__) #dunder dict will return a dictionary with the variables\n",
    "\n",
    "person2 = Antagning(\"IT-skola\", \"UX\", \"Gorat Borat\") #Schools is automatically set to False, if not otherwise specified with a keyword argument (accept=True)\n",
    "print(person2.accept)\n",
    "print(person2.name)\n",
    "print(person2)"
   ],
   "outputs": [
    {
     "output_type": "stream",
     "name": "stdout",
     "text": [
      "Gore Bord\n",
      "Cool school\n",
      "{'school': 'Cool school', 'program': 'AI', 'name': 'Gore Bord', 'accept': False}\n",
      "False\n",
      "Gorat Borat\n",
      "Antagning(school='IT-skola', program='UX', name='Gorat Borat', accept=False)\n"
     ]
    }
   ],
   "metadata": {}
  },
  {
   "cell_type": "markdown",
   "source": [
    "## Example Old Coins in Sweden\n",
    "- riksdaler and skilling"
   ],
   "metadata": {}
  },
  {
   "cell_type": "code",
   "execution_count": 18,
   "source": [
    "class OldCoinStash:\n",
    "    def __init__(self, owner) -> None:\n",
    "        #These attributes are public\n",
    "        self.owner = owner\n",
    "        self.riksdaler = 0\n",
    "        self.skilling = 0\n",
    "\n",
    "stash1 = OldCoinStash(\"Gore Bord\")\n",
    "print(stash1.riksdaler) #We can print this and see how many riksdaler that Gore Bord has.\n",
    "stash1.riksdaler = 1000\n",
    "print(stash1.riksdaler)"
   ],
   "outputs": [
    {
     "output_type": "stream",
     "name": "stdout",
     "text": [
      "0\n",
      "1000\n"
     ]
    }
   ],
   "metadata": {}
  },
  {
   "cell_type": "markdown",
   "source": [
    "## Encapsulation\n",
    "- In OOP, you want to encapsulate some information and only show relevant information outwards"
   ],
   "metadata": {}
  },
  {
   "cell_type": "code",
   "execution_count": 44,
   "source": [
    "class OldCoinStash:\n",
    "    def __init__(self, owner) -> None: #type hinting, it returns None (only for documentation, good practice, if we hoover over the __init__ we will see the type that it returns)\n",
    "        #These attributes are public\n",
    "        self.owner = owner\n",
    "\n",
    "        #Private - by convention use underscore prefix (prefix before the word, postfix after the word) (we can also use name mangling)\n",
    "        self._riksdaler = 0\n",
    "        self._skilling = 0\n",
    "\n",
    "    def deposit(self, riksdaler: float = 0, skilling: float = 0) -> None: #\"riksdaler: float\" is also type hinting, we expect to receive a float. We can also use | for or \"float|int\" for the latest version of Python.\n",
    "        if riksdaler < 0 or skilling < 0:\n",
    "            raise ValueError(f\"Stop depositing negative values. {riksdaler} riksdaler or {skilling} skilling not okay.\")\n",
    "        \n",
    "        self._riksdaler += riksdaler #We use _riksdaler because we want to get to the private variable and change it\n",
    "        self._skilling += skilling\n",
    "    \n",
    "    def withdraw(self, riksdaler: float, skilling: float) -> None:\n",
    "        if riksdaler > self._riksdaler or skilling > self._skilling:\n",
    "            raise ValueError(\"You cannot withdraw more coins than you have.\")\n",
    "        if riksdaler < 0 or skilling < 0:\n",
    "            raise ValueError(\"You cannot withdraw negative numbers.\")\n",
    "        \n",
    "        self._riksdaler -= riksdaler\n",
    "        self._skilling -= skilling\n",
    "    \n",
    "    def check_balance(self) -> str:\n",
    "        return f\"Coins in stash: {self._riksdaler} riksdaler and {self._skilling} skillingar.\"\n",
    "    \n",
    "    def __repr__(self) -> str: #Type hinting, it will return a String\n",
    "        return f\"OldCoinStash(owner='{self.owner})'.\"\n"
   ],
   "outputs": [],
   "metadata": {}
  },
  {
   "cell_type": "code",
   "execution_count": 66,
   "source": [
    "stash1 = OldCoinStash(\"Gore Bod\")\n",
    "print(stash1) #testing __repr__\n",
    "print(stash1.check_balance()) #testing check_balance()\n",
    "stash1.deposit(riksdaler=500, skilling=3000) #testing deposit()\n",
    "print(stash1.check_balance())\n",
    "\n",
    "#Run try except so that the code does not crash\n",
    "try:\n",
    "    stash1.deposit(-20, 35) #try error handling, we cannot deposit negative values\n",
    "except ValueError as err:\n",
    "    print(err)\n",
    "\n",
    "stash1.withdraw(100, 100)\n",
    "print(stash1.check_balance())\n",
    "\n",
    "try:\n",
    "    stash1.withdraw(20000000, 35000000) #Trying to rob the stash\n",
    "except ValueError as err:\n",
    "    print(err)\n",
    "print(stash1.check_balance())\n",
    "\n",
    "try:\n",
    "    stash1.withdraw(-200000, -350000) #Check if we can withdraw negative numbers\n",
    "except ValueError as err:\n",
    "    print(err)\n",
    "print(stash1.check_balance())\n",
    "\n",
    "#Works, but don't do this -> Can access private attributes, but SHOULD NOT\n",
    "stash1._riksdaler = 1000000\n",
    "print(stash1.check_balance())"
   ],
   "outputs": [
    {
     "output_type": "stream",
     "name": "stdout",
     "text": [
      "OldCoinStash(owner='Gore Bod)'.\n",
      "Coins in stash: 0 riksdaler and 0 skillingar.\n",
      "Coins in stash: 500 riksdaler and 3000 skillingar.\n",
      "Stop depositing negative values. -20 riksdaler or 35 skilling not okay.\n",
      "Coins in stash: 400 riksdaler and 2900 skillingar.\n",
      "You cannot withdraw more coins than you have.\n",
      "Coins in stash: 400 riksdaler and 2900 skillingar.\n",
      "You cannot withdraw negative numbers.\n",
      "Coins in stash: 400 riksdaler and 2900 skillingar.\n",
      "Coins in stash: 1000000 riksdaler and 2900 skillingar.\n"
     ]
    }
   ],
   "metadata": {}
  },
  {
   "cell_type": "markdown",
   "source": [
    "## Properties"
   ],
   "metadata": {}
  },
  {
   "cell_type": "code",
   "execution_count": 17,
   "source": [
    "class Student:\n",
    "    def __init__(self, name:str, age:float, height:float) -> None:\n",
    "        self.name = name \n",
    "        self.age = age #Note no underscore\n",
    "        self.height = height\n",
    "\n",
    "    @property #We use property instead of getters and setters\n",
    "    #@ is a decorator, it transforms the method to a property\n",
    "    #We would like to be able to call .age and READ it, but not write it (if we want to read only we do not use a setter)\n",
    "    def age(self) -> float:\n",
    "        print(\"age getter is running ...\")\n",
    "        return self._age #This should be private. \n",
    "    \n",
    "    @property\n",
    "    def height(self) -> float:\n",
    "        return self._height\n",
    "\n",
    "    @age.setter #This will be based on the method in @property\n",
    "    def age(self, value:float) -> None:\n",
    "        print(\"age-setter is running ...\")\n",
    "        if not isinstance(value, (int, float)):\n",
    "            raise TypeError(f\"Age must be an int or a float, not {type(value)}.\")\n",
    "        if not(0 <= value < 125):\n",
    "            raise ValueError(\"Your age must be between 0 and 124.\")\n",
    "        self._age = value #If everything is okay, set the value (then when we run the getter method/property it will use _age, i.e. the private variable)\n",
    "    \n",
    "    @height.setter\n",
    "    def height(self, value):\n",
    "        self._height = Student.validate_number(value) #Here we use the staticmethod and runs it on our class Student\n",
    "\n",
    "    @staticmethod #We can create a static method which we can use inside our class\n",
    "    def validate_number(value):\n",
    "        if not isinstance(value, (int, float)):\n",
    "            raise TypeError(f\"Ange en int eller en float, inte en {type(value)}\")"
   ],
   "outputs": [],
   "metadata": {}
  },
  {
   "cell_type": "code",
   "execution_count": 19,
   "source": [
    "student1 = Student(\"Gore Bord\", 25, 165)\n",
    "#When we run this and self.age = age is called it will run the @age.setter\n",
    "print(student1.age)\n",
    "print(student1.name) #This will only print the name\n",
    "print(student1._age) #We should not do this, now we do not run the age getter\n",
    "\n",
    "try:\n",
    "    student1.age = \"25\"\n",
    "except TypeError as err:\n",
    "    print(err)\n",
    "\n",
    "try:\n",
    "    student1.height = \"154\"\n",
    "except TypeError as err:\n",
    "    print(err)"
   ],
   "outputs": [
    {
     "output_type": "stream",
     "name": "stdout",
     "text": [
      "age-setter is running ...\n",
      "age getter is running ...\n",
      "25\n",
      "Gore Bord\n",
      "25\n",
      "age-setter is running ...\n",
      "Age must be an int or a float, not <class 'str'>.\n",
      "Ange en int eller en float, inte en <class 'str'>\n"
     ]
    }
   ],
   "metadata": {}
  }
 ],
 "metadata": {
  "orig_nbformat": 4,
  "language_info": {
   "name": "python",
   "version": "3.9.6",
   "mimetype": "text/x-python",
   "codemirror_mode": {
    "name": "ipython",
    "version": 3
   },
   "pygments_lexer": "ipython3",
   "nbconvert_exporter": "python",
   "file_extension": ".py"
  },
  "kernelspec": {
   "name": "python3",
   "display_name": "Python 3.9.6 64-bit ('python-programming-Anna-Maria-Sjolund-Htb3K3oR': pipenv)"
  },
  "interpreter": {
   "hash": "d058bb7a222ccb114394dd2dbf09376c772f658c97746095daf69714e9de45e0"
  }
 },
 "nbformat": 4,
 "nbformat_minor": 2
}