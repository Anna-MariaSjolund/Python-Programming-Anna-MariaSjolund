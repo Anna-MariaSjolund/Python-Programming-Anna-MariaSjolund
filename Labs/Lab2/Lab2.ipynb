{
 "cells": [
  {
   "cell_type": "markdown",
   "source": [
    "# Lab 2 - Pichu or Pikachu?"
   ],
   "metadata": {}
  },
  {
   "cell_type": "markdown",
   "source": [
    "## Opening and Cleaning the Datasets\n",
    "\n",
    "- In this lab I will create two different models to identify if a Pokémon is a Pichu or a Pikachu, based on its' width and height.\n",
    "- I start with creating a function to clean the dataset (the Pichu and the Pikachu datasets have the same format).\n",
    "- After that I will open the datasets and clean them using the clean_text function."
   ],
   "metadata": {}
  },
  {
   "cell_type": "code",
   "execution_count": 24,
   "source": [
    "import matplotlib.pyplot as plt\n",
    "import random as rnd\n",
    "from math import sqrt"
   ],
   "outputs": [],
   "metadata": {}
  },
  {
   "cell_type": "code",
   "execution_count": 88,
   "source": [
    "def clean_text(pokemon_file, pokemontype):\n",
    "    '''The function takes a textfile and the pokemontype (as a string) as parameters.\n",
    "    (The textfile must have the following heading: (width (cm), height (cm)).\n",
    "    Each line should look similar to: (20.11541438766307, 28.701809671168824).)\n",
    "    The function returns a list of lists, where each of the inner lists consist of two float values,\n",
    "    where the first value is the width and the second value is the height.'''\n",
    "    pokemon_size = [pokemon.strip(\"\\n\") for pokemon in pokemon_file.readlines()] #readlines reads each line in the textfile and stores each line as a string element in a list. strip(\"\\n\") removes \"\\n\" (that automatically gets added when running readlines) for each line. \n",
    "    pokemon_size.remove(\"(width (cm), height (cm))\") #Removes the heading\n",
    "    pokemon_size = [pokemon.replace(\"(\",\"\").replace(\")\", \"\") for pokemon in pokemon_size] #For each element, replace the left and right paranthesis with an empty string \"\" (i.e. remove it).\n",
    "    pokemon_size = [pokemon.split(\",\") for pokemon in pokemon_size] #split(\",\") creates inner lists of the strings in the larger list (separated at comma). Each inner list contains the values width and height. \n",
    "    pokemon_size = [[float(pokemon[0]), float(pokemon[1]), pokemontype] for pokemon in pokemon_size] #Changes the first (width) and the second (height) elements in each inner list in pokemon_size to floats and adds information about the type of Pokémon.  \n",
    "    return pokemon_size"
   ],
   "outputs": [],
   "metadata": {}
  },
  {
   "cell_type": "code",
   "execution_count": 89,
   "source": [
    "with open(\"pichu.txt\", \"r\") as pichu, open(\"pikachu.txt\", \"r\") as pikachu:\n",
    "    #Reading, cleaning and joining together the datasets\n",
    "    pichu_size = clean_text(pichu, \"pichu\")\n",
    "    pikachu_size = clean_text(pikachu, \"pikachu\") \n",
    "    pokemons = pichu_size + pikachu_size\n",
    "\n",
    "    #Creates the variables width and height for Pichu and Pikachu, by calling the first and second elements. \n",
    "    #These variables will only be used when plotting the data\n",
    "    pichu_width = [pichu[0] for pichu in pichu_size] \n",
    "    pichu_height = [pichu[1] for pichu in pichu_size] \n",
    "    pikachu_width = [pikachu[0] for pikachu in pikachu_size] \n",
    "    pikachu_height = [pikachu[1] for pikachu in pikachu_size]"
   ],
   "outputs": [],
   "metadata": {}
  },
  {
   "cell_type": "markdown",
   "source": [
    "## Plotting the Data\n",
    "- I will use matplotlib to plot the data.\n",
    "- Studying the scatterplot, I can see that the Pichu and Pikachu datapoints are separated from each other on the y-axis (height), but that they overlap on the x-axis (width)."
   ],
   "metadata": {}
  },
  {
   "cell_type": "code",
   "execution_count": 90,
   "source": [
    "plt.scatter(pichu_width, pichu_height, c=\"royalblue\") #Plots the values for Pichu and changes the colour\n",
    "plt.scatter(pikachu_width, pikachu_height, c=\"darkred\") #Plots the values for Pikachu and changes the colour\n",
    "plt.ylabel(\"Height (cm)\")\n",
    "plt.xlabel(\"Width (cm)\")\n",
    "_ = plt.title(\"Height and Width for Pichu (blue) and Pikachu (red)\") #Assigning the title to a variable disables the output. https://stackoverflow.com/questions/12056115/disable-the-output-of-matplotlib-pyplot"
   ],
   "outputs": [
    {
     "output_type": "display_data",
     "data": {
      "text/plain": [
       "<Figure size 432x288 with 1 Axes>"
      ],
      "image/svg+xml": "<?xml version=\"1.0\" encoding=\"utf-8\" standalone=\"no\"?>\n<!DOCTYPE svg PUBLIC \"-//W3C//DTD SVG 1.1//EN\"\n  \"http://www.w3.org/Graphics/SVG/1.1/DTD/svg11.dtd\">\n<svg height=\"277.314375pt\" version=\"1.1\" viewBox=\"0 0 395.007073 277.314375\" width=\"395.007073pt\" xmlns=\"http://www.w3.org/2000/svg\" xmlns:xlink=\"http://www.w3.org/1999/xlink\">\n <metadata>\n  <rdf:RDF xmlns:cc=\"http://creativecommons.org/ns#\" xmlns:dc=\"http://purl.org/dc/elements/1.1/\" xmlns:rdf=\"http://www.w3.org/1999/02/22-rdf-syntax-ns#\">\n   <cc:Work>\n    <dc:type rdf:resource=\"http://purl.org/dc/dcmitype/StillImage\"/>\n    <dc:date>2021-09-15T23:43:10.185504</dc:date>\n    <dc:format>image/svg+xml</dc:format>\n    <dc:creator>\n     <cc:Agent>\n      <dc:title>Matplotlib v3.4.3, https://matplotlib.org/</dc:title>\n     </cc:Agent>\n    </dc:creator>\n   </cc:Work>\n  </rdf:RDF>\n </metadata>\n <defs>\n  <style type=\"text/css\">*{stroke-linecap:butt;stroke-linejoin:round;}</style>\n </defs>\n <g id=\"figure_1\">\n  <g id=\"patch_1\">\n   <path d=\"M 0 277.314375 \nL 395.007073 277.314375 \nL 395.007073 0 \nL 0 0 \nz\n\" style=\"fill:none;\"/>\n  </g>\n  <g id=\"axes_1\">\n   <g id=\"patch_2\">\n    <path d=\"M 50.14375 239.758125 \nL 384.94375 239.758125 \nL 384.94375 22.318125 \nL 50.14375 22.318125 \nz\n\" style=\"fill:#ffffff;\"/>\n   </g>\n   <g id=\"PathCollection_1\">\n    <defs>\n     <path d=\"M 0 3 \nC 0.795609 3 1.55874 2.683901 2.12132 2.12132 \nC 2.683901 1.55874 3 0.795609 3 0 \nC 3 -0.795609 2.683901 -1.55874 2.12132 -2.12132 \nC 1.55874 -2.683901 0.795609 -3 0 -3 \nC -0.795609 -3 -1.55874 -2.683901 -2.12132 -2.12132 \nC -2.683901 -1.55874 -3 -0.795609 -3 0 \nC -3 0.795609 -2.683901 1.55874 -2.12132 2.12132 \nC -1.55874 2.683901 -0.795609 3 0 3 \nz\n\" id=\"mec7ef4f636\" style=\"stroke:#4169e1;\"/>\n    </defs>\n    <g clip-path=\"url(#p9cb65a16e4)\">\n     <use style=\"fill:#4169e1;stroke:#4169e1;\" x=\"172.4304\" xlink:href=\"#mec7ef4f636\" y=\"195.902375\"/>\n     <use style=\"fill:#4169e1;stroke:#4169e1;\" x=\"68.49349\" xlink:href=\"#mec7ef4f636\" y=\"212.04773\"/>\n     <use style=\"fill:#4169e1;stroke:#4169e1;\" x=\"110.787563\" xlink:href=\"#mec7ef4f636\" y=\"206.272765\"/>\n     <use style=\"fill:#4169e1;stroke:#4169e1;\" x=\"102.021739\" xlink:href=\"#mec7ef4f636\" y=\"138.980152\"/>\n     <use style=\"fill:#4169e1;stroke:#4169e1;\" x=\"188.846796\" xlink:href=\"#mec7ef4f636\" y=\"167.982114\"/>\n     <use style=\"fill:#4169e1;stroke:#4169e1;\" x=\"178.735588\" xlink:href=\"#mec7ef4f636\" y=\"171.891429\"/>\n     <use style=\"fill:#4169e1;stroke:#4169e1;\" x=\"215.187002\" xlink:href=\"#mec7ef4f636\" y=\"215.903185\"/>\n     <use style=\"fill:#4169e1;stroke:#4169e1;\" x=\"78.969475\" xlink:href=\"#mec7ef4f636\" y=\"159.833626\"/>\n     <use style=\"fill:#4169e1;stroke:#4169e1;\" x=\"135.636447\" xlink:href=\"#mec7ef4f636\" y=\"216.680554\"/>\n     <use style=\"fill:#4169e1;stroke:#4169e1;\" x=\"69.303186\" xlink:href=\"#mec7ef4f636\" y=\"194.970427\"/>\n     <use style=\"fill:#4169e1;stroke:#4169e1;\" x=\"101.248193\" xlink:href=\"#mec7ef4f636\" y=\"133.667623\"/>\n     <use style=\"fill:#4169e1;stroke:#4169e1;\" x=\"149.750363\" xlink:href=\"#mec7ef4f636\" y=\"168.789576\"/>\n     <use style=\"fill:#4169e1;stroke:#4169e1;\" x=\"68.751501\" xlink:href=\"#mec7ef4f636\" y=\"177.134874\"/>\n     <use style=\"fill:#4169e1;stroke:#4169e1;\" x=\"97.898696\" xlink:href=\"#mec7ef4f636\" y=\"164.306479\"/>\n     <use style=\"fill:#4169e1;stroke:#4169e1;\" x=\"174.199454\" xlink:href=\"#mec7ef4f636\" y=\"148.405933\"/>\n     <use style=\"fill:#4169e1;stroke:#4169e1;\" x=\"156.446911\" xlink:href=\"#mec7ef4f636\" y=\"155.123571\"/>\n     <use style=\"fill:#4169e1;stroke:#4169e1;\" x=\"101.553135\" xlink:href=\"#mec7ef4f636\" y=\"210.084144\"/>\n     <use style=\"fill:#4169e1;stroke:#4169e1;\" x=\"163.944959\" xlink:href=\"#mec7ef4f636\" y=\"229.874489\"/>\n     <use style=\"fill:#4169e1;stroke:#4169e1;\" x=\"201.188854\" xlink:href=\"#mec7ef4f636\" y=\"201.401721\"/>\n     <use style=\"fill:#4169e1;stroke:#4169e1;\" x=\"65.361932\" xlink:href=\"#mec7ef4f636\" y=\"206.196089\"/>\n     <use style=\"fill:#4169e1;stroke:#4169e1;\" x=\"200.577969\" xlink:href=\"#mec7ef4f636\" y=\"211.899432\"/>\n     <use style=\"fill:#4169e1;stroke:#4169e1;\" x=\"182.362442\" xlink:href=\"#mec7ef4f636\" y=\"138.351604\"/>\n     <use style=\"fill:#4169e1;stroke:#4169e1;\" x=\"121.820624\" xlink:href=\"#mec7ef4f636\" y=\"145.0381\"/>\n     <use style=\"fill:#4169e1;stroke:#4169e1;\" x=\"90.56407\" xlink:href=\"#mec7ef4f636\" y=\"201.479614\"/>\n     <use style=\"fill:#4169e1;stroke:#4169e1;\" x=\"226.188312\" xlink:href=\"#mec7ef4f636\" y=\"167.238194\"/>\n     <use style=\"fill:#4169e1;stroke:#4169e1;\" x=\"121.202167\" xlink:href=\"#mec7ef4f636\" y=\"193.344932\"/>\n     <use style=\"fill:#4169e1;stroke:#4169e1;\" x=\"79.95181\" xlink:href=\"#mec7ef4f636\" y=\"141.201578\"/>\n     <use style=\"fill:#4169e1;stroke:#4169e1;\" x=\"80.623481\" xlink:href=\"#mec7ef4f636\" y=\"186.992262\"/>\n     <use style=\"fill:#4169e1;stroke:#4169e1;\" x=\"207.627886\" xlink:href=\"#mec7ef4f636\" y=\"206.483548\"/>\n     <use style=\"fill:#4169e1;stroke:#4169e1;\" x=\"166.391125\" xlink:href=\"#mec7ef4f636\" y=\"208.317671\"/>\n     <use style=\"fill:#4169e1;stroke:#4169e1;\" x=\"200.799408\" xlink:href=\"#mec7ef4f636\" y=\"176.690891\"/>\n     <use style=\"fill:#4169e1;stroke:#4169e1;\" x=\"187.706729\" xlink:href=\"#mec7ef4f636\" y=\"206.698442\"/>\n     <use style=\"fill:#4169e1;stroke:#4169e1;\" x=\"154.972922\" xlink:href=\"#mec7ef4f636\" y=\"174.35784\"/>\n     <use style=\"fill:#4169e1;stroke:#4169e1;\" x=\"228.878471\" xlink:href=\"#mec7ef4f636\" y=\"142.882164\"/>\n     <use style=\"fill:#4169e1;stroke:#4169e1;\" x=\"128.296865\" xlink:href=\"#mec7ef4f636\" y=\"192.966243\"/>\n     <use style=\"fill:#4169e1;stroke:#4169e1;\" x=\"157.64783\" xlink:href=\"#mec7ef4f636\" y=\"211.061595\"/>\n     <use style=\"fill:#4169e1;stroke:#4169e1;\" x=\"204.567765\" xlink:href=\"#mec7ef4f636\" y=\"132.862308\"/>\n     <use style=\"fill:#4169e1;stroke:#4169e1;\" x=\"168.893686\" xlink:href=\"#mec7ef4f636\" y=\"181.90023\"/>\n     <use style=\"fill:#4169e1;stroke:#4169e1;\" x=\"210.032132\" xlink:href=\"#mec7ef4f636\" y=\"223.965037\"/>\n     <use style=\"fill:#4169e1;stroke:#4169e1;\" x=\"161.92962\" xlink:href=\"#mec7ef4f636\" y=\"228.365589\"/>\n     <use style=\"fill:#4169e1;stroke:#4169e1;\" x=\"183.450578\" xlink:href=\"#mec7ef4f636\" y=\"222.081972\"/>\n     <use style=\"fill:#4169e1;stroke:#4169e1;\" x=\"72.014401\" xlink:href=\"#mec7ef4f636\" y=\"170.051039\"/>\n     <use style=\"fill:#4169e1;stroke:#4169e1;\" x=\"102.8147\" xlink:href=\"#mec7ef4f636\" y=\"153.507824\"/>\n     <use style=\"fill:#4169e1;stroke:#4169e1;\" x=\"113.216525\" xlink:href=\"#mec7ef4f636\" y=\"190.679254\"/>\n     <use style=\"fill:#4169e1;stroke:#4169e1;\" x=\"77.760486\" xlink:href=\"#mec7ef4f636\" y=\"226.716493\"/>\n     <use style=\"fill:#4169e1;stroke:#4169e1;\" x=\"103.642352\" xlink:href=\"#mec7ef4f636\" y=\"194.752993\"/>\n     <use style=\"fill:#4169e1;stroke:#4169e1;\" x=\"81.348356\" xlink:href=\"#mec7ef4f636\" y=\"133.004618\"/>\n     <use style=\"fill:#4169e1;stroke:#4169e1;\" x=\"111.285629\" xlink:href=\"#mec7ef4f636\" y=\"179.93192\"/>\n     <use style=\"fill:#4169e1;stroke:#4169e1;\" x=\"171.79733\" xlink:href=\"#mec7ef4f636\" y=\"135.52107\"/>\n     <use style=\"fill:#4169e1;stroke:#4169e1;\" x=\"125.97895\" xlink:href=\"#mec7ef4f636\" y=\"146.604456\"/>\n    </g>\n   </g>\n   <g id=\"PathCollection_2\">\n    <defs>\n     <path d=\"M 0 3 \nC 0.795609 3 1.55874 2.683901 2.12132 2.12132 \nC 2.683901 1.55874 3 0.795609 3 0 \nC 3 -0.795609 2.683901 -1.55874 2.12132 -2.12132 \nC 1.55874 -2.683901 0.795609 -3 0 -3 \nC -0.795609 -3 -1.55874 -2.683901 -2.12132 -2.12132 \nC -2.683901 -1.55874 -3 -0.795609 -3 0 \nC -3 0.795609 -2.683901 1.55874 -2.12132 2.12132 \nC -1.55874 2.683901 -0.795609 3 0 3 \nz\n\" id=\"mc4f9dbea3f\" style=\"stroke:#8b0000;\"/>\n    </defs>\n    <g clip-path=\"url(#p9cb65a16e4)\">\n     <use style=\"fill:#8b0000;stroke:#8b0000;\" x=\"130.612235\" xlink:href=\"#mc4f9dbea3f\" y=\"32.617078\"/>\n     <use style=\"fill:#8b0000;stroke:#8b0000;\" x=\"310.578965\" xlink:href=\"#mc4f9dbea3f\" y=\"67.311738\"/>\n     <use style=\"fill:#8b0000;stroke:#8b0000;\" x=\"300.679981\" xlink:href=\"#mc4f9dbea3f\" y=\"88.592293\"/>\n     <use style=\"fill:#8b0000;stroke:#8b0000;\" x=\"263.952833\" xlink:href=\"#mc4f9dbea3f\" y=\"80.606155\"/>\n     <use style=\"fill:#8b0000;stroke:#8b0000;\" x=\"195.404694\" xlink:href=\"#mc4f9dbea3f\" y=\"120.455742\"/>\n     <use style=\"fill:#8b0000;stroke:#8b0000;\" x=\"290.340211\" xlink:href=\"#mc4f9dbea3f\" y=\"110.036114\"/>\n     <use style=\"fill:#8b0000;stroke:#8b0000;\" x=\"156.004849\" xlink:href=\"#mc4f9dbea3f\" y=\"98.642274\"/>\n     <use style=\"fill:#8b0000;stroke:#8b0000;\" x=\"238.018744\" xlink:href=\"#mc4f9dbea3f\" y=\"73.498547\"/>\n     <use style=\"fill:#8b0000;stroke:#8b0000;\" x=\"242.829369\" xlink:href=\"#mc4f9dbea3f\" y=\"109.491746\"/>\n     <use style=\"fill:#8b0000;stroke:#8b0000;\" x=\"369.725568\" xlink:href=\"#mc4f9dbea3f\" y=\"110.486283\"/>\n     <use style=\"fill:#8b0000;stroke:#8b0000;\" x=\"349.942803\" xlink:href=\"#mc4f9dbea3f\" y=\"125.481119\"/>\n     <use style=\"fill:#8b0000;stroke:#8b0000;\" x=\"194.532788\" xlink:href=\"#mc4f9dbea3f\" y=\"69.198358\"/>\n     <use style=\"fill:#8b0000;stroke:#8b0000;\" x=\"254.720498\" xlink:href=\"#mc4f9dbea3f\" y=\"109.60961\"/>\n     <use style=\"fill:#8b0000;stroke:#8b0000;\" x=\"173.031105\" xlink:href=\"#mc4f9dbea3f\" y=\"41.63355\"/>\n     <use style=\"fill:#8b0000;stroke:#8b0000;\" x=\"359.274272\" xlink:href=\"#mc4f9dbea3f\" y=\"46.234227\"/>\n     <use style=\"fill:#8b0000;stroke:#8b0000;\" x=\"348.58923\" xlink:href=\"#mc4f9dbea3f\" y=\"125.494758\"/>\n     <use style=\"fill:#8b0000;stroke:#8b0000;\" x=\"203.428028\" xlink:href=\"#mc4f9dbea3f\" y=\"108.698928\"/>\n     <use style=\"fill:#8b0000;stroke:#8b0000;\" x=\"289.829597\" xlink:href=\"#mc4f9dbea3f\" y=\"65.392499\"/>\n     <use style=\"fill:#8b0000;stroke:#8b0000;\" x=\"282.222486\" xlink:href=\"#mc4f9dbea3f\" y=\"111.087243\"/>\n     <use style=\"fill:#8b0000;stroke:#8b0000;\" x=\"166.481268\" xlink:href=\"#mc4f9dbea3f\" y=\"119.31949\"/>\n     <use style=\"fill:#8b0000;stroke:#8b0000;\" x=\"321.182734\" xlink:href=\"#mc4f9dbea3f\" y=\"38.609525\"/>\n     <use style=\"fill:#8b0000;stroke:#8b0000;\" x=\"264.56403\" xlink:href=\"#mc4f9dbea3f\" y=\"75.233487\"/>\n     <use style=\"fill:#8b0000;stroke:#8b0000;\" x=\"325.272017\" xlink:href=\"#mc4f9dbea3f\" y=\"85.118425\"/>\n     <use style=\"fill:#8b0000;stroke:#8b0000;\" x=\"262.273886\" xlink:href=\"#mc4f9dbea3f\" y=\"53.772223\"/>\n     <use style=\"fill:#8b0000;stroke:#8b0000;\" x=\"127.844093\" xlink:href=\"#mc4f9dbea3f\" y=\"51.473365\"/>\n     <use style=\"fill:#8b0000;stroke:#8b0000;\" x=\"209.952149\" xlink:href=\"#mc4f9dbea3f\" y=\"113.481493\"/>\n     <use style=\"fill:#8b0000;stroke:#8b0000;\" x=\"132.641114\" xlink:href=\"#mc4f9dbea3f\" y=\"122.874761\"/>\n     <use style=\"fill:#8b0000;stroke:#8b0000;\" x=\"363.453659\" xlink:href=\"#mc4f9dbea3f\" y=\"89.300604\"/>\n     <use style=\"fill:#8b0000;stroke:#8b0000;\" x=\"350.670784\" xlink:href=\"#mc4f9dbea3f\" y=\"90.051486\"/>\n     <use style=\"fill:#8b0000;stroke:#8b0000;\" x=\"338.730443\" xlink:href=\"#mc4f9dbea3f\" y=\"85.6858\"/>\n     <use style=\"fill:#8b0000;stroke:#8b0000;\" x=\"205.729332\" xlink:href=\"#mc4f9dbea3f\" y=\"59.353531\"/>\n     <use style=\"fill:#8b0000;stroke:#8b0000;\" x=\"142.397232\" xlink:href=\"#mc4f9dbea3f\" y=\"64.951693\"/>\n     <use style=\"fill:#8b0000;stroke:#8b0000;\" x=\"350.490046\" xlink:href=\"#mc4f9dbea3f\" y=\"33.720822\"/>\n     <use style=\"fill:#8b0000;stroke:#8b0000;\" x=\"367.983229\" xlink:href=\"#mc4f9dbea3f\" y=\"122.725333\"/>\n     <use style=\"fill:#8b0000;stroke:#8b0000;\" x=\"149.433163\" xlink:href=\"#mc4f9dbea3f\" y=\"92.157388\"/>\n     <use style=\"fill:#8b0000;stroke:#8b0000;\" x=\"251.016917\" xlink:href=\"#mc4f9dbea3f\" y=\"98.519979\"/>\n     <use style=\"fill:#8b0000;stroke:#8b0000;\" x=\"145.261348\" xlink:href=\"#mc4f9dbea3f\" y=\"46.029525\"/>\n     <use style=\"fill:#8b0000;stroke:#8b0000;\" x=\"320.698427\" xlink:href=\"#mc4f9dbea3f\" y=\"107.628589\"/>\n     <use style=\"fill:#8b0000;stroke:#8b0000;\" x=\"322.026091\" xlink:href=\"#mc4f9dbea3f\" y=\"113.501691\"/>\n     <use style=\"fill:#8b0000;stroke:#8b0000;\" x=\"160.277745\" xlink:href=\"#mc4f9dbea3f\" y=\"87.535846\"/>\n     <use style=\"fill:#8b0000;stroke:#8b0000;\" x=\"248.299787\" xlink:href=\"#mc4f9dbea3f\" y=\"90.222007\"/>\n     <use style=\"fill:#8b0000;stroke:#8b0000;\" x=\"267.209217\" xlink:href=\"#mc4f9dbea3f\" y=\"104.625206\"/>\n     <use style=\"fill:#8b0000;stroke:#8b0000;\" x=\"194.955929\" xlink:href=\"#mc4f9dbea3f\" y=\"107.51302\"/>\n     <use style=\"fill:#8b0000;stroke:#8b0000;\" x=\"349.075019\" xlink:href=\"#mc4f9dbea3f\" y=\"39.840333\"/>\n     <use style=\"fill:#8b0000;stroke:#8b0000;\" x=\"235.068366\" xlink:href=\"#mc4f9dbea3f\" y=\"88.086786\"/>\n     <use style=\"fill:#8b0000;stroke:#8b0000;\" x=\"181.441839\" xlink:href=\"#mc4f9dbea3f\" y=\"46.062025\"/>\n     <use style=\"fill:#8b0000;stroke:#8b0000;\" x=\"264.542984\" xlink:href=\"#mc4f9dbea3f\" y=\"77.315317\"/>\n     <use style=\"fill:#8b0000;stroke:#8b0000;\" x=\"312.915771\" xlink:href=\"#mc4f9dbea3f\" y=\"127.531495\"/>\n     <use style=\"fill:#8b0000;stroke:#8b0000;\" x=\"178.740173\" xlink:href=\"#mc4f9dbea3f\" y=\"32.201761\"/>\n     <use style=\"fill:#8b0000;stroke:#8b0000;\" x=\"206.795613\" xlink:href=\"#mc4f9dbea3f\" y=\"48.606463\"/>\n    </g>\n   </g>\n   <g id=\"matplotlib.axis_1\">\n    <g id=\"xtick_1\">\n     <g id=\"line2d_1\">\n      <defs>\n       <path d=\"M 0 0 \nL 0 3.5 \n\" id=\"m286103645a\" style=\"stroke:#000000;stroke-width:0.8;\"/>\n      </defs>\n      <g>\n       <use style=\"stroke:#000000;stroke-width:0.8;\" x=\"85.408044\" xlink:href=\"#m286103645a\" y=\"239.758125\"/>\n      </g>\n     </g>\n     <g id=\"text_1\">\n      <!-- 16 -->\n      <g transform=\"translate(79.045544 254.356562)scale(0.1 -0.1)\">\n       <defs>\n        <path d=\"M 794 531 \nL 1825 531 \nL 1825 4091 \nL 703 3866 \nL 703 4441 \nL 1819 4666 \nL 2450 4666 \nL 2450 531 \nL 3481 531 \nL 3481 0 \nL 794 0 \nL 794 531 \nz\n\" id=\"DejaVuSans-31\" transform=\"scale(0.015625)\"/>\n        <path d=\"M 2113 2584 \nQ 1688 2584 1439 2293 \nQ 1191 2003 1191 1497 \nQ 1191 994 1439 701 \nQ 1688 409 2113 409 \nQ 2538 409 2786 701 \nQ 3034 994 3034 1497 \nQ 3034 2003 2786 2293 \nQ 2538 2584 2113 2584 \nz\nM 3366 4563 \nL 3366 3988 \nQ 3128 4100 2886 4159 \nQ 2644 4219 2406 4219 \nQ 1781 4219 1451 3797 \nQ 1122 3375 1075 2522 \nQ 1259 2794 1537 2939 \nQ 1816 3084 2150 3084 \nQ 2853 3084 3261 2657 \nQ 3669 2231 3669 1497 \nQ 3669 778 3244 343 \nQ 2819 -91 2113 -91 \nQ 1303 -91 875 529 \nQ 447 1150 447 2328 \nQ 447 3434 972 4092 \nQ 1497 4750 2381 4750 \nQ 2619 4750 2861 4703 \nQ 3103 4656 3366 4563 \nz\n\" id=\"DejaVuSans-36\" transform=\"scale(0.015625)\"/>\n       </defs>\n       <use xlink:href=\"#DejaVuSans-31\"/>\n       <use x=\"63.623047\" xlink:href=\"#DejaVuSans-36\"/>\n      </g>\n     </g>\n    </g>\n    <g id=\"xtick_2\">\n     <g id=\"line2d_2\">\n      <g>\n       <use style=\"stroke:#000000;stroke-width:0.8;\" x=\"127.698977\" xlink:href=\"#m286103645a\" y=\"239.758125\"/>\n      </g>\n     </g>\n     <g id=\"text_2\">\n      <!-- 18 -->\n      <g transform=\"translate(121.336477 254.356562)scale(0.1 -0.1)\">\n       <defs>\n        <path d=\"M 2034 2216 \nQ 1584 2216 1326 1975 \nQ 1069 1734 1069 1313 \nQ 1069 891 1326 650 \nQ 1584 409 2034 409 \nQ 2484 409 2743 651 \nQ 3003 894 3003 1313 \nQ 3003 1734 2745 1975 \nQ 2488 2216 2034 2216 \nz\nM 1403 2484 \nQ 997 2584 770 2862 \nQ 544 3141 544 3541 \nQ 544 4100 942 4425 \nQ 1341 4750 2034 4750 \nQ 2731 4750 3128 4425 \nQ 3525 4100 3525 3541 \nQ 3525 3141 3298 2862 \nQ 3072 2584 2669 2484 \nQ 3125 2378 3379 2068 \nQ 3634 1759 3634 1313 \nQ 3634 634 3220 271 \nQ 2806 -91 2034 -91 \nQ 1263 -91 848 271 \nQ 434 634 434 1313 \nQ 434 1759 690 2068 \nQ 947 2378 1403 2484 \nz\nM 1172 3481 \nQ 1172 3119 1398 2916 \nQ 1625 2713 2034 2713 \nQ 2441 2713 2670 2916 \nQ 2900 3119 2900 3481 \nQ 2900 3844 2670 4047 \nQ 2441 4250 2034 4250 \nQ 1625 4250 1398 4047 \nQ 1172 3844 1172 3481 \nz\n\" id=\"DejaVuSans-38\" transform=\"scale(0.015625)\"/>\n       </defs>\n       <use xlink:href=\"#DejaVuSans-31\"/>\n       <use x=\"63.623047\" xlink:href=\"#DejaVuSans-38\"/>\n      </g>\n     </g>\n    </g>\n    <g id=\"xtick_3\">\n     <g id=\"line2d_3\">\n      <g>\n       <use style=\"stroke:#000000;stroke-width:0.8;\" x=\"169.989909\" xlink:href=\"#m286103645a\" y=\"239.758125\"/>\n      </g>\n     </g>\n     <g id=\"text_3\">\n      <!-- 20 -->\n      <g transform=\"translate(163.627409 254.356562)scale(0.1 -0.1)\">\n       <defs>\n        <path d=\"M 1228 531 \nL 3431 531 \nL 3431 0 \nL 469 0 \nL 469 531 \nQ 828 903 1448 1529 \nQ 2069 2156 2228 2338 \nQ 2531 2678 2651 2914 \nQ 2772 3150 2772 3378 \nQ 2772 3750 2511 3984 \nQ 2250 4219 1831 4219 \nQ 1534 4219 1204 4116 \nQ 875 4013 500 3803 \nL 500 4441 \nQ 881 4594 1212 4672 \nQ 1544 4750 1819 4750 \nQ 2544 4750 2975 4387 \nQ 3406 4025 3406 3419 \nQ 3406 3131 3298 2873 \nQ 3191 2616 2906 2266 \nQ 2828 2175 2409 1742 \nQ 1991 1309 1228 531 \nz\n\" id=\"DejaVuSans-32\" transform=\"scale(0.015625)\"/>\n        <path d=\"M 2034 4250 \nQ 1547 4250 1301 3770 \nQ 1056 3291 1056 2328 \nQ 1056 1369 1301 889 \nQ 1547 409 2034 409 \nQ 2525 409 2770 889 \nQ 3016 1369 3016 2328 \nQ 3016 3291 2770 3770 \nQ 2525 4250 2034 4250 \nz\nM 2034 4750 \nQ 2819 4750 3233 4129 \nQ 3647 3509 3647 2328 \nQ 3647 1150 3233 529 \nQ 2819 -91 2034 -91 \nQ 1250 -91 836 529 \nQ 422 1150 422 2328 \nQ 422 3509 836 4129 \nQ 1250 4750 2034 4750 \nz\n\" id=\"DejaVuSans-30\" transform=\"scale(0.015625)\"/>\n       </defs>\n       <use xlink:href=\"#DejaVuSans-32\"/>\n       <use x=\"63.623047\" xlink:href=\"#DejaVuSans-30\"/>\n      </g>\n     </g>\n    </g>\n    <g id=\"xtick_4\">\n     <g id=\"line2d_4\">\n      <g>\n       <use style=\"stroke:#000000;stroke-width:0.8;\" x=\"212.280842\" xlink:href=\"#m286103645a\" y=\"239.758125\"/>\n      </g>\n     </g>\n     <g id=\"text_4\">\n      <!-- 22 -->\n      <g transform=\"translate(205.918342 254.356562)scale(0.1 -0.1)\">\n       <use xlink:href=\"#DejaVuSans-32\"/>\n       <use x=\"63.623047\" xlink:href=\"#DejaVuSans-32\"/>\n      </g>\n     </g>\n    </g>\n    <g id=\"xtick_5\">\n     <g id=\"line2d_5\">\n      <g>\n       <use style=\"stroke:#000000;stroke-width:0.8;\" x=\"254.571775\" xlink:href=\"#m286103645a\" y=\"239.758125\"/>\n      </g>\n     </g>\n     <g id=\"text_5\">\n      <!-- 24 -->\n      <g transform=\"translate(248.209275 254.356562)scale(0.1 -0.1)\">\n       <defs>\n        <path d=\"M 2419 4116 \nL 825 1625 \nL 2419 1625 \nL 2419 4116 \nz\nM 2253 4666 \nL 3047 4666 \nL 3047 1625 \nL 3713 1625 \nL 3713 1100 \nL 3047 1100 \nL 3047 0 \nL 2419 0 \nL 2419 1100 \nL 313 1100 \nL 313 1709 \nL 2253 4666 \nz\n\" id=\"DejaVuSans-34\" transform=\"scale(0.015625)\"/>\n       </defs>\n       <use xlink:href=\"#DejaVuSans-32\"/>\n       <use x=\"63.623047\" xlink:href=\"#DejaVuSans-34\"/>\n      </g>\n     </g>\n    </g>\n    <g id=\"xtick_6\">\n     <g id=\"line2d_6\">\n      <g>\n       <use style=\"stroke:#000000;stroke-width:0.8;\" x=\"296.862708\" xlink:href=\"#m286103645a\" y=\"239.758125\"/>\n      </g>\n     </g>\n     <g id=\"text_6\">\n      <!-- 26 -->\n      <g transform=\"translate(290.500208 254.356562)scale(0.1 -0.1)\">\n       <use xlink:href=\"#DejaVuSans-32\"/>\n       <use x=\"63.623047\" xlink:href=\"#DejaVuSans-36\"/>\n      </g>\n     </g>\n    </g>\n    <g id=\"xtick_7\">\n     <g id=\"line2d_7\">\n      <g>\n       <use style=\"stroke:#000000;stroke-width:0.8;\" x=\"339.15364\" xlink:href=\"#m286103645a\" y=\"239.758125\"/>\n      </g>\n     </g>\n     <g id=\"text_7\">\n      <!-- 28 -->\n      <g transform=\"translate(332.79114 254.356562)scale(0.1 -0.1)\">\n       <use xlink:href=\"#DejaVuSans-32\"/>\n       <use x=\"63.623047\" xlink:href=\"#DejaVuSans-38\"/>\n      </g>\n     </g>\n    </g>\n    <g id=\"xtick_8\">\n     <g id=\"line2d_8\">\n      <g>\n       <use style=\"stroke:#000000;stroke-width:0.8;\" x=\"381.444573\" xlink:href=\"#m286103645a\" y=\"239.758125\"/>\n      </g>\n     </g>\n     <g id=\"text_8\">\n      <!-- 30 -->\n      <g transform=\"translate(375.082073 254.356562)scale(0.1 -0.1)\">\n       <defs>\n        <path d=\"M 2597 2516 \nQ 3050 2419 3304 2112 \nQ 3559 1806 3559 1356 \nQ 3559 666 3084 287 \nQ 2609 -91 1734 -91 \nQ 1441 -91 1130 -33 \nQ 819 25 488 141 \nL 488 750 \nQ 750 597 1062 519 \nQ 1375 441 1716 441 \nQ 2309 441 2620 675 \nQ 2931 909 2931 1356 \nQ 2931 1769 2642 2001 \nQ 2353 2234 1838 2234 \nL 1294 2234 \nL 1294 2753 \nL 1863 2753 \nQ 2328 2753 2575 2939 \nQ 2822 3125 2822 3475 \nQ 2822 3834 2567 4026 \nQ 2313 4219 1838 4219 \nQ 1578 4219 1281 4162 \nQ 984 4106 628 3988 \nL 628 4550 \nQ 988 4650 1302 4700 \nQ 1616 4750 1894 4750 \nQ 2613 4750 3031 4423 \nQ 3450 4097 3450 3541 \nQ 3450 3153 3228 2886 \nQ 3006 2619 2597 2516 \nz\n\" id=\"DejaVuSans-33\" transform=\"scale(0.015625)\"/>\n       </defs>\n       <use xlink:href=\"#DejaVuSans-33\"/>\n       <use x=\"63.623047\" xlink:href=\"#DejaVuSans-30\"/>\n      </g>\n     </g>\n    </g>\n    <g id=\"text_9\">\n     <!-- Width (cm) -->\n     <g transform=\"translate(189.910156 268.034687)scale(0.1 -0.1)\">\n      <defs>\n       <path d=\"M 213 4666 \nL 850 4666 \nL 1831 722 \nL 2809 4666 \nL 3519 4666 \nL 4500 722 \nL 5478 4666 \nL 6119 4666 \nL 4947 0 \nL 4153 0 \nL 3169 4050 \nL 2175 0 \nL 1381 0 \nL 213 4666 \nz\n\" id=\"DejaVuSans-57\" transform=\"scale(0.015625)\"/>\n       <path d=\"M 603 3500 \nL 1178 3500 \nL 1178 0 \nL 603 0 \nL 603 3500 \nz\nM 603 4863 \nL 1178 4863 \nL 1178 4134 \nL 603 4134 \nL 603 4863 \nz\n\" id=\"DejaVuSans-69\" transform=\"scale(0.015625)\"/>\n       <path d=\"M 2906 2969 \nL 2906 4863 \nL 3481 4863 \nL 3481 0 \nL 2906 0 \nL 2906 525 \nQ 2725 213 2448 61 \nQ 2172 -91 1784 -91 \nQ 1150 -91 751 415 \nQ 353 922 353 1747 \nQ 353 2572 751 3078 \nQ 1150 3584 1784 3584 \nQ 2172 3584 2448 3432 \nQ 2725 3281 2906 2969 \nz\nM 947 1747 \nQ 947 1113 1208 752 \nQ 1469 391 1925 391 \nQ 2381 391 2643 752 \nQ 2906 1113 2906 1747 \nQ 2906 2381 2643 2742 \nQ 2381 3103 1925 3103 \nQ 1469 3103 1208 2742 \nQ 947 2381 947 1747 \nz\n\" id=\"DejaVuSans-64\" transform=\"scale(0.015625)\"/>\n       <path d=\"M 1172 4494 \nL 1172 3500 \nL 2356 3500 \nL 2356 3053 \nL 1172 3053 \nL 1172 1153 \nQ 1172 725 1289 603 \nQ 1406 481 1766 481 \nL 2356 481 \nL 2356 0 \nL 1766 0 \nQ 1100 0 847 248 \nQ 594 497 594 1153 \nL 594 3053 \nL 172 3053 \nL 172 3500 \nL 594 3500 \nL 594 4494 \nL 1172 4494 \nz\n\" id=\"DejaVuSans-74\" transform=\"scale(0.015625)\"/>\n       <path d=\"M 3513 2113 \nL 3513 0 \nL 2938 0 \nL 2938 2094 \nQ 2938 2591 2744 2837 \nQ 2550 3084 2163 3084 \nQ 1697 3084 1428 2787 \nQ 1159 2491 1159 1978 \nL 1159 0 \nL 581 0 \nL 581 4863 \nL 1159 4863 \nL 1159 2956 \nQ 1366 3272 1645 3428 \nQ 1925 3584 2291 3584 \nQ 2894 3584 3203 3211 \nQ 3513 2838 3513 2113 \nz\n\" id=\"DejaVuSans-68\" transform=\"scale(0.015625)\"/>\n       <path id=\"DejaVuSans-20\" transform=\"scale(0.015625)\"/>\n       <path d=\"M 1984 4856 \nQ 1566 4138 1362 3434 \nQ 1159 2731 1159 2009 \nQ 1159 1288 1364 580 \nQ 1569 -128 1984 -844 \nL 1484 -844 \nQ 1016 -109 783 600 \nQ 550 1309 550 2009 \nQ 550 2706 781 3412 \nQ 1013 4119 1484 4856 \nL 1984 4856 \nz\n\" id=\"DejaVuSans-28\" transform=\"scale(0.015625)\"/>\n       <path d=\"M 3122 3366 \nL 3122 2828 \nQ 2878 2963 2633 3030 \nQ 2388 3097 2138 3097 \nQ 1578 3097 1268 2742 \nQ 959 2388 959 1747 \nQ 959 1106 1268 751 \nQ 1578 397 2138 397 \nQ 2388 397 2633 464 \nQ 2878 531 3122 666 \nL 3122 134 \nQ 2881 22 2623 -34 \nQ 2366 -91 2075 -91 \nQ 1284 -91 818 406 \nQ 353 903 353 1747 \nQ 353 2603 823 3093 \nQ 1294 3584 2113 3584 \nQ 2378 3584 2631 3529 \nQ 2884 3475 3122 3366 \nz\n\" id=\"DejaVuSans-63\" transform=\"scale(0.015625)\"/>\n       <path d=\"M 3328 2828 \nQ 3544 3216 3844 3400 \nQ 4144 3584 4550 3584 \nQ 5097 3584 5394 3201 \nQ 5691 2819 5691 2113 \nL 5691 0 \nL 5113 0 \nL 5113 2094 \nQ 5113 2597 4934 2840 \nQ 4756 3084 4391 3084 \nQ 3944 3084 3684 2787 \nQ 3425 2491 3425 1978 \nL 3425 0 \nL 2847 0 \nL 2847 2094 \nQ 2847 2600 2669 2842 \nQ 2491 3084 2119 3084 \nQ 1678 3084 1418 2786 \nQ 1159 2488 1159 1978 \nL 1159 0 \nL 581 0 \nL 581 3500 \nL 1159 3500 \nL 1159 2956 \nQ 1356 3278 1631 3431 \nQ 1906 3584 2284 3584 \nQ 2666 3584 2933 3390 \nQ 3200 3197 3328 2828 \nz\n\" id=\"DejaVuSans-6d\" transform=\"scale(0.015625)\"/>\n       <path d=\"M 513 4856 \nL 1013 4856 \nQ 1481 4119 1714 3412 \nQ 1947 2706 1947 2009 \nQ 1947 1309 1714 600 \nQ 1481 -109 1013 -844 \nL 513 -844 \nQ 928 -128 1133 580 \nQ 1338 1288 1338 2009 \nQ 1338 2731 1133 3434 \nQ 928 4138 513 4856 \nz\n\" id=\"DejaVuSans-29\" transform=\"scale(0.015625)\"/>\n      </defs>\n      <use xlink:href=\"#DejaVuSans-57\"/>\n      <use x=\"96.626953\" xlink:href=\"#DejaVuSans-69\"/>\n      <use x=\"124.410156\" xlink:href=\"#DejaVuSans-64\"/>\n      <use x=\"187.886719\" xlink:href=\"#DejaVuSans-74\"/>\n      <use x=\"227.095703\" xlink:href=\"#DejaVuSans-68\"/>\n      <use x=\"290.474609\" xlink:href=\"#DejaVuSans-20\"/>\n      <use x=\"322.261719\" xlink:href=\"#DejaVuSans-28\"/>\n      <use x=\"361.275391\" xlink:href=\"#DejaVuSans-63\"/>\n      <use x=\"416.255859\" xlink:href=\"#DejaVuSans-6d\"/>\n      <use x=\"513.667969\" xlink:href=\"#DejaVuSans-29\"/>\n     </g>\n    </g>\n   </g>\n   <g id=\"matplotlib.axis_2\">\n    <g id=\"ytick_1\">\n     <g id=\"line2d_9\">\n      <defs>\n       <path d=\"M 0 0 \nL -3.5 0 \n\" id=\"ma96b643ab3\" style=\"stroke:#000000;stroke-width:0.8;\"/>\n      </defs>\n      <g>\n       <use style=\"stroke:#000000;stroke-width:0.8;\" x=\"50.14375\" xlink:href=\"#ma96b643ab3\" y=\"233.100089\"/>\n      </g>\n     </g>\n     <g id=\"text_10\">\n      <!-- 25.0 -->\n      <g transform=\"translate(20.878125 236.899307)scale(0.1 -0.1)\">\n       <defs>\n        <path d=\"M 691 4666 \nL 3169 4666 \nL 3169 4134 \nL 1269 4134 \nL 1269 2991 \nQ 1406 3038 1543 3061 \nQ 1681 3084 1819 3084 \nQ 2600 3084 3056 2656 \nQ 3513 2228 3513 1497 \nQ 3513 744 3044 326 \nQ 2575 -91 1722 -91 \nQ 1428 -91 1123 -41 \nQ 819 9 494 109 \nL 494 744 \nQ 775 591 1075 516 \nQ 1375 441 1709 441 \nQ 2250 441 2565 725 \nQ 2881 1009 2881 1497 \nQ 2881 1984 2565 2268 \nQ 2250 2553 1709 2553 \nQ 1456 2553 1204 2497 \nQ 953 2441 691 2322 \nL 691 4666 \nz\n\" id=\"DejaVuSans-35\" transform=\"scale(0.015625)\"/>\n        <path d=\"M 684 794 \nL 1344 794 \nL 1344 0 \nL 684 0 \nL 684 794 \nz\n\" id=\"DejaVuSans-2e\" transform=\"scale(0.015625)\"/>\n       </defs>\n       <use xlink:href=\"#DejaVuSans-32\"/>\n       <use x=\"63.623047\" xlink:href=\"#DejaVuSans-35\"/>\n       <use x=\"127.246094\" xlink:href=\"#DejaVuSans-2e\"/>\n       <use x=\"159.033203\" xlink:href=\"#DejaVuSans-30\"/>\n      </g>\n     </g>\n    </g>\n    <g id=\"ytick_2\">\n     <g id=\"line2d_10\">\n      <g>\n       <use style=\"stroke:#000000;stroke-width:0.8;\" x=\"50.14375\" xlink:href=\"#ma96b643ab3\" y=\"207.978785\"/>\n      </g>\n     </g>\n     <g id=\"text_11\">\n      <!-- 27.5 -->\n      <g transform=\"translate(20.878125 211.778004)scale(0.1 -0.1)\">\n       <defs>\n        <path d=\"M 525 4666 \nL 3525 4666 \nL 3525 4397 \nL 1831 0 \nL 1172 0 \nL 2766 4134 \nL 525 4134 \nL 525 4666 \nz\n\" id=\"DejaVuSans-37\" transform=\"scale(0.015625)\"/>\n       </defs>\n       <use xlink:href=\"#DejaVuSans-32\"/>\n       <use x=\"63.623047\" xlink:href=\"#DejaVuSans-37\"/>\n       <use x=\"127.246094\" xlink:href=\"#DejaVuSans-2e\"/>\n       <use x=\"159.033203\" xlink:href=\"#DejaVuSans-35\"/>\n      </g>\n     </g>\n    </g>\n    <g id=\"ytick_3\">\n     <g id=\"line2d_11\">\n      <g>\n       <use style=\"stroke:#000000;stroke-width:0.8;\" x=\"50.14375\" xlink:href=\"#ma96b643ab3\" y=\"182.857481\"/>\n      </g>\n     </g>\n     <g id=\"text_12\">\n      <!-- 30.0 -->\n      <g transform=\"translate(20.878125 186.6567)scale(0.1 -0.1)\">\n       <use xlink:href=\"#DejaVuSans-33\"/>\n       <use x=\"63.623047\" xlink:href=\"#DejaVuSans-30\"/>\n       <use x=\"127.246094\" xlink:href=\"#DejaVuSans-2e\"/>\n       <use x=\"159.033203\" xlink:href=\"#DejaVuSans-30\"/>\n      </g>\n     </g>\n    </g>\n    <g id=\"ytick_4\">\n     <g id=\"line2d_12\">\n      <g>\n       <use style=\"stroke:#000000;stroke-width:0.8;\" x=\"50.14375\" xlink:href=\"#ma96b643ab3\" y=\"157.736178\"/>\n      </g>\n     </g>\n     <g id=\"text_13\">\n      <!-- 32.5 -->\n      <g transform=\"translate(20.878125 161.535397)scale(0.1 -0.1)\">\n       <use xlink:href=\"#DejaVuSans-33\"/>\n       <use x=\"63.623047\" xlink:href=\"#DejaVuSans-32\"/>\n       <use x=\"127.246094\" xlink:href=\"#DejaVuSans-2e\"/>\n       <use x=\"159.033203\" xlink:href=\"#DejaVuSans-35\"/>\n      </g>\n     </g>\n    </g>\n    <g id=\"ytick_5\">\n     <g id=\"line2d_13\">\n      <g>\n       <use style=\"stroke:#000000;stroke-width:0.8;\" x=\"50.14375\" xlink:href=\"#ma96b643ab3\" y=\"132.614874\"/>\n      </g>\n     </g>\n     <g id=\"text_14\">\n      <!-- 35.0 -->\n      <g transform=\"translate(20.878125 136.414093)scale(0.1 -0.1)\">\n       <use xlink:href=\"#DejaVuSans-33\"/>\n       <use x=\"63.623047\" xlink:href=\"#DejaVuSans-35\"/>\n       <use x=\"127.246094\" xlink:href=\"#DejaVuSans-2e\"/>\n       <use x=\"159.033203\" xlink:href=\"#DejaVuSans-30\"/>\n      </g>\n     </g>\n    </g>\n    <g id=\"ytick_6\">\n     <g id=\"line2d_14\">\n      <g>\n       <use style=\"stroke:#000000;stroke-width:0.8;\" x=\"50.14375\" xlink:href=\"#ma96b643ab3\" y=\"107.493571\"/>\n      </g>\n     </g>\n     <g id=\"text_15\">\n      <!-- 37.5 -->\n      <g transform=\"translate(20.878125 111.292789)scale(0.1 -0.1)\">\n       <use xlink:href=\"#DejaVuSans-33\"/>\n       <use x=\"63.623047\" xlink:href=\"#DejaVuSans-37\"/>\n       <use x=\"127.246094\" xlink:href=\"#DejaVuSans-2e\"/>\n       <use x=\"159.033203\" xlink:href=\"#DejaVuSans-35\"/>\n      </g>\n     </g>\n    </g>\n    <g id=\"ytick_7\">\n     <g id=\"line2d_15\">\n      <g>\n       <use style=\"stroke:#000000;stroke-width:0.8;\" x=\"50.14375\" xlink:href=\"#ma96b643ab3\" y=\"82.372267\"/>\n      </g>\n     </g>\n     <g id=\"text_16\">\n      <!-- 40.0 -->\n      <g transform=\"translate(20.878125 86.171486)scale(0.1 -0.1)\">\n       <use xlink:href=\"#DejaVuSans-34\"/>\n       <use x=\"63.623047\" xlink:href=\"#DejaVuSans-30\"/>\n       <use x=\"127.246094\" xlink:href=\"#DejaVuSans-2e\"/>\n       <use x=\"159.033203\" xlink:href=\"#DejaVuSans-30\"/>\n      </g>\n     </g>\n    </g>\n    <g id=\"ytick_8\">\n     <g id=\"line2d_16\">\n      <g>\n       <use style=\"stroke:#000000;stroke-width:0.8;\" x=\"50.14375\" xlink:href=\"#ma96b643ab3\" y=\"57.250964\"/>\n      </g>\n     </g>\n     <g id=\"text_17\">\n      <!-- 42.5 -->\n      <g transform=\"translate(20.878125 61.050182)scale(0.1 -0.1)\">\n       <use xlink:href=\"#DejaVuSans-34\"/>\n       <use x=\"63.623047\" xlink:href=\"#DejaVuSans-32\"/>\n       <use x=\"127.246094\" xlink:href=\"#DejaVuSans-2e\"/>\n       <use x=\"159.033203\" xlink:href=\"#DejaVuSans-35\"/>\n      </g>\n     </g>\n    </g>\n    <g id=\"ytick_9\">\n     <g id=\"line2d_17\">\n      <g>\n       <use style=\"stroke:#000000;stroke-width:0.8;\" x=\"50.14375\" xlink:href=\"#ma96b643ab3\" y=\"32.12966\"/>\n      </g>\n     </g>\n     <g id=\"text_18\">\n      <!-- 45.0 -->\n      <g transform=\"translate(20.878125 35.928879)scale(0.1 -0.1)\">\n       <use xlink:href=\"#DejaVuSans-34\"/>\n       <use x=\"63.623047\" xlink:href=\"#DejaVuSans-35\"/>\n       <use x=\"127.246094\" xlink:href=\"#DejaVuSans-2e\"/>\n       <use x=\"159.033203\" xlink:href=\"#DejaVuSans-30\"/>\n      </g>\n     </g>\n    </g>\n    <g id=\"text_19\">\n     <!-- Height (cm) -->\n     <g transform=\"translate(14.798438 160.677187)rotate(-90)scale(0.1 -0.1)\">\n      <defs>\n       <path d=\"M 628 4666 \nL 1259 4666 \nL 1259 2753 \nL 3553 2753 \nL 3553 4666 \nL 4184 4666 \nL 4184 0 \nL 3553 0 \nL 3553 2222 \nL 1259 2222 \nL 1259 0 \nL 628 0 \nL 628 4666 \nz\n\" id=\"DejaVuSans-48\" transform=\"scale(0.015625)\"/>\n       <path d=\"M 3597 1894 \nL 3597 1613 \nL 953 1613 \nQ 991 1019 1311 708 \nQ 1631 397 2203 397 \nQ 2534 397 2845 478 \nQ 3156 559 3463 722 \nL 3463 178 \nQ 3153 47 2828 -22 \nQ 2503 -91 2169 -91 \nQ 1331 -91 842 396 \nQ 353 884 353 1716 \nQ 353 2575 817 3079 \nQ 1281 3584 2069 3584 \nQ 2775 3584 3186 3129 \nQ 3597 2675 3597 1894 \nz\nM 3022 2063 \nQ 3016 2534 2758 2815 \nQ 2500 3097 2075 3097 \nQ 1594 3097 1305 2825 \nQ 1016 2553 972 2059 \nL 3022 2063 \nz\n\" id=\"DejaVuSans-65\" transform=\"scale(0.015625)\"/>\n       <path d=\"M 2906 1791 \nQ 2906 2416 2648 2759 \nQ 2391 3103 1925 3103 \nQ 1463 3103 1205 2759 \nQ 947 2416 947 1791 \nQ 947 1169 1205 825 \nQ 1463 481 1925 481 \nQ 2391 481 2648 825 \nQ 2906 1169 2906 1791 \nz\nM 3481 434 \nQ 3481 -459 3084 -895 \nQ 2688 -1331 1869 -1331 \nQ 1566 -1331 1297 -1286 \nQ 1028 -1241 775 -1147 \nL 775 -588 \nQ 1028 -725 1275 -790 \nQ 1522 -856 1778 -856 \nQ 2344 -856 2625 -561 \nQ 2906 -266 2906 331 \nL 2906 616 \nQ 2728 306 2450 153 \nQ 2172 0 1784 0 \nQ 1141 0 747 490 \nQ 353 981 353 1791 \nQ 353 2603 747 3093 \nQ 1141 3584 1784 3584 \nQ 2172 3584 2450 3431 \nQ 2728 3278 2906 2969 \nL 2906 3500 \nL 3481 3500 \nL 3481 434 \nz\n\" id=\"DejaVuSans-67\" transform=\"scale(0.015625)\"/>\n      </defs>\n      <use xlink:href=\"#DejaVuSans-48\"/>\n      <use x=\"75.195312\" xlink:href=\"#DejaVuSans-65\"/>\n      <use x=\"136.71875\" xlink:href=\"#DejaVuSans-69\"/>\n      <use x=\"164.501953\" xlink:href=\"#DejaVuSans-67\"/>\n      <use x=\"227.978516\" xlink:href=\"#DejaVuSans-68\"/>\n      <use x=\"291.357422\" xlink:href=\"#DejaVuSans-74\"/>\n      <use x=\"330.566406\" xlink:href=\"#DejaVuSans-20\"/>\n      <use x=\"362.353516\" xlink:href=\"#DejaVuSans-28\"/>\n      <use x=\"401.367188\" xlink:href=\"#DejaVuSans-63\"/>\n      <use x=\"456.347656\" xlink:href=\"#DejaVuSans-6d\"/>\n      <use x=\"553.759766\" xlink:href=\"#DejaVuSans-29\"/>\n     </g>\n    </g>\n   </g>\n   <g id=\"patch_3\">\n    <path d=\"M 50.14375 239.758125 \nL 50.14375 22.318125 \n\" style=\"fill:none;stroke:#000000;stroke-linecap:square;stroke-linejoin:miter;stroke-width:0.8;\"/>\n   </g>\n   <g id=\"patch_4\">\n    <path d=\"M 384.94375 239.758125 \nL 384.94375 22.318125 \n\" style=\"fill:none;stroke:#000000;stroke-linecap:square;stroke-linejoin:miter;stroke-width:0.8;\"/>\n   </g>\n   <g id=\"patch_5\">\n    <path d=\"M 50.14375 239.758125 \nL 384.94375 239.758125 \n\" style=\"fill:none;stroke:#000000;stroke-linecap:square;stroke-linejoin:miter;stroke-width:0.8;\"/>\n   </g>\n   <g id=\"patch_6\">\n    <path d=\"M 50.14375 22.318125 \nL 384.94375 22.318125 \n\" style=\"fill:none;stroke:#000000;stroke-linecap:square;stroke-linejoin:miter;stroke-width:0.8;\"/>\n   </g>\n   <g id=\"text_20\">\n    <!-- Height and Width for Pichu (blue) and Pikachu (red) -->\n    <g transform=\"translate(62.87875 16.318125)scale(0.12 -0.12)\">\n     <defs>\n      <path d=\"M 2194 1759 \nQ 1497 1759 1228 1600 \nQ 959 1441 959 1056 \nQ 959 750 1161 570 \nQ 1363 391 1709 391 \nQ 2188 391 2477 730 \nQ 2766 1069 2766 1631 \nL 2766 1759 \nL 2194 1759 \nz\nM 3341 1997 \nL 3341 0 \nL 2766 0 \nL 2766 531 \nQ 2569 213 2275 61 \nQ 1981 -91 1556 -91 \nQ 1019 -91 701 211 \nQ 384 513 384 1019 \nQ 384 1609 779 1909 \nQ 1175 2209 1959 2209 \nL 2766 2209 \nL 2766 2266 \nQ 2766 2663 2505 2880 \nQ 2244 3097 1772 3097 \nQ 1472 3097 1187 3025 \nQ 903 2953 641 2809 \nL 641 3341 \nQ 956 3463 1253 3523 \nQ 1550 3584 1831 3584 \nQ 2591 3584 2966 3190 \nQ 3341 2797 3341 1997 \nz\n\" id=\"DejaVuSans-61\" transform=\"scale(0.015625)\"/>\n      <path d=\"M 3513 2113 \nL 3513 0 \nL 2938 0 \nL 2938 2094 \nQ 2938 2591 2744 2837 \nQ 2550 3084 2163 3084 \nQ 1697 3084 1428 2787 \nQ 1159 2491 1159 1978 \nL 1159 0 \nL 581 0 \nL 581 3500 \nL 1159 3500 \nL 1159 2956 \nQ 1366 3272 1645 3428 \nQ 1925 3584 2291 3584 \nQ 2894 3584 3203 3211 \nQ 3513 2838 3513 2113 \nz\n\" id=\"DejaVuSans-6e\" transform=\"scale(0.015625)\"/>\n      <path d=\"M 2375 4863 \nL 2375 4384 \nL 1825 4384 \nQ 1516 4384 1395 4259 \nQ 1275 4134 1275 3809 \nL 1275 3500 \nL 2222 3500 \nL 2222 3053 \nL 1275 3053 \nL 1275 0 \nL 697 0 \nL 697 3053 \nL 147 3053 \nL 147 3500 \nL 697 3500 \nL 697 3744 \nQ 697 4328 969 4595 \nQ 1241 4863 1831 4863 \nL 2375 4863 \nz\n\" id=\"DejaVuSans-66\" transform=\"scale(0.015625)\"/>\n      <path d=\"M 1959 3097 \nQ 1497 3097 1228 2736 \nQ 959 2375 959 1747 \nQ 959 1119 1226 758 \nQ 1494 397 1959 397 \nQ 2419 397 2687 759 \nQ 2956 1122 2956 1747 \nQ 2956 2369 2687 2733 \nQ 2419 3097 1959 3097 \nz\nM 1959 3584 \nQ 2709 3584 3137 3096 \nQ 3566 2609 3566 1747 \nQ 3566 888 3137 398 \nQ 2709 -91 1959 -91 \nQ 1206 -91 779 398 \nQ 353 888 353 1747 \nQ 353 2609 779 3096 \nQ 1206 3584 1959 3584 \nz\n\" id=\"DejaVuSans-6f\" transform=\"scale(0.015625)\"/>\n      <path d=\"M 2631 2963 \nQ 2534 3019 2420 3045 \nQ 2306 3072 2169 3072 \nQ 1681 3072 1420 2755 \nQ 1159 2438 1159 1844 \nL 1159 0 \nL 581 0 \nL 581 3500 \nL 1159 3500 \nL 1159 2956 \nQ 1341 3275 1631 3429 \nQ 1922 3584 2338 3584 \nQ 2397 3584 2469 3576 \nQ 2541 3569 2628 3553 \nL 2631 2963 \nz\n\" id=\"DejaVuSans-72\" transform=\"scale(0.015625)\"/>\n      <path d=\"M 1259 4147 \nL 1259 2394 \nL 2053 2394 \nQ 2494 2394 2734 2622 \nQ 2975 2850 2975 3272 \nQ 2975 3691 2734 3919 \nQ 2494 4147 2053 4147 \nL 1259 4147 \nz\nM 628 4666 \nL 2053 4666 \nQ 2838 4666 3239 4311 \nQ 3641 3956 3641 3272 \nQ 3641 2581 3239 2228 \nQ 2838 1875 2053 1875 \nL 1259 1875 \nL 1259 0 \nL 628 0 \nL 628 4666 \nz\n\" id=\"DejaVuSans-50\" transform=\"scale(0.015625)\"/>\n      <path d=\"M 544 1381 \nL 544 3500 \nL 1119 3500 \nL 1119 1403 \nQ 1119 906 1312 657 \nQ 1506 409 1894 409 \nQ 2359 409 2629 706 \nQ 2900 1003 2900 1516 \nL 2900 3500 \nL 3475 3500 \nL 3475 0 \nL 2900 0 \nL 2900 538 \nQ 2691 219 2414 64 \nQ 2138 -91 1772 -91 \nQ 1169 -91 856 284 \nQ 544 659 544 1381 \nz\nM 1991 3584 \nL 1991 3584 \nz\n\" id=\"DejaVuSans-75\" transform=\"scale(0.015625)\"/>\n      <path d=\"M 3116 1747 \nQ 3116 2381 2855 2742 \nQ 2594 3103 2138 3103 \nQ 1681 3103 1420 2742 \nQ 1159 2381 1159 1747 \nQ 1159 1113 1420 752 \nQ 1681 391 2138 391 \nQ 2594 391 2855 752 \nQ 3116 1113 3116 1747 \nz\nM 1159 2969 \nQ 1341 3281 1617 3432 \nQ 1894 3584 2278 3584 \nQ 2916 3584 3314 3078 \nQ 3713 2572 3713 1747 \nQ 3713 922 3314 415 \nQ 2916 -91 2278 -91 \nQ 1894 -91 1617 61 \nQ 1341 213 1159 525 \nL 1159 0 \nL 581 0 \nL 581 4863 \nL 1159 4863 \nL 1159 2969 \nz\n\" id=\"DejaVuSans-62\" transform=\"scale(0.015625)\"/>\n      <path d=\"M 603 4863 \nL 1178 4863 \nL 1178 0 \nL 603 0 \nL 603 4863 \nz\n\" id=\"DejaVuSans-6c\" transform=\"scale(0.015625)\"/>\n      <path d=\"M 581 4863 \nL 1159 4863 \nL 1159 1991 \nL 2875 3500 \nL 3609 3500 \nL 1753 1863 \nL 3688 0 \nL 2938 0 \nL 1159 1709 \nL 1159 0 \nL 581 0 \nL 581 4863 \nz\n\" id=\"DejaVuSans-6b\" transform=\"scale(0.015625)\"/>\n     </defs>\n     <use xlink:href=\"#DejaVuSans-48\"/>\n     <use x=\"75.195312\" xlink:href=\"#DejaVuSans-65\"/>\n     <use x=\"136.71875\" xlink:href=\"#DejaVuSans-69\"/>\n     <use x=\"164.501953\" xlink:href=\"#DejaVuSans-67\"/>\n     <use x=\"227.978516\" xlink:href=\"#DejaVuSans-68\"/>\n     <use x=\"291.357422\" xlink:href=\"#DejaVuSans-74\"/>\n     <use x=\"330.566406\" xlink:href=\"#DejaVuSans-20\"/>\n     <use x=\"362.353516\" xlink:href=\"#DejaVuSans-61\"/>\n     <use x=\"423.632812\" xlink:href=\"#DejaVuSans-6e\"/>\n     <use x=\"487.011719\" xlink:href=\"#DejaVuSans-64\"/>\n     <use x=\"550.488281\" xlink:href=\"#DejaVuSans-20\"/>\n     <use x=\"582.275391\" xlink:href=\"#DejaVuSans-57\"/>\n     <use x=\"678.902344\" xlink:href=\"#DejaVuSans-69\"/>\n     <use x=\"706.685547\" xlink:href=\"#DejaVuSans-64\"/>\n     <use x=\"770.162109\" xlink:href=\"#DejaVuSans-74\"/>\n     <use x=\"809.371094\" xlink:href=\"#DejaVuSans-68\"/>\n     <use x=\"872.75\" xlink:href=\"#DejaVuSans-20\"/>\n     <use x=\"904.537109\" xlink:href=\"#DejaVuSans-66\"/>\n     <use x=\"939.742188\" xlink:href=\"#DejaVuSans-6f\"/>\n     <use x=\"1000.923828\" xlink:href=\"#DejaVuSans-72\"/>\n     <use x=\"1042.037109\" xlink:href=\"#DejaVuSans-20\"/>\n     <use x=\"1073.824219\" xlink:href=\"#DejaVuSans-50\"/>\n     <use x=\"1131.876953\" xlink:href=\"#DejaVuSans-69\"/>\n     <use x=\"1159.660156\" xlink:href=\"#DejaVuSans-63\"/>\n     <use x=\"1214.640625\" xlink:href=\"#DejaVuSans-68\"/>\n     <use x=\"1278.019531\" xlink:href=\"#DejaVuSans-75\"/>\n     <use x=\"1341.398438\" xlink:href=\"#DejaVuSans-20\"/>\n     <use x=\"1373.185547\" xlink:href=\"#DejaVuSans-28\"/>\n     <use x=\"1412.199219\" xlink:href=\"#DejaVuSans-62\"/>\n     <use x=\"1475.675781\" xlink:href=\"#DejaVuSans-6c\"/>\n     <use x=\"1503.458984\" xlink:href=\"#DejaVuSans-75\"/>\n     <use x=\"1566.837891\" xlink:href=\"#DejaVuSans-65\"/>\n     <use x=\"1628.361328\" xlink:href=\"#DejaVuSans-29\"/>\n     <use x=\"1667.375\" xlink:href=\"#DejaVuSans-20\"/>\n     <use x=\"1699.162109\" xlink:href=\"#DejaVuSans-61\"/>\n     <use x=\"1760.441406\" xlink:href=\"#DejaVuSans-6e\"/>\n     <use x=\"1823.820312\" xlink:href=\"#DejaVuSans-64\"/>\n     <use x=\"1887.296875\" xlink:href=\"#DejaVuSans-20\"/>\n     <use x=\"1919.083984\" xlink:href=\"#DejaVuSans-50\"/>\n     <use x=\"1977.136719\" xlink:href=\"#DejaVuSans-69\"/>\n     <use x=\"2004.919922\" xlink:href=\"#DejaVuSans-6b\"/>\n     <use x=\"2061.080078\" xlink:href=\"#DejaVuSans-61\"/>\n     <use x=\"2122.359375\" xlink:href=\"#DejaVuSans-63\"/>\n     <use x=\"2177.339844\" xlink:href=\"#DejaVuSans-68\"/>\n     <use x=\"2240.71875\" xlink:href=\"#DejaVuSans-75\"/>\n     <use x=\"2304.097656\" xlink:href=\"#DejaVuSans-20\"/>\n     <use x=\"2335.884766\" xlink:href=\"#DejaVuSans-28\"/>\n     <use x=\"2374.898438\" xlink:href=\"#DejaVuSans-72\"/>\n     <use x=\"2413.761719\" xlink:href=\"#DejaVuSans-65\"/>\n     <use x=\"2475.285156\" xlink:href=\"#DejaVuSans-64\"/>\n     <use x=\"2538.761719\" xlink:href=\"#DejaVuSans-29\"/>\n    </g>\n   </g>\n  </g>\n </g>\n <defs>\n  <clipPath id=\"p9cb65a16e4\">\n   <rect height=\"217.44\" width=\"334.8\" x=\"50.14375\" y=\"22.318125\"/>\n  </clipPath>\n </defs>\n</svg>\n",
      "image/png": "[encoded data removed]"
     },
     "metadata": {
      "needs_background": "light"
     }
    }
   ],
   "metadata": {}
  },
  {
   "cell_type": "markdown",
   "source": [
    "## Opening and Cleaning the Test Data\n",
    "- The testdata consist of four testpoints ((25, 35), (15,14), (26,30), (22,45)).\n",
    "- The testdata has a different file structure and can therefore not be cleaned with the clean_text function."
   ],
   "metadata": {}
  },
  {
   "cell_type": "code",
   "execution_count": 91,
   "source": [
    "with open(\"test_points.txt\", \"r\") as test:\n",
    "    test_points = test.readlines() #readlines reads the line in the textfile and stores it as a string element in a list.\n",
    "    test_points = test_points[0].split(\")\") #Splits the only element (element 0) in the list at closing paranthesis.\n",
    "    test_points = [point.replace(\", (\", \"\").replace(\"(\", \"\") for point in test_points] #replace(\", (\", \"\") replaces comma-space-open_paranthesis with an empty string and replace(\"(\", \"\") replaces a single paranthesis with an empty space.\n",
    "    test_points = [point.split(\",\") for point in test_points] #split(\",\") creates inner lists out of all the string elements in the larger list (splitted at comma). Each inner list contains the values width and height. \n",
    "    test_points.pop(4) #pop(4) removes the fifth element in the list of lists, which is an empty element.\n",
    "    test_points = [[float(point[0]), float(point[1])] for point in test_points] #Changes the first (width) and the second (height) elements in each inner list in test_points to floats.  \n",
    "    print(test_points)"
   ],
   "outputs": [
    {
     "output_type": "stream",
     "name": "stdout",
     "text": [
      "[[25.0, 35.0], [15.0, 14.0], [26.0, 30.0], [22.0, 45.0]]\n"
     ]
    }
   ],
   "metadata": {}
  },
  {
   "cell_type": "markdown",
   "source": [
    "## Creates Euclidean Distance Function\n",
    "\n",
    "- I create a euclidean distance function, which can be used to calculate the distance between two points (the test point and a point in the dataset)."
   ],
   "metadata": {}
  },
  {
   "cell_type": "code",
   "execution_count": 92,
   "source": [
    "def eucl_dist(x1, y1, x2, y2):\n",
    "    '''The function takes the coordinates (x, y) of two points as input.\n",
    "    The function returns the euclidean distance between the points.'''\n",
    "    return sqrt((x2 - x1)**2 + (y2-y1)**2)"
   ],
   "outputs": [],
   "metadata": {}
  },
  {
   "cell_type": "markdown",
   "source": [
    "## Creating a Function for Testing if a Pokémon is a Pichu or a Pikachu\n",
    "- This function is based on the point that is closest to the test point."
   ],
   "metadata": {}
  },
  {
   "cell_type": "code",
   "execution_count": 105,
   "source": [
    "def pichu_or_pikachu_closest(test_point, dataset):\n",
    "    '''The function takes a point (stored in a list consisting of the x (width) and y (height)-coordinates) and a dataset as parameters.\n",
    "    The function checks the type of Pokémon, which is closest to the test point given as an argument.\n",
    "    Based on the closest point, the function classifies the test point as a Pichu or a Pikachu.'''\n",
    "    distances = [[eucl_dist(test_point[0], test_point[1], point[0], point[1]), point[2]] for point in dataset] #Creates a list of list, where each inner list contains the euclidean distance and the type of Pokémon.\n",
    "    distances.sort() #Sort the list of distances, so that the lowest value (i.e. closest point) is the first element in the list.\n",
    "    if distances[0][1] == \"pichu\": #If the first element in the list is Pichu. \n",
    "        print(f\"Sample with (width, height): ({test_point[0]:.1f}, {test_point[1]:.1f}) classified as Pichu.\")\n",
    "    else:\n",
    "        print(f\"Sample with (width, height): ({test_point[0]:.1f}, {test_point[1]:.1f}) classified as Pikachu.\")"
   ],
   "outputs": [],
   "metadata": {}
  },
  {
   "cell_type": "markdown",
   "source": [
    "## Classifying the Test Points (based on the closest point)"
   ],
   "metadata": {}
  },
  {
   "cell_type": "code",
   "execution_count": 106,
   "source": [
    "#Loops through the list of lists of test points and classifies each point as either Pichu or Pikachu.\n",
    "for point in test_points:\n",
    "    pichu_or_pikachu_closest(point, pokemons)"
   ],
   "outputs": [
    {
     "output_type": "stream",
     "name": "stdout",
     "text": [
      "Sample with (width, height): (25.0, 35.0) classified as Pikachu.\n",
      "Sample with (width, height): (15.0, 14.0) classified as Pichu.\n",
      "Sample with (width, height): (26.0, 30.0) classified as Pichu.\n",
      "Sample with (width, height): (22.0, 45.0) classified as Pikachu.\n"
     ]
    }
   ],
   "metadata": {}
  },
  {
   "cell_type": "markdown",
   "source": [
    "## Making a Program Where the User Can Input a Test Point"
   ],
   "metadata": {}
  },
  {
   "cell_type": "code",
   "execution_count": 107,
   "source": [
    "#Run the following loop until the user input is correct; then print the feedback and break the loop.\n",
    "while True:\n",
    "    width = input(\"Please enter the width of the Pokémon.\")\n",
    "    height = input(\"Please enter the height of the Pokémon.\")\n",
    "    try: \n",
    "        #Fixes some common input errors, so that the user does not have to enter the values again.\n",
    "        #It removes empty spaces from the inputed values.\n",
    "        #If the value has decimals separated with a comma, change it into a decimal separator (then make it into a float).§\n",
    "        width = float(\".\".join(width.strip().split(\",\"))) \n",
    "        height = float(\".\".join(height.strip().split(\",\")))\n",
    "\n",
    "        #The following code takes care of negative numbers\n",
    "        if width < 0: \n",
    "            raise ValueError(\"The width has to be larger than 0.\")\n",
    "        elif height < 0:\n",
    "            raise ValueError(\"The height has to be larger than 0.\")\n",
    "        \n",
    "        #Creates a list of the width and height and runs the function for classifying if the Pokémon is a Pichu or a Pikachu.\n",
    "        size_as_list = [width, height]\n",
    "        pichu_or_pikachu_closest(size_as_list, pokemons)\n",
    "        break\n",
    "       \n",
    "    except ValueError as err:\n",
    "        print(err)\n",
    "        print(\"Please make sure that you only enter numerical values.\") "
   ],
   "outputs": [
    {
     "output_type": "stream",
     "name": "stdout",
     "text": [
      "Sample with (width, height): (34.0, 45.5) classified as Pikachu.\n"
     ]
    }
   ],
   "metadata": {}
  },
  {
   "cell_type": "markdown",
   "source": [
    "## Creating a Second Function for Classifying if a Pokémon is a Pichu or a Pikachu\n",
    "- This function is based on the five closest points to the test point.\n",
    "- If the majority of the five closest points are Pichus the test point will be classified as a Pichu.\n",
    "- If the majority of the five closest points are Pikachus the test point will be classified as a Pikachu."
   ],
   "metadata": {}
  },
  {
   "cell_type": "code",
   "execution_count": 250,
   "source": [
    "def pichu_or_pikachu_five_closest(test_point, dataset):\n",
    "    '''The function takes a point (stored in a list consisting of the x (width) and y (height)-coordinates) and a dataset as parameters.\n",
    "    The first item should be the width and the second should be the height.\n",
    "    The function checks the types of Pokémons at the five closest points.\n",
    "    Based on the most common type of Pokémon, it classifies the test point as a Pichu or a Pikachu.'''\n",
    "    distances = [[eucl_dist(test_point[0], test_point[1], point[0], point[1]), point[2]] for point in dataset] #Creates a list of list, where each inner list contains the euclidean distance and the type of Pokémon.\n",
    "    distances.sort() #Sort the list of distances, so that the lowest value (i.e. closest point) is the first element in the list.\n",
    "    \n",
    "    pichuPikachu = [pokemon[1] for pokemon in distances[0:5]] #Adds the type of Pokémon, for the five lowest values, to a list.\n",
    "    pichu_count = pichuPikachu.count(\"pichu\") #Counts the number of Pichus at the five closest points.\n",
    "    pikachu_count = pichuPikachu.count(\"pikachu\") #Counts the number of Pikachus at the five closest points.\n",
    "\n",
    "    if pichu_count > pikachu_count: #If there are more Pichus than Pikachus around the test point.\n",
    "        print(f\"Sample with (width, height): ({test_point[0]:.0f}, {test_point[1]:.0f}) classified as Pichu.\")\n",
    "        return \"pichu\"\n",
    "    else:\n",
    "        print(f\"Sample with (width, height): ({test_point[0]:.0f}, {test_point[1]:.0f}) classified as Pikachu.\")\n",
    "        return \"pikachu\""
   ],
   "outputs": [],
   "metadata": {}
  },
  {
   "cell_type": "markdown",
   "source": [
    "## Classifying the Test Points (based on the five closest points)"
   ],
   "metadata": {}
  },
  {
   "cell_type": "code",
   "execution_count": 252,
   "source": [
    "#Loops through the list of lists of test points and classifies each point as either Pichu or Pikachu.\n",
    "for point in test_points:\n",
    "    pichu_or_pikachu_five_closest(point, pokemons)"
   ],
   "outputs": [
    {
     "output_type": "stream",
     "name": "stdout",
     "text": [
      "Sample with (width, height): (25, 35) classified as Pikachu.\n",
      "Sample with (width, height): (15, 14) classified as Pichu.\n",
      "Sample with (width, height): (26, 30) classified as Pichu.\n",
      "Sample with (width, height): (22, 45) classified as Pikachu.\n"
     ]
    }
   ],
   "metadata": {}
  },
  {
   "cell_type": "markdown",
   "source": [
    "## Creating a Function for Creating Test and Training Datasets"
   ],
   "metadata": {}
  },
  {
   "cell_type": "code",
   "execution_count": 111,
   "source": [
    "def random_data(dataset, size_testing):\n",
    "    '''The function takes a dataset and the wanted size of the testing data as parameters.\n",
    "    The function returns a random set of training data and test data (the data not used for training will be the test data).'''\n",
    "    training_index = rnd.sample(range(len(dataset)), size_testing) #Creates a sample with unique numbers between 0 and one less than the elements in the dataset. It picks out the required amount of these and stores them in a variable. \n",
    "    training = [(dataset[index]) for index in training_index] #Picks out elements in the dataset (based on the previous generated random numbers) and stores them in a new variable. \n",
    "\n",
    "    testing_index = [number for number in range(len(dataset)) if number not in training_index] #Loops through the numbers in the specified range and if it is not a part of the training_index stores it in a new variable. \n",
    "    testing = [(dataset[index]) for index in testing_index] #Stores the elements that are not part of the training data in a new dataset.\n",
    "    \n",
    "    return training, testing"
   ],
   "outputs": [],
   "metadata": {}
  },
  {
   "cell_type": "markdown",
   "source": [
    "## Creating Test and Training Datasets and Running the Closest Point Function"
   ],
   "metadata": {}
  },
  {
   "cell_type": "code",
   "execution_count": 249,
   "source": [
    "#Creating the test and training datasets\n",
    "pichu_training, pichu_testing = random_data(pichu_size, 45)\n",
    "pikachu_training, pikachu_testing = random_data(pikachu_size, 45)\n",
    "\n",
    "#Create two lists; one with the training data and one with the testing data\n",
    "pokemon_training = pichu_training + pikachu_training\n",
    "pokemon_testing = pichu_testing + pikachu_testing\n",
    "\n",
    "for pokemon in pokemon_testing:\n",
    "    pichu_or_pikachu_closest([pokemon[0], pokemon[1]], pokemon_training)"
   ],
   "outputs": [
    {
     "output_type": "stream",
     "name": "stdout",
     "text": [
      "Sample with (width, height): (17.2, 27.7) classified as Pichu.\n",
      "Sample with (width, height): (20.9, 31.5) classified as Pichu.\n",
      "Sample with (width, height): (20.4, 31.1) classified as Pichu.\n",
      "Sample with (width, height): (16.8, 27.3) classified as Pichu.\n",
      "Sample with (width, height): (19.4, 27.2) classified as Pichu.\n",
      "Sample with (width, height): (18.1, 45.0) classified as Pikachu.\n",
      "Sample with (width, height): (24.4, 40.2) classified as Pikachu.\n",
      "Sample with (width, height): (18.2, 36.0) classified as Pikachu.\n",
      "Sample with (width, height): (28.5, 39.2) classified as Pikachu.\n",
      "Sample with (width, height): (21.7, 43.4) classified as Pikachu.\n"
     ]
    }
   ],
   "metadata": {}
  },
  {
   "cell_type": "markdown",
   "source": [
    "## Creating Test and Training Datasets and Running the Five Closest Point Function"
   ],
   "metadata": {}
  },
  {
   "cell_type": "code",
   "execution_count": 259,
   "source": [
    "#Creating the test and training datasets\n",
    "pichu_training, pichu_testing = random_data(pichu_size, 45)\n",
    "pikachu_training, pikachu_testing = random_data(pikachu_size, 45)\n",
    "\n",
    "#Create two lists; one with the training data and one with the testing data\n",
    "pokemon_training = pichu_training + pikachu_training\n",
    "pokemon_testing = pichu_testing + pikachu_testing\n",
    "\n",
    "correct_pichu = []\n",
    "correct_pikachu = []\n",
    "for pokemon in pokemon_testing:\n",
    "    pokemon_type = pichu_or_pikachu_five_closest([pokemon[0], pokemon[1]], pokemon_training)\n",
    "    if pokemon_type == \"pichu\":\n",
    "        if pokemon[2] == pokemon_type:\n",
    "            correct_pichu.append(True)\n",
    "        else:\n",
    "            correct_pichu.append(False)\n",
    "    else:\n",
    "        if pokemon[2] == pokemon_type:\n",
    "            correct_pikachu.append(True)\n",
    "        else: \n",
    "            correct_pikachu.append(False)\n",
    "\n",
    "tp = correct_pikachu.count(True)\n",
    "tn = correct_pikachu.count(True)\n",
    "fp = correct_pikachu.count(False)\n",
    "fn = correct_pikachu.count(False) \n",
    "\n",
    "accuracy_percent = (tp + tn)/(tp + tn + fp + fn)*100\n",
    "\n",
    "print(f\"The test data was classified correctly in {accuracy_percent}% of the cases.\")\n"
   ],
   "outputs": [
    {
     "output_type": "stream",
     "name": "stdout",
     "text": [
      "Sample with (width, height): (21, 31) classified as Pichu.\n",
      "Sample with (width, height): (18, 27) classified as Pichu.\n",
      "Sample with (width, height): (20, 33) classified as Pichu.\n",
      "Sample with (width, height): (23, 32) classified as Pichu.\n",
      "Sample with (width, height): (20, 35) classified as Pichu.\n",
      "Sample with (width, height): (26, 37) classified as Pikachu.\n",
      "Sample with (width, height): (20, 44) classified as Pikachu.\n",
      "Sample with (width, height): (18, 43) classified as Pikachu.\n",
      "Sample with (width, height): (19, 42) classified as Pikachu.\n",
      "Sample with (width, height): (27, 37) classified as Pikachu.\n",
      "The test data was classified correctly in 100.0% of the cases.\n"
     ]
    }
   ],
   "metadata": {}
  }
 ],
 "metadata": {
  "orig_nbformat": 4,
  "language_info": {
   "name": "python",
   "version": "3.9.6",
   "mimetype": "text/x-python",
   "codemirror_mode": {
    "name": "ipython",
    "version": 3
   },
   "pygments_lexer": "ipython3",
   "nbconvert_exporter": "python",
   "file_extension": ".py"
  },
  "kernelspec": {
   "name": "python3",
   "display_name": "Python 3.9.6 64-bit ('python-programming-Anna-Maria-Sjolund-Htb3K3oR': pipenv)"
  },
  "interpreter": {
   "hash": "d058bb7a222ccb114394dd2dbf09376c772f658c97746095daf69714e9de45e0"
  }
 },
 "nbformat": 4,
 "nbformat_minor": 2
}