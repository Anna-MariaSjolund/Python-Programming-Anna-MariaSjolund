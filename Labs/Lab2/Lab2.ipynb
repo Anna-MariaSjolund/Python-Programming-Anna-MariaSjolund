{
 "cells": [
  {
   "cell_type": "code",
   "execution_count": 96,
   "source": [
    "with open(\"pichu.txt\", mode = \"r\") as pichu, open(\"pikachu.txt\", mode = \"r\") as pikachu:\n",
    "    #Cleaning the dataset\n",
    "    pichu_size = pichu.readlines() #This will output a list with all elements\n",
    "    pichu_size = [i.split('\\n')[0] for i in pichu_size] #https://stackoverflow.com/questions/6696027/how-to-split-elements-of-a-list \n",
    "    pichu_size.remove(\"(width (cm), height (cm))\")\n",
    "    pichu_size = [i.replace(\"(\",\"\").replace(\")\", \"\") for i in pichu_size]\n",
    "    pichu_size = [i.split(\",\") for i in pichu_size]\n",
    "    \n",
    "    pichu_size_float = []\n",
    "    for i in pichu_size:\n",
    "        pichu_size_float.append([float(i[0]), float(i[1])])\n"
   ],
   "outputs": [],
   "metadata": {}
  },
  {
   "cell_type": "code",
   "execution_count": 95,
   "source": [
    "with open(\"pichu.txt\", mode = \"r\") as pichu, open(\"pikachu.txt\", mode = \"r\") as pikachu:\n",
    "    #Cleaning the dataset\n",
    "    pichu_size = pichu.readlines() #This will output a list with all elements\n",
    "    pichu_size = [i.split('\\n')[0] for i in pichu_size] #https://stackoverflow.com/questions/6696027/how-to-split-elements-of-a-list \n",
    "    pichu_size.remove(\"(width (cm), height (cm))\")\n",
    "    pichu_size = [i.replace(\"(\",\"\").replace(\")\", \"\") for i in pichu_size]\n",
    "    pichu_size = [i.split(\",\") for i in pichu_size]\n",
    "    pichu_width = []\n",
    "    pichu_height = []\n",
    "    for i in range(len(pichu_size)):\n",
    "        pichu_width.append(float(pichu_size[i][0]))\n",
    "        pichu_height.append(float(pichu_size[i][1]))\n"
   ],
   "outputs": [
    {
     "output_type": "stream",
     "name": "stdout",
     "text": [
      "<class 'float'>\n",
      "<class 'float'>\n"
     ]
    }
   ],
   "metadata": {}
  },
  {
   "cell_type": "code",
   "execution_count": 75,
   "source": [
    "pichu_result = []\n",
    "\n",
    "with open(\"pichu.txt\", mode = \"r\") as pichu, open(\"pikachu.txt\", mode = \"r\") as pikachu:\n",
    "    \n",
    "    #for headern\n",
    "    x,y = tuple(map(str,pichu.readline().split(\", \")))\n",
    "    x = x.split(\"(\")[1]\n",
    "    y= y.split(\"(\")[0]\n",
    "    header_tuple = tuple((x,y))\n",
    "    pichu_result.append(header_tuple)\n",
    "    \n",
    "    #for data\n",
    "    for i in range(2):\n",
    "        x,y = tuple(map(str,pichu.readline().split(\", \")))\n",
    "        x = x.split(\"(\")[1]\n",
    "        y= y.split(\"(\")[0]\n",
    "        y = y.split(\"\\n\")[0]\n",
    "        y = y.split(\")\")[0]\n",
    "\n",
    "        data_tuple = tuple((x,y))\n",
    "        pichu_result.append(data_tuple)\n",
    "   \n",
    "print(pichu_result[1])\n"
   ],
   "outputs": [
    {
     "output_type": "stream",
     "name": "stdout",
     "text": [
      "('20.11541438766307', '28.701809671168824')\n"
     ]
    }
   ],
   "metadata": {}
  }
 ],
 "metadata": {
  "orig_nbformat": 4,
  "language_info": {
   "name": "python",
   "version": "3.9.6",
   "mimetype": "text/x-python",
   "codemirror_mode": {
    "name": "ipython",
    "version": 3
   },
   "pygments_lexer": "ipython3",
   "nbconvert_exporter": "python",
   "file_extension": ".py"
  },
  "kernelspec": {
   "name": "python3",
   "display_name": "Python 3.9.6 64-bit ('python-programming-Anna-Maria-Sjolund-Htb3K3oR': pipenv)"
  },
  "interpreter": {
   "hash": "d058bb7a222ccb114394dd2dbf09376c772f658c97746095daf69714e9de45e0"
  }
 },
 "nbformat": 4,
 "nbformat_minor": 2
}