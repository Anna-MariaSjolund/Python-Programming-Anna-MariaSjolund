{
 "cells": [
  {
   "cell_type": "markdown",
   "source": [
    "## 1. Unit Conversion"
   ],
   "metadata": {}
  },
  {
   "cell_type": "code",
   "execution_count": 9,
   "source": [
    "class UnitConversion:\n",
    "    def __init__(self, value:float) -> None:\n",
    "        self.value = value\n",
    "    \n",
    "    @property\n",
    "    def value(self) -> float:\n",
    "        return self._value\n",
    "    \n",
    "    @value.setter\n",
    "    def value(self, value:float) -> None:\n",
    "        if not isinstance(value, (int, float)):\n",
    "            raise TypeError(f\"The value has to be an int or a float, not a {type(value)}.\")\n",
    "        if value < 0:\n",
    "            raise ValueError(f\"You are not allowed to enter negative values.\")\n",
    "        self._value = value\n",
    "\n",
    "    def inch_to_cm(self) -> float:\n",
    "        if self._value < 0:\n",
    "            raise ValueError(\"You are not allowed to enter negative numbers.\")\n",
    "        return f\"{self._value} inches = {self._value * 2.54:.2f} cm.\"\n",
    "\n",
    "    def foot_to_meters(self) -> float:\n",
    "        return f\"{self._value} feet = {self._value * 0.3048:.2f} m.\"\n",
    "    \n",
    "    def pound_to_kg(self) -> float:\n",
    "        return f\"{self._value} pound = {self._value * 0.45359237:.2f} kg.\"\n",
    "    \n",
    "    def __repr__(self) -> str:\n",
    "        return f\"UnitConversion (value={self._value})\""
   ],
   "outputs": [],
   "metadata": {}
  },
  {
   "cell_type": "code",
   "execution_count": 10,
   "source": [
    "unit = UnitConversion(5)\n",
    "print(unit.inch_to_cm())\n",
    "print(unit.foot_to_meters())\n",
    "print(unit.pound_to_kg())\n",
    "print(unit)\n",
    "try:\n",
    "    unit = UnitConversion(\"tre\")\n",
    "except TypeError as err:\n",
    "    print(err)\n",
    "try:\n",
    "    unit = UnitConversion(-3)\n",
    "except ValueError as err:\n",
    "    print(err)"
   ],
   "outputs": [
    {
     "output_type": "stream",
     "name": "stdout",
     "text": [
      "5 inches = 12.70 cm.\n",
      "5 feet = 1.52 m.\n",
      "5 pound = 2.27 kg.\n",
      "UnitConversion (value=5)\n",
      "The value has to be an int or a float, not a <class 'str'>.\n",
      "You are not allowed to enter negative values.\n"
     ]
    }
   ],
   "metadata": {}
  },
  {
   "cell_type": "markdown",
   "source": [
    "## 2. Person"
   ],
   "metadata": {}
  },
  {
   "cell_type": "code",
   "execution_count": 11,
   "source": [
    "class Person:\n",
    "    def __init__(self, name:str, age:float, email:str) -> None:\n",
    "        self.name = name\n",
    "        self.age = age\n",
    "        self.email = email\n",
    "    \n",
    "    @property\n",
    "    def name(self) -> str:\n",
    "        return self._name\n",
    "    @property\n",
    "    def age(self) -> float:\n",
    "        return self._age  \n",
    "    @property\n",
    "    def email(self) -> str:\n",
    "        return self._email\n",
    "    \n",
    "    @name.setter\n",
    "    def name(self, name:str) -> None:\n",
    "        if not isinstance(name, (str)):\n",
    "            raise TypeError(f\"Name has to be a string, not a {type(name)}.\") \n",
    "        self._name = name\n",
    "    @age.setter\n",
    "    def age(self, age:float) -> None:\n",
    "        if not(0 <= age < 125):\n",
    "            raise ValueError(f\"Age has to be between 0 and 125, not {age}.\")\n",
    "        self._age = age\n",
    "    @email.setter\n",
    "    def email(self, email:str) -> None:\n",
    "        if not isinstance(email, (str)):\n",
    "            raise TypeError(f\"Email has to be a string, not a {type(email)}.\")\n",
    "        if \"@\" not in email:\n",
    "            raise TypeError(f\"The email address has to include a @.\")\n",
    "        self._email = email\n",
    "    \n",
    "    def say_hello(self):\n",
    "        print(f\"Hi, my name is {self._name}, I am {self._age} years old, my email address is {self._email}.\")\n",
    "\n",
    "    def __repr__(self) -> str:\n",
    "        return f\"Person (name='{self._name}', age='{self._age}', email='{self._email}'))\""
   ],
   "outputs": [],
   "metadata": {}
  },
  {
   "cell_type": "code",
   "execution_count": 12,
   "source": [
    "person1 = Person(\"Anna-Maria\", 30, \"anna_maria91@hotmail.com\")\n",
    "print(person1.name)\n",
    "print(person1.age)\n",
    "print(person1.email)\n",
    "print(person1)\n",
    "try:\n",
    "    person1.name = 35\n",
    "except TypeError as err:\n",
    "    print(err)\n",
    "try:\n",
    "    person1.age = 125\n",
    "except ValueError as err:\n",
    "    print(err)\n",
    "try:\n",
    "    person1.email = \"anna_maria91hotmail.com\"\n",
    "except TypeError as err:\n",
    "    print(err)"
   ],
   "outputs": [
    {
     "output_type": "stream",
     "name": "stdout",
     "text": [
      "Anna-Maria\n",
      "30\n",
      "anna_maria91@hotmail.com\n",
      "Person (name='Anna-Maria', age='30', email='anna_maria91@hotmail.com'))\n",
      "Name has to be a string, not a <class 'int'>.\n",
      "Age has to be between 0 and 125, not 125.\n",
      "The email address has to include a @.\n"
     ]
    }
   ],
   "metadata": {}
  },
  {
   "cell_type": "markdown",
   "source": [
    "## 3. Student and Teacher"
   ],
   "metadata": {}
  },
  {
   "cell_type": "code",
   "execution_count": 13,
   "source": [
    "class Student(Person):\n",
    "    def __init__(self, name, age, email):\n",
    "        super().__init__(name, age, email)\n",
    "    \n",
    "    def study(self):\n",
    "        print(\"study...study...study...more study\")\n",
    "    \n",
    "    def say_hello(self):\n",
    "        print(f\"Yo, I am a student, my name is {self._name}, I am {self._age} years old, my email address is {self._email}.\")"
   ],
   "outputs": [],
   "metadata": {}
  },
  {
   "cell_type": "code",
   "execution_count": 14,
   "source": [
    "class Teacher(Person):\n",
    "    def __init__(self, name, age, email):\n",
    "        super().__init__(name, age, email)\n",
    "    \n",
    "    def teach(self):\n",
    "        print(\"teach...teach...teach...more teaching\")"
   ],
   "outputs": [],
   "metadata": {}
  },
  {
   "cell_type": "code",
   "execution_count": 15,
   "source": [
    "student1 = Student(\"Anna-Maria\", 30, \"anna_maria91@hotmail.com\")\n",
    "print(student1)\n",
    "student1.study()\n",
    "student1.say_hello()\n",
    "\n",
    "teacher1 = Teacher(\"Patrik\", 35, \"sirkingkeano@gmail.com\")\n",
    "teacher1.teach()\n",
    "teacher1.say_hello()"
   ],
   "outputs": [
    {
     "output_type": "stream",
     "name": "stdout",
     "text": [
      "Person (name='Anna-Maria', age='30', email='anna_maria91@hotmail.com'))\n",
      "study...study...study...more study\n",
      "Yo, I am a student, my name is Anna-Maria, I am 30 years old, my email address is anna_maria91@hotmail.com.\n",
      "teach...teach...teach...more teaching\n",
      "Hi, my name is Patrik, I am 35 years old, my email address is sirkingkeano@gmail.com.\n"
     ]
    }
   ],
   "metadata": {}
  },
  {
   "cell_type": "markdown",
   "source": [
    "## 4. Simple Travian"
   ],
   "metadata": {}
  },
  {
   "cell_type": "code",
   "execution_count": 78,
   "source": [
    "class Village:\n",
    "    #This is a class that has the following attributes. They are all set to 0 by default.\n",
    "    def __init__(self, crop_field=0, clay_field=0, lumber_field=0, iron_field=0):\n",
    "        self.crop_field = crop_field #The last part has the value passed as an argument. This value will be assigned to self.crop_field()\n",
    "        self.clay_field = clay_field\n",
    "        self.lumber_field = lumber_field\n",
    "        self.iron_field = iron_field\n",
    "        \n",
    "    @property #This returns the value when we run crop_field\n",
    "    def crop_field(self) -> int:\n",
    "        return self._crop_field\n",
    "    @property\n",
    "    def clay_field(self) -> int:\n",
    "        return self._clay_field\n",
    "    @property\n",
    "    def lumber_field(self) -> int:\n",
    "        return self._lumber_field\n",
    "    @property\n",
    "    def iron_field(self) -> int:\n",
    "        return self._iron_field\n",
    "\n",
    "    @crop_field.setter\n",
    "    def crop_field(self, crop_field) -> None:\n",
    "        try:\n",
    "            self._crop_field = Village.validation(crop_field)\n",
    "            return self._crop_field\n",
    "        except ValueError as err:\n",
    "            print(err)\n",
    "\n",
    "    @clay_field.setter\n",
    "    def clay_field(self, clay_field:int) -> None:\n",
    "        self._clay_field = clay_field\n",
    "        \n",
    "    @lumber_field.setter\n",
    "    def lumber_field(self, lumber_field:int) -> None:\n",
    "        self._lumber_field = lumber_field\n",
    "\n",
    "    @iron_field.setter\n",
    "    def iron_field(self, iron_field:int) -> None:\n",
    "        self._iron_field = iron_field\n",
    "    \n",
    "    @staticmethod\n",
    "    def validation(field) -> bool:\n",
    "        if (field) > 800:\n",
    "            raise ValueError(f\"The warehouse can only hold 800 units. Please enter a lower number.\")\n",
    "        else:\n",
    "            return field\n",
    "            \n",
    "\n",
    "            \n"
   ],
   "outputs": [],
   "metadata": {}
  },
  {
   "cell_type": "code",
   "execution_count": 79,
   "source": [
    "village1 = Village()\n",
    "\n",
    "village1.crop_field = 12\n",
    "village1.crop_field += 790\n",
    "print(village1.crop_field)\n",
    "\n",
    "\n"
   ],
   "outputs": [
    {
     "output_type": "stream",
     "name": "stdout",
     "text": [
      "The warehouse can only hold 800 units. Please enter a lower number.\n",
      "12\n"
     ]
    }
   ],
   "metadata": {}
  },
  {
   "cell_type": "code",
   "execution_count": 90,
   "source": [
    "class Village:\n",
    "    #This is a class that has the following attributes. They are all set to 0 by default.\n",
    "    def __init__(self, crop_field=0, clay_field=0, lumber_field=0, iron_field=0):\n",
    "        self.crop_field = crop_field #The last part has the value passed as an argument. This value will be assigned to self.crop_field()\n",
    "        self.clay_field = clay_field\n",
    "        self.lumber_field = lumber_field\n",
    "        self.iron_field = iron_field\n",
    "        \n",
    "    @property #This returns the value when we run crop_field\n",
    "    def crop_field(self) -> int:\n",
    "        return self._crop_field\n",
    "    @property\n",
    "    def clay_field(self) -> int:\n",
    "        return self._clay_field\n",
    "    @property\n",
    "    def lumber_field(self) -> int:\n",
    "        return self._lumber_field\n",
    "    @property\n",
    "    def iron_field(self) -> int:\n",
    "        return self._iron_field\n",
    "\n",
    "    @crop_field.setter\n",
    "    def crop_field(self, crop_field:int) -> None:\n",
    "        try:\n",
    "            if crop_field > 800:\n",
    "                raise ValueError(f\"The warehouse can only hold 800 units. You can store {800-self.crop_field} more units.\")\n",
    "            self._crop_field = crop_field        \n",
    "        except ValueError as err:\n",
    "            print(err)\n",
    "    \n",
    "    @clay_field.setter\n",
    "    def clay_field(self, clay_field:int) -> None: \n",
    "        try:\n",
    "            if clay_field > 800:\n",
    "                raise ValueError(f\"The warehouse can only hold 800 units. You can store {800-self.clay_field} more units.\")\n",
    "            self._clay_field = clay_field        \n",
    "        except ValueError as err:\n",
    "            print(err)\n",
    "    \n",
    "    @lumber_field.setter\n",
    "    def lumber_field(self, lumber_field:int) -> None:\n",
    "        try:\n",
    "            if lumber_field > 800:\n",
    "                raise ValueError(f\"The warehouse can only hold 800 units. You can store {800-self.lumber_field} more units.\")\n",
    "            self._lumber_field = lumber_field        \n",
    "        except ValueError as err:\n",
    "            print(err)\n",
    "        \n",
    "    @iron_field.setter\n",
    "    def iron_field(self, iron_field:int) -> None:\n",
    "        try:\n",
    "            if iron_field > 800:\n",
    "                raise ValueError(f\"The warehouse can only hold 800 units. You can store {800-self.iron_field} more units.\")\n",
    "            self._iron_field = iron_field        \n",
    "        except ValueError as err:\n",
    "            print(err)\n",
    "    \n",
    "    def __repr__(self):\n",
    "        return f\"Stock: Lumber: {self.lumber_field}/800     Clay: {self.clay_field}/800    Iron: {self.iron_field}/800     Crop: {self.crop_field}/800\\nProduction:\\nLumber: 4 per hour\\nClay: 4 per hour\\nIron: 4 per hour\\nCrop: 4 per hour\" "
   ],
   "outputs": [],
   "metadata": {}
  },
  {
   "cell_type": "code",
   "execution_count": 91,
   "source": [
    "village1 = Village()\n",
    "village1.crop_field += 500\n",
    "village1.crop_field += 200\n",
    "village1.crop_field -= 100\n",
    "village1.crop_field += 200\n",
    "print(village1.crop_field)\n",
    "village1.crop_field += 100\n",
    "\n",
    "print(village1)\n"
   ],
   "outputs": [
    {
     "output_type": "stream",
     "name": "stdout",
     "text": [
      "800\n",
      "The warehouse can only hold 800 units. You can store 0 more units.\n",
      "Stock: Lumber: 0/800     Clay: 0/800    Iron: 0/800     Crop: 800/800\n",
      "Production:\n",
      "Lumber: 4 per hour\n",
      "Clay: 4 per hour\n",
      "Iron: 4 per hour\n",
      "Crop: 4 per hour\n"
     ]
    }
   ],
   "metadata": {}
  },
  {
   "cell_type": "code",
   "execution_count": null,
   "source": [
    "class Village:\n",
    "    __init__(self, field):\n",
    "    \n"
   ],
   "outputs": [],
   "metadata": {}
  }
 ],
 "metadata": {
  "orig_nbformat": 4,
  "language_info": {
   "name": "python",
   "version": "3.9.6",
   "mimetype": "text/x-python",
   "codemirror_mode": {
    "name": "ipython",
    "version": 3
   },
   "pygments_lexer": "ipython3",
   "nbconvert_exporter": "python",
   "file_extension": ".py"
  },
  "kernelspec": {
   "name": "python3",
   "display_name": "Python 3.9.6 64-bit ('python-programming-Anna-Maria-Sjolund-Htb3K3oR': pipenv)"
  },
  "interpreter": {
   "hash": "d058bb7a222ccb114394dd2dbf09376c772f658c97746095daf69714e9de45e0"
  }
 },
 "nbformat": 4,
 "nbformat_minor": 2
}