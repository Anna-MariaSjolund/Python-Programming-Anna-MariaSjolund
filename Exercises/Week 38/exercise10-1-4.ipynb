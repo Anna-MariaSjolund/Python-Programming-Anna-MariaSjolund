{
 "cells": [
  {
   "cell_type": "markdown",
   "source": [
    "## 1. Unit Conversion"
   ],
   "metadata": {}
  },
  {
   "cell_type": "code",
   "execution_count": 128,
   "source": [
    "class UnitConversion:\n",
    "    def __init__(self, value:float) -> None:\n",
    "        self.value = value\n",
    "    \n",
    "    @property\n",
    "    def value(self) -> float:\n",
    "        return self._value\n",
    "    \n",
    "    @value.setter\n",
    "    def value(self, value:float) -> None:\n",
    "        if not isinstance(value, (int, float)):\n",
    "            raise TypeError(f\"The value has to be an int or a float, not a {type(value)}.\")\n",
    "        if value < 0:\n",
    "            raise ValueError(f\"You are not allowed to enter negative values.\")\n",
    "        self._value = value\n",
    "\n",
    "    def inch_to_cm(self) -> float:\n",
    "        if self._value < 0:\n",
    "            raise ValueError(\"You are not allowed to enter negative numbers.\")\n",
    "        return f\"{self._value} inches = {self._value * 2.54:.2f} cm.\"\n",
    "\n",
    "    def foot_to_meters(self) -> float:\n",
    "        return f\"{self._value} feet = {self._value * 0.3048:.2f} m.\"\n",
    "    \n",
    "    def pound_to_kg(self) -> float:\n",
    "        return f\"{self._value} pound = {self._value * 0.45359237:.2f} kg.\"\n",
    "    \n",
    "    def __repr__(self) -> str:\n",
    "        return f\"UnitConversion (value={self._value})\""
   ],
   "outputs": [],
   "metadata": {}
  },
  {
   "cell_type": "code",
   "execution_count": 38,
   "source": [
    "unit = UnitConversion(5)\n",
    "print(unit.inch_to_cm())\n",
    "print(unit.foot_to_meters())\n",
    "print(unit.pound_to_kg())\n",
    "print(unit)\n",
    "try:\n",
    "    unit = UnitConversion(\"tre\")\n",
    "except TypeError as err:\n",
    "    print(err)\n",
    "try:\n",
    "    unit = UnitConversion(-3)\n",
    "except ValueError as err:\n",
    "    print(err)"
   ],
   "outputs": [
    {
     "output_type": "stream",
     "name": "stdout",
     "text": [
      "5 inches = 12.70 cm.\n",
      "5 feet = 1.52 m.\n",
      "5 pound = 2.27 kg.\n",
      "UnitConversion, value=5\n",
      "The value has to be an int or a float, not a <class 'str'>.\n",
      "You are not allowed to enter negative values.\n"
     ]
    }
   ],
   "metadata": {}
  },
  {
   "cell_type": "markdown",
   "source": [
    "## 2. Person"
   ],
   "metadata": {}
  },
  {
   "cell_type": "code",
   "execution_count": 129,
   "source": [
    "class Person:\n",
    "    def __init__(self, name:str, age:float, email:str) -> None:\n",
    "        self.name = name\n",
    "        self.age = age\n",
    "        self.email = email\n",
    "    \n",
    "    @property\n",
    "    def name(self) -> str:\n",
    "        return self._name\n",
    "    @property\n",
    "    def age(self) -> float:\n",
    "        return self._age  \n",
    "    @property\n",
    "    def email(self) -> str:\n",
    "        return self._email\n",
    "    \n",
    "    @name.setter\n",
    "    def name(self, name:str) -> None:\n",
    "        if not isinstance(name, (str)):\n",
    "            raise TypeError(f\"Name has to be a string, not a {type(name)}.\") \n",
    "        self._name = name\n",
    "    @age.setter\n",
    "    def age(self, age:float) -> None:\n",
    "        if not(0 <= age < 125):\n",
    "            raise ValueError(f\"Age has to be between 0 and 125, not {age}.\")\n",
    "        self._age = age\n",
    "    @email.setter\n",
    "    def email(self, email:str) -> None:\n",
    "        if not isinstance(email, (str)):\n",
    "            raise TypeError(f\"Email has to be a string, not a {type(email)}.\")\n",
    "        if \"@\" not in email:\n",
    "            raise TypeError(f\"The email address has to include a @.\")\n",
    "        self._email = email\n",
    "    \n",
    "    def say_hello(self):\n",
    "        print(f\"Hi, my name is {self._name}, I am {self._age} years old, my email address is {self._email}.\")\n",
    "\n",
    "    def __repr__(self) -> str:\n",
    "        return f\"Person (name='{self._name}', age='{self._age}', email='{self._email}'))\""
   ],
   "outputs": [],
   "metadata": {}
  },
  {
   "cell_type": "code",
   "execution_count": 130,
   "source": [
    "person1 = Person(\"Anna-Maria\", 30, \"anna_maria91@hotmail.com\")\n",
    "print(person1.name)\n",
    "print(person1.age)\n",
    "print(person1.email)\n",
    "print(person1)\n",
    "try:\n",
    "    person1.name = 35\n",
    "except TypeError as err:\n",
    "    print(err)\n",
    "try:\n",
    "    person1.age = 125\n",
    "except ValueError as err:\n",
    "    print(err)\n",
    "try:\n",
    "    person1.email = \"anna_maria91hotmail.com\"\n",
    "except TypeError as err:\n",
    "    print(err)"
   ],
   "outputs": [
    {
     "output_type": "stream",
     "name": "stdout",
     "text": [
      "Anna-Maria\n",
      "30\n",
      "anna_maria91@hotmail.com\n",
      "Person (name='Anna-Maria', age='30', email='anna_maria91@hotmail.com'))\n",
      "Name has to be a string, not a <class 'int'>.\n",
      "Age has to be between 0 and 125, not 125.\n",
      "The email address has to include a @.\n"
     ]
    }
   ],
   "metadata": {}
  },
  {
   "cell_type": "markdown",
   "source": [
    "## 3. Student and Teacher"
   ],
   "metadata": {}
  },
  {
   "cell_type": "code",
   "execution_count": 131,
   "source": [
    "class Student(Person):\n",
    "    def __init__(self, name, age, email):\n",
    "        super().__init__(name, age, email)\n",
    "    \n",
    "    def study(self):\n",
    "        print(\"study...study...study...more study\")\n",
    "    \n",
    "    def say_hello(self):\n",
    "        print(f\"Yo, I am a student, my name is {self._name}, I am {self._age} years old, my email address is {self._email}.\")"
   ],
   "outputs": [],
   "metadata": {}
  },
  {
   "cell_type": "code",
   "execution_count": 132,
   "source": [
    "class Teacher(Person):\n",
    "    def __init__(self, name, age, email):\n",
    "        super().__init__(name, age, email)\n",
    "    \n",
    "    def teach(self):\n",
    "        print(\"teach...teach...teach...more teaching\")"
   ],
   "outputs": [],
   "metadata": {}
  },
  {
   "cell_type": "code",
   "execution_count": 133,
   "source": [
    "student1 = Student(\"Anna-Maria\", 30, \"anna_maria91@hotmail.com\")\n",
    "print(student1)\n",
    "student1.study()\n",
    "student1.say_hello()\n",
    "\n",
    "teacher1 = Teacher(\"Patrik\", 35, \"sirkingkeano@gmail.com\")\n",
    "teacher1.teach()\n",
    "teacher1.say_hello()"
   ],
   "outputs": [
    {
     "output_type": "stream",
     "name": "stdout",
     "text": [
      "Person (name='Anna-Maria', age='30', email='anna_maria91@hotmail.com'))\n",
      "study...study...study...more study\n",
      "Yo, I am a student, my name is Anna-Maria, I am 30 years old, my email address is anna_maria91@hotmail.com.\n",
      "teach...teach...teach...more teaching\n",
      "Hi, my name is Patrik, I am 35 years old, my email address is sirkingkeano@gmail.com.\n"
     ]
    }
   ],
   "metadata": {}
  },
  {
   "cell_type": "markdown",
   "source": [
    "## 4. Simple Travian"
   ],
   "metadata": {}
  },
  {
   "cell_type": "code",
   "execution_count": 135,
   "source": [
    "class Field:\n",
    "    def __init__(self, resource, name):\n",
    "        self.resource = resource\n",
    "        name.resource = resource\n",
    "\n",
    "    @property\n",
    "    def resource(self) -> int:\n",
    "        return self._resource\n",
    "    \n",
    "    @property\n",
    "    def name(self) -> str:\n",
    "        return self._name\n",
    "\n",
    "    @resource.setter\n",
    "    def resource(self, resource:int) -> None:\n",
    "        if not resource > 800:\n",
    "            raise TypeError(f\"The {self._name} recource has a maximum capacity of 800 units. The current amount is {self._resource}\")\n",
    "        self._resource = resource\n",
    "\n",
    "    @name.setter\n",
    "    def name(self, name:str) -> None:\n",
    "        if not isinstance(name, (str)):\n",
    "            raise TypeError(f\"Name has to be a string, not a {type(name)}.\") \n",
    "        self._name = name\n",
    "   \n",
    "    def add_resource(self, resource):\n",
    "        self.resource += resource \n",
    "   "
   ],
   "outputs": [],
   "metadata": {}
  }
 ],
 "metadata": {
  "orig_nbformat": 4,
  "language_info": {
   "name": "python",
   "version": "3.9.6",
   "mimetype": "text/x-python",
   "codemirror_mode": {
    "name": "ipython",
    "version": 3
   },
   "pygments_lexer": "ipython3",
   "nbconvert_exporter": "python",
   "file_extension": ".py"
  },
  "kernelspec": {
   "name": "python3",
   "display_name": "Python 3.9.6 64-bit ('python-programming-Anna-Maria-Sjolund-Htb3K3oR': pipenv)"
  },
  "interpreter": {
   "hash": "d058bb7a222ccb114394dd2dbf09376c772f658c97746095daf69714e9de45e0"
  }
 },
 "nbformat": 4,
 "nbformat_minor": 2
}