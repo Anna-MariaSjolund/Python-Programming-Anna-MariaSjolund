{
 "cells": [
  {
   "cell_type": "markdown",
   "source": [
    "## 2. Fraction"
   ],
   "metadata": {}
  },
  {
   "cell_type": "code",
   "execution_count": 73,
   "source": [
    "class Frac:\n",
    "    def __init__(self, numerator:int, denominator=1) -> None:\n",
    "        self.numerator = numerator\n",
    "        self.denominator = denominator\n",
    "\n",
    "    @property\n",
    "    def numerator(self) -> int:\n",
    "        return self._numerator\n",
    "    @property\n",
    "    def denominator(self) -> int:\n",
    "        return self._denominator\n",
    "    \n",
    "    @numerator.setter\n",
    "    def numerator(self, numerator:int) -> None:\n",
    "        self._numerator = Frac.validate_number_numerator(numerator)\n",
    "    @denominator.setter\n",
    "    def denominator(self, denominator:int) -> None:\n",
    "        self._denominator = Frac.validate_number_denominator(denominator)\n",
    "    \n",
    "    @staticmethod\n",
    "    def validate_number_numerator(value:int) -> int:\n",
    "        if not isinstance(value, int):\n",
    "            raise TypeError(\"Please enter an integer.\")\n",
    "        else:\n",
    "            return value\n",
    "    @staticmethod\n",
    "    def validate_number_denominator(value:int) -> int:\n",
    "        if value <= 0:\n",
    "            raise ValueError(\"Please enter a number above 0.\")\n",
    "        elif not isinstance(value, int):\n",
    "            raise TypeError(\"Please enter an integer.\")\n",
    "        else:\n",
    "            return value          \n",
    "    \n",
    "    def __add__(self, other) -> \"Frac\":    \n",
    "        numerator1 = self.numerator*other.denominator\n",
    "        numerator2 = other.numerator*self.denominator\n",
    "        added_numerator = numerator1 + numerator2\n",
    "        common_denominator = self.denominator*other.denominator\n",
    "        added_values = Frac(int(added_numerator), int(common_denominator))\n",
    "        return Frac.simplify(added_values)\n",
    "\n",
    "    def __sub__(self, other) -> \"Frac\":\n",
    "        numerator1 = self.numerator*other.denominator\n",
    "        numerator2 = other.numerator*self.denominator\n",
    "        subtracted_numerator = numerator1 - numerator2\n",
    "        common_denominator = self.denominator*other.denominator\n",
    "        subtracted_values = Frac(int(subtracted_numerator), int(common_denominator))\n",
    "        return Frac.simplify(subtracted_values)\n",
    "\n",
    "    def __mul__ (self, other) -> \"Frac\":\n",
    "        multiplied_values = Frac(int(self.numerator*other.numerator), int(self.denominator*other.denominator))\n",
    "        return Frac.simplify(multiplied_values)\n",
    "\n",
    "    def __truediv__ (self, other) -> \"Frac\":\n",
    "        divided_values = Frac(int(self.numerator*other.denominator), int(self.denominator*other.numerator))\n",
    "        return Frac.simplify(divided_values)\n",
    "\n",
    "    def simplify(self) -> \"Frac\":\n",
    "        numerator_denominator = [self.numerator, self.denominator]\n",
    "        while True:\n",
    "            if numerator_denominator[0]%2 == 0 and numerator_denominator[1]%2 == 0:\n",
    "                numerator_denominator[0] = numerator_denominator[0]/2\n",
    "                numerator_denominator[1] = numerator_denominator[1]/2\n",
    "            elif numerator_denominator[0]%3 == 0 and numerator_denominator[1]%3 == 0:\n",
    "                numerator_denominator[0] = numerator_denominator[0]/3\n",
    "                numerator_denominator[1] = numerator_denominator[1]/3 \n",
    "            else:\n",
    "                return Frac(int(numerator_denominator[0]), int(numerator_denominator[1]))\n",
    "\n",
    "    def mixed(self):\n",
    "        if self.numerator > self.denominator:\n",
    "            whole_number = self.numerator//self.denominator\n",
    "            if self.numerator%self.denominator == 0:\n",
    "                return whole_number\n",
    "            else:\n",
    "                fraction = (int(self.numerator%self.denominator), self.denominator)\n",
    "                return f\"{whole_number} {fraction[0]}/{fraction[1]}\"\n",
    "        elif self.numerator == self.denominator:\n",
    "            return 1\n",
    "        else:\n",
    "            return Frac.simplify(self)\n",
    "\n",
    "    def __eq__(self, other) -> bool:\n",
    "        simplified1 = Frac.simplify(self)\n",
    "        simplified2 = Frac.simplify(other)\n",
    "        if simplified1.numerator == simplified2.numerator and simplified1.denominator == simplified2.denominator:\n",
    "            return True\n",
    "        else:\n",
    "            return False\n",
    "\n",
    "    def __str__(self) -> str:\n",
    "        return f\"{self.numerator}/{self.denominator}\""
   ],
   "outputs": [],
   "metadata": {}
  },
  {
   "cell_type": "code",
   "execution_count": 74,
   "source": [
    "try:\n",
    "    test = Frac(2, -3)\n",
    "except ValueError as err:\n",
    "    print(err)\n",
    "\n",
    "try:\n",
    "    test = Frac(2, 0)\n",
    "except ValueError as err:\n",
    "    print(err)\n",
    "    \n",
    "try:\n",
    "    test3 = Frac(3, 4.5)\n",
    "except TypeError as err:\n",
    "    print(err)      "
   ],
   "outputs": [
    {
     "output_type": "stream",
     "name": "stdout",
     "text": [
      "Please enter a number above 0.\n",
      "Please enter a number above 0.\n",
      "Please enter an integer.\n"
     ]
    }
   ],
   "metadata": {}
  },
  {
   "cell_type": "code",
   "execution_count": 78,
   "source": [
    "print(Frac(1,2) + Frac(1,3))\n",
    "print(Frac(1,2) - Frac(1,3))\n",
    "print(Frac.mixed(Frac(7,6)))\n",
    "print(Frac(3)*Frac(1,2))\n",
    "print(Frac(1,2) * Frac(3))\n",
    "print(Frac(1,4) + Frac(2))\n",
    "print(Frac(1,4) / Frac(1,2))\n",
    "print(Frac(2,4) == Frac(1,2))\n",
    "print(Frac(3,4) + Frac(2))"
   ],
   "outputs": [
    {
     "output_type": "stream",
     "name": "stdout",
     "text": [
      "5/6\n",
      "1/6\n",
      "1 1/6\n",
      "3/2\n",
      "3/2\n",
      "9/4\n",
      "1/2\n",
      "True\n",
      "11/4\n"
     ]
    }
   ],
   "metadata": {}
  }
 ],
 "metadata": {
  "orig_nbformat": 4,
  "language_info": {
   "name": "python",
   "version": "3.9.6",
   "mimetype": "text/x-python",
   "codemirror_mode": {
    "name": "ipython",
    "version": 3
   },
   "pygments_lexer": "ipython3",
   "nbconvert_exporter": "python",
   "file_extension": ".py"
  },
  "kernelspec": {
   "name": "python3",
   "display_name": "Python 3.9.6 64-bit ('python-programming-Anna-Maria-Sjolund-Htb3K3oR': pipenv)"
  },
  "interpreter": {
   "hash": "d058bb7a222ccb114394dd2dbf09376c772f658c97746095daf69714e9de45e0"
  }
 },
 "nbformat": 4,
 "nbformat_minor": 2
}