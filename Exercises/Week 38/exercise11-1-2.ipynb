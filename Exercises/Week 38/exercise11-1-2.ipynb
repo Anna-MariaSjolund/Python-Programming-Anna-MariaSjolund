{
 "cells": [
  {
   "cell_type": "markdown",
   "source": [
    "## 2. Fraction"
   ],
   "metadata": {}
  },
  {
   "cell_type": "code",
   "execution_count": 121,
   "source": [
    "class Frac:\n",
    "    def __init__(self, numerator:int, denominator:int) -> None:\n",
    "        self.numerator = numerator\n",
    "        self.denominator = denominator\n",
    "\n",
    "    @property\n",
    "    def numerator(self) -> int:\n",
    "        return self._numerator\n",
    "    @property\n",
    "    def denominator(self) -> int:\n",
    "        return self._denominator\n",
    "    \n",
    "    @numerator.setter\n",
    "    def numerator(self, numerator):\n",
    "        self._numerator = Frac.validate_number(numerator)\n",
    "    @denominator.setter\n",
    "    def denominator(self, denominator):\n",
    "        self._denominator = Frac.validate_number(denominator)\n",
    "    \n",
    "    @staticmethod\n",
    "    def validate_number(value):\n",
    "        if value < 0:\n",
    "            raise ValueError(\"Please enter a number above 0.\")\n",
    "        elif not isinstance(value, int):\n",
    "            raise TypeError(\"Please enter an integer.\")\n",
    "        else:\n",
    "            return value\n",
    "    \n",
    "    def __add__(self, other):\n",
    "        numerator1 = self.numerator*other.denominator\n",
    "        numerator2 = other.numerator*self.denominator\n",
    "        added_numerator = numerator1 + numerator2\n",
    "        common_denominator = self.denominator*other.denominator\n",
    "        added_values = Frac(int(added_numerator), int(common_denominator))\n",
    "        return Frac.simplify(added_values)\n",
    "\n",
    "    def __sub__(self, other):\n",
    "        numerator1 = self.numerator*other.denominator\n",
    "        numerator2 = other.numerator*self.denominator\n",
    "        subtracted_numerator = numerator1 - numerator2\n",
    "        common_denominator = self.denominator*other.denominator\n",
    "        subtracted_values = Frac(int(subtracted_numerator), int(common_denominator))\n",
    "        return Frac.simplify(subtracted_values)\n",
    "\n",
    "\n",
    "    def simplify(self):\n",
    "        numerator_denominator = [self.numerator, self.denominator]\n",
    "        while True:\n",
    "            if numerator_denominator[0]%2 == 0 and numerator_denominator[1]%2 == 0:\n",
    "                numerator_denominator[0] = numerator_denominator[0]/2\n",
    "                numerator_denominator[1] = numerator_denominator[1]/2\n",
    "            elif numerator_denominator[0]%3 == 0 and numerator_denominator[1]%3 == 0:\n",
    "                numerator_denominator[0] = numerator_denominator[0]/3\n",
    "                numerator_denominator[1] = numerator_denominator[1]/3 \n",
    "            else:\n",
    "                return Frac(int(numerator_denominator[0]), int(numerator_denominator[1]))\n",
    "\n",
    "\n",
    "    def mixed(self):\n",
    "        if self.numerator > self.denominator:\n",
    "            whole_number = self.numerator//self.denominator\n",
    "            if self.numerator%self.denominator == 0:\n",
    "                return whole_number\n",
    "            else:\n",
    "                fraction = (int(self.numerator%self.denominator), self.denominator)\n",
    "                return whole_number, fraction\n",
    "        elif self.numerator == self.denominator:\n",
    "            return 1\n",
    "        else:\n",
    "            return Frac.simplify(self)\n",
    "\n",
    "    def __str__(self):\n",
    "        return (f\"{self.numerator}/{self.denominator}\")\n",
    "        \n",
    "\n",
    "\n",
    "test = Frac(1, 2)\n",
    "test2 = Frac(1, 3)\n",
    "\n",
    "test3 = test - test2\n",
    "\n",
    "print(test3)\n",
    "\n",
    "#frac1 = Frac(153, 42)\n",
    "#frac2 = Frac(5, 4)\n",
    "\n",
    "#answer = frac1 + frac2 \n",
    "#answer\n",
    "\n",
    "#simplified = Frac.simplify(frac1)\n",
    "#print(simplified.denominator)\n",
    "#print(simplified[0], simplified[1])\n",
    "#print(test.denominator)\n",
    "#print(test.nominator)\n"
   ],
   "outputs": [
    {
     "output_type": "stream",
     "name": "stdout",
     "text": [
      "1/6\n"
     ]
    }
   ],
   "metadata": {}
  },
  {
   "cell_type": "code",
   "execution_count": 24,
   "source": [
    "try:\n",
    "    test2 = Frac(-2, 3)\n",
    "except ValueError as err:\n",
    "    print(err)\n",
    "try:\n",
    "    test3 = Frac(3, 4.5)\n",
    "except TypeError as err:\n",
    "    print(err)\n",
    "        "
   ],
   "outputs": [
    {
     "output_type": "stream",
     "name": "stdout",
     "text": [
      "Please enter a number above 0.\n",
      "Please enter an integer.\n"
     ]
    }
   ],
   "metadata": {}
  },
  {
   "cell_type": "code",
   "execution_count": 35,
   "source": [
    "nom = 46\n",
    "denom = 152\n",
    "my_list = [5, 4]\n",
    "\n",
    "while True:\n",
    "    if my_list[0]%2 == 0 and my_list[1]%2 == 0:\n",
    "        my_list[0] = my_list[0]/2\n",
    "        my_list[1] = my_list[1]/2\n",
    "    if my_list[0]%3 == 0 and my_list[1]%3 == 0:\n",
    "        my_list[0] = my_list[0]/3\n",
    "        my_list[1] = my_list[1]/3\n",
    "    else:\n",
    "        print(my_list)\n",
    "        break\n",
    "    "
   ],
   "outputs": [
    {
     "output_type": "stream",
     "name": "stdout",
     "text": [
      "[5, 4]\n"
     ]
    }
   ],
   "metadata": {}
  }
 ],
 "metadata": {
  "orig_nbformat": 4,
  "language_info": {
   "name": "python",
   "version": "3.9.6",
   "mimetype": "text/x-python",
   "codemirror_mode": {
    "name": "ipython",
    "version": 3
   },
   "pygments_lexer": "ipython3",
   "nbconvert_exporter": "python",
   "file_extension": ".py"
  },
  "kernelspec": {
   "name": "python3",
   "display_name": "Python 3.9.6 64-bit ('python-programming-Anna-Maria-Sjolund-Htb3K3oR': pipenv)"
  },
  "interpreter": {
   "hash": "d058bb7a222ccb114394dd2dbf09376c772f658c97746095daf69714e9de45e0"
  }
 },
 "nbformat": 4,
 "nbformat_minor": 2
}