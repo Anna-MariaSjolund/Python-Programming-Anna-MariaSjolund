{
 "cells": [
  {
   "cell_type": "markdown",
   "source": [
    "## 1a-b. Count numbers"
   ],
   "metadata": {}
  },
  {
   "cell_type": "code",
   "execution_count": 1,
   "source": [
    "#Count the numbers between -10 and 10, with one increment.\n",
    "for i in range(-10, 11):\n",
    "    print(i, end = \" \")\n",
    "\n",
    "#Change line\n",
    "print()\n",
    "\n",
    "#Count the numbers between -10 and 10, with two increment.\n",
    "for i in range(-10, 11, 2):\n",
    "    print(i, end = \" \")\n"
   ],
   "outputs": [
    {
     "output_type": "stream",
     "name": "stdout",
     "text": [
      "-10 -9 -8 -7 -6 -5 -4 -3 -2 -1 0 1 2 3 4 5 6 7 8 9 10 \n",
      "-10 -8 -6 -4 -2 0 2 4 6 8 10 "
     ]
    }
   ],
   "metadata": {}
  },
  {
   "cell_type": "markdown",
   "source": [
    "## 2a. Arithmetic sum"
   ],
   "metadata": {}
  },
  {
   "cell_type": "code",
   "execution_count": 78,
   "source": [
    "#Create a variabel sum_ and set it to 0\n",
    "sum_ = 0\n",
    "\n",
    "#Use a for-loop to summarize all numbers between 1 and 100\n",
    "for i in range(1, 101):\n",
    "    sum_ += i\n",
    "print(f\"The sum of all the numbers between 1 and 100 is: {sum_}\")"
   ],
   "outputs": [
    {
     "output_type": "stream",
     "name": "stdout",
     "text": [
      "The sum of all the numbers between 1 and 100 is: 5050\n"
     ]
    }
   ],
   "metadata": {}
  },
  {
   "cell_type": "code",
   "execution_count": 3,
   "source": [
    "#Create a variabel sum_ and set it to 0\n",
    "sum_ = 0\n",
    "\n",
    "#Use a for-loop to summarize all the odd numbers between 1 and 100\n",
    "for i in range(1, 100, 2):\n",
    "    sum_ += i\n",
    "print(f\"The sum of all the odd numbers between 1 and 100 is: {sum_}\")"
   ],
   "outputs": [
    {
     "output_type": "stream",
     "name": "stdout",
     "text": [
      "The sum of all the odd numbers between 1 and 100 is: 2500\n"
     ]
    }
   ],
   "metadata": {}
  },
  {
   "cell_type": "markdown",
   "source": [
    "## 3a. Multiplication table"
   ],
   "metadata": {}
  },
  {
   "cell_type": "code",
   "execution_count": 4,
   "source": [
    "#Print out the 6th multiplication table\n",
    "for i in range(0, 61, 6):\n",
    "    print(i, end = \" \")"
   ],
   "outputs": [
    {
     "output_type": "stream",
     "name": "stdout",
     "text": [
      "0 6 12 18 24 30 36 42 48 54 60 "
     ]
    }
   ],
   "metadata": {}
  },
  {
   "cell_type": "markdown",
   "source": [
    "## 3b. Multiplication table"
   ],
   "metadata": {}
  },
  {
   "cell_type": "code",
   "execution_count": 10,
   "source": [
    "def multiplication(table, start, end):\n",
    "    '''The function takes the arguments table (i.e. the multiplication table),\n",
    "    start and end (where the table should start and end.\n",
    "    The function returns the multiplication table'''\n",
    "    for i in range(start, ((end * start) + 1), table):\n",
    "        print(i, end = \" \")\n",
    "\n",
    "table = int(input(\"Please enter the multiplication table that you would like to view.\"))\n",
    "start = int(input(\"Please indicate the number that you would like to start with.\"))\n",
    "end = int(input(\"Please indicate the number that you would like to finish with.\"))\n",
    "\n",
    "multiplication(table, start, end)"
   ],
   "outputs": [
    {
     "output_type": "stream",
     "name": "stdout",
     "text": [
      "5 10 15 20 25 30 35 40 45 50 55 60 "
     ]
    }
   ],
   "metadata": {}
  },
  {
   "cell_type": "markdown",
   "source": [
    "## 3c. Multiplication table"
   ],
   "metadata": {}
  },
  {
   "cell_type": "code",
   "execution_count": 71,
   "source": [
    "#Create two variables and set them to 0\n",
    "step = 0\n",
    "number = 0\n",
    "\n",
    "#Create a multiplication table/matrix\n",
    "for row in range(0, 11): #For each row (11 rows, since 0 should be included) do the following for-loop:\n",
    "    for column in range(0, 11): #For each column (11 columns, since 0 should be included) do the following:\n",
    "        print(f\"{number:^3}\", end = \" \") #Print the number (centered : with 3 spaces) and do not change row\n",
    "        number += step #Increase number with the step variable\n",
    "    number = 0 #Set number to zero so that the next row will start with 0\n",
    "    step += 1 #Increase the step variable with 1\n",
    "    print() #Change row"
   ],
   "outputs": [
    {
     "output_type": "stream",
     "name": "stdout",
     "text": [
      " 0   0   0   0   0   0   0   0   0   0   0  \n",
      " 0   1   2   3   4   5   6   7   8   9  10  \n",
      " 0   2   4   6   8  10  12  14  16  18  20  \n",
      " 0   3   6   9  12  15  18  21  24  27  30  \n",
      " 0   4   8  12  16  20  24  28  32  36  40  \n",
      " 0   5  10  15  20  25  30  35  40  45  50  \n",
      " 0   6  12  18  24  30  36  42  48  54  60  \n",
      " 0   7  14  21  28  35  42  49  56  63  70  \n",
      " 0   8  16  24  32  40  48  56  64  72  80  \n",
      " 0   9  18  27  36  45  54  63  72  81  90  \n",
      " 0  10  20  30  40  50  60  70  80  90  100 \n"
     ]
    }
   ],
   "metadata": {}
  },
  {
   "cell_type": "markdown",
   "source": [
    "## 4. Factorial"
   ],
   "metadata": {}
  },
  {
   "cell_type": "code",
   "execution_count": 98,
   "source": [
    "def factorial(n):\n",
    "    '''The method takes n as input.\n",
    "    The method returns n factorial.'''\n",
    "    n_fact = 1 #Sets n_fact to 1\n",
    "    step = 1 #The first time it should run 1 * 1, so step is set to 1\n",
    "    if n == 0:\n",
    "        return 1\n",
    "    else:\n",
    "        for i in range(n):\n",
    "            n_fact *= step #Multiply n_fact with the step \n",
    "            step += 1 #Increase step by 1\n",
    "        return n_fact \n",
    "\n",
    "factorial(int(input(\"Please enter n.\")))"
   ],
   "outputs": [
    {
     "output_type": "execute_result",
     "data": {
      "text/plain": [
       "120"
      ]
     },
     "metadata": {},
     "execution_count": 98
    }
   ],
   "metadata": {}
  },
  {
   "cell_type": "markdown",
   "source": [
    "## 5. Guess the number"
   ],
   "metadata": {}
  },
  {
   "cell_type": "code",
   "execution_count": 131,
   "source": [
    "import random as rnd\n",
    "\n",
    "number = rnd.randint(1000, 9999) #Create a random number between 1000 and 9999\n",
    "\n",
    "for i in range(1000, 10000): #Loop through all the numbers between 1000 and 9999\n",
    "    if i == number:\n",
    "        print(f\"Congratulations! You guessed that the number was {i} and the number was indeed {number}.\")\n",
    "        break"
   ],
   "outputs": [
    {
     "output_type": "stream",
     "name": "stdout",
     "text": [
      "Congratulations! You guessed that the number was 1298 and the number was indeed 1298.\n"
     ]
    }
   ],
   "metadata": {}
  },
  {
   "cell_type": "markdown",
   "source": [
    "## 6. Rice on chessboard"
   ],
   "metadata": {}
  },
  {
   "cell_type": "code",
   "execution_count": 181,
   "source": [
    "total_ricegrains = 1 #Sets the total number of rice grains to 1 (for the first square)\n",
    "ricegrain_increase_to_next_square = 1 #Set it to 1, so that when we double it, the next value should be 2\n",
    "\n",
    "for i in range(63): #Run this 64 times\n",
    "    ricegrain_increase_to_next_square *= 2 #There should be the double amount of rice grains in the next square\n",
    "    total_ricegrains += ricegrain_increase_to_next_square #Increase the number of total rice grains\n",
    "\n",
    "print(f\"There are {total_ricegrains} rice grains in total.\")"
   ],
   "outputs": [
    {
     "output_type": "stream",
     "name": "stdout",
     "text": [
      "There are 18446744073709551615 rice grains in total.\n"
     ]
    }
   ],
   "metadata": {}
  }
 ],
 "metadata": {
  "orig_nbformat": 4,
  "language_info": {
   "name": "python",
   "version": "3.9.6",
   "mimetype": "text/x-python",
   "codemirror_mode": {
    "name": "ipython",
    "version": 3
   },
   "pygments_lexer": "ipython3",
   "nbconvert_exporter": "python",
   "file_extension": ".py"
  },
  "kernelspec": {
   "name": "python3",
   "display_name": "Python 3.9.6 64-bit ('python-programming-Anna-Maria-Sjolund-Htb3K3oR': pipenv)"
  },
  "interpreter": {
   "hash": "d058bb7a222ccb114394dd2dbf09376c772f658c97746095daf69714e9de45e0"
  }
 },
 "nbformat": 4,
 "nbformat_minor": 2
}