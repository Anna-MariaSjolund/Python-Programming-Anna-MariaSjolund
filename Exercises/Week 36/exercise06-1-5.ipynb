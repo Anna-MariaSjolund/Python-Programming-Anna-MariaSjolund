{
 "cells": [
  {
   "cell_type": "markdown",
   "source": [
    "## 1. Area"
   ],
   "metadata": {}
  },
  {
   "cell_type": "code",
   "execution_count": 2,
   "source": [
    "def area_triangle(base, height):\n",
    "    '''Takes the base and height of a triangle and returns the area.'''\n",
    "    return (base*height)/2\n",
    "\n",
    "print(f\"The area of a triangle with base 5 and height 7 is: {area_triangle(5, 7)}.\")"
   ],
   "outputs": [
    {
     "output_type": "stream",
     "name": "stdout",
     "text": [
      "The area of a triangle with base 5 and height 7 is: 17.5.\n"
     ]
    }
   ],
   "metadata": {}
  },
  {
   "cell_type": "markdown",
   "source": [
    "## 2. Euclidean distance"
   ],
   "metadata": {}
  },
  {
   "cell_type": "code",
   "execution_count": 17,
   "source": [
    "from math import sqrt\n",
    "\n",
    "def eucl_dist (x1, x2, y1, y2):\n",
    "    \"\"\"Takes the coordinates (x, y) of the two points as input.\n",
    "    Method returns the euclidean distance.\"\"\"\n",
    "    return sqrt((x2 - x1)**2 + (y2-y1)**2)\n",
    "\n",
    "#User input\n",
    "x_1 = int(input(\"Please enter the x-value of point 1.\"))\n",
    "y_1 = int(input(\"Please enter the y-value of point 1.\"))\n",
    "x_2 = int(input(\"Please enter the x-value of point 2.\"))\n",
    "y_2 = int(input(\"Please enter the y-value of point 2.\"))\n",
    "\n",
    "#Count the euclidean distance between the points (3, 5) and (-2, 4)\n",
    "print(f\"The euclidean distance between point ({x_1}, {y_1}) and ({x_2}, {y_2}) is: {eucl_dist(x_1, x_2, y_1, y_2):.2f} length units.\")\n",
    "\n",
    "list_of_points = [(10, 3), (-1, -9), (10, -10), (4, -2), (9, -10)]\n",
    "for point in list_of_points:\n",
    "    print(f\"The euclidean distance between point (0, 0) and {point} is: {eucl_dist(0, point[0], 0, point[1]):.2f} length units.\")"
   ],
   "outputs": [
    {
     "output_type": "stream",
     "name": "stdout",
     "text": [
      "The euclidean distance between point (0, 0) and (10, 3) is: 10.44 length units.\n",
      "The euclidean distance between point (0, 0) and (10, 3) is: 10.44 length units.\n",
      "The euclidean distance between point (0, 0) and (-1, -9) is: 9.06 length units.\n",
      "The euclidean distance between point (0, 0) and (10, -10) is: 14.14 length units.\n",
      "The euclidean distance between point (0, 0) and (4, -2) is: 4.47 length units.\n",
      "The euclidean distance between point (0, 0) and (9, -10) is: 13.45 length units.\n"
     ]
    }
   ],
   "metadata": {}
  },
  {
   "cell_type": "markdown",
   "source": [
    "## 3. Mathematical functions"
   ],
   "metadata": {}
  },
  {
   "cell_type": "code",
   "execution_count": null,
   "source": [],
   "outputs": [],
   "metadata": {}
  }
 ],
 "metadata": {
  "orig_nbformat": 4,
  "language_info": {
   "name": "python",
   "version": "3.9.6",
   "mimetype": "text/x-python",
   "codemirror_mode": {
    "name": "ipython",
    "version": 3
   },
   "pygments_lexer": "ipython3",
   "nbconvert_exporter": "python",
   "file_extension": ".py"
  },
  "kernelspec": {
   "name": "python3",
   "display_name": "Python 3.9.6 64-bit ('python-programming-Anna-Maria-Sjolund-Htb3K3oR': pipenv)"
  },
  "interpreter": {
   "hash": "d058bb7a222ccb114394dd2dbf09376c772f658c97746095daf69714e9de45e0"
  }
 },
 "nbformat": 4,
 "nbformat_minor": 2
}