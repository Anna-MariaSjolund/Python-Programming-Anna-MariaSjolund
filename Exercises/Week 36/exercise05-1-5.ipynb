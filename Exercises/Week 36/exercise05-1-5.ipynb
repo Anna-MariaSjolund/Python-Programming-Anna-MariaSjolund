{
 "cells": [
  {
   "cell_type": "markdown",
   "source": [
    "## 1. Counting letters"
   ],
   "metadata": {}
  },
  {
   "cell_type": "code",
   "execution_count": 3,
   "source": [
    "#Lets the user input a word\n",
    "word1 = input(\"Please enter a word.\")\n",
    "\n",
    "#Prints out the number of letters in the word\n",
    "print(f\"The word consists of {len(word1)} letters.\")\n",
    "\n",
    "def count_uppercase(word):\n",
    "    '''The method takes one word as argument.\n",
    "    The method returns the number of uppercase letters in the word.'''\n",
    "    no_uppercase = 0\n",
    "    for letter in word:\n",
    "        if letter.isupper(): #If the letter is uppercase\n",
    "            no_uppercase += 1\n",
    "    return no_uppercase \n",
    "\n",
    "def count_lowercase(word):\n",
    "    '''The method takes one word as argument.\n",
    "    The method returns the number of lowercase letters in the word.'''\n",
    "    no_lowercase = 0\n",
    "    for letter in word:\n",
    "        if letter.islower(): #If the letter is lowercase\n",
    "            no_lowercase += 1\n",
    "    return no_lowercase \n",
    "\n",
    "print(f\"The word consists of {count_uppercase(word1)} uppercase letters.\")\n",
    "print(f\"The word consists of {count_lowercase(word1)} lowercase letters.\")"
   ],
   "outputs": [
    {
     "output_type": "stream",
     "name": "stdout",
     "text": [
      "The word consists of 6 letters.\n",
      "The word consists of 1 uppercase letters.\n",
      "The word consists of 5 lowercase letters.\n"
     ]
    }
   ],
   "metadata": {}
  },
  {
   "cell_type": "markdown",
   "source": [
    "## 2. Counting words"
   ],
   "metadata": {}
  },
  {
   "cell_type": "code",
   "execution_count": 4,
   "source": [
    "#Store the sentence in a list, splitting the sentence at empty spaces.\n",
    "sentence = \"A picture says more than a thousand words, a matematical formula says more than a thousand pictures.\".split()\n",
    "#Print the length of the list\n",
    "print(f\"The sentence consists of {len(sentence)} words.\")"
   ],
   "outputs": [
    {
     "output_type": "stream",
     "name": "stdout",
     "text": [
      "The sentence consists of 17 words.\n"
     ]
    }
   ],
   "metadata": {}
  },
  {
   "cell_type": "markdown",
   "source": [
    "## 3. Palindrome"
   ],
   "metadata": {}
  },
  {
   "cell_type": "code",
   "execution_count": 6,
   "source": [
    "def palindrome(sentence):\n",
    "    '''The method takes a word/sentence as argument.\n",
    "    The method returns information about whether the word/sentence is a palindrome or not.'''\n",
    "    sentence = ''.join(sentence.split()) #Removes all whitespace character (space, tab, newline, and so on) and then joins the words together\n",
    "    sentence = sentence.lower() #Changes all the letters to lowercase\n",
    "    sentence_backwards = sentence[::-1] #Saves the sentence backwards\n",
    "\n",
    "    if sentence == sentence_backwards:\n",
    "        print(\"The word/sentence is a palindrome!\")\n",
    "    else:\n",
    "        print(\"The word/sentence is not a palindrome.\")\n",
    "\n",
    "palindrome(input(\"Please input a word or a sentence.\"))"
   ],
   "outputs": [
    {
     "output_type": "stream",
     "name": "stdout",
     "text": [
      "The word/sentence is a palindrome!\n"
     ]
    }
   ],
   "metadata": {}
  },
  {
   "cell_type": "markdown",
   "source": [
    "## 4. Vowels"
   ],
   "metadata": {}
  },
  {
   "cell_type": "code",
   "execution_count": 14,
   "source": [
    "def count_vowels(sentence):\n",
    "    '''The method takes a sentence as input.\n",
    "    The method returns the number of vowels in a sentence (i.e. the length of the list number_of_vowels).'''\n",
    "    sentence = sentence.lower() #Changes all the letters to lowercase\n",
    "    for letter in sentence:\n",
    "        number_of_vowels = [+1 for letter in sentence if letter in (\"a\", \"o\", \"u\", \"å\", \"e\", \"i\", \"y\", \"ä\", \"ö\")]\n",
    "    return len(number_of_vowels)\n",
    "\n",
    "sentence1 = \"Pure mathematics is, in its way, the poetry of logical ideas\"\n",
    "print(f'The sentence \"{sentence1}\" contains {count_vowels(sentence1)} vowels.')"
   ],
   "outputs": [
    {
     "output_type": "stream",
     "name": "stdout",
     "text": [
      "The sentence \"Pure mathematics is, in its way, the poetry of logical ideas\" contains 22 vowels.\n"
     ]
    }
   ],
   "metadata": {}
  },
  {
   "cell_type": "markdown",
   "source": [
    "## 5. Encryption"
   ],
   "metadata": {}
  },
  {
   "cell_type": "code",
   "execution_count": 18,
   "source": [
    "def create_alphabet():\n",
    "    '''The method returns the Swedish alphabet'''\n",
    "    alphabet = []\n",
    "    for i in range(97, 123):\n",
    "        alphabet.append(chr(i))\n",
    "    alphabet.extend([\"å\", \"ä\", \"ö\"])\n",
    "    return alphabet\n",
    "\n",
    "def encryption(word):\n",
    "    '''The method take a word as argument.\n",
    "    The method returns an encrypted word.'''\n",
    "    word = word.lower() #Change word to lowercase\n",
    "    alphabet = create_alphabet()\n",
    "    encrypted_word_as_list = []\n",
    "    for letter1 in word: #For each letter in word, run the following for loop:\n",
    "        for letter2 in alphabet: #For each letter in alphabet, run the following for loop:\n",
    "            if letter1 == alphabet[28]: #If letter is equal to ö:\n",
    "                encrypted_word_as_list.append(\"a\") #Append a \n",
    "                break #Breaks the inner loop (if we do not use break this will be true every time and it will continue to loop through the alphabet 29 times)\n",
    "            elif letter1 == letter2: #If letter1 in the word and letter2 in the alphabet are equal:\n",
    "                index_number = alphabet.index(letter2) #Add the index number of letter2 to a variable\n",
    "                encrypted_word_as_list.append(alphabet[index_number + 1]) #Append the next letter in the alphabet to the encrypted_word_as_list\n",
    "    encrypted_word = ''.join(encrypted_word_as_list) #Change the list to a word\n",
    "    return encrypted_word\n",
    "        \n",
    "\n",
    "def decryption(word):\n",
    "    '''The method take a word as argument.\n",
    "    The method returns the decrypted word.'''\n",
    "    word = word.lower() #Change word to lowercase\n",
    "    alphabet = create_alphabet()\n",
    "    decrypted_word_as_list = []\n",
    "    for letter1 in word: #For each letter in word, run the following for loop:\n",
    "        for letter2 in alphabet: #For each letter in alphabet, run the following for loop:\n",
    "            if letter1 == alphabet[0]: #If letter is equal to a:\n",
    "                decrypted_word_as_list.append(\"ö\") #Append ö\n",
    "                break #Breaks the inner loop (if we do not use break this will be true every time and it will continue to loop through the alphabet 29 times)\n",
    "            elif letter1 == letter2: #If letter1 in the word and letter2 in the alphabet are equal:\n",
    "                index_number = alphabet.index(letter2) #Add the index number of letter2 to a variable\n",
    "                decrypted_word_as_list.append(alphabet[index_number - 1]) #Append the previous letter in the alphabet to the decrypted_word_as_list\n",
    "    decrypted_word = ''.join(decrypted_word_as_list) #Change the list to a word\n",
    "    return decrypted_word\n",
    "\n",
    "#print(f\"The encrypted word is: {encryption('höst')}.\")\n",
    "#print(f\"The decrypted word is: {decryption('iatu')}.\")\n",
    "\n",
    "#Lets the user choose if she/he wants to encrypt or decrypt the word\n",
    "choice =  int(input(\"Do you want to encrypt or decrypt the word? Please press 1 for encryption and 2 for decryption.\"))\n",
    "if choice == 1: #If encryption\n",
    "    encrypted_word = input(\"Please enter the encrypted word.\")\n",
    "    print(f\"The encrypted word is: {encryption(encrypted_word)}.\")\n",
    "elif choice == 2: #If decryption\n",
    "    decrypted_word = input(\"Please enter the decrypted word.\")\n",
    "    print(f\"The decrypted word is: {decryption(decrypted_word)}.\")"
   ],
   "outputs": [
    {
     "output_type": "stream",
     "name": "stdout",
     "text": [
      "The encrypted word is: iatu.\n"
     ]
    }
   ],
   "metadata": {}
  }
 ],
 "metadata": {
  "orig_nbformat": 4,
  "language_info": {
   "name": "python",
   "version": "3.9.6",
   "mimetype": "text/x-python",
   "codemirror_mode": {
    "name": "ipython",
    "version": 3
   },
   "pygments_lexer": "ipython3",
   "nbconvert_exporter": "python",
   "file_extension": ".py"
  },
  "kernelspec": {
   "name": "python3",
   "display_name": "Python 3.9.6 64-bit ('python-programming-Anna-Maria-Sjolund-Htb3K3oR': pipenv)"
  },
  "interpreter": {
   "hash": "d058bb7a222ccb114394dd2dbf09376c772f658c97746095daf69714e9de45e0"
  }
 },
 "nbformat": 4,
 "nbformat_minor": 2
}