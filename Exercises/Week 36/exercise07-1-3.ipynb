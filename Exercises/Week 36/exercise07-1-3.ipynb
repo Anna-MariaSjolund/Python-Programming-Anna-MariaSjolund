{
 "cells": [
  {
   "cell_type": "markdown",
   "source": [
    "## 1. Find errors"
   ],
   "metadata": {}
  },
  {
   "cell_type": "code",
   "execution_count": 16,
   "source": [
    "import numpy as np\n",
    " \n",
    "def distance(x,y):\n",
    "    return np.sqrt((0-0.5)**2 + (0-0.5)**2)\n",
    " \n",
    "print(f\"The distance between the point (0.5, 0.5) and the orgin is: {distance(0.5, 0.5):.3f}.\")"
   ],
   "outputs": [
    {
     "output_type": "stream",
     "name": "stdout",
     "text": [
      "The distance between the point (0.5, 0.5) and the orgin is: 0.707.\n"
     ]
    }
   ],
   "metadata": {}
  },
  {
   "cell_type": "markdown",
   "source": [
    "## 2. Find errors"
   ],
   "metadata": {}
  },
  {
   "cell_type": "code",
   "execution_count": 1,
   "source": [
    "def is_fourdigit(number):\n",
    "    if (number >= 1000 and number <= 9999) or (number >= -9999 and number <= -1000):\n",
    "        return True\n",
    "    else: \n",
    "        return False\n",
    " \n",
    "# test program\n",
    "test_numbers = [231, 3124, -4124, -1000,-999, 1001, 10000, -10000, 999]\n",
    " \n",
    "for number in test_numbers:\n",
    "    if is_fourdigit(number):\n",
    "        print(f\"{number} is four-digit\")\n",
    "    else:\n",
    "        print(f\"{number} is not four-digit\")"
   ],
   "outputs": [
    {
     "output_type": "stream",
     "name": "stdout",
     "text": [
      "231 is not four-digit\n",
      "3124 is four-digit\n",
      "-4124 is four-digit\n",
      "-1000 is four-digit\n",
      "-999 is not four-digit\n",
      "1001 is four-digit\n",
      "10000 is not four-digit\n",
      "-10000 is not four-digit\n",
      "999 is not four-digit\n"
     ]
    }
   ],
   "metadata": {}
  },
  {
   "cell_type": "code",
   "execution_count": null,
   "source": [
    "time_travelled_per_month = int(input(\"How many times do you want to take the tram (per month)?\"))\n",
    "price_for_one_ticket = int(input(\"How much does a single ticket cost?\"))\n",
    "price_for_monthly_card = int(input(\"How much does a monthly card cost?\"))\n",
    "\n",
    "if time_travelled_per_month*price_for_one_ticket > price_for_monthly_card:\n",
    "    print(f\"It is cheaper for you to buy a monthly card {price_for_monthly_card} kr than to buy {time_travelled_per_month} single tickets {time_travelled_per_month*price_for_one_ticket}kr a month.\")\n",
    "else:\n",
    "        # Fix this! print(f\"It is cheaper for you to buy a monthly card {price_for_monthly_card} kr than to buy {time_travelled_per_month} single tickets {time_travelled_per_month*price_for_one_ticket}kr a month.\")"
   ],
   "outputs": [],
   "metadata": {}
  }
 ],
 "metadata": {
  "orig_nbformat": 4,
  "language_info": {
   "name": "python",
   "version": "3.9.6",
   "mimetype": "text/x-python",
   "codemirror_mode": {
    "name": "ipython",
    "version": 3
   },
   "pygments_lexer": "ipython3",
   "nbconvert_exporter": "python",
   "file_extension": ".py"
  },
  "kernelspec": {
   "name": "python3",
   "display_name": "Python 3.9.6 64-bit ('python-programming-Anna-Maria-Sjolund-Htb3K3oR': pipenv)"
  },
  "interpreter": {
   "hash": "d058bb7a222ccb114394dd2dbf09376c772f658c97746095daf69714e9de45e0"
  }
 },
 "nbformat": 4,
 "nbformat_minor": 2
}