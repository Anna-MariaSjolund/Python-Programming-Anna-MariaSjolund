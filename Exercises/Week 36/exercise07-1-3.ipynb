{
 "cells": [
  {
   "cell_type": "markdown",
   "source": [
    "## 1. Find errors"
   ],
   "metadata": {}
  },
  {
   "cell_type": "code",
   "execution_count": 16,
   "source": [
    "import numpy as np\n",
    " \n",
    "def distance(x,y):\n",
    "    return np.sqrt((0-0.5)**2 + (0-0.5)**2)\n",
    " \n",
    "print(f\"The distance between the point (0.5, 0.5) and the orgin is: {distance(0.5, 0.5):.3f}.\")"
   ],
   "outputs": [
    {
     "output_type": "stream",
     "name": "stdout",
     "text": [
      "The distance between the point (0.5, 0.5) and the orgin is: 0.707.\n"
     ]
    }
   ],
   "metadata": {}
  },
  {
   "cell_type": "markdown",
   "source": [
    "## 2. Find errors"
   ],
   "metadata": {}
  },
  {
   "cell_type": "code",
   "execution_count": 1,
   "source": [
    "def is_fourdigit(number):\n",
    "    if (number >= 1000 and number <= 9999) or (number >= -9999 and number <= -1000):\n",
    "        return True\n",
    "    else: \n",
    "        return False\n",
    " \n",
    "# test program\n",
    "test_numbers = [231, 3124, -4124, -1000,-999, 1001, 10000, -10000, 999]\n",
    " \n",
    "for number in test_numbers:\n",
    "    if is_fourdigit(number):\n",
    "        print(f\"{number} is four-digit\")\n",
    "    else:\n",
    "        print(f\"{number} is not four-digit\")"
   ],
   "outputs": [
    {
     "output_type": "stream",
     "name": "stdout",
     "text": [
      "231 is not four-digit\n",
      "3124 is four-digit\n",
      "-4124 is four-digit\n",
      "-1000 is four-digit\n",
      "-999 is not four-digit\n",
      "1001 is four-digit\n",
      "10000 is not four-digit\n",
      "-10000 is not four-digit\n",
      "999 is not four-digit\n"
     ]
    }
   ],
   "metadata": {}
  },
  {
   "cell_type": "code",
   "execution_count": 23,
   "source": [
    "#Calculates if it is cheaper to buy single tickets or a monthly card \n",
    "while True: #Run the loop until it breaks\n",
    "    time_travelled_per_month = input(\"How many times do you want to take the tram (per month)?\")\n",
    "    price_for_one_ticket = input(\"How much does a single ticket cost?\")\n",
    "    price_for_monthly_card = input(\"How much does a monthly card cost?\")\n",
    "    try:\n",
    "        time_travelled_per_month = int(time_travelled_per_month)\n",
    "        price_for_one_ticket = float(price_for_one_ticket)\n",
    "        price_for_monthly_card = float(price_for_monthly_card)\n",
    "\n",
    "        if time_travelled_per_month < 0 or time_travelled_per_month > 300: #If any of the values are less than 0, return error message\n",
    "            raise ValueError(\"Times travelled per month has to be between 0 and 496.\")\n",
    "        elif price_for_one_ticket < 34 or price_for_one_ticket > 102:\n",
    "            raise ValueError(\"The price for a single tickets has to be between 26 kr and 102 kr.\")\n",
    "        elif price_for_monthly_card < 595 or price_for_monthly_card > 1825:\n",
    "            raise ValueError(\"The price for a monthly card has to be above ...\")\n",
    "\n",
    "        price_for_single_tickets = time_travelled_per_month*price_for_one_ticket\n",
    "\n",
    "        if price_for_single_tickets > price_for_monthly_card:\n",
    "            print(f\"It is cheaper for you to buy a monthly card ({price_for_monthly_card} kr) than to buy {time_travelled_per_month} single tickets ({time_travelled_per_month*price_for_one_ticket} kr a month).\")\n",
    "        elif price_for_single_tickets < price_for_monthly_card:\n",
    "            print(f\"It is cheaper for you to buy {time_travelled_per_month} single tickets ({price_for_single_tickets} kr a month), than to buy a monthly card ({price_for_monthly_card} kr).\")\n",
    "        else:\n",
    "            print(f\"To buy {time_travelled_per_month} single tickets cost as much as buying a monthly card ({price_for_monthly_card} kr).\")\n",
    "        break  \n",
    "      \n",
    "    except ValueError as err:\n",
    "        print(err)"
   ],
   "outputs": [
    {
     "output_type": "stream",
     "name": "stdout",
     "text": [
      "The price for a single tickets has to be between 26 kr and 102 kr.\n",
      "The price for a monthly card has to be above ...\n",
      "The price for a single tickets has to be between 26 kr and 102 kr.\n",
      "Times travelled per month has to be between 0 and 496.\n"
     ]
    },
    {
     "output_type": "error",
     "ename": "KeyboardInterrupt",
     "evalue": "Interrupted by user",
     "traceback": [
      "\u001b[0;31m---------------------------------------------------------------------------\u001b[0m",
      "\u001b[0;31mKeyboardInterrupt\u001b[0m                         Traceback (most recent call last)",
      "\u001b[0;32m/var/folders/11/k_09161j4vnft7tn925fp6600000gn/T/ipykernel_1770/2753392298.py\u001b[0m in \u001b[0;36m<module>\u001b[0;34m\u001b[0m\n\u001b[1;32m      2\u001b[0m \u001b[0;32mwhile\u001b[0m \u001b[0;32mTrue\u001b[0m\u001b[0;34m:\u001b[0m \u001b[0;31m#Run the loop until it breaks\u001b[0m\u001b[0;34m\u001b[0m\u001b[0;34m\u001b[0m\u001b[0m\n\u001b[1;32m      3\u001b[0m     \u001b[0mtime_travelled_per_month\u001b[0m \u001b[0;34m=\u001b[0m \u001b[0minput\u001b[0m\u001b[0;34m(\u001b[0m\u001b[0;34m\"How many times do you want to take the tram (per month)?\"\u001b[0m\u001b[0;34m)\u001b[0m\u001b[0;34m\u001b[0m\u001b[0;34m\u001b[0m\u001b[0m\n\u001b[0;32m----> 4\u001b[0;31m     \u001b[0mprice_for_one_ticket\u001b[0m \u001b[0;34m=\u001b[0m \u001b[0minput\u001b[0m\u001b[0;34m(\u001b[0m\u001b[0;34m\"How much does a single ticket cost?\"\u001b[0m\u001b[0;34m)\u001b[0m\u001b[0;34m\u001b[0m\u001b[0;34m\u001b[0m\u001b[0m\n\u001b[0m\u001b[1;32m      5\u001b[0m     \u001b[0mprice_for_monthly_card\u001b[0m \u001b[0;34m=\u001b[0m \u001b[0minput\u001b[0m\u001b[0;34m(\u001b[0m\u001b[0;34m\"How much does a monthly card cost?\"\u001b[0m\u001b[0;34m)\u001b[0m\u001b[0;34m\u001b[0m\u001b[0;34m\u001b[0m\u001b[0m\n\u001b[1;32m      6\u001b[0m     \u001b[0;32mtry\u001b[0m\u001b[0;34m:\u001b[0m\u001b[0;34m\u001b[0m\u001b[0;34m\u001b[0m\u001b[0m\n",
      "\u001b[0;32m~/.local/share/virtualenvs/python-programming-Anna-Maria-Sjolund-Htb3K3oR/lib/python3.9/site-packages/ipykernel/kernelbase.py\u001b[0m in \u001b[0;36mraw_input\u001b[0;34m(self, prompt)\u001b[0m\n\u001b[1;32m   1004\u001b[0m                 \u001b[0;34m\"raw_input was called, but this frontend does not support input requests.\"\u001b[0m\u001b[0;34m\u001b[0m\u001b[0;34m\u001b[0m\u001b[0m\n\u001b[1;32m   1005\u001b[0m             )\n\u001b[0;32m-> 1006\u001b[0;31m         return self._input_request(\n\u001b[0m\u001b[1;32m   1007\u001b[0m             \u001b[0mstr\u001b[0m\u001b[0;34m(\u001b[0m\u001b[0mprompt\u001b[0m\u001b[0;34m)\u001b[0m\u001b[0;34m,\u001b[0m\u001b[0;34m\u001b[0m\u001b[0;34m\u001b[0m\u001b[0m\n\u001b[1;32m   1008\u001b[0m             \u001b[0mself\u001b[0m\u001b[0;34m.\u001b[0m\u001b[0m_parent_ident\u001b[0m\u001b[0;34m[\u001b[0m\u001b[0;34m\"shell\"\u001b[0m\u001b[0;34m]\u001b[0m\u001b[0;34m,\u001b[0m\u001b[0;34m\u001b[0m\u001b[0;34m\u001b[0m\u001b[0m\n",
      "\u001b[0;32m~/.local/share/virtualenvs/python-programming-Anna-Maria-Sjolund-Htb3K3oR/lib/python3.9/site-packages/ipykernel/kernelbase.py\u001b[0m in \u001b[0;36m_input_request\u001b[0;34m(self, prompt, ident, parent, password)\u001b[0m\n\u001b[1;32m   1049\u001b[0m             \u001b[0;32mexcept\u001b[0m \u001b[0mKeyboardInterrupt\u001b[0m\u001b[0;34m:\u001b[0m\u001b[0;34m\u001b[0m\u001b[0;34m\u001b[0m\u001b[0m\n\u001b[1;32m   1050\u001b[0m                 \u001b[0;31m# re-raise KeyboardInterrupt, to truncate traceback\u001b[0m\u001b[0;34m\u001b[0m\u001b[0;34m\u001b[0m\u001b[0;34m\u001b[0m\u001b[0m\n\u001b[0;32m-> 1051\u001b[0;31m                 \u001b[0;32mraise\u001b[0m \u001b[0mKeyboardInterrupt\u001b[0m\u001b[0;34m(\u001b[0m\u001b[0;34m\"Interrupted by user\"\u001b[0m\u001b[0;34m)\u001b[0m \u001b[0;32mfrom\u001b[0m \u001b[0;32mNone\u001b[0m\u001b[0;34m\u001b[0m\u001b[0;34m\u001b[0m\u001b[0m\n\u001b[0m\u001b[1;32m   1052\u001b[0m             \u001b[0;32mexcept\u001b[0m \u001b[0mException\u001b[0m\u001b[0;34m:\u001b[0m\u001b[0;34m\u001b[0m\u001b[0;34m\u001b[0m\u001b[0m\n\u001b[1;32m   1053\u001b[0m                 \u001b[0mself\u001b[0m\u001b[0;34m.\u001b[0m\u001b[0mlog\u001b[0m\u001b[0;34m.\u001b[0m\u001b[0mwarning\u001b[0m\u001b[0;34m(\u001b[0m\u001b[0;34m\"Invalid Message:\"\u001b[0m\u001b[0;34m,\u001b[0m \u001b[0mexc_info\u001b[0m\u001b[0;34m=\u001b[0m\u001b[0;32mTrue\u001b[0m\u001b[0;34m)\u001b[0m\u001b[0;34m\u001b[0m\u001b[0;34m\u001b[0m\u001b[0m\n",
      "\u001b[0;31mKeyboardInterrupt\u001b[0m: Interrupted by user"
     ]
    }
   ],
   "metadata": {}
  },
  {
   "cell_type": "code",
   "execution_count": 27,
   "source": [
    "#Calculates if it is cheaper to buy single tickets or a monthly card \n",
    "while True: #Run the loop until it breaks\n",
    "    time_travelled_per_month = input(\"How many times do you want to take the tram (per month)?\")\n",
    "    price_for_one_ticket = input(\"How much does a single ticket cost?\")\n",
    "    price_for_monthly_card = input(\"How much does a monthly card cost?\")\n",
    "    try:\n",
    "        time_travelled_per_month = int(time_travelled_per_month)\n",
    "        price_for_one_ticket = float(price_for_one_ticket)\n",
    "        price_for_monthly_card = float(price_for_monthly_card)\n",
    "        if time_travelled_per_month < 0 or price_for_one_ticket < 0 or price_for_monthly_card < 0: #If any of the values are less than 0, return error message\n",
    "            raise ValueError(\"All of the entered values have to be 0 or above.\")\n",
    "        else:\n",
    "            price_for_single_tickets = time_travelled_per_month*price_for_one_ticket\n",
    "            if price_for_single_tickets > price_for_monthly_card:\n",
    "                print(f\"It is cheaper for you to buy a monthly card ({price_for_monthly_card} kr) than to buy {time_travelled_per_month} single tickets ({time_travelled_per_month*price_for_one_ticket} kr a month).\")\n",
    "            elif price_for_single_tickets < price_for_monthly_card:\n",
    "                print(f\"It is cheaper for you to buy {time_travelled_per_month} single tickets ({price_for_single_tickets} kr a month), than to buy a monthly card ({price_for_monthly_card} kr).\")\n",
    "            else:\n",
    "                print(f\"To buy {time_travelled_per_month} single tickets cost as much as buying a monthly card ({price_for_monthly_card} kr).\")\n",
    "            break    \n",
    "    except ValueError as err:\n",
    "        print(err)"
   ],
   "outputs": [
    {
     "output_type": "stream",
     "name": "stdout",
     "text": [
      "invalid literal for int() with base 10: ''\n",
      "invalid literal for int() with base 10: ''\n",
      "invalid literal for int() with base 10: ''\n",
      "invalid literal for int() with base 10: ''\n",
      "invalid literal for int() with base 10: ''\n",
      "invalid literal for int() with base 10: ''\n",
      "invalid literal for int() with base 10: ''\n",
      "invalid literal for int() with base 10: ''\n",
      "invalid literal for int() with base 10: ''\n",
      "invalid literal for int() with base 10: ''\n",
      "invalid literal for int() with base 10: ''\n",
      "invalid literal for int() with base 10: ''\n",
      "invalid literal for int() with base 10: ''\n",
      "invalid literal for int() with base 10: ''\n",
      "invalid literal for int() with base 10: ''\n",
      "invalid literal for int() with base 10: ''\n",
      "invalid literal for int() with base 10: ''\n",
      "invalid literal for int() with base 10: ''\n",
      "invalid literal for int() with base 10: ''\n",
      "invalid literal for int() with base 10: ''\n",
      "invalid literal for int() with base 10: ''\n",
      "invalid literal for int() with base 10: ''\n",
      "invalid literal for int() with base 10: ''\n",
      "invalid literal for int() with base 10: ''\n",
      "invalid literal for int() with base 10: ''\n",
      "invalid literal for int() with base 10: ''\n",
      "invalid literal for int() with base 10: ''\n",
      "invalid literal for int() with base 10: ''\n",
      "invalid literal for int() with base 10: ''\n",
      "invalid literal for int() with base 10: ''\n",
      "invalid literal for int() with base 10: ''\n",
      "invalid literal for int() with base 10: ''\n",
      "invalid literal for int() with base 10: ''\n",
      "invalid literal for int() with base 10: ''\n",
      "invalid literal for int() with base 10: ''\n",
      "invalid literal for int() with base 10: ''\n",
      "invalid literal for int() with base 10: ''\n",
      "invalid literal for int() with base 10: ''\n",
      "invalid literal for int() with base 10: ''\n",
      "invalid literal for int() with base 10: ''\n",
      "invalid literal for int() with base 10: ''\n",
      "invalid literal for int() with base 10: ''\n",
      "invalid literal for int() with base 10: ''\n",
      "invalid literal for int() with base 10: ''\n",
      "invalid literal for int() with base 10: ''\n",
      "invalid literal for int() with base 10: ''\n",
      "invalid literal for int() with base 10: ''\n",
      "invalid literal for int() with base 10: ''\n",
      "invalid literal for int() with base 10: ''\n",
      "invalid literal for int() with base 10: ''\n",
      "invalid literal for int() with base 10: ''\n",
      "invalid literal for int() with base 10: ''\n",
      "invalid literal for int() with base 10: ''\n",
      "invalid literal for int() with base 10: ''\n",
      "invalid literal for int() with base 10: ''\n",
      "invalid literal for int() with base 10: ''\n",
      "invalid literal for int() with base 10: ''\n",
      "invalid literal for int() with base 10: ''\n",
      "invalid literal for int() with base 10: ''\n",
      "invalid literal for int() with base 10: ''\n",
      "invalid literal for int() with base 10: ''\n",
      "invalid literal for int() with base 10: ''\n",
      "invalid literal for int() with base 10: ''\n",
      "invalid literal for int() with base 10: ''\n",
      "invalid literal for int() with base 10: ''\n",
      "invalid literal for int() with base 10: ''\n",
      "invalid literal for int() with base 10: ''\n",
      "invalid literal for int() with base 10: ''\n",
      "invalid literal for int() with base 10: ''\n",
      "invalid literal for int() with base 10: ''\n",
      "invalid literal for int() with base 10: ''\n",
      "invalid literal for int() with base 10: ''\n",
      "invalid literal for int() with base 10: ''\n",
      "invalid literal for int() with base 10: ''\n",
      "invalid literal for int() with base 10: ''\n",
      "invalid literal for int() with base 10: ''\n",
      "invalid literal for int() with base 10: ''\n",
      "invalid literal for int() with base 10: ''\n",
      "invalid literal for int() with base 10: ''\n",
      "invalid literal for int() with base 10: ''\n",
      "invalid literal for int() with base 10: ''\n"
     ]
    },
    {
     "output_type": "error",
     "ename": "KeyboardInterrupt",
     "evalue": "Interrupted by user",
     "traceback": [
      "\u001b[0;31m---------------------------------------------------------------------------\u001b[0m",
      "\u001b[0;31mKeyboardInterrupt\u001b[0m                         Traceback (most recent call last)",
      "\u001b[0;32m/var/folders/11/k_09161j4vnft7tn925fp6600000gn/T/ipykernel_1770/1666896941.py\u001b[0m in \u001b[0;36m<module>\u001b[0;34m\u001b[0m\n\u001b[1;32m      2\u001b[0m \u001b[0;32mwhile\u001b[0m \u001b[0;32mTrue\u001b[0m\u001b[0;34m:\u001b[0m \u001b[0;31m#Run the loop until it breaks\u001b[0m\u001b[0;34m\u001b[0m\u001b[0;34m\u001b[0m\u001b[0m\n\u001b[1;32m      3\u001b[0m     \u001b[0mtime_travelled_per_month\u001b[0m \u001b[0;34m=\u001b[0m \u001b[0minput\u001b[0m\u001b[0;34m(\u001b[0m\u001b[0;34m\"How many times do you want to take the tram (per month)?\"\u001b[0m\u001b[0;34m)\u001b[0m\u001b[0;34m\u001b[0m\u001b[0;34m\u001b[0m\u001b[0m\n\u001b[0;32m----> 4\u001b[0;31m     \u001b[0mprice_for_one_ticket\u001b[0m \u001b[0;34m=\u001b[0m \u001b[0minput\u001b[0m\u001b[0;34m(\u001b[0m\u001b[0;34m\"How much does a single ticket cost?\"\u001b[0m\u001b[0;34m)\u001b[0m\u001b[0;34m\u001b[0m\u001b[0;34m\u001b[0m\u001b[0m\n\u001b[0m\u001b[1;32m      5\u001b[0m     \u001b[0mprice_for_monthly_card\u001b[0m \u001b[0;34m=\u001b[0m \u001b[0minput\u001b[0m\u001b[0;34m(\u001b[0m\u001b[0;34m\"How much does a monthly card cost?\"\u001b[0m\u001b[0;34m)\u001b[0m\u001b[0;34m\u001b[0m\u001b[0;34m\u001b[0m\u001b[0m\n\u001b[1;32m      6\u001b[0m     \u001b[0;32mtry\u001b[0m\u001b[0;34m:\u001b[0m\u001b[0;34m\u001b[0m\u001b[0;34m\u001b[0m\u001b[0m\n",
      "\u001b[0;32m~/.local/share/virtualenvs/python-programming-Anna-Maria-Sjolund-Htb3K3oR/lib/python3.9/site-packages/ipykernel/kernelbase.py\u001b[0m in \u001b[0;36mraw_input\u001b[0;34m(self, prompt)\u001b[0m\n\u001b[1;32m   1004\u001b[0m                 \u001b[0;34m\"raw_input was called, but this frontend does not support input requests.\"\u001b[0m\u001b[0;34m\u001b[0m\u001b[0;34m\u001b[0m\u001b[0m\n\u001b[1;32m   1005\u001b[0m             )\n\u001b[0;32m-> 1006\u001b[0;31m         return self._input_request(\n\u001b[0m\u001b[1;32m   1007\u001b[0m             \u001b[0mstr\u001b[0m\u001b[0;34m(\u001b[0m\u001b[0mprompt\u001b[0m\u001b[0;34m)\u001b[0m\u001b[0;34m,\u001b[0m\u001b[0;34m\u001b[0m\u001b[0;34m\u001b[0m\u001b[0m\n\u001b[1;32m   1008\u001b[0m             \u001b[0mself\u001b[0m\u001b[0;34m.\u001b[0m\u001b[0m_parent_ident\u001b[0m\u001b[0;34m[\u001b[0m\u001b[0;34m\"shell\"\u001b[0m\u001b[0;34m]\u001b[0m\u001b[0;34m,\u001b[0m\u001b[0;34m\u001b[0m\u001b[0;34m\u001b[0m\u001b[0m\n",
      "\u001b[0;32m~/.local/share/virtualenvs/python-programming-Anna-Maria-Sjolund-Htb3K3oR/lib/python3.9/site-packages/ipykernel/kernelbase.py\u001b[0m in \u001b[0;36m_input_request\u001b[0;34m(self, prompt, ident, parent, password)\u001b[0m\n\u001b[1;32m   1049\u001b[0m             \u001b[0;32mexcept\u001b[0m \u001b[0mKeyboardInterrupt\u001b[0m\u001b[0;34m:\u001b[0m\u001b[0;34m\u001b[0m\u001b[0;34m\u001b[0m\u001b[0m\n\u001b[1;32m   1050\u001b[0m                 \u001b[0;31m# re-raise KeyboardInterrupt, to truncate traceback\u001b[0m\u001b[0;34m\u001b[0m\u001b[0;34m\u001b[0m\u001b[0;34m\u001b[0m\u001b[0m\n\u001b[0;32m-> 1051\u001b[0;31m                 \u001b[0;32mraise\u001b[0m \u001b[0mKeyboardInterrupt\u001b[0m\u001b[0;34m(\u001b[0m\u001b[0;34m\"Interrupted by user\"\u001b[0m\u001b[0;34m)\u001b[0m \u001b[0;32mfrom\u001b[0m \u001b[0;32mNone\u001b[0m\u001b[0;34m\u001b[0m\u001b[0;34m\u001b[0m\u001b[0m\n\u001b[0m\u001b[1;32m   1052\u001b[0m             \u001b[0;32mexcept\u001b[0m \u001b[0mException\u001b[0m\u001b[0;34m:\u001b[0m\u001b[0;34m\u001b[0m\u001b[0;34m\u001b[0m\u001b[0m\n\u001b[1;32m   1053\u001b[0m                 \u001b[0mself\u001b[0m\u001b[0;34m.\u001b[0m\u001b[0mlog\u001b[0m\u001b[0;34m.\u001b[0m\u001b[0mwarning\u001b[0m\u001b[0;34m(\u001b[0m\u001b[0;34m\"Invalid Message:\"\u001b[0m\u001b[0;34m,\u001b[0m \u001b[0mexc_info\u001b[0m\u001b[0;34m=\u001b[0m\u001b[0;32mTrue\u001b[0m\u001b[0;34m)\u001b[0m\u001b[0;34m\u001b[0m\u001b[0;34m\u001b[0m\u001b[0m\n",
      "\u001b[0;31mKeyboardInterrupt\u001b[0m: Interrupted by user"
     ]
    }
   ],
   "metadata": {}
  }
 ],
 "metadata": {
  "orig_nbformat": 4,
  "language_info": {
   "name": "python",
   "version": "3.9.6",
   "mimetype": "text/x-python",
   "codemirror_mode": {
    "name": "ipython",
    "version": 3
   },
   "pygments_lexer": "ipython3",
   "nbconvert_exporter": "python",
   "file_extension": ".py"
  },
  "kernelspec": {
   "name": "python3",
   "display_name": "Python 3.9.6 64-bit ('python-programming-Anna-Maria-Sjolund-Htb3K3oR': pipenv)"
  },
  "interpreter": {
   "hash": "d058bb7a222ccb114394dd2dbf09376c772f658c97746095daf69714e9de45e0"
  }
 },
 "nbformat": 4,
 "nbformat_minor": 2
}