{
 "cells": [
  {
   "cell_type": "markdown",
   "source": [
    "## 1. Count numbers"
   ],
   "metadata": {}
  },
  {
   "cell_type": "code",
   "execution_count": 1,
   "source": [
    "#Initialise number to -10\n",
    "number = -10\n",
    "\n",
    "#Run until number is 10 (increment by 1)\n",
    "while (number <= 10):\n",
    "    if number == 10:\n",
    "        print(10)\n",
    "    else:\n",
    "        print(number, end = \", \")\n",
    "    number += 1"
   ],
   "outputs": [
    {
     "output_type": "stream",
     "name": "stdout",
     "text": [
      "-10, -9, -8, -7, -6, -5, -4, -3, -2, -1, 0, 1, 2, 3, 4, 5, 6, 7, 8, 9, 10\n"
     ]
    }
   ],
   "metadata": {}
  },
  {
   "cell_type": "markdown",
   "source": [
    "## 2a. Arithmetic sum"
   ],
   "metadata": {}
  },
  {
   "cell_type": "code",
   "execution_count": 3,
   "source": [
    "#Initialise the number to 1 and the sum to 0\n",
    "number = 1\n",
    "sum = 0\n",
    "\n",
    "#Run until the number is 100 (increment by 1)\n",
    "while number <= 100:\n",
    "    sum += number\n",
    "    number += 1\n",
    "print(f\"The sum of all numbers between 1 and 100 is: {sum}.\")"
   ],
   "outputs": [
    {
     "output_type": "stream",
     "name": "stdout",
     "text": [
      "The sum of all numbers between 1 and 100 is: 5050.\n"
     ]
    }
   ],
   "metadata": {}
  },
  {
   "cell_type": "markdown",
   "source": [
    "## 2b. Arithmetic sum"
   ],
   "metadata": {}
  },
  {
   "cell_type": "code",
   "execution_count": 4,
   "source": [
    "#Initialise the number to 1 and the sum to 0\n",
    "number = 1\n",
    "sum = 0\n",
    "\n",
    "#Run until the number is 99 (increment by 2)\n",
    "while number <= 99:\n",
    "    sum += number\n",
    "    number += 2\n",
    "print(f\"The sum of all odd numbers between 1 and 99 is: {sum}.\")"
   ],
   "outputs": [
    {
     "output_type": "stream",
     "name": "stdout",
     "text": [
      "The sum of all odd numbers between 1 and 99 is: 2500.\n"
     ]
    }
   ],
   "metadata": {}
  },
  {
   "cell_type": "markdown",
   "source": [
    "## 3a. Guess number game"
   ],
   "metadata": {}
  },
  {
   "cell_type": "code",
   "execution_count": 5,
   "source": [
    "import random as rnd\n",
    "\n",
    "#Create a random integer between 1 and 100 and assign it to number\n",
    "number = rnd.randint(1, 100)\n",
    "\n",
    "#Create and initialise the variables \n",
    "guess = 0\n",
    "number_of_guesses = 0\n",
    "\n",
    "#Run a while loop where the system continously takes input from the user\n",
    "while True:\n",
    "    guess = int(input(\"Please guess a number between 1 and 100.\"))\n",
    "    number_of_guesses += 1 #Increment the number of guesses with 1\n",
    "    if guess < number:\n",
    "        print(\"Your guess was too low. Please try again.\")\n",
    "    elif guess > number:\n",
    "        print(\"Your guess was too high. Please try again.\")\n",
    "    else:\n",
    "        print(f\"Congratulations! Your guess was correct! It took you {number_of_guesses} guesses to figure out that the correct number was {number}.\")\n",
    "        break #Break out of the loop when the user guessed the correct number"
   ],
   "outputs": [
    {
     "output_type": "stream",
     "name": "stdout",
     "text": [
      "Your guess was too high. Please try again.\n",
      "Your guess was too low. Please try again.\n",
      "Your guess was too low. Please try again.\n",
      "Your guess was too high. Please try again.\n",
      "Your guess was too high. Please try again.\n",
      "Your guess was too low. Please try again.\n",
      "Your guess was too low. Please try again.\n",
      "Congratulations! Your guess was correct! It took you 8 guesses to figure out that the correct number was 39.\n"
     ]
    }
   ],
   "metadata": {}
  },
  {
   "cell_type": "markdown",
   "source": [
    "## 3b. Guess number game"
   ],
   "metadata": {}
  },
  {
   "cell_type": "code",
   "execution_count": 8,
   "source": [
    "import random as rnd\n",
    "\n",
    "#Create a random integer between 1 and 100 and assign it to number\n",
    "number = rnd.randint(1, 100)\n",
    "\n",
    "#Create and initialise the variables \n",
    "guess = 50 #The guess should always start at 50\n",
    "number_of_guesses = 0\n",
    "min = 1\n",
    "max = 100\n",
    "\n",
    "#Run a while loop where the system continously takes input from the user\n",
    "while True:\n",
    "    number_of_guesses += 1 #Increment the number of guesses with 1\n",
    "    if guess < number:\n",
    "        print(f\"{guess} was too low. Please try again.\")\n",
    "        min = guess + 1 #The number that is 1 larger than the guess is the new minimum\n",
    "        guess = int((max + min)/2) #The next guess should be the number between the maximum and minimum (converted to an integer)\n",
    "    elif guess > number:\n",
    "        print(f\"{guess} was too high. Please try again.\")\n",
    "        max = guess - 1 #The number that is 1 smaller than the guess is the new maximum\n",
    "        guess = int((max + min)/2) #The next guess should be the number between the maximum and minimum (converted to an integer) \n",
    "    else:\n",
    "        print(f\"Congratulations! Your guess was correct! It took you {number_of_guesses} guesses to figure out that the correct number was {number}.\")\n",
    "        break #Break out of the loop when the user guessed the correct number."
   ],
   "outputs": [
    {
     "output_type": "stream",
     "name": "stdout",
     "text": [
      "50 was too high. Please try again.\n",
      "25 was too low. Please try again.\n",
      "37 was too low. Please try again.\n",
      "43 was too high. Please try again.\n",
      "40 was too high. Please try again.\n",
      "Congratulations! Your guess was correct! It took you 6 guesses to figure out that the correct number was 38.\n"
     ]
    }
   ],
   "metadata": {}
  },
  {
   "cell_type": "markdown",
   "source": [
    "## 4a-b. Multiplication game"
   ],
   "metadata": {}
  },
  {
   "cell_type": "code",
   "execution_count": 10,
   "source": [
    "score = 0\n",
    "\n",
    "while True:\n",
    "    print(\"WELCOME TO THE MULTIPLICATION GAME!\")\n",
    "    level = int(input(\"Press 1 for the easy level. Press 2 for the hard level.\"))\n",
    "    if level == 1:\n",
    "        x = rnd.randint(1, 5)\n",
    "        y = rnd.randint(1, 5)\n",
    "    else:\n",
    "        x = rnd.randint(6, 10)\n",
    "        y = rnd.randint(7, 10)\n",
    "    answer = x * y\n",
    "    guess = int(input(f\"What is {x}*{y}?\"))\n",
    "    if answer == guess:\n",
    "        print(\"Good work!\")\n",
    "        score += 1\n",
    "    else:\n",
    "        print(f\"That is not correct. The correct answer is {answer}.\")\n",
    "    play_again = input(\"Do you want to play again? Press y for 'yes' and n for 'no'.\")\n",
    "    if play_again != \"y\":\n",
    "        print(f\"Thank you for playing the game! Your score was {score}. The game will now end.\")\n",
    "        break"
   ],
   "outputs": [
    {
     "output_type": "stream",
     "name": "stdout",
     "text": [
      "WELCOME TO THE MULTIPLICATION GAME!\n",
      "Good work!\n",
      "Thank you for playing the game! Your score was 1. The game will now end.\n"
     ]
    }
   ],
   "metadata": {}
  },
  {
   "cell_type": "markdown",
   "source": [
    "## 6a. Check convergence"
   ],
   "metadata": {}
  },
  {
   "cell_type": "code",
   "execution_count": 12,
   "source": [
    "n = 0\n",
    "sum = 0\n",
    "\n",
    "while n < 10000:\n",
    "    sum += 1/(2**n)\n",
    "    n +=1\n",
    "print(f\"The numbers converges to: {sum:.10f}.\")"
   ],
   "outputs": [
    {
     "output_type": "stream",
     "name": "stdout",
     "text": [
      "The numbers converges to: 2.0000000000.\n"
     ]
    }
   ],
   "metadata": {}
  },
  {
   "cell_type": "markdown",
   "source": [
    "## 6b. Check convergence"
   ],
   "metadata": {}
  },
  {
   "cell_type": "code",
   "execution_count": 13,
   "source": [
    "n = 0\n",
    "sum = 0\n",
    "\n",
    "while n < 10000000:\n",
    "    sum += (-1)**n/(2*n+1)\n",
    "    n +=1\n",
    "print(f\"The numbers converges to: {sum: .10f}.\")"
   ],
   "outputs": [
    {
     "output_type": "stream",
     "name": "stdout",
     "text": [
      "The numbers converges to:  0.7853981384.\n"
     ]
    }
   ],
   "metadata": {}
  }
 ],
 "metadata": {
  "orig_nbformat": 4,
  "language_info": {
   "name": "python",
   "version": "3.9.6",
   "mimetype": "text/x-python",
   "codemirror_mode": {
    "name": "ipython",
    "version": 3
   },
   "pygments_lexer": "ipython3",
   "nbconvert_exporter": "python",
   "file_extension": ".py"
  },
  "kernelspec": {
   "name": "python3",
   "display_name": "Python 3.9.6 64-bit"
  },
  "interpreter": {
   "hash": "aee8b7b246df8f9039afb4144a1f6fd8d2ca17a180786b69acc140d282b71a49"
  }
 },
 "nbformat": 4,
 "nbformat_minor": 2
}