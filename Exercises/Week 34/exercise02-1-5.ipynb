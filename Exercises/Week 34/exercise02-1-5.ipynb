{
 "cells": [
  {
   "cell_type": "markdown",
   "source": [
    "## 1. Count numbers"
   ],
   "metadata": {}
  },
  {
   "cell_type": "code",
   "execution_count": 1,
   "source": [
    "#Initialise number to -10\n",
    "number = -10\n",
    "\n",
    "#Run until number is 10 (increment by 1)\n",
    "while (number <= 10):\n",
    "    print(number, end = \", \")\n",
    "    number += 1"
   ],
   "outputs": [
    {
     "output_type": "stream",
     "name": "stdout",
     "text": [
      "-10, -9, -8, -7, -6, -5, -4, -3, -2, -1, 0, 1, 2, 3, 4, 5, 6, 7, 8, 9, 10, "
     ]
    }
   ],
   "metadata": {}
  },
  {
   "cell_type": "markdown",
   "source": [
    "## 2a. Arithmetic sum"
   ],
   "metadata": {}
  },
  {
   "cell_type": "code",
   "execution_count": 39,
   "source": [
    "#Initialise the number to 1 and the sum to 0\n",
    "number = 1\n",
    "sum = 0\n",
    "\n",
    "#Run until the number is 100 (increment by 1)\n",
    "while number <= 100:\n",
    "    sum += number\n",
    "    number += 1\n",
    "print(sum)"
   ],
   "outputs": [
    {
     "output_type": "stream",
     "name": "stdout",
     "text": [
      "5050\n"
     ]
    }
   ],
   "metadata": {}
  },
  {
   "cell_type": "markdown",
   "source": [
    "## 2b. Arithmetic sum"
   ],
   "metadata": {}
  },
  {
   "cell_type": "code",
   "execution_count": 40,
   "source": [
    "#Initialise the number to 1 and the sum to 0\n",
    "number = 1\n",
    "sum = 0\n",
    "\n",
    "#Run until the number is 100 (increment by 2)\n",
    "while number <= 99:\n",
    "    sum += number\n",
    "    number += 2\n",
    "print(sum)"
   ],
   "outputs": [
    {
     "output_type": "stream",
     "name": "stdout",
     "text": [
      "2500\n"
     ]
    }
   ],
   "metadata": {}
  },
  {
   "cell_type": "markdown",
   "source": [
    "## 3a. Guess number game"
   ],
   "metadata": {}
  },
  {
   "cell_type": "code",
   "execution_count": 12,
   "source": [
    "import random as rnd\n",
    "\n",
    "#Create a random integer between 1 and 100 and assign it to number\n",
    "number = rnd.randint(1, 100)\n",
    "\n",
    "#Create and initialise the variables \n",
    "guess = 0\n",
    "number_of_guesses = 0\n",
    "\n",
    "#Run a while loop where the system continously takes input from the user.\n",
    "while True:\n",
    "    guess = int(input(\"Please guess a number between 1 and 100.\"))\n",
    "    number_of_guesses += 1 #Increment the number of guesses with 1\n",
    "    if guess < number:\n",
    "        print(\"Your guess was too low. Please try again.\")\n",
    "    elif guess > number:\n",
    "        print(\"Your guess was too high. Please try again.\")\n",
    "    else:\n",
    "        print(f\"Congratulations! Your guess was correct! It took you {number_of_guesses} guesses to figure out that the correct number was {number}.\")\n",
    "        break #Break out of the loop when the user guessed the correct number."
   ],
   "outputs": [
    {
     "output_type": "stream",
     "name": "stdout",
     "text": [
      "Your guess was too high. Please try again.\n",
      "Your guess was too low. Please try again.\n",
      "Congratulations! Your guess was correct! It took you 3 guesses to figure out that the correct number was 45.\n"
     ]
    }
   ],
   "metadata": {}
  },
  {
   "cell_type": "markdown",
   "source": [
    "## 3b. Guess number game"
   ],
   "metadata": {}
  },
  {
   "cell_type": "code",
   "execution_count": 31,
   "source": [
    "import random as rnd\n",
    "\n",
    "#Create a random integer between 1 and 100 and assign it to number\n",
    "number = rnd.randint(1, 100)\n",
    "\n",
    "#Create and initialise the variables \n",
    "guess = 50\n",
    "number_of_guesses = 0\n",
    "min = 1\n",
    "max = 100\n",
    "\n",
    "#Run a while loop where the system continously takes input from the user.\n",
    "while True:\n",
    "    number_of_guesses += 1 #Increment the number of guesses with 1\n",
    "    if guess < number:\n",
    "        print(f\"{guess} was too low. Please try again.\")\n",
    "        min = guess + 1\n",
    "        guess = int((max + min)/2)  \n",
    "    elif guess > number:\n",
    "        print(f\"{guess} was too high. Please try again.\")\n",
    "        max = guess - 1\n",
    "        guess = int((max + min)/2)  \n",
    "    else:\n",
    "        print(f\"Congratulations! Your guess was correct! It took you {number_of_guesses} guesses to figure out that the correct number was {number}.\")\n",
    "        break #Break out of the loop when the user guessed the correct number."
   ],
   "outputs": [
    {
     "output_type": "stream",
     "name": "stdout",
     "text": [
      "50 was too high. Please try again.\n",
      "25 was too high. Please try again.\n",
      "12 was too low. Please try again.\n",
      "18 was too low. Please try again.\n",
      "Congratulations! Your guess was correct! It took you 5 guesses to figure out that the correct number was 21.\n"
     ]
    }
   ],
   "metadata": {}
  },
  {
   "cell_type": "markdown",
   "source": [
    "## 4. Multiplication game"
   ],
   "metadata": {}
  },
  {
   "cell_type": "code",
   "execution_count": null,
   "source": [],
   "outputs": [],
   "metadata": {}
  }
 ],
 "metadata": {
  "orig_nbformat": 4,
  "language_info": {
   "name": "python",
   "version": "3.9.6",
   "mimetype": "text/x-python",
   "codemirror_mode": {
    "name": "ipython",
    "version": 3
   },
   "pygments_lexer": "ipython3",
   "nbconvert_exporter": "python",
   "file_extension": ".py"
  },
  "kernelspec": {
   "name": "python3",
   "display_name": "Python 3.9.6 64-bit"
  },
  "interpreter": {
   "hash": "aee8b7b246df8f9039afb4144a1f6fd8d2ca17a180786b69acc140d282b71a49"
  }
 },
 "nbformat": 4,
 "nbformat_minor": 2
}