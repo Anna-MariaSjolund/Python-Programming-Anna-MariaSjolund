{
 "cells": [
  {
   "cell_type": "markdown",
   "source": [
    "## 1. Check sign"
   ],
   "metadata": {}
  },
  {
   "cell_type": "code",
   "execution_count": 7,
   "source": [
    "#Asks the user for input and convert it into an integer.\n",
    "number = int(input(\"Please enter a number.\"))\n",
    "\n",
    "#Checks if the number is less than, larger than or equal to 0.\n",
    "if number < 0:\n",
    "    print(\"The number is less than 0.\")\n",
    "elif number > 0:\n",
    "    print(\"The number is larger than 0.\")\n",
    "else:\n",
    "    print(\"The number is 0.\")"
   ],
   "outputs": [
    {
     "output_type": "stream",
     "name": "stdout",
     "text": [
      "The number is larger than 0.\n"
     ]
    }
   ],
   "metadata": {}
  },
  {
   "cell_type": "markdown",
   "source": [
    "## 2. Smallest"
   ],
   "metadata": {}
  },
  {
   "cell_type": "code",
   "execution_count": 15,
   "source": [
    "#Asks the user to input two numbers and convert them to integers.\n",
    "number1 = int(input(\"Please enter the first number.\"))\n",
    "number2 = int(input(\"Please enter the second number.\"))\n",
    "\n",
    "if number1 < number2:\n",
    "    print(f\"{number1} is the smallest number.\")\n",
    "else:\n",
    "    print(f\"{number2} is the smallest number.\")"
   ],
   "outputs": [
    {
     "output_type": "stream",
     "name": "stdout",
     "text": [
      "-5 is the smallest number.\n"
     ]
    }
   ],
   "metadata": {}
  },
  {
   "cell_type": "markdown",
   "source": [
    "## 3. Right angle"
   ],
   "metadata": {}
  },
  {
   "cell_type": "code",
   "execution_count": 24,
   "source": [
    "while True:\n",
    "    #Asks the user to input three angles and convert them to integers.\n",
    "    angle1 = int(input(\"Please enter the first angle in degrees.\"))\n",
    "    angle2 = int(input(\"Please enter the second angle in degrees.\"))\n",
    "    angle3 = int(input(\"Please enter the third angle in degrees.\"))\n",
    "\n",
    "    if (angle1 + angle2 + angle3) == 180: #Checks if the combined angles correspond to 180 degrees.\n",
    "        if (angle1 == 90) or (angle2 == 90) or (angle3 == 90): #If one of the angles is 90 degrees.\n",
    "            print(\"The triangle has a right angle.\")\n",
    "            break\n",
    "        else:\n",
    "            print(\"The triangle does not have a right angle.\")\n",
    "            break\n",
    "    else:\n",
    "        print(\"The combined angles do not correspond to 180 degrees.\") #Prints error message, if the angles are not 180 degrees when summed."
   ],
   "outputs": [
    {
     "output_type": "stream",
     "name": "stdout",
     "text": [
      "The triangle does not have a right angle.\n"
     ]
    }
   ],
   "metadata": {}
  },
  {
   "cell_type": "markdown",
   "source": [
    "## 4. Medicine"
   ],
   "metadata": {}
  },
  {
   "cell_type": "code",
   "execution_count": 31,
   "source": [
    "#Lets the user input age and weight of the child, and convert them to integers.\n",
    "age = int(input(\"Please enter the child's age.\"))\n",
    "weight = int(input(\"Please enter the child's weight\"))\n",
    "\n",
    "#Recommends the number of pills the child should take, based on his/her weight.\n",
    "if weight > 40:\n",
    "    print(\"The child should take 1-2 pills.\")\n",
    "elif (weight >= 26) and (weight <= 40):\n",
    "    print(\"The child should take 1/2-1 pill.\")\n",
    "elif (weight >= 15) and (weight <= 25):\n",
    "    print(\"The child should take 1/2 pill.\")\n",
    "else:\n",
    "    print(\"The child should not take any pills.\")"
   ],
   "outputs": [
    {
     "output_type": "stream",
     "name": "stdout",
     "text": [
      "The child should not take any pills.\n"
     ]
    }
   ],
   "metadata": {}
  },
  {
   "cell_type": "markdown",
   "source": [
    "## 5. Divisible"
   ],
   "metadata": {}
  },
  {
   "cell_type": "code",
   "execution_count": 38,
   "source": [
    "#Lets the user input a number and convert it to an integer.\n",
    "number = int(input(\"Please enter a number\"))\n",
    "\n",
    "#Checks if the number is even or odd (divisible by 2).\n",
    "if number % 2 == 0:\n",
    "    print(\"The number is even.\")\n",
    "else:\n",
    "    print(\"The number is odd.\")\n",
    "\n",
    "#Checks if the number is divisible by 5.\n",
    "if number % 5 == 0:\n",
    "    print(\"The number is divisible by 5.\")\n",
    "else:\n",
    "    print(\"The number is not divisible by 5.\")\n",
    "\n",
    "#Checks if the number is odd and divisble by 5.\n",
    "if (number % 2 == 1) and (number % 5 == 0):\n",
    "    print(\"The number is odd and divisible by 5.\")\n",
    "else:\n",
    "    print(\"The number is not odd and/or divisible by 5.\")"
   ],
   "outputs": [
    {
     "output_type": "stream",
     "name": "stdout",
     "text": [
      "The number is odd.\n",
      "The number is not divisible by 5.\n",
      "The number is not odd and/or divisible by 5.\n"
     ]
    }
   ],
   "metadata": {}
  },
  {
   "cell_type": "markdown",
   "source": [
    "## 5. Luggage size"
   ],
   "metadata": {}
  },
  {
   "cell_type": "code",
   "execution_count": 42,
   "source": [
    "#Lets the user input weight, length, width and height of the luggage and convert them to integers.\n",
    "weight = int(input(\"Please enter the weight of the luggage.\"))\n",
    "length = int(input(\"Please enter the length of the luggage.\"))\n",
    "width = int(input(\"Please enter the width of the luggage.\"))\n",
    "height = int(input(\"Please enter the height of the luggage.\"))\n",
    "\n",
    "#Checks if the luggage meets all of the required conditions for weight, length, width and height.\n",
    "if (weight <= 8) and (length <= 55) and (width <= 40) and (height <=  23):\n",
    "    print(\"The luggages is allowed for boarding the airplane.\")\n",
    "else:\n",
    "    print(\"The luggage is not allowed for boarding the airplane.\")"
   ],
   "outputs": [
    {
     "output_type": "stream",
     "name": "stdout",
     "text": [
      "The luggage is not allowed for boarding the airplane.\n"
     ]
    }
   ],
   "metadata": {}
  }
 ],
 "metadata": {
  "orig_nbformat": 4,
  "language_info": {
   "name": "python",
   "version": "3.9.6",
   "mimetype": "text/x-python",
   "codemirror_mode": {
    "name": "ipython",
    "version": 3
   },
   "pygments_lexer": "ipython3",
   "nbconvert_exporter": "python",
   "file_extension": ".py"
  },
  "kernelspec": {
   "name": "python3",
   "display_name": "Python 3.9.6 64-bit"
  },
  "interpreter": {
   "hash": "aee8b7b246df8f9039afb4144a1f6fd8d2ca17a180786b69acc140d282b71a49"
  }
 },
 "nbformat": 4,
 "nbformat_minor": 2
}