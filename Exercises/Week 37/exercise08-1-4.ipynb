{
 "cells": [
  {
   "cell_type": "markdown",
   "source": [
    "## 1. Dice rolls"
   ],
   "metadata": {}
  },
  {
   "cell_type": "code",
   "execution_count": 7,
   "source": [
    "import random as rnd \n",
    "\n",
    "path = \"files/dice_rolls.txt\" #Sets the path to our file\n",
    "with open(path, \"w\") as dice: #Open the file using write\n",
    "    \n",
    "    dice.write(\"Simulated Dice Rolls: \") #Write the first line\n",
    "\n",
    "    dice_rolls_list = [] #Creates an empty list\n",
    "    i = 0 #Initialise i to 0 so that we can later remove the last comma\n",
    "    for roll in range(20): #Run this 20 times\n",
    "        dice_rolls_list.append(rnd.randint(1, 6)) #Append a random number (between 1 and 6) to the list\n",
    "        if i == 19:\n",
    "            dice.write(f\"{str(dice_rolls_list[i])}\") #Print the final output without a comma\n",
    "        else: \n",
    "            dice.write(f\"{str(dice_rolls_list[i])}, \") #Print the output with a comma after\n",
    "        i += 1 #Incremenet i with 1\n",
    "\n",
    "    dice.write(\"\\nSorted Dice Rolls: \") #Starting wit a new line, write a second line\n",
    "\n",
    "    dice_rolls_sorted = sorted(dice_rolls_list) #Sort the list and store it in a new list\n",
    "    i = 0 #Initialise i to 0 again\n",
    "    for roll in dice_rolls_sorted: #Run this 20 times\n",
    "        if i == 19:\n",
    "            dice.write(f\"{str(dice_rolls_sorted[i])}\") #Print the final output without a comma\n",
    "        else: \n",
    "            dice.write(f\"{str(dice_rolls_sorted[i])}, \") #Print the output with a comma after\n",
    "        i += 1 #Incremenet i with 1\n",
    "\n",
    "    number_of_fours = str(dice_rolls_list.count(4)) #Count the number of fours and save the output as a string\n",
    "    dice.write(f\"\\nNumber of Fours: {number_of_fours}\") #Starting with a new line, write the number of fours to the textfile"
   ],
   "outputs": [],
   "metadata": {}
  }
 ],
 "metadata": {
  "orig_nbformat": 4,
  "language_info": {
   "name": "python",
   "version": "3.9.6",
   "mimetype": "text/x-python",
   "codemirror_mode": {
    "name": "ipython",
    "version": 3
   },
   "pygments_lexer": "ipython3",
   "nbconvert_exporter": "python",
   "file_extension": ".py"
  },
  "kernelspec": {
   "name": "python3",
   "display_name": "Python 3.9.6 64-bit ('python-programming-Anna-Maria-Sjolund-Htb3K3oR': pipenv)"
  },
  "interpreter": {
   "hash": "d058bb7a222ccb114394dd2dbf09376c772f658c97746095daf69714e9de45e0"
  }
 },
 "nbformat": 4,
 "nbformat_minor": 2
}