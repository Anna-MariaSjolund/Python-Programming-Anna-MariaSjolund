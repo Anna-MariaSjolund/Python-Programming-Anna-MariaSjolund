{
 "cells": [
  {
   "cell_type": "markdown",
   "source": [
    "## 1. Dice rolls"
   ],
   "metadata": {}
  },
  {
   "cell_type": "code",
   "execution_count": 7,
   "source": [
    "import random as rnd \n",
    "\n",
    "path = \"files/dice_rolls.txt\" #Sets the path to our file\n",
    "with open(path, \"w\") as dice: #Open the file using write\n",
    "    \n",
    "    dice.write(\"Simulated Dice Rolls: \") #Write the first line\n",
    "\n",
    "    dice_rolls_list = [] #Creates an empty list\n",
    "    i = 0 #Initialise i to 0 so that we can later remove the last comma\n",
    "    for roll in range(20): #Run this 20 times\n",
    "        dice_rolls_list.append(rnd.randint(1, 6)) #Append a random number (between 1 and 6) to the list\n",
    "        if i == 19:\n",
    "            dice.write(f\"{str(dice_rolls_list[i])}\") #Print the final output without a comma\n",
    "        else: \n",
    "            dice.write(f\"{str(dice_rolls_list[i])}, \") #Print the output with a comma after\n",
    "        i += 1 #Incremenet i with 1\n",
    "\n",
    "    dice.write(\"\\nSorted Dice Rolls: \") #Starting wit a new line, write a second line\n",
    "\n",
    "    dice_rolls_sorted = sorted(dice_rolls_list) #Sort the list and store it in a new list\n",
    "    i = 0 #Initialise i to 0 again\n",
    "    for roll in dice_rolls_sorted: #Run this 20 times\n",
    "        if i == 19:\n",
    "            dice.write(f\"{str(dice_rolls_sorted[i])}\") #Print the final output without a comma\n",
    "        else: \n",
    "            dice.write(f\"{str(dice_rolls_sorted[i])}, \") #Print the output with a comma after\n",
    "        i += 1 #Incremenet i with 1\n",
    "\n",
    "    number_of_fours = str(dice_rolls_list.count(4)) #Count the number of fours and save the output as a string\n",
    "    dice.write(f\"\\nNumber of Fours: {number_of_fours}\") #Starting with a new line, write the number of fours to the textfile"
   ],
   "outputs": [],
   "metadata": {}
  },
  {
   "cell_type": "markdown",
   "source": [
    "## 2. Test results"
   ],
   "metadata": {}
  },
  {
   "cell_type": "code",
   "execution_count": 61,
   "source": [
    "path2 = \"files/test_result.txt\"\n",
    "\n",
    "with open (path2, \"r\") as f1, open (path2, \"a\") as f2:\n",
    "    results = [result.strip(\"\\n\") for result in f1] #Removes the \\n that are created when reading in the data\n",
    "    print(results)\n",
    "\n",
    "    results_sorted = sorted(results) #Sort the results\n",
    "    f2.write(f\"\\n\\nSorted Alphabetically:\\n\")\n",
    "    i = 1\n",
    "    for result in results_sorted:\n",
    "        if i == 19:\n",
    "            f2.write(f\"{result}\")\n",
    "        else:\n",
    "            f2.write(f\"{result}\\n\") \n",
    "        i += 1 "
   ],
   "outputs": [
    {
     "output_type": "stream",
     "name": "stdout",
     "text": [
      "['Adam Gustafsson 25', 'Emil Johansson 23', 'Sven Erik Karlsson 13', 'Ove Karlsten 41', 'Emma Boden 32', 'Ida Håkansson 23', 'Ella Ester 41', 'Hanna Karlsson 23 ', 'Johan Johansson 42', 'Sven Erik Lundin 39', 'Björn Björnsson 39', 'Karl Karlsson 32', 'Bose Bosseson 32', 'Håkan Håkanson 24', 'Jonas Jonasson 31', 'Erik Eriksson 31', 'Gore Bord 55', 'Jakob Kallander 65', 'Fredrika Ulven 10']\n"
     ]
    }
   ],
   "metadata": {}
  },
  {
   "cell_type": "code",
   "execution_count": 62,
   "source": [
    "from operator import itemgetter\n",
    "\n",
    "with open(path2, \"a\") as f2:\n",
    "    results_as_list = [person.split() for person in results_sorted] #Split at empty spaces\n",
    "    results_as_list = [[\" \".join(person[:-1]), int(person[-1])] for person in results_as_list] #Join the name/s together and save them in a list together with the result converted to an integer\n",
    "\n",
    "    list_sorted_by_result = sorted(results_as_list, key=itemgetter(-1)) #Sort the result by the last index (result)\n",
    "\n",
    "    f2.write(\"\\n\\nSorted Results:\")\n",
    "\n",
    "    grades = [\"F\", \"E\", \"D\", \"C\", \"B\", \"A\"]\n",
    "\n",
    "    i = 10\n",
    "    j = 20\n",
    "    for grade in grades:\n",
    "        f2.write(f\"\\nGrade {grade}:\")\n",
    "        for result in list_sorted_by_result:\n",
    "            if result[1] >= i and result[1] < j:\n",
    "                f2.write(f\"\\n{result[0]} {result[1]}\")\n",
    "        i += 10\n",
    "        j += 10            "
   ],
   "outputs": [],
   "metadata": {}
  },
  {
   "cell_type": "markdown",
   "source": [
    "## 3. National test"
   ],
   "metadata": {}
  },
  {
   "cell_type": "code",
   "execution_count": null,
   "source": [
    "with open "
   ],
   "outputs": [],
   "metadata": {}
  }
 ],
 "metadata": {
  "orig_nbformat": 4,
  "language_info": {
   "name": "python",
   "version": "3.9.6",
   "mimetype": "text/x-python",
   "codemirror_mode": {
    "name": "ipython",
    "version": 3
   },
   "pygments_lexer": "ipython3",
   "nbconvert_exporter": "python",
   "file_extension": ".py"
  },
  "kernelspec": {
   "name": "python3",
   "display_name": "Python 3.9.6 64-bit ('python-programming-Anna-Maria-Sjolund-Htb3K3oR': pipenv)"
  },
  "interpreter": {
   "hash": "d058bb7a222ccb114394dd2dbf09376c772f658c97746095daf69714e9de45e0"
  }
 },
 "nbformat": 4,
 "nbformat_minor": 2
}