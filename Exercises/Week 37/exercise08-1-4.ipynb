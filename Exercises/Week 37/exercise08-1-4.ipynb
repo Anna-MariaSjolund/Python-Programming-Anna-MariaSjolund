{
 "cells": [
  {
   "cell_type": "markdown",
   "source": [
    "## 1. Dice rolls"
   ],
   "metadata": {}
  },
  {
   "cell_type": "code",
   "execution_count": 7,
   "source": [
    "import random as rnd \n",
    "\n",
    "path = \"files/dice_rolls.txt\" #Sets the path to our file\n",
    "with open(path, \"w\") as dice: #Open the file using write\n",
    "    \n",
    "    dice.write(\"Simulated Dice Rolls: \") #Write the first line\n",
    "\n",
    "    dice_rolls_list = [] #Creates an empty list\n",
    "    i = 0 #Initialise i to 0 so that we can later remove the last comma\n",
    "    for roll in range(20): #Run this 20 times\n",
    "        dice_rolls_list.append(rnd.randint(1, 6)) #Append a random number (between 1 and 6) to the list\n",
    "        if i == 19:\n",
    "            dice.write(f\"{str(dice_rolls_list[i])}\") #Print the final output without a comma\n",
    "        else: \n",
    "            dice.write(f\"{str(dice_rolls_list[i])}, \") #Print the output with a comma after\n",
    "        i += 1 #Incremenet i with 1\n",
    "\n",
    "    dice.write(\"\\nSorted Dice Rolls: \") #Starting wit a new line, write a second line\n",
    "\n",
    "    dice_rolls_sorted = sorted(dice_rolls_list) #Sort the list and store it in a new list\n",
    "    i = 0 #Initialise i to 0 again\n",
    "    for roll in dice_rolls_sorted: #Run this 20 times\n",
    "        if i == 19:\n",
    "            dice.write(f\"{str(dice_rolls_sorted[i])}\") #Print the final output without a comma\n",
    "        else: \n",
    "            dice.write(f\"{str(dice_rolls_sorted[i])}, \") #Print the output with a comma after\n",
    "        i += 1 #Incremenet i with 1\n",
    "\n",
    "    number_of_fours = str(dice_rolls_list.count(4)) #Count the number of fours and save the output as a string\n",
    "    dice.write(f\"\\nNumber of Fours: {number_of_fours}\") #Starting with a new line, write the number of fours to the textfile"
   ],
   "outputs": [],
   "metadata": {}
  },
  {
   "cell_type": "markdown",
   "source": [
    "## 2. Test results"
   ],
   "metadata": {}
  },
  {
   "cell_type": "code",
   "execution_count": 61,
   "source": [
    "path2 = \"files/test_result.txt\"\n",
    "\n",
    "with open (path2, \"r\") as f1, open (path2, \"a\") as f2:\n",
    "    results = [result.strip(\"\\n\") for result in f1] #Removes the \\n that are created when reading in the data\n",
    "    print(results)\n",
    "\n",
    "    results_sorted = sorted(results) #Sort the results\n",
    "    f2.write(f\"\\n\\nSorted Alphabetically:\\n\")\n",
    "    i = 1\n",
    "    for result in results_sorted:\n",
    "        if i == 19:\n",
    "            f2.write(f\"{result}\")\n",
    "        else:\n",
    "            f2.write(f\"{result}\\n\") \n",
    "        i += 1 "
   ],
   "outputs": [
    {
     "output_type": "stream",
     "name": "stdout",
     "text": [
      "['Adam Gustafsson 25', 'Emil Johansson 23', 'Sven Erik Karlsson 13', 'Ove Karlsten 41', 'Emma Boden 32', 'Ida Håkansson 23', 'Ella Ester 41', 'Hanna Karlsson 23 ', 'Johan Johansson 42', 'Sven Erik Lundin 39', 'Björn Björnsson 39', 'Karl Karlsson 32', 'Bose Bosseson 32', 'Håkan Håkanson 24', 'Jonas Jonasson 31', 'Erik Eriksson 31', 'Gore Bord 55', 'Jakob Kallander 65', 'Fredrika Ulven 10']\n"
     ]
    }
   ],
   "metadata": {}
  },
  {
   "cell_type": "code",
   "execution_count": 62,
   "source": [
    "from operator import itemgetter\n",
    "\n",
    "with open(path2, \"a\") as f2:\n",
    "    results_as_list = [person.split() for person in results_sorted] #Split at empty spaces\n",
    "    results_as_list = [[\" \".join(person[:-1]), int(person[-1])] for person in results_as_list] #Join the name/s together and save them in a list together with the result converted to an integer\n",
    "\n",
    "    list_sorted_by_result = sorted(results_as_list, key=itemgetter(-1)) #Sort the result by the last index (result)\n",
    "\n",
    "    f2.write(\"\\n\\nSorted Results:\")\n",
    "\n",
    "    grades = [\"F\", \"E\", \"D\", \"C\", \"B\", \"A\"]\n",
    "\n",
    "    i = 10\n",
    "    j = 20\n",
    "    for grade in grades:\n",
    "        f2.write(f\"\\nGrade {grade}:\")\n",
    "        for result in list_sorted_by_result:\n",
    "            if result[1] >= i and result[1] < j:\n",
    "                f2.write(f\"\\n{result[0]} {result[1]}\")\n",
    "        i += 10\n",
    "        j += 10            "
   ],
   "outputs": [],
   "metadata": {}
  },
  {
   "cell_type": "markdown",
   "source": [
    "## 3. National test"
   ],
   "metadata": {}
  },
  {
   "cell_type": "code",
   "execution_count": 48,
   "source": [
    "with open(\"files/NPvt19Ma2A.txt\", \"r\") as np2A:\n",
    "    results2A = [line.strip(\"\\n\") for line in np2A.readlines()] #Reads in each line and removes the \\n that will be added \n",
    "    results2A = [result.split() for result in results2A] #Split the results at blank spaces \n",
    "    grade2A = [result[0] for result in results2A] #Adds the first element (grade)\n",
    "    percentage_grade2A = [float(result[1].replace(\"%\", \"\")) for result in results2A] #Adds the second element (percentage), removes the % sign and converts it to a float\n",
    "\n",
    "with open(\"files/NPvt19Ma2C.txt\", \"r\") as np2C:\n",
    "    results2C = [line.strip(\"\\n\") for line in np2C.readlines()] #Reads in each line and removes the \\n that will be added \n",
    "    results2C = [result.split() for result in results2C] #Split the results at blank spaces \n",
    "    grade2C = [result[0] for result in results2C] #Adds the first element (grade)\n",
    "    percentage_grade2C = [float(result[1].replace(\"%\", \"\")) for result in results2C] #Adds the second element (percentage), removes the % sign and converts it to a float"
   ],
   "outputs": [],
   "metadata": {}
  },
  {
   "cell_type": "code",
   "execution_count": 68,
   "source": [
    "import matplotlib.pyplot as plt\n",
    "\n",
    "fig1, ax1 = plt.subplots() #Figure is 432x288, AxesSubplot is (0.125,0.125;0.775x0.755)\n",
    "_ = ax1.pie(percentage_grade2A, labels = grade2A) #Assigns it to _ so we do not get output in text form\n",
    "_ = plt.title(\"NP Ma2A\")\n"
   ],
   "outputs": [
    {
     "output_type": "display_data",
     "data": {
      "text/plain": [
       "<Figure size 432x288 with 1 Axes>"
      ],
      "image/svg+xml": "<?xml version=\"1.0\" encoding=\"utf-8\" standalone=\"no\"?>\n<!DOCTYPE svg PUBLIC \"-//W3C//DTD SVG 1.1//EN\"\n  \"http://www.w3.org/Graphics/SVG/1.1/DTD/svg11.dtd\">\n<svg height=\"246.958125pt\" version=\"1.1\" viewBox=\"0 0 231.84 246.958125\" width=\"231.84pt\" xmlns=\"http://www.w3.org/2000/svg\" xmlns:xlink=\"http://www.w3.org/1999/xlink\">\n <metadata>\n  <rdf:RDF xmlns:cc=\"http://creativecommons.org/ns#\" xmlns:dc=\"http://purl.org/dc/elements/1.1/\" xmlns:rdf=\"http://www.w3.org/1999/02/22-rdf-syntax-ns#\">\n   <cc:Work>\n    <dc:type rdf:resource=\"http://purl.org/dc/dcmitype/StillImage\"/>\n    <dc:date>2021-09-13T22:04:16.971027</dc:date>\n    <dc:format>image/svg+xml</dc:format>\n    <dc:creator>\n     <cc:Agent>\n      <dc:title>Matplotlib v3.4.3, https://matplotlib.org/</dc:title>\n     </cc:Agent>\n    </dc:creator>\n   </cc:Work>\n  </rdf:RDF>\n </metadata>\n <defs>\n  <style type=\"text/css\">*{stroke-linecap:butt;stroke-linejoin:round;}</style>\n </defs>\n <g id=\"figure_1\">\n  <g id=\"patch_1\">\n   <path d=\"M 0 246.958125 \nL 231.84 246.958125 \nL 231.84 0 \nL 0 0 \nz\n\" style=\"fill:none;\"/>\n  </g>\n  <g id=\"axes_1\">\n   <g id=\"patch_2\">\n    <path d=\"M 202.896 131.038125 \nC 202.896 131.038125 202.896 131.038125 202.896 131.038125 \nL 115.92 131.038125 \nL 202.896 131.038125 \nz\n\" style=\"fill:#1f77b4;\"/>\n   </g>\n   <g id=\"patch_3\">\n    <path d=\"M 202.896 131.038125 \nC 202.896 131.038125 202.896 131.038125 202.896 131.038125 \nL 115.92 131.038125 \nL 202.896 131.038125 \nz\n\" style=\"fill:#ff7f0e;\"/>\n   </g>\n   <g id=\"patch_4\">\n    <path d=\"M 202.896 131.038125 \nC 202.896 128.851921 202.813572 126.666494 202.648893 124.486501 \nC 202.484213 122.306508 202.237398 120.133499 201.908974 117.972104 \nL 115.92 131.038125 \nL 202.896 131.038125 \nz\n\" style=\"fill:#2ca02c;\"/>\n   </g>\n   <g id=\"patch_5\">\n    <path d=\"M 201.908974 117.972104 \nC 201.183372 113.196834 200.061248 108.490295 198.554246 103.901325 \nC 197.047245 99.312356 195.160596 94.856884 192.913878 90.581143 \nL 115.92 131.038125 \nL 201.908974 117.972104 \nz\n\" style=\"fill:#d62728;\"/>\n   </g>\n   <g id=\"patch_6\">\n    <path d=\"M 192.913878 90.581143 \nC 184.956469 75.437359 172.705269 62.972624 157.701232 54.754751 \nC 142.697196 46.536877 125.596921 42.925491 108.551278 44.374831 \nC 91.505634 45.824172 75.260563 52.270814 61.859368 62.9039 \nC 48.458173 73.536986 38.487308 87.891197 33.200909 104.161063 \nL 115.92 131.038125 \nL 192.913878 90.581143 \nz\n\" style=\"fill:#9467bd;\"/>\n   </g>\n   <g id=\"patch_7\">\n    <path d=\"M 33.200909 104.161063 \nC 29.315908 116.117866 28.069183 128.776076 29.546878 141.261058 \nC 31.024573 153.746041 35.191851 165.763461 41.76077 176.482961 \nC 48.329688 187.202461 57.145384 196.371328 67.598725 203.356027 \nC 78.052067 210.340726 89.896616 214.976593 102.313959 216.943307 \nC 114.731302 218.91002 127.428699 218.161215 139.528808 214.748631 \nC 151.628917 211.336046 162.846477 205.340135 172.406397 197.175191 \nC 181.966317 189.010248 189.64322 178.868761 194.906663 167.45147 \nC 200.170105 156.034178 202.896001 143.610246 202.896 131.038119 \nL 115.92 131.038125 \nL 33.200909 104.161063 \nz\n\" style=\"fill:#8c564b;\"/>\n   </g>\n   <g id=\"matplotlib.axis_1\"/>\n   <g id=\"matplotlib.axis_2\"/>\n   <g id=\"text_1\">\n    <!-- A -->\n    <g transform=\"translate(211.5936 133.7975)scale(0.1 -0.1)\">\n     <defs>\n      <path d=\"M 2188 4044 \nL 1331 1722 \nL 3047 1722 \nL 2188 4044 \nz\nM 1831 4666 \nL 2547 4666 \nL 4325 0 \nL 3669 0 \nL 3244 1197 \nL 1141 1197 \nL 716 0 \nL 50 0 \nL 1831 4666 \nz\n\" id=\"DejaVuSans-41\" transform=\"scale(0.015625)\"/>\n     </defs>\n     <use xlink:href=\"#DejaVuSans-41\"/>\n    </g>\n   </g>\n   <g id=\"text_2\">\n    <!-- B -->\n    <g transform=\"translate(211.5936 133.7975)scale(0.1 -0.1)\">\n     <defs>\n      <path d=\"M 1259 2228 \nL 1259 519 \nL 2272 519 \nQ 2781 519 3026 730 \nQ 3272 941 3272 1375 \nQ 3272 1813 3026 2020 \nQ 2781 2228 2272 2228 \nL 1259 2228 \nz\nM 1259 4147 \nL 1259 2741 \nL 2194 2741 \nQ 2656 2741 2882 2914 \nQ 3109 3088 3109 3444 \nQ 3109 3797 2882 3972 \nQ 2656 4147 2194 4147 \nL 1259 4147 \nz\nM 628 4666 \nL 2241 4666 \nQ 2963 4666 3353 4366 \nQ 3744 4066 3744 3513 \nQ 3744 3084 3544 2831 \nQ 3344 2578 2956 2516 \nQ 3422 2416 3680 2098 \nQ 3938 1781 3938 1306 \nQ 3938 681 3513 340 \nQ 3088 0 2303 0 \nL 628 0 \nL 628 4666 \nz\n\" id=\"DejaVuSans-42\" transform=\"scale(0.015625)\"/>\n     </defs>\n     <use xlink:href=\"#DejaVuSans-42\"/>\n    </g>\n   </g>\n   <g id=\"text_3\">\n    <!-- C -->\n    <g transform=\"translate(211.321782 126.590713)scale(0.1 -0.1)\">\n     <defs>\n      <path d=\"M 4122 4306 \nL 4122 3641 \nQ 3803 3938 3442 4084 \nQ 3081 4231 2675 4231 \nQ 1875 4231 1450 3742 \nQ 1025 3253 1025 2328 \nQ 1025 1406 1450 917 \nQ 1875 428 2675 428 \nQ 3081 428 3442 575 \nQ 3803 722 4122 1019 \nL 4122 359 \nQ 3791 134 3420 21 \nQ 3050 -91 2638 -91 \nQ 1578 -91 968 557 \nQ 359 1206 359 2328 \nQ 359 3453 968 4101 \nQ 1578 4750 2638 4750 \nQ 3056 4750 3426 4639 \nQ 3797 4528 4122 4306 \nz\n\" id=\"DejaVuSans-43\" transform=\"scale(0.015625)\"/>\n     </defs>\n     <use xlink:href=\"#DejaVuSans-43\"/>\n    </g>\n   </g>\n   <g id=\"text_4\">\n    <!-- D -->\n    <g transform=\"translate(206.817671 103.94702)scale(0.1 -0.1)\">\n     <defs>\n      <path d=\"M 1259 4147 \nL 1259 519 \nL 2022 519 \nQ 2988 519 3436 956 \nQ 3884 1394 3884 2338 \nQ 3884 3275 3436 3711 \nQ 2988 4147 2022 4147 \nL 1259 4147 \nz\nM 628 4666 \nL 1925 4666 \nQ 3281 4666 3915 4102 \nQ 4550 3538 4550 2338 \nQ 4550 1131 3912 565 \nQ 3275 0 1925 0 \nL 628 0 \nL 628 4666 \nz\n\" id=\"DejaVuSans-44\" transform=\"scale(0.015625)\"/>\n     </defs>\n     <use xlink:href=\"#DejaVuSans-44\"/>\n    </g>\n   </g>\n   <g id=\"text_5\">\n    <!-- E -->\n    <g transform=\"translate(101.495655 38.467877)scale(0.1 -0.1)\">\n     <defs>\n      <path d=\"M 628 4666 \nL 3578 4666 \nL 3578 4134 \nL 1259 4134 \nL 1259 2753 \nL 3481 2753 \nL 3481 2222 \nL 1259 2222 \nL 1259 531 \nL 3634 531 \nL 3634 0 \nL 628 0 \nL 628 4666 \nz\n\" id=\"DejaVuSans-45\" transform=\"scale(0.015625)\"/>\n     </defs>\n     <use xlink:href=\"#DejaVuSans-45\"/>\n    </g>\n   </g>\n   <g id=\"text_6\">\n    <!-- F -->\n    <g transform=\"translate(95.201792 228.2932)scale(0.1 -0.1)\">\n     <defs>\n      <path d=\"M 628 4666 \nL 3309 4666 \nL 3309 4134 \nL 1259 4134 \nL 1259 2759 \nL 3109 2759 \nL 3109 2228 \nL 1259 2228 \nL 1259 0 \nL 628 0 \nL 628 4666 \nz\n\" id=\"DejaVuSans-46\" transform=\"scale(0.015625)\"/>\n     </defs>\n     <use xlink:href=\"#DejaVuSans-46\"/>\n    </g>\n   </g>\n   <g id=\"text_7\">\n    <!-- NP Ma2A -->\n    <g transform=\"translate(89.130938 16.318125)scale(0.12 -0.12)\">\n     <defs>\n      <path d=\"M 628 4666 \nL 1478 4666 \nL 3547 763 \nL 3547 4666 \nL 4159 4666 \nL 4159 0 \nL 3309 0 \nL 1241 3903 \nL 1241 0 \nL 628 0 \nL 628 4666 \nz\n\" id=\"DejaVuSans-4e\" transform=\"scale(0.015625)\"/>\n      <path d=\"M 1259 4147 \nL 1259 2394 \nL 2053 2394 \nQ 2494 2394 2734 2622 \nQ 2975 2850 2975 3272 \nQ 2975 3691 2734 3919 \nQ 2494 4147 2053 4147 \nL 1259 4147 \nz\nM 628 4666 \nL 2053 4666 \nQ 2838 4666 3239 4311 \nQ 3641 3956 3641 3272 \nQ 3641 2581 3239 2228 \nQ 2838 1875 2053 1875 \nL 1259 1875 \nL 1259 0 \nL 628 0 \nL 628 4666 \nz\n\" id=\"DejaVuSans-50\" transform=\"scale(0.015625)\"/>\n      <path id=\"DejaVuSans-20\" transform=\"scale(0.015625)\"/>\n      <path d=\"M 628 4666 \nL 1569 4666 \nL 2759 1491 \nL 3956 4666 \nL 4897 4666 \nL 4897 0 \nL 4281 0 \nL 4281 4097 \nL 3078 897 \nL 2444 897 \nL 1241 4097 \nL 1241 0 \nL 628 0 \nL 628 4666 \nz\n\" id=\"DejaVuSans-4d\" transform=\"scale(0.015625)\"/>\n      <path d=\"M 2194 1759 \nQ 1497 1759 1228 1600 \nQ 959 1441 959 1056 \nQ 959 750 1161 570 \nQ 1363 391 1709 391 \nQ 2188 391 2477 730 \nQ 2766 1069 2766 1631 \nL 2766 1759 \nL 2194 1759 \nz\nM 3341 1997 \nL 3341 0 \nL 2766 0 \nL 2766 531 \nQ 2569 213 2275 61 \nQ 1981 -91 1556 -91 \nQ 1019 -91 701 211 \nQ 384 513 384 1019 \nQ 384 1609 779 1909 \nQ 1175 2209 1959 2209 \nL 2766 2209 \nL 2766 2266 \nQ 2766 2663 2505 2880 \nQ 2244 3097 1772 3097 \nQ 1472 3097 1187 3025 \nQ 903 2953 641 2809 \nL 641 3341 \nQ 956 3463 1253 3523 \nQ 1550 3584 1831 3584 \nQ 2591 3584 2966 3190 \nQ 3341 2797 3341 1997 \nz\n\" id=\"DejaVuSans-61\" transform=\"scale(0.015625)\"/>\n      <path d=\"M 1228 531 \nL 3431 531 \nL 3431 0 \nL 469 0 \nL 469 531 \nQ 828 903 1448 1529 \nQ 2069 2156 2228 2338 \nQ 2531 2678 2651 2914 \nQ 2772 3150 2772 3378 \nQ 2772 3750 2511 3984 \nQ 2250 4219 1831 4219 \nQ 1534 4219 1204 4116 \nQ 875 4013 500 3803 \nL 500 4441 \nQ 881 4594 1212 4672 \nQ 1544 4750 1819 4750 \nQ 2544 4750 2975 4387 \nQ 3406 4025 3406 3419 \nQ 3406 3131 3298 2873 \nQ 3191 2616 2906 2266 \nQ 2828 2175 2409 1742 \nQ 1991 1309 1228 531 \nz\n\" id=\"DejaVuSans-32\" transform=\"scale(0.015625)\"/>\n     </defs>\n     <use xlink:href=\"#DejaVuSans-4e\"/>\n     <use x=\"74.804688\" xlink:href=\"#DejaVuSans-50\"/>\n     <use x=\"135.107422\" xlink:href=\"#DejaVuSans-20\"/>\n     <use x=\"166.894531\" xlink:href=\"#DejaVuSans-4d\"/>\n     <use x=\"253.173828\" xlink:href=\"#DejaVuSans-61\"/>\n     <use x=\"314.453125\" xlink:href=\"#DejaVuSans-32\"/>\n     <use x=\"378.076172\" xlink:href=\"#DejaVuSans-41\"/>\n    </g>\n   </g>\n  </g>\n </g>\n</svg>\n",
      "image/png": "[encoded data removed]"
     },
     "metadata": {}
    }
   ],
   "metadata": {}
  },
  {
   "cell_type": "code",
   "execution_count": 32,
   "source": [
    "import matplotlib.pyplot as plt\n",
    "\n",
    "fig1, ax1 = plt.subplots()\n",
    "_ = ax1.pie(percentage_grade2C, labels = grade2C)\n",
    "_ = plt.title(\"NP Ma2C\")"
   ],
   "outputs": [
    {
     "output_type": "display_data",
     "data": {
      "text/plain": [
       "<Figure size 432x288 with 1 Axes>"
      ],
      "image/svg+xml": "<?xml version=\"1.0\" encoding=\"utf-8\" standalone=\"no\"?>\n<!DOCTYPE svg PUBLIC \"-//W3C//DTD SVG 1.1//EN\"\n  \"http://www.w3.org/Graphics/SVG/1.1/DTD/svg11.dtd\">\n<svg height=\"246.958125pt\" version=\"1.1\" viewBox=\"0 0 231.84 246.958125\" width=\"231.84pt\" xmlns=\"http://www.w3.org/2000/svg\" xmlns:xlink=\"http://www.w3.org/1999/xlink\">\n <metadata>\n  <rdf:RDF xmlns:cc=\"http://creativecommons.org/ns#\" xmlns:dc=\"http://purl.org/dc/elements/1.1/\" xmlns:rdf=\"http://www.w3.org/1999/02/22-rdf-syntax-ns#\">\n   <cc:Work>\n    <dc:type rdf:resource=\"http://purl.org/dc/dcmitype/StillImage\"/>\n    <dc:date>2021-09-13T21:13:20.962760</dc:date>\n    <dc:format>image/svg+xml</dc:format>\n    <dc:creator>\n     <cc:Agent>\n      <dc:title>Matplotlib v3.4.3, https://matplotlib.org/</dc:title>\n     </cc:Agent>\n    </dc:creator>\n   </cc:Work>\n  </rdf:RDF>\n </metadata>\n <defs>\n  <style type=\"text/css\">*{stroke-linecap:butt;stroke-linejoin:round;}</style>\n </defs>\n <g id=\"figure_1\">\n  <g id=\"patch_1\">\n   <path d=\"M 0 246.958125 \nL 231.84 246.958125 \nL 231.84 0 \nL 0 0 \nz\n\" style=\"fill:none;\"/>\n  </g>\n  <g id=\"axes_1\">\n   <g id=\"patch_2\">\n    <path d=\"M 202.896 131.038125 \nC 202.896 123.376233 201.883573 115.747822 199.885033 108.351172 \nC 197.886493 100.954523 194.919308 93.854278 191.060601 87.23499 \nL 115.92 131.038125 \nL 202.896 131.038125 \nz\n\" style=\"fill:#1f77b4;\"/>\n   </g>\n   <g id=\"patch_3\">\n    <path d=\"M 191.060601 87.23499 \nC 184.5201 76.015309 175.548968 66.401679 164.80776 59.101962 \nC 154.066552 51.802246 141.82553 47.000113 128.986015 45.04915 \nL 115.92 131.038125 \nL 191.060601 87.23499 \nz\n\" style=\"fill:#ff7f0e;\"/>\n   </g>\n   <g id=\"patch_4\">\n    <path d=\"M 128.986015 45.04915 \nC 116.829762 43.202009 104.418859 43.953484 92.574287 47.253865 \nC 80.729715 50.554246 69.718535 56.329119 60.269138 64.196475 \nC 50.819741 72.063832 43.145183 81.846286 37.753138 92.896727 \nC 32.361092 103.947168 29.373134 116.016441 28.986917 128.306162 \nL 115.92 131.038125 \nL 128.986015 45.04915 \nz\n\" style=\"fill:#2ca02c;\"/>\n   </g>\n   <g id=\"patch_5\">\n    <path d=\"M 28.986917 128.306162 \nC 28.509332 143.503255 32.024983 158.563213 39.18185 171.978093 \nC 46.338717 185.392972 56.889682 196.699574 69.778286 204.765778 \nL 115.92 131.038125 \nL 28.986917 128.306162 \nz\n\" style=\"fill:#d62728;\"/>\n   </g>\n   <g id=\"patch_6\">\n    <path d=\"M 69.778286 204.765778 \nC 86.375289 215.152846 106.003159 219.637406 125.464287 217.488869 \nC 144.925414 215.340333 163.102299 206.682074 177.033712 192.924624 \nL 115.92 131.038125 \nL 69.778286 204.765778 \nz\n\" style=\"fill:#9467bd;\"/>\n   </g>\n   <g id=\"patch_7\">\n    <path d=\"M 177.033712 192.924624 \nC 185.226007 184.834628 191.730968 175.197875 196.170401 164.574637 \nC 200.609835 153.9514 202.896006 142.551622 202.896 131.038076 \nL 115.92 131.038125 \nL 177.033712 192.924624 \nz\n\" style=\"fill:#8c564b;\"/>\n   </g>\n   <g id=\"matplotlib.axis_1\"/>\n   <g id=\"matplotlib.axis_2\"/>\n   <g id=\"text_1\">\n    <!-- A -->\n    <g transform=\"translate(208.281536 108.841852)scale(0.1 -0.1)\">\n     <defs>\n      <path d=\"M 2188 4044 \nL 1331 1722 \nL 3047 1722 \nL 2188 4044 \nz\nM 1831 4666 \nL 2547 4666 \nL 4325 0 \nL 3669 0 \nL 3244 1197 \nL 1141 1197 \nL 716 0 \nL 50 0 \nL 1831 4666 \nz\n\" id=\"DejaVuSans-41\" transform=\"scale(0.015625)\"/>\n     </defs>\n     <use xlink:href=\"#DejaVuSans-41\"/>\n    </g>\n   </g>\n   <g id=\"text_2\">\n    <!-- B -->\n    <g transform=\"translate(169.696536 54.667721)scale(0.1 -0.1)\">\n     <defs>\n      <path d=\"M 1259 2228 \nL 1259 519 \nL 2272 519 \nQ 2781 519 3026 730 \nQ 3272 941 3272 1375 \nQ 3272 1813 3026 2020 \nQ 2781 2228 2272 2228 \nL 1259 2228 \nz\nM 1259 4147 \nL 1259 2741 \nL 2194 2741 \nQ 2656 2741 2882 2914 \nQ 3109 3088 3109 3444 \nQ 3109 3797 2882 3972 \nQ 2656 4147 2194 4147 \nL 1259 4147 \nz\nM 628 4666 \nL 2241 4666 \nQ 2963 4666 3353 4366 \nQ 3744 4066 3744 3513 \nQ 3744 3084 3544 2831 \nQ 3344 2578 2956 2516 \nQ 3422 2416 3680 2098 \nQ 3938 1781 3938 1306 \nQ 3938 681 3513 340 \nQ 3088 0 2303 0 \nL 628 0 \nL 628 4666 \nz\n\" id=\"DejaVuSans-42\" transform=\"scale(0.015625)\"/>\n     </defs>\n     <use xlink:href=\"#DejaVuSans-42\"/>\n    </g>\n   </g>\n   <g id=\"text_3\">\n    <!-- C -->\n    <g transform=\"translate(47.721239 60.271685)scale(0.1 -0.1)\">\n     <defs>\n      <path d=\"M 4122 4306 \nL 4122 3641 \nQ 3803 3938 3442 4084 \nQ 3081 4231 2675 4231 \nQ 1875 4231 1450 3742 \nQ 1025 3253 1025 2328 \nQ 1025 1406 1450 917 \nQ 1875 428 2675 428 \nQ 3081 428 3442 575 \nQ 3803 722 4122 1019 \nL 4122 359 \nQ 3791 134 3420 21 \nQ 3050 -91 2638 -91 \nQ 1578 -91 968 557 \nQ 359 1206 359 2328 \nQ 359 3453 968 4101 \nQ 1578 4750 2638 4750 \nQ 3056 4750 3426 4639 \nQ 3797 4528 4122 4306 \nz\n\" id=\"DejaVuSans-43\" transform=\"scale(0.015625)\"/>\n     </defs>\n     <use xlink:href=\"#DejaVuSans-43\"/>\n    </g>\n   </g>\n   <g id=\"text_4\">\n    <!-- D -->\n    <g transform=\"translate(23.808035 178.831464)scale(0.1 -0.1)\">\n     <defs>\n      <path d=\"M 1259 4147 \nL 1259 519 \nL 2022 519 \nQ 2988 519 3436 956 \nQ 3884 1394 3884 2338 \nQ 3884 3275 3436 3711 \nQ 2988 4147 2022 4147 \nL 1259 4147 \nz\nM 628 4666 \nL 1925 4666 \nQ 3281 4666 3915 4102 \nQ 4550 3538 4550 2338 \nQ 4550 1131 3912 565 \nQ 3275 0 1925 0 \nL 628 0 \nL 628 4666 \nz\n\" id=\"DejaVuSans-44\" transform=\"scale(0.015625)\"/>\n     </defs>\n     <use xlink:href=\"#DejaVuSans-44\"/>\n    </g>\n   </g>\n   <g id=\"text_5\">\n    <!-- E -->\n    <g transform=\"translate(126.418716 228.893319)scale(0.1 -0.1)\">\n     <defs>\n      <path d=\"M 628 4666 \nL 3578 4666 \nL 3578 4134 \nL 1259 4134 \nL 1259 2753 \nL 3481 2753 \nL 3481 2222 \nL 1259 2222 \nL 1259 531 \nL 3634 531 \nL 3634 0 \nL 628 0 \nL 628 4666 \nz\n\" id=\"DejaVuSans-45\" transform=\"scale(0.015625)\"/>\n     </defs>\n     <use xlink:href=\"#DejaVuSans-45\"/>\n    </g>\n   </g>\n   <g id=\"text_6\">\n    <!-- F -->\n    <g transform=\"translate(204.195441 170.687664)scale(0.1 -0.1)\">\n     <defs>\n      <path d=\"M 628 4666 \nL 3309 4666 \nL 3309 4134 \nL 1259 4134 \nL 1259 2759 \nL 3109 2759 \nL 3109 2228 \nL 1259 2228 \nL 1259 0 \nL 628 0 \nL 628 4666 \nz\n\" id=\"DejaVuSans-46\" transform=\"scale(0.015625)\"/>\n     </defs>\n     <use xlink:href=\"#DejaVuSans-46\"/>\n    </g>\n   </g>\n   <g id=\"text_7\">\n    <!-- NP Ma2C -->\n    <g transform=\"translate(89.045625 16.318125)scale(0.12 -0.12)\">\n     <defs>\n      <path d=\"M 628 4666 \nL 1478 4666 \nL 3547 763 \nL 3547 4666 \nL 4159 4666 \nL 4159 0 \nL 3309 0 \nL 1241 3903 \nL 1241 0 \nL 628 0 \nL 628 4666 \nz\n\" id=\"DejaVuSans-4e\" transform=\"scale(0.015625)\"/>\n      <path d=\"M 1259 4147 \nL 1259 2394 \nL 2053 2394 \nQ 2494 2394 2734 2622 \nQ 2975 2850 2975 3272 \nQ 2975 3691 2734 3919 \nQ 2494 4147 2053 4147 \nL 1259 4147 \nz\nM 628 4666 \nL 2053 4666 \nQ 2838 4666 3239 4311 \nQ 3641 3956 3641 3272 \nQ 3641 2581 3239 2228 \nQ 2838 1875 2053 1875 \nL 1259 1875 \nL 1259 0 \nL 628 0 \nL 628 4666 \nz\n\" id=\"DejaVuSans-50\" transform=\"scale(0.015625)\"/>\n      <path id=\"DejaVuSans-20\" transform=\"scale(0.015625)\"/>\n      <path d=\"M 628 4666 \nL 1569 4666 \nL 2759 1491 \nL 3956 4666 \nL 4897 4666 \nL 4897 0 \nL 4281 0 \nL 4281 4097 \nL 3078 897 \nL 2444 897 \nL 1241 4097 \nL 1241 0 \nL 628 0 \nL 628 4666 \nz\n\" id=\"DejaVuSans-4d\" transform=\"scale(0.015625)\"/>\n      <path d=\"M 2194 1759 \nQ 1497 1759 1228 1600 \nQ 959 1441 959 1056 \nQ 959 750 1161 570 \nQ 1363 391 1709 391 \nQ 2188 391 2477 730 \nQ 2766 1069 2766 1631 \nL 2766 1759 \nL 2194 1759 \nz\nM 3341 1997 \nL 3341 0 \nL 2766 0 \nL 2766 531 \nQ 2569 213 2275 61 \nQ 1981 -91 1556 -91 \nQ 1019 -91 701 211 \nQ 384 513 384 1019 \nQ 384 1609 779 1909 \nQ 1175 2209 1959 2209 \nL 2766 2209 \nL 2766 2266 \nQ 2766 2663 2505 2880 \nQ 2244 3097 1772 3097 \nQ 1472 3097 1187 3025 \nQ 903 2953 641 2809 \nL 641 3341 \nQ 956 3463 1253 3523 \nQ 1550 3584 1831 3584 \nQ 2591 3584 2966 3190 \nQ 3341 2797 3341 1997 \nz\n\" id=\"DejaVuSans-61\" transform=\"scale(0.015625)\"/>\n      <path d=\"M 1228 531 \nL 3431 531 \nL 3431 0 \nL 469 0 \nL 469 531 \nQ 828 903 1448 1529 \nQ 2069 2156 2228 2338 \nQ 2531 2678 2651 2914 \nQ 2772 3150 2772 3378 \nQ 2772 3750 2511 3984 \nQ 2250 4219 1831 4219 \nQ 1534 4219 1204 4116 \nQ 875 4013 500 3803 \nL 500 4441 \nQ 881 4594 1212 4672 \nQ 1544 4750 1819 4750 \nQ 2544 4750 2975 4387 \nQ 3406 4025 3406 3419 \nQ 3406 3131 3298 2873 \nQ 3191 2616 2906 2266 \nQ 2828 2175 2409 1742 \nQ 1991 1309 1228 531 \nz\n\" id=\"DejaVuSans-32\" transform=\"scale(0.015625)\"/>\n     </defs>\n     <use xlink:href=\"#DejaVuSans-4e\"/>\n     <use x=\"74.804688\" xlink:href=\"#DejaVuSans-50\"/>\n     <use x=\"135.107422\" xlink:href=\"#DejaVuSans-20\"/>\n     <use x=\"166.894531\" xlink:href=\"#DejaVuSans-4d\"/>\n     <use x=\"253.173828\" xlink:href=\"#DejaVuSans-61\"/>\n     <use x=\"314.453125\" xlink:href=\"#DejaVuSans-32\"/>\n     <use x=\"378.076172\" xlink:href=\"#DejaVuSans-43\"/>\n    </g>\n   </g>\n  </g>\n </g>\n</svg>\n",
      "image/png": "[encoded data removed]"
     },
     "metadata": {}
    }
   ],
   "metadata": {}
  },
  {
   "cell_type": "markdown",
   "source": [
    "## 4. Dice roll experiment"
   ],
   "metadata": {}
  },
  {
   "cell_type": "code",
   "execution_count": 69,
   "source": [
    "import random as rnd\n",
    "\n",
    "with open(\"files/simulation.txt\", \"w\") as sim:\n",
    "\n",
    "    number_of_rolls = [10, 100, 1000, 10000, 100000, 1000000]\n",
    "    for roll in number_of_rolls: \n",
    "        sim.write(f\"Number of rolls: {roll}\\n\")\n",
    "        numbers = [rnd.randint(1, 6) for _ in range(roll)]\n",
    "        for number in range(1,7):\n",
    "            sim.write(f\"Number of {number}:s: {numbers.count(number)}. Probability: {(numbers.count(number))/roll}.\\n\")\n",
    "        sim.write(\"\\n\")"
   ],
   "outputs": [],
   "metadata": {}
  }
 ],
 "metadata": {
  "orig_nbformat": 4,
  "language_info": {
   "name": "python",
   "version": "3.9.6",
   "mimetype": "text/x-python",
   "codemirror_mode": {
    "name": "ipython",
    "version": 3
   },
   "pygments_lexer": "ipython3",
   "nbconvert_exporter": "python",
   "file_extension": ".py"
  },
  "kernelspec": {
   "name": "python3",
   "display_name": "Python 3.9.6 64-bit ('python-programming-Anna-Maria-Sjolund-Htb3K3oR': pipenv)"
  },
  "interpreter": {
   "hash": "d058bb7a222ccb114394dd2dbf09376c772f658c97746095daf69714e9de45e0"
  }
 },
 "nbformat": 4,
 "nbformat_minor": 2
}