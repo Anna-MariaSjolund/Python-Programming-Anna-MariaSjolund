{
 "cells": [
  {
   "cell_type": "markdown",
   "source": [
    "## 1. Dice rolls"
   ],
   "metadata": {}
  },
  {
   "cell_type": "code",
   "execution_count": 7,
   "source": [
    "import random as rnd \n",
    "\n",
    "path = \"files/dice_rolls.txt\" #Sets the path to our file\n",
    "with open(path, \"w\") as dice: #Open the file using write\n",
    "    \n",
    "    dice.write(\"Simulated Dice Rolls: \") #Write the first line\n",
    "\n",
    "    dice_rolls_list = [] #Creates an empty list\n",
    "    i = 0 #Initialise i to 0 so that we can later remove the last comma\n",
    "    for roll in range(20): #Run this 20 times\n",
    "        dice_rolls_list.append(rnd.randint(1, 6)) #Append a random number (between 1 and 6) to the list\n",
    "        if i == 19:\n",
    "            dice.write(f\"{str(dice_rolls_list[i])}\") #Print the final output without a comma\n",
    "        else: \n",
    "            dice.write(f\"{str(dice_rolls_list[i])}, \") #Print the output with a comma after\n",
    "        i += 1 #Incremenet i with 1\n",
    "\n",
    "    dice.write(\"\\nSorted Dice Rolls: \") #Starting wit a new line, write a second line\n",
    "\n",
    "    dice_rolls_sorted = sorted(dice_rolls_list) #Sort the list and store it in a new list\n",
    "    i = 0 #Initialise i to 0 again\n",
    "    for roll in dice_rolls_sorted: #Run this 20 times\n",
    "        if i == 19:\n",
    "            dice.write(f\"{str(dice_rolls_sorted[i])}\") #Print the final output without a comma\n",
    "        else: \n",
    "            dice.write(f\"{str(dice_rolls_sorted[i])}, \") #Print the output with a comma after\n",
    "        i += 1 #Incremenet i with 1\n",
    "\n",
    "    number_of_fours = str(dice_rolls_list.count(4)) #Count the number of fours and save the output as a string\n",
    "    dice.write(f\"\\nNumber of Fours: {number_of_fours}\") #Starting with a new line, write the number of fours to the textfile"
   ],
   "outputs": [],
   "metadata": {}
  },
  {
   "cell_type": "markdown",
   "source": [
    "## 2. Test results"
   ],
   "metadata": {}
  },
  {
   "cell_type": "code",
   "execution_count": 107,
   "source": [
    "path = \"files/test_result.txt\"\n",
    "\n",
    "with open (path, \"r\") as f1, open(path, \"a\") as f2:\n",
    "    results = [result.strip(\"\\n\") for result in f1]\n",
    "    print(results)\n",
    "\n",
    "    results_sorted = sorted(results)\n",
    "\n",
    "    f2.write(\"\\n\")\n",
    "    f2.write(f\"\\nSorted List of Test Results:\\n\")\n",
    "    i = 1\n",
    "    for result in results_sorted:\n",
    "        if i == 19:\n",
    "            f2.write(f\"{result}\")\n",
    "        else:\n",
    "            f2.write(f\"{result}\\n\") \n",
    "        i += 1 \n",
    "    \n",
    "    results_separated_variables = []\n",
    "    for result in results_sorted:\n",
    "        if result == \"Hanna Karlsson 23 \":\n",
    "            results_separated_variables.append([(result[:-4]), int(result[-3:])])\n",
    "        else:\n",
    "            results_separated_variables.append([(result[:-3]), int(result[-2:])])\n",
    "\n",
    "    F = []\n",
    "    E = []\n",
    "    D = []\n",
    "    C = []\n",
    "    B = []\n",
    "    A = []\n",
    "    for result in results_separated_variables:\n",
    "        if result[1] < 20:\n",
    "            F.append(result)\n",
    "        elif result[1] >= 20 and result[1] <= 29:\n",
    "            E.append(result)\n",
    "        elif result[1] >= 30 and result[1] <= 39:\n",
    "            D.append(result)\n",
    "        elif result[1] >= 40 and result[1] <= 49:\n",
    "            C.append(result)\n",
    "        elif result[1] >= 50 and result[1] <= 59:\n",
    "            B.append(result)\n",
    "        elif result[1] >= 60 and result[1] <= 70:\n",
    "            A.append(result)\n",
    "         \n",
    "    f2.write(\"\\n\")\n",
    "    f2.write(\"\\nSorted Results:\")\n",
    "    f2.write(\"\\nGrade A:\")\n",
    "    for result in A:\n",
    "        f2.write(f\"\\n{result[0]} {result[1]}\")\n",
    "    f2.write(\"\\nGrade B:\")\n",
    "    for result in B:\n",
    "        f2.write(f\"\\n{result[0]} {result[1]}\")\n",
    "    f2.write(\"\\nGrade C:\")\n",
    "    for result in C:\n",
    "        f2.write(f\"\\n{result[0]} {result[1]}\")\n",
    "    f2.write(\"\\nGrade D:\")\n",
    "    for result in D:\n",
    "        f2.write(f\"\\n{result[0]} {result[1]}\")\n",
    "    f2.write(\"\\nGrade E:\")\n",
    "    for result in E:\n",
    "        f2.write(f\"\\n{result[0]} {result[1]}\")\n",
    "    f2.write(\"\\nGrade F:\")\n",
    "    for result in F:\n",
    "        f2.write(f\"\\n{result[0]} {result[1]}\")"
   ],
   "outputs": [],
   "metadata": {}
  },
  {
   "cell_type": "markdown",
   "source": [
    "## 3. National test"
   ],
   "metadata": {}
  },
  {
   "cell_type": "code",
   "execution_count": null,
   "source": [],
   "outputs": [],
   "metadata": {}
  }
 ],
 "metadata": {
  "orig_nbformat": 4,
  "language_info": {
   "name": "python",
   "version": "3.9.6",
   "mimetype": "text/x-python",
   "codemirror_mode": {
    "name": "ipython",
    "version": 3
   },
   "pygments_lexer": "ipython3",
   "nbconvert_exporter": "python",
   "file_extension": ".py"
  },
  "kernelspec": {
   "name": "python3",
   "display_name": "Python 3.9.6 64-bit ('python-programming-Anna-Maria-Sjolund-Htb3K3oR': pipenv)"
  },
  "interpreter": {
   "hash": "d058bb7a222ccb114394dd2dbf09376c772f658c97746095daf69714e9de45e0"
  }
 },
 "nbformat": 4,
 "nbformat_minor": 2
}