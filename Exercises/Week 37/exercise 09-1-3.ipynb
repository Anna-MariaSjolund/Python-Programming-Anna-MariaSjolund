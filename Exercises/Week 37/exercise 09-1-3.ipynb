{
 "cells": [
  {
   "cell_type": "markdown",
   "source": [
    "## 1. Curriculum"
   ],
   "metadata": {}
  },
  {
   "cell_type": "code",
   "execution_count": 139,
   "source": [
    "#Creates a dictionary with courses \n",
    "ai_courses = dict(\n",
    "    databaser = 25,\n",
    "    databehandling = 25,\n",
    "    djup_maskininlärning = 40,\n",
    "    examensarbete = 15,\n",
    "    introduktionskurs_till_AI = 5,\n",
    "    LIA_1 = 40,\n",
    "    LIA_2 = 70,\n",
    "    maskininlärning = 45,\n",
    "    praktisk_maskininlärning_och_projektmetodik\t= 45,\n",
    "    programmering_med_Python = 40,\n",
    "    statistiska_metoder = 30,\n",
    "    visualisering_presentationer_och_storytelling = 20\n",
    ")\n",
    "\n",
    "print(ai_courses)\n",
    "\n",
    "points_in_total = 0 #Creates the variable points_in_total and sets it to 0\n",
    "for course in ai_courses: \n",
    "    points_in_total += ai_courses[course] #ai_courses[course] will return the value associated with each key and sum them up in points_in_total\n",
    "\n",
    "print(f'The total number of points for the program \"Utvecklare inom AI och maskininlärning\" is: {points_in_total}.')"
   ],
   "outputs": [
    {
     "output_type": "stream",
     "name": "stdout",
     "text": [
      "{'databaser': 25, 'databehandling': 25, 'djup_maskininlärning': 40, 'examensarbete': 15, 'introduktionskurs_till_AI': 5, 'LIA_1': 40, 'LIA_2': 70, 'maskininlärning': 45, 'praktisk_maskininlärning_och_projektmetodik': 45, 'programmering_med_Python': 40, 'statistiska_metoder': 30, 'visualisering_presentationer_och_storytelling': 20}\n",
      "The total number of points for the program \"Utvecklare inom AI och maskininlärning\" is: 400.\n"
     ]
    }
   ],
   "metadata": {}
  },
  {
   "cell_type": "markdown",
   "source": [
    "## 2. Dice simulation"
   ],
   "metadata": {}
  },
  {
   "cell_type": "code",
   "execution_count": 140,
   "source": [
    "import random as rnd\n",
    "\n",
    "dice_rolls_results = [rnd.randint(1, 6) for _ in range(1000000)] #Generates a random number between 1 and 6 1000000 times and store it in dice_rolls_results\n",
    "\n",
    "list_of_outcomes = [\"Ones\", \"Twos\", \"Threes\", \"Fours\", \"Fives\", \"Sixes\"] #Stores the soon-to-be keys in a list\n",
    "outcome_count = {key: 0 for key in list_of_outcomes} #Creates a dictionary for counting the different outcomes and set all of the values to 0. \n",
    "\n",
    "for roll in dice_rolls_results: #For each roll in dice_rolls_result\n",
    "    t = 1 #set t to 1\n",
    "    for outcome in outcome_count: #For each outcome \"Ones\", \"Twos\" etc. \n",
    "        if roll == t: #If the roll equals 1, 2, 3, 4, 5 OR 6 increase the value for the outcome with 1\n",
    "            outcome_count[outcome] += 1\n",
    "        t += 1 #Increase t with 1\n",
    "\n",
    "for outcome in outcome_count:\n",
    "    print(f\"{outcome}: {outcome_count[outcome]}\")"
   ],
   "outputs": [
    {
     "output_type": "stream",
     "name": "stdout",
     "text": [
      "Ones: 166617\n",
      "Twos: 166774\n",
      "Threes: 167014\n",
      "Fours: 166050\n",
      "Fives: 166721\n",
      "Sixes: 166824\n"
     ]
    }
   ],
   "metadata": {}
  },
  {
   "cell_type": "markdown",
   "source": [
    "## 3. Pokemon list"
   ],
   "metadata": {}
  },
  {
   "cell_type": "code",
   "execution_count": 141,
   "source": [
    "with open(\"files/pokemon_list.txt\", \"r\", encoding='utf-8-sig') as p: #encoding='utf-8-sig is included becuase otherwise the first line will include \"\\ufeff\", which cannot be removed by strip or replace\n",
    "    pokemons = [pokemon.strip(\"\\n\") for pokemon in p.readlines()]\n",
    "    pokemons = [pokemon.split() for pokemon in pokemons]\n",
    "    print(pokemons)"
   ],
   "outputs": [
    {
     "output_type": "stream",
     "name": "stdout",
     "text": [
      "[['1', 'Bulbasaur', 'Gräs/Gift'], ['2', 'Ivysaur', 'Gräs/Gift'], ['3', 'Venusaur', 'Gräs/Gift'], ['4', 'Charmander', 'Eld'], ['5', 'Charmeleon', 'Eld'], ['6', 'Charizard', 'Eld/Flygande'], ['7', 'Squirtle', 'Vatten'], ['8', 'Wartortle', 'Vatten'], ['9', 'Blastoise', 'Vatten'], ['10', 'Caterpie', 'Insekt'], ['11', 'Metapod', 'Insekt'], ['12', 'Butterfree', 'Insekt/Flygande'], ['13', 'Weedle', 'Insekt/Gift'], ['14', 'Kakuna', 'Insekt/Gift'], ['15', 'Beedrill', 'Insekt/Gift'], ['16', 'Pidgey', 'Normal/Flygande'], ['17', 'Pidgeotto', 'Normal/Flygande'], ['18', 'Pidgeot', 'Normal/Flygande'], ['19', 'Rattata', 'Normal'], ['20', 'Raticate', 'Normal'], ['21', 'Spearow', 'Normal/Flygande'], ['22', 'Fearow', 'Normal/Flygande'], ['23', 'Ekans', 'Gift'], ['24', 'Arbok', 'Gift'], ['25', 'Pikachu', 'Elektrisk'], ['26', 'Raichu', 'Elektrisk'], ['27', 'Sandshrew', 'Mark'], ['28', 'Sandslash', 'Mark'], ['29', 'Nidoran♀', 'Gift'], ['30', 'Nidorina', 'Gift'], ['31', 'Nidoqueen', 'Gift/Mark'], ['32', 'Nidoran♂', 'Gift'], ['33', 'Nidorino', 'Gift'], ['34', 'Nidoking', 'Gift/Mark'], ['35', 'Clefairy', 'Fé'], ['36', 'Clefable', 'Fé'], ['37', 'Vulpix', 'Eld'], ['38', 'Ninetales', 'Eld'], ['39', 'Jigglypuff', 'Normal/Fé'], ['40', 'Wigglytuff', 'Normal/Fé'], ['41', 'Zubat', 'Gift/Flygande'], ['42', 'Golbat', 'Gift/Flygande'], ['43', 'Oddish', 'Gräs/Gift'], ['44', 'Gloom', 'Gräs/Gift'], ['45', 'Vileplume', 'Gräs/Gift'], ['46', 'Paras', 'Insekt/Gräs'], ['47', 'Parasect', 'Insekt/Gräs'], ['48', 'Venonat', 'Insekt/Gift'], ['49', 'Venomoth', 'Insekt/Gift'], ['50', 'Diglett', 'Mark'], ['51', 'Dugtrio', 'Mark'], ['52', 'Meowth', 'Normal'], ['53', 'Persian', 'Normal'], ['54', 'Psyduck', 'Vatten'], ['55', 'Golduck', 'Vatten'], ['56', 'Mankey', 'Kamp'], ['57', 'Primeape', 'Kamp'], ['58', 'Growlithe', 'Eld'], ['59', 'Arcanine', 'Eld'], ['60', 'Poliwag', 'Vatten'], ['61', 'Poliwhirl', 'Vatten'], ['62', 'Poliwrath', 'Vatten/Kamp'], ['63', 'Abra', 'Psykisk'], ['64', 'Kadabra', 'Psykisk'], ['65', 'Alakazam', 'Psykisk'], ['66', 'Machop', 'Kamp'], ['67', 'Machoke', 'Kamp'], ['68', 'Machamp', 'Kamp'], ['69', 'Bellsprout', 'Gräs/Gift'], ['70', 'Weepinbell', 'Gräs/Gift'], ['71', 'Victreebel', 'Gräs/Gift'], ['72', 'Tentacool', 'Vatten/Gift'], ['73', 'Tentacruel', 'Vatten/Gift'], ['74', 'Geodude', 'Sten/Mark'], ['75', 'Graveler', 'Sten/Mark'], ['76', 'Golem', 'Sten/Mark'], ['77', 'Ponyta', 'Eld'], ['78', 'Rapidash', 'Eld'], ['79', 'Slowpoke', 'Vatten/Psykisk'], ['80', 'Slowbro', 'Vatten/Psykisk'], ['81', 'Magnemite', 'Elektrisk/Stål'], ['82', 'Magneton', 'Elektrisk/Stål'], ['83', \"Farfetch'd\", 'Normal/Flygande'], ['84', 'Doduo', 'Normal/Flygande'], ['85', 'Dodrio', 'Normal/Flygande'], ['86', 'Seel', 'Vatten'], ['87', 'Dewgong', 'Vatten/Is'], ['88', 'Grimer', 'Gift'], ['89', 'Muk', 'Gift'], ['90', 'Shellder', 'Vatten'], ['91', 'Cloyster', 'Vatten/Is'], ['92', 'Gastly', 'Spöke/Gift'], ['93', 'Haunter', 'Spöke/Gift'], ['94', 'Gengar', 'Spöke/Gift'], ['95', 'Onix', 'Sten/Mark'], ['96', 'Drowzee', 'Psykisk'], ['97', 'Hypno', 'Psykisk'], ['98', 'Krabby', 'Vatten'], ['99', 'Kingler', 'Vatten'], ['100', 'Voltorb', 'Elektrisk'], ['101', 'Electrode', 'Elektrisk'], ['102', 'Exeggcute', 'Gräs/Psykisk'], ['103', 'Exeggutor', 'Gräs/Psykisk'], ['104', 'Cubone', 'Mark'], ['105', 'Marowak', 'Mark'], ['106', 'Hitmonlee', 'Kamp'], ['107', 'Hitmonchan', 'Kamp'], ['108', 'Lickitung', 'Normal'], ['109', 'Koffing', 'Gift'], ['110', 'Weezing', 'Gift'], ['111', 'Rhyhorn', 'Mark/Sten'], ['112', 'Rhydon', 'Mark/Sten'], ['113', 'Chansey', 'Normal'], ['114', 'Tangela', 'Gräs'], ['115', 'Kangaskhan', 'Normal'], ['116', 'Horsea', 'Vatten'], ['117', 'Seadra', 'Vatten'], ['118', 'Goldeen', 'Vatten'], ['119', 'Seaking', 'Vatten'], ['120', 'Staryu', 'Vatten'], ['121', 'Starmie', 'Vatten/Psykisk'], ['122', 'Mr.', 'Mime', 'Psykisk'], ['123', 'Scyther', 'Insekt/Flygande'], ['124', 'Jynx', 'Is/Psykisk'], ['125', 'Electabuzz', 'Elektrisk'], ['126', 'Magmar', 'Eld'], ['127', 'Pinsir', 'Insekt'], ['128', 'Tauros', 'Normal'], ['129', 'Magikarp', 'Vatten'], ['130', 'Gyarados', 'Vatten/Flygande'], ['131', 'Lapras', 'Vatten/Is'], ['132', 'Ditto', 'Normal'], ['133', 'Eevee', 'Normal'], ['134', 'Vaporeon', 'Vatten'], ['135', 'Jolteon', 'Elektrisk'], ['136', 'Flareon', 'Eld'], ['137', 'Porygon', 'Normal'], ['138', 'Omanyte', 'Sten/Vatten'], ['139', 'Omastar', 'Sten/Vatten'], ['140', 'Kabuto', 'Sten/Vatten'], ['141', 'Kabutops', 'Sten/Vatten'], ['142', 'Aerodactyl', 'Sten/Flygande'], ['143', 'Snorlax', 'Normal'], ['144', 'Articuno', 'Is/Flygande'], ['145', 'Zapdos', 'Elektrisk/Flygande'], ['146', 'Moltres', 'Eld/Flygande'], ['147', 'Dratini', 'Drake'], ['148', 'Dragonair', 'Drake'], ['149', 'Dragonite', 'Drake/Flygande'], ['150', 'Mewtwo', 'Psykisk']]\n"
     ]
    }
   ],
   "metadata": {}
  },
  {
   "cell_type": "code",
   "execution_count": 142,
   "source": [
    "import pprint #We can use pprint to print out a list on separate rows\n",
    "\n",
    "pokedex = {} #Creates an empty list\n",
    "for pokemon in pokemons:\n",
    "    #This adds to the list pokedex\n",
    "    #For each pokemon, make the second element the key and make the third and first element into a string and store it as the value.\n",
    "    if pokemon[1] == \"Mr.\": #Mr. Mime has two first \"names\" and we cannot use the same index\n",
    "        pokedex[f\"{pokemon[1]} {pokemon[2]}\"] = f\"{pokemon[3]}, {pokemon[0]}\"\n",
    "    else:\n",
    "        pokedex[pokemon[1]] = f\"{pokemon[2]}, {pokemon[0]}\"\n",
    "\n",
    "print(pokedex[\"Gengar\"]) #Prints out the value associated with the key \"Gengar\"\n",
    "print(pokedex[\"Pikachu\"])\n",
    "print(pokedex[\"Mr. Mime\"])\n",
    "print(\"\")\n",
    "\n",
    "pprint.pprint(pokedex, sort_dicts = False) #Prints out the list on separate rows, and does NOT sort it on name"
   ],
   "outputs": [
    {
     "output_type": "stream",
     "name": "stdout",
     "text": [
      "Spöke/Gift, 94\n",
      "Elektrisk, 25\n",
      "Psykisk, 122\n",
      "\n",
      "{'Bulbasaur': 'Gräs/Gift, 1',\n",
      " 'Ivysaur': 'Gräs/Gift, 2',\n",
      " 'Venusaur': 'Gräs/Gift, 3',\n",
      " 'Charmander': 'Eld, 4',\n",
      " 'Charmeleon': 'Eld, 5',\n",
      " 'Charizard': 'Eld/Flygande, 6',\n",
      " 'Squirtle': 'Vatten, 7',\n",
      " 'Wartortle': 'Vatten, 8',\n",
      " 'Blastoise': 'Vatten, 9',\n",
      " 'Caterpie': 'Insekt, 10',\n",
      " 'Metapod': 'Insekt, 11',\n",
      " 'Butterfree': 'Insekt/Flygande, 12',\n",
      " 'Weedle': 'Insekt/Gift, 13',\n",
      " 'Kakuna': 'Insekt/Gift, 14',\n",
      " 'Beedrill': 'Insekt/Gift, 15',\n",
      " 'Pidgey': 'Normal/Flygande, 16',\n",
      " 'Pidgeotto': 'Normal/Flygande, 17',\n",
      " 'Pidgeot': 'Normal/Flygande, 18',\n",
      " 'Rattata': 'Normal, 19',\n",
      " 'Raticate': 'Normal, 20',\n",
      " 'Spearow': 'Normal/Flygande, 21',\n",
      " 'Fearow': 'Normal/Flygande, 22',\n",
      " 'Ekans': 'Gift, 23',\n",
      " 'Arbok': 'Gift, 24',\n",
      " 'Pikachu': 'Elektrisk, 25',\n",
      " 'Raichu': 'Elektrisk, 26',\n",
      " 'Sandshrew': 'Mark, 27',\n",
      " 'Sandslash': 'Mark, 28',\n",
      " 'Nidoran♀': 'Gift, 29',\n",
      " 'Nidorina': 'Gift, 30',\n",
      " 'Nidoqueen': 'Gift/Mark, 31',\n",
      " 'Nidoran♂': 'Gift, 32',\n",
      " 'Nidorino': 'Gift, 33',\n",
      " 'Nidoking': 'Gift/Mark, 34',\n",
      " 'Clefairy': 'Fé, 35',\n",
      " 'Clefable': 'Fé, 36',\n",
      " 'Vulpix': 'Eld, 37',\n",
      " 'Ninetales': 'Eld, 38',\n",
      " 'Jigglypuff': 'Normal/Fé, 39',\n",
      " 'Wigglytuff': 'Normal/Fé, 40',\n",
      " 'Zubat': 'Gift/Flygande, 41',\n",
      " 'Golbat': 'Gift/Flygande, 42',\n",
      " 'Oddish': 'Gräs/Gift, 43',\n",
      " 'Gloom': 'Gräs/Gift, 44',\n",
      " 'Vileplume': 'Gräs/Gift, 45',\n",
      " 'Paras': 'Insekt/Gräs, 46',\n",
      " 'Parasect': 'Insekt/Gräs, 47',\n",
      " 'Venonat': 'Insekt/Gift, 48',\n",
      " 'Venomoth': 'Insekt/Gift, 49',\n",
      " 'Diglett': 'Mark, 50',\n",
      " 'Dugtrio': 'Mark, 51',\n",
      " 'Meowth': 'Normal, 52',\n",
      " 'Persian': 'Normal, 53',\n",
      " 'Psyduck': 'Vatten, 54',\n",
      " 'Golduck': 'Vatten, 55',\n",
      " 'Mankey': 'Kamp, 56',\n",
      " 'Primeape': 'Kamp, 57',\n",
      " 'Growlithe': 'Eld, 58',\n",
      " 'Arcanine': 'Eld, 59',\n",
      " 'Poliwag': 'Vatten, 60',\n",
      " 'Poliwhirl': 'Vatten, 61',\n",
      " 'Poliwrath': 'Vatten/Kamp, 62',\n",
      " 'Abra': 'Psykisk, 63',\n",
      " 'Kadabra': 'Psykisk, 64',\n",
      " 'Alakazam': 'Psykisk, 65',\n",
      " 'Machop': 'Kamp, 66',\n",
      " 'Machoke': 'Kamp, 67',\n",
      " 'Machamp': 'Kamp, 68',\n",
      " 'Bellsprout': 'Gräs/Gift, 69',\n",
      " 'Weepinbell': 'Gräs/Gift, 70',\n",
      " 'Victreebel': 'Gräs/Gift, 71',\n",
      " 'Tentacool': 'Vatten/Gift, 72',\n",
      " 'Tentacruel': 'Vatten/Gift, 73',\n",
      " 'Geodude': 'Sten/Mark, 74',\n",
      " 'Graveler': 'Sten/Mark, 75',\n",
      " 'Golem': 'Sten/Mark, 76',\n",
      " 'Ponyta': 'Eld, 77',\n",
      " 'Rapidash': 'Eld, 78',\n",
      " 'Slowpoke': 'Vatten/Psykisk, 79',\n",
      " 'Slowbro': 'Vatten/Psykisk, 80',\n",
      " 'Magnemite': 'Elektrisk/Stål, 81',\n",
      " 'Magneton': 'Elektrisk/Stål, 82',\n",
      " \"Farfetch'd\": 'Normal/Flygande, 83',\n",
      " 'Doduo': 'Normal/Flygande, 84',\n",
      " 'Dodrio': 'Normal/Flygande, 85',\n",
      " 'Seel': 'Vatten, 86',\n",
      " 'Dewgong': 'Vatten/Is, 87',\n",
      " 'Grimer': 'Gift, 88',\n",
      " 'Muk': 'Gift, 89',\n",
      " 'Shellder': 'Vatten, 90',\n",
      " 'Cloyster': 'Vatten/Is, 91',\n",
      " 'Gastly': 'Spöke/Gift, 92',\n",
      " 'Haunter': 'Spöke/Gift, 93',\n",
      " 'Gengar': 'Spöke/Gift, 94',\n",
      " 'Onix': 'Sten/Mark, 95',\n",
      " 'Drowzee': 'Psykisk, 96',\n",
      " 'Hypno': 'Psykisk, 97',\n",
      " 'Krabby': 'Vatten, 98',\n",
      " 'Kingler': 'Vatten, 99',\n",
      " 'Voltorb': 'Elektrisk, 100',\n",
      " 'Electrode': 'Elektrisk, 101',\n",
      " 'Exeggcute': 'Gräs/Psykisk, 102',\n",
      " 'Exeggutor': 'Gräs/Psykisk, 103',\n",
      " 'Cubone': 'Mark, 104',\n",
      " 'Marowak': 'Mark, 105',\n",
      " 'Hitmonlee': 'Kamp, 106',\n",
      " 'Hitmonchan': 'Kamp, 107',\n",
      " 'Lickitung': 'Normal, 108',\n",
      " 'Koffing': 'Gift, 109',\n",
      " 'Weezing': 'Gift, 110',\n",
      " 'Rhyhorn': 'Mark/Sten, 111',\n",
      " 'Rhydon': 'Mark/Sten, 112',\n",
      " 'Chansey': 'Normal, 113',\n",
      " 'Tangela': 'Gräs, 114',\n",
      " 'Kangaskhan': 'Normal, 115',\n",
      " 'Horsea': 'Vatten, 116',\n",
      " 'Seadra': 'Vatten, 117',\n",
      " 'Goldeen': 'Vatten, 118',\n",
      " 'Seaking': 'Vatten, 119',\n",
      " 'Staryu': 'Vatten, 120',\n",
      " 'Starmie': 'Vatten/Psykisk, 121',\n",
      " 'Mr. Mime': 'Psykisk, 122',\n",
      " 'Scyther': 'Insekt/Flygande, 123',\n",
      " 'Jynx': 'Is/Psykisk, 124',\n",
      " 'Electabuzz': 'Elektrisk, 125',\n",
      " 'Magmar': 'Eld, 126',\n",
      " 'Pinsir': 'Insekt, 127',\n",
      " 'Tauros': 'Normal, 128',\n",
      " 'Magikarp': 'Vatten, 129',\n",
      " 'Gyarados': 'Vatten/Flygande, 130',\n",
      " 'Lapras': 'Vatten/Is, 131',\n",
      " 'Ditto': 'Normal, 132',\n",
      " 'Eevee': 'Normal, 133',\n",
      " 'Vaporeon': 'Vatten, 134',\n",
      " 'Jolteon': 'Elektrisk, 135',\n",
      " 'Flareon': 'Eld, 136',\n",
      " 'Porygon': 'Normal, 137',\n",
      " 'Omanyte': 'Sten/Vatten, 138',\n",
      " 'Omastar': 'Sten/Vatten, 139',\n",
      " 'Kabuto': 'Sten/Vatten, 140',\n",
      " 'Kabutops': 'Sten/Vatten, 141',\n",
      " 'Aerodactyl': 'Sten/Flygande, 142',\n",
      " 'Snorlax': 'Normal, 143',\n",
      " 'Articuno': 'Is/Flygande, 144',\n",
      " 'Zapdos': 'Elektrisk/Flygande, 145',\n",
      " 'Moltres': 'Eld/Flygande, 146',\n",
      " 'Dratini': 'Drake, 147',\n",
      " 'Dragonair': 'Drake, 148',\n",
      " 'Dragonite': 'Drake/Flygande, 149',\n",
      " 'Mewtwo': 'Psykisk, 150'}\n"
     ]
    }
   ],
   "metadata": {}
  },
  {
   "cell_type": "markdown",
   "source": [
    "## 4. Morse code"
   ],
   "metadata": {}
  },
  {
   "cell_type": "code",
   "execution_count": 143,
   "source": [
    "with open (\"files/morse.txt\", \"r\") as m:\n",
    "    morse = [letter.split() for letter in m.readlines()] #Split the words at blank spaces\n",
    "    morse = [[letter[0].replace(\":\", \"\"), letter[1]] for letter in morse] #Replace the : from the first element with nothing, and make it into an inner list together with the second element\n",
    "\n",
    "    morse_dict = {} #Creates an empty dictionary\n",
    "    for letter in morse:\n",
    "        morse_dict[letter[0]] = letter[1] #Make the letter into the key and the morse code into the value\n",
    "    print(morse_dict)  "
   ],
   "outputs": [
    {
     "output_type": "stream",
     "name": "stdout",
     "text": [
      "{'A': '.-', 'B': '-...', 'C': '-.-.', 'D': '-..', 'E': '.', 'F': '..-.', 'G': '--', 'H': '....', 'I': '..', 'J': '.---', 'K': '-.-', 'L': '.-..', 'M': '--', 'N': '-.', 'O': '---', 'P': '.--', 'Q': '--.-', 'R': '.-.', 'S': '...', 'T': '-', 'U': '..-', 'V': '...-', 'W': '.--', 'X': '-..-', 'Y': '-.--', 'Z': '--..', 'Å': '.--.-', 'Ä': '.-.-', 'Ö': '---'}\n"
     ]
    }
   ],
   "metadata": {}
  },
  {
   "cell_type": "code",
   "execution_count": 144,
   "source": [
    "def morse_signal(word): \n",
    "    '''Takes a word/string as input.\n",
    "    Prints out the word in morse code.'''\n",
    "    word = word.upper() #Change all of the letters to uppercase\n",
    "    for letter in word:\n",
    "        print(morse_dict[letter], end = \"\") #Print out the output on the same row       "
   ],
   "outputs": [],
   "metadata": {}
  },
  {
   "cell_type": "code",
   "execution_count": 145,
   "source": [
    "word = input(\"Please enter a word, using the letters A to Ö.\") \n",
    "\n",
    "while not word.isalpha(): #If NOT all of the values are alphabetically run this \n",
    "    word = input(\"You can only use the letters A to Ö.\")\n",
    "\n",
    "morse_signal(word)  "
   ],
   "outputs": [
    {
     "output_type": "stream",
     "name": "stdout",
     "text": [
      ".------.-.------."
     ]
    }
   ],
   "metadata": {}
  }
 ],
 "metadata": {
  "orig_nbformat": 4,
  "language_info": {
   "name": "python",
   "version": "3.9.6",
   "mimetype": "text/x-python",
   "codemirror_mode": {
    "name": "ipython",
    "version": 3
   },
   "pygments_lexer": "ipython3",
   "nbconvert_exporter": "python",
   "file_extension": ".py"
  },
  "kernelspec": {
   "name": "python3",
   "display_name": "Python 3.9.6 64-bit ('python-programming-Anna-Maria-Sjolund-Htb3K3oR': pipenv)"
  },
  "interpreter": {
   "hash": "d058bb7a222ccb114394dd2dbf09376c772f658c97746095daf69714e9de45e0"
  }
 },
 "nbformat": 4,
 "nbformat_minor": 2
}