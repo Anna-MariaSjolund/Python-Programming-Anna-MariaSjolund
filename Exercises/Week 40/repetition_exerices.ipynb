{
 "cells": [
  {
   "cell_type": "code",
   "execution_count": null,
   "source": [
    "#Nicer code for multiplication table\n",
    "\n",
    "step = 1\n",
    "\n",
    "for row in range(10):\n",
    "    for col in range(11):\n",
    "        print(f\"{col*step:^3}\", end=\" \")\n",
    "    step += 1\n",
    "    print()"
   ],
   "outputs": [],
   "metadata": {}
  },
  {
   "cell_type": "code",
   "execution_count": null,
   "source": [
    "#Nicer code for factorial\n",
    "\n",
    "def factorial(n):\n",
    "    \"\"\"The method returns the factorial of n.\"\"\"\n",
    "    n_fact = 1\n",
    "    for i in range(2, n+1):\n",
    "        n_fact *= i\n",
    "    return n_fact\n",
    "\n",
    "print(factorial(int(input(\"Please enter n.\"))))"
   ],
   "outputs": [],
   "metadata": {}
  }
 ],
 "metadata": {
  "orig_nbformat": 4,
  "language_info": {
   "name": "python"
  }
 },
 "nbformat": 4,
 "nbformat_minor": 2
}