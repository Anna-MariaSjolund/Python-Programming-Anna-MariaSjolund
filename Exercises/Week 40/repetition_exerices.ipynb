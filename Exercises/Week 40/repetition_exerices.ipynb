{
 "cells": [
  {
   "cell_type": "code",
   "execution_count": null,
   "source": [
    "#Nicer code for multiplication table\n",
    "\n",
    "step = 1\n",
    "\n",
    "for row in range(10):\n",
    "    for col in range(11):\n",
    "        print(f\"{col*step:^3}\", end=\" \")\n",
    "    step += 1\n",
    "    print()"
   ],
   "outputs": [],
   "metadata": {}
  },
  {
   "cell_type": "code",
   "execution_count": null,
   "source": [
    "#Nicer code for factorial\n",
    "\n",
    "def factorial(n):\n",
    "    \"\"\"The method returns the factorial of n.\"\"\"\n",
    "    n_fact = 1\n",
    "    for i in range(2, n+1):\n",
    "        n_fact *= i\n",
    "    return n_fact\n",
    "\n",
    "print(factorial(int(input(\"Please enter n.\"))))"
   ],
   "outputs": [],
   "metadata": {}
  },
  {
   "cell_type": "code",
   "execution_count": null,
   "source": [
    "#Nicer code for food menu\n",
    "\n",
    "list_dishes = [\"vegetarisk lasagne\", \"spaghetti\", \"fisk\", \"grönsakssoppa\", \"pannkakor\"]\n",
    "list_days = [\"Måndag\", \"Tisdag\", \"Onsdag\", \"Torsdag\", \"Fredag\"]\n",
    "\n",
    "menu = [f\"{day}: {dish}\" for day, dish in zip(list_days, list_dishes)]\n",
    "\n",
    "for day in menu:\n",
    "\tprint(day)"
   ],
   "outputs": [],
   "metadata": {}
  },
  {
   "cell_type": "code",
   "execution_count": null,
   "source": [
    "#Alternative for printing chess boards as string\n",
    "\n",
    "for row in range(1, 9):\n",
    "\tfor col in range(97, 105):\n",
    "\t\tprint(f\"{chr(col).upper()}{row}\", end= \" \")\n",
    "\tprint()"
   ],
   "outputs": [],
   "metadata": {}
  },
  {
   "cell_type": "code",
   "execution_count": null,
   "source": [
    "#Alternative for counting uppercase and lowercase letters in a word\n",
    "\n",
    "word = input(\"Please enter a word\")\n",
    "print(len(word))\n",
    "\n",
    "upper_case = [letter for letter in word if letter.isupper()]\n",
    "lower_case = [letter for letter in word if letter.islower()]\n",
    "print(len(upper_case), len(lower_case))"
   ],
   "outputs": [],
   "metadata": {}
  },
  {
   "cell_type": "code",
   "execution_count": null,
   "source": [
    "#Alternative to counting the number of words in a sentence\n",
    "\n",
    "sentence = \"A picture says more than a thousand words, a matematical formula says more than a thousand pictures.\"\n",
    "\n",
    "number_words = len(sentence.split(\" \"))\n",
    "print(number_words)\n"
   ],
   "outputs": [],
   "metadata": {}
  },
  {
   "cell_type": "code",
   "execution_count": null,
   "source": [
    "#Name cleaning, if we would have several spaces between first and last name\n",
    "\n",
    "def name_cleaner(name):\n",
    "    \"\"\"Cleans a first name/full name from empy spaces and capitalises the first letters in the name/names\"\"\"\n",
    "    name = name.split()\n",
    "    name = \" \".join(name)\n",
    "    name = name.lower().title()\n",
    "    return name\n",
    "\n",
    "names = [\"  MaRcUs \", \" iDA      aNderSon\", \"OLOF Olofsson            \"  ]\n",
    "\n",
    "cleaned_names = [name_cleaner(name) for name in names]\n",
    "print(cleaned_names)"
   ],
   "outputs": [],
   "metadata": {}
  },
  {
   "cell_type": "code",
   "execution_count": null,
   "source": [
    "#Alternative way to write dice rolls to file\n",
    "\n",
    "import random as rnd\n",
    "\n",
    "with open (\"dice_rolls.txt\", \"w\") as dice:\n",
    "    dice.write(\"20 Dice Rolls:\\n\")\n",
    "    dice_rolls = [rnd.randint(1,6) for i in range(20)]\n",
    "    dice.write(f\"{dice_rolls}\\n\\n\")\n",
    "    dice.write(\"Dice Rolls Sorted:\\n\")\n",
    "    dice.write(f\"{sorted(dice_rolls)}\\n\\n\")\n",
    "    dice.write(\"Number of Fours:\\n\")\n",
    "    dice.write(f\"{dice_rolls.count(4)}\")\n"
   ],
   "outputs": [],
   "metadata": {}
  },
  {
   "cell_type": "code",
   "execution_count": null,
   "source": [
    "#Tests using enumerate\n",
    "\n",
    "path2 = \"test_result.txt\"\n",
    "\n",
    "with open (path2, \"r\") as f1, open (path2, \"a\") as f2:\n",
    "    results = [result.strip(\"\\n\") for result in f1] #Removes the \\n that are created when reading in the data\n",
    "    print(results)\n",
    "\n",
    "    results_sorted = sorted(results) #Sort the results\n",
    "    f2.write(f\"\\n\\nSorted Alphabetically:\\n\")\n",
    "    for i, result in enumerate(results_sorted):\n",
    "        if i == 19:\n",
    "            f2.write(f\"{result}\")\n",
    "        else:\n",
    "            f2.write(f\"{result}\\n\") "
   ],
   "outputs": [],
   "metadata": {}
  },
  {
   "cell_type": "code",
   "execution_count": null,
   "source": [
    "class Person:\n",
    "    def __init__(self, name:str, age:float, email:str) -> None:\n",
    "        self.name = name\n",
    "        self.age = age\n",
    "        self.email = email\n",
    "\t\n",
    "    @property\n",
    "    def name(self) -> str:\n",
    "        return self._name\n",
    "\n",
    "    @property\n",
    "    def age(self) -> float:\n",
    "        return self._age\n",
    "        \n",
    "    @property\n",
    "    def email(self) -> str:\n",
    "        return self._email\n",
    "\n",
    "    @name.setter\n",
    "    def name(self, name:str) -> None:\n",
    "        self._name = Person.validation_string(name)\n",
    "    \n",
    "    @age.setter\n",
    "    def age(self, age:float) -> None:\n",
    "        if age < 0 or age > 125:\n",
    "            raise ValueError(f\"The age has to be between 0 and 125, not {age}.\")\n",
    "        else: \n",
    "            self._age = age\n",
    "        \n",
    "    @email.setter\n",
    "    def email(self, email:str) -> None:\n",
    "        Person.validation_string(email)\n",
    "        if not \"@\" in email:\n",
    "            raise TypeError(\"The email address must consist of a @.\")\n",
    "        self._email = email\n",
    "    \n",
    "    @staticmethod\n",
    "    def validation_string(value):\n",
    "        if not isinstance(value, str):\n",
    "            raise TypeError(f\"You have to enter a string, not a {type(value)}.\")\n",
    "        else:\n",
    "            return value\n",
    "    \n",
    "    def say_hello(self):\n",
    "        return f\"Hi, my name is {self.name}, I am {self.age} years old, my email address is {self.email}.\" \n",
    "\n",
    "    def __repr__(self):\n",
    "        return f\"name: {self.name}, age: {self.age}, email: {self.email}\"\n",
    "        "
   ],
   "outputs": [],
   "metadata": {}
  },
  {
   "cell_type": "code",
   "execution_count": null,
   "source": [
    "class Student(Person):\n",
    "\n",
    "#WE DO NOT HAVE TO INITIALISE THE CLASS, THIS IS INHERHITED FROM PERSON \n",
    "   \n",
    "    def study(self):\n",
    "        '''The Student class has a study method, that prints out a message.'''\n",
    "        print(\"study...study...study...more study\")\n",
    "    \n",
    "    def say_hello(self):\n",
    "        '''The students say_hello function overwrites the say_hello function in the Person class.'''\n",
    "        print(f\"Yo, I am a student, my name is {self.name}, I am {self.age} years old, my email address is {self.email}.\")"
   ],
   "outputs": [],
   "metadata": {}
  },
  {
   "cell_type": "code",
   "execution_count": null,
   "source": [
    "class Teacher(Person):\n",
    "    \n",
    "#WE DO NOT HAVE TO INITIALISE THE CLASS, THIS IS INHERHITED FROM PERSON\n",
    "\n",
    "    def teach(self):\n",
    "        '''The Teacher class has a study method, that prints out a message.'''\n",
    "        print(\"teach...teach...teach...more teaching\")"
   ],
   "outputs": [],
   "metadata": {}
  },
  {
   "cell_type": "code",
   "execution_count": null,
   "source": [
    "#Test the Student class\n",
    "student1 = Student(\"Anna-Maria\", 30, \"anna_maria91@hotmail.com\")\n",
    "print(student1)\n",
    "student1.study()\n",
    "student1.say_hello() #This prints out the say_hello message from the Student class.\n",
    "\n",
    "#Test the Teacher class\n",
    "teacher1 = Teacher(\"Patrik\", 35, \"sirkingkeano@gmail.com\")\n",
    "teacher1.teach()\n",
    "teacher1.say_hello() #This prints out the say_hello message from the Person class."
   ],
   "outputs": [],
   "metadata": {}
  },
  {
   "cell_type": "code",
   "execution_count": null,
   "source": [
    "import random as rnd\n",
    "\n",
    "rnd.seed(42)\n",
    "my_random_list = [rnd.randint(1, 30) for i in range(10)]\n",
    "rnd.seed(42)\n",
    "my_random_list2 = [rnd.randint(1, 30) for i in range(10)]\n",
    "print(my_random_list)\n",
    "print(my_random_list2)"
   ],
   "outputs": [],
   "metadata": {}
  },
  {
   "cell_type": "code",
   "execution_count": null,
   "source": [
    "print(f\"\\n{range(10)}\")\n",
    "print(f\"En lista från range(10): {list(range(10))}\")\n",
    "print(sum(range(6)))"
   ],
   "outputs": [],
   "metadata": {}
  },
  {
   "cell_type": "code",
   "execution_count": null,
   "source": [
    "fruits = [\"apple\", \"banana\", \"grapes\"]\n",
    "\n",
    "for i, fruit in enumerate(fruits, start=1):\n",
    "   print(f\"{i}. {fruit}\")"
   ],
   "outputs": [],
   "metadata": {}
  },
  {
   "cell_type": "code",
   "execution_count": null,
   "source": [
    "with open (\"testpoints/data_cleaning_test.txt\", \"r\") as test:\n",
    "    cleaned = [line.strip(\" \\n\") for line in test.readlines()] #Remove all leading and trailing spaces and new lines\n",
    "    cleaned = [line.replace(\"-  \", \"-\") for line in cleaned] #Replace the empty spaces after - in Anna-   Maria\n",
    "    print(cleaned)\n",
    "    \n",
    "    cleaned_joined = \", \".join(line for line in cleaned) #Joins all elements to a string\n",
    "    print(cleaned_joined)\n",
    "\n",
    "    #print(cleaned)\n",
    "    ord_familj = cleaned[4].split()[-1] #Picks out the last string element in the last list element in the cleaned list\n",
    "    print(ord_familj)\n",
    "\n",
    "test_string = \"Hej på      dig\" \n",
    "test_string = test_string.split()[-1] #Splits the last element at empty space\n",
    "print(test_string)\n"
   ],
   "outputs": [],
   "metadata": {}
  },
  {
   "cell_type": "code",
   "execution_count": null,
   "source": [
    "#Keys does not have to be strings\n",
    "mydictionary = {1:4, 2:4}\n",
    "mydictionary[1]"
   ],
   "outputs": [],
   "metadata": {}
  },
  {
   "cell_type": "code",
   "execution_count": 237,
   "source": [
    "with open (\"testpoints/testpunkter.txt\", \"r\") as f1:\n",
    "    test = [line.strip(\"\\n\") for line in f1.readlines()]\n",
    "    test.pop(0)\n",
    "    test = [line.replace(\"(\", \"\").replace(\")\", \"\") for line in test]\n",
    "    test = [line.split(\", \") for line in test]\n",
    "    test = [[line[0].split(\",\"), line[1].split(\",\")] for line in test]\n",
    "    test = [[(int(line[0][0]), int(line[0][1])), (int(line[1][0]), int(line[1][1]))] for line in test]\n",
    "    print(test)"
   ],
   "outputs": [
    {
     "output_type": "stream",
     "name": "stdout",
     "text": [
      "[[(1.0, 2.0), (1.0, 2.0)], [(2.0, 0.0), (2.0, 0.0)], [(-2.0, -2.0), (-2.0, -2.0)]]\n"
     ]
    }
   ],
   "metadata": {}
  },
  {
   "cell_type": "code",
   "execution_count": 242,
   "source": [
    "with open (\"testpoints/testpunkter.txt\", \"r\") as f1:\n",
    "    test = [line.strip(\"\\n\") for line in f1.readlines()[1:]]\n",
    "    test = [line.split(\", \") for line in test]\n",
    "    test = [[eval(line[0]), eval(line[1])] for line in test ]\n",
    "    print(test)"
   ],
   "outputs": [
    {
     "output_type": "stream",
     "name": "stdout",
     "text": [
      "[[(1, 2), (0, 0)], [(2, 0), (3, 5)], [(-2, -2), (9, 2)]]\n"
     ]
    }
   ],
   "metadata": {}
  },
  {
   "cell_type": "code",
   "execution_count": 243,
   "source": [
    "test = eval(\"(2,3)\")\n",
    "print(type(test))\n",
    "print(type(test[0]))"
   ],
   "outputs": [
    {
     "output_type": "stream",
     "name": "stdout",
     "text": [
      "<class 'tuple'>\n",
      "<class 'int'>\n"
     ]
    }
   ],
   "metadata": {}
  },
  {
   "cell_type": "code",
   "execution_count": null,
   "source": [
    "with open (\"testpoints/pichu.txt\", \"r\") as p:\n",
    "    pichu = [line.strip(\"\\n\") for line in p.readlines()]\n",
    "    pichu.pop(0)\n",
    "    pichu = [line.strip(\"(\").strip(\")\") for line in pichu]\n",
    "    pichu = [line.split(\", \") for line in pichu]\n",
    "    pichu = [[float(line[0]), float(line[1])] for line in pichu]\n",
    "    print(pichu)\n",
    "    print(pichu[0][1])\n",
    "    print(len(pichu))"
   ],
   "outputs": [],
   "metadata": {}
  },
  {
   "cell_type": "code",
   "execution_count": 171,
   "source": [
    "with open (\"testpoints/morse.txt\", \"r\") as m:\n",
    "    morse = [line.strip(\" \\n\") for line in m.readlines()]\n",
    "    #print(morse)\n",
    "    morse = [line.split(\": \") for line in morse]\n",
    "    #print(morse)\n",
    "    morse = {line[0]:line[1] for line in morse}\n",
    "    print(morse)\n",
    "    \n",
    "word = \"SOS\"\n",
    "\n",
    "for letter in word:\n",
    "    print(morse[letter], end=\" \")"
   ],
   "outputs": [
    {
     "output_type": "stream",
     "name": "stdout",
     "text": [
      "{'A': '.-', 'B': '-...', 'C': '-.-.', 'D': '-..', 'E': '.', 'F': '..-.', 'G': '--', 'H': '....', 'I': '..', 'J': '.---', 'K': '-.-', 'L': '.-..', 'M': '--', 'N': '-.', 'O': '---', 'P': '.--', 'Q': '--.-', 'R': '.-.', 'S': '...', 'T': '-', 'U': '..-', 'V': '...-', 'W': '.--', 'X': '-..-', 'Y': '-.--', 'Z': '--..', 'Å': '.--.-', 'Ä': '.-.-', 'Ö': '---'}\n",
      "... --- ... "
     ]
    }
   ],
   "metadata": {}
  },
  {
   "cell_type": "code",
   "execution_count": null,
   "source": [
    "with open (\"testpoints/quotes.txt\", \"r\") as qr, open (\"testpoints/quotes_cleaned.txt\", \"w\") as qw:\n",
    "    quotes = [line.strip(\" \\n\") for line in qr.readlines()]\n",
    "    quotes = [\" \".join(line.split()) for line in quotes] \n",
    "    quotes = [line for line in quotes if line] #Add it if line is not an empty string.\n",
    "    authors = [\" \".join(line.split()[-2:]) for line in quotes]\n",
    "    authors = set(authors)\n",
    "    \n",
    "    qw.write(\"Famous Quotes\\n\\n\")\n",
    "\n",
    "    for i, quote in enumerate(quotes, 1):\n",
    "        qw.write(f\"{i}. {quote}\\n\")\n",
    "    \n",
    "    qw.write(f\"\\nAuthors: \")\n",
    "    \n",
    "    for author in authors:\n",
    "        qw.write(f\"{author}, \")"
   ],
   "outputs": [],
   "metadata": {}
  },
  {
   "cell_type": "code",
   "execution_count": 174,
   "source": [
    "with open (\"testpoints/NPvt19Ma2C.txt\", \"r\") as npma:\n",
    "    np = [line.strip(\" \\n\") for line in npma.readlines()]\n",
    "    np = [line.replace(\"%\", \"\") for line in np] #pop only works on lists!!!\n",
    "    np = [line.split() for line in np]\n",
    "    labels = [line[0] for line in np]\n",
    "    results = [line[1] for line in np]\n",
    "    print(np)\n",
    "    print(labels)\n",
    "    print(results)\n"
   ],
   "outputs": [
    {
     "output_type": "stream",
     "name": "stdout",
     "text": [
      "[['A', '8.4'], ['B', '14.2'], ['C', '26.9'], ['D', '16.6'], ['E', '21.3'], ['F', '12.6']]\n",
      "['A', 'B', 'C', 'D', 'E', 'F']\n",
      "['8.4', '14.2', '26.9', '16.6', '21.3', '12.6']\n"
     ]
    }
   ],
   "metadata": {}
  },
  {
   "cell_type": "code",
   "execution_count": 191,
   "source": [
    "with open(\"testpoints/test_result.txt\", \"r\") as res:\n",
    "    results = [line.strip(\" \\n\") for line in res.readlines()]\n",
    "    #split()[index] returns only the element at that index or the elements at the range of the indexes\n",
    "    results = [[\" \".join(line.split()[:-1]), (line.split()[-1])] for line in results]\n",
    "    results = [[line[0], float(line[1])] for line in results]\n",
    "    results = {line[0]:line[1] for line in results}\n",
    "    print(results)\n",
    "    print(results[\"Adam Gustafsson\"])"
   ],
   "outputs": [
    {
     "output_type": "stream",
     "name": "stdout",
     "text": [
      "{'Adam Gustafsson': 25.0, 'Emil Johansson': 23.0, 'Sven Erik Karlsson': 13.0, 'Ove Karlsten': 41.0, 'Emma Boden': 32.0, 'Ida Håkansson': 23.0, 'Ella Ester': 41.0, 'Hanna Karlsson': 23.0, 'Johan Johansson': 42.0, 'Sven Erik Lundin': 39.0, 'Björn Björnsson': 39.0, 'Karl Karlsson': 32.0, 'Bose Bosseson': 32.0, 'Håkan Håkanson': 24.0, 'Jonas Jonasson': 31.0, 'Erik Eriksson': 31.0, 'Gore Bord': 55.0, 'Jakob Kallander': 65.0, 'Fredrika Ulven': 10.0}\n",
      "25.0\n"
     ]
    }
   ],
   "metadata": {}
  },
  {
   "cell_type": "code",
   "execution_count": null,
   "source": [
    "myString = \"s\"\n",
    "if myString:\n",
    "    print(\"Hej\")"
   ],
   "outputs": [],
   "metadata": {}
  }
 ],
 "metadata": {
  "orig_nbformat": 4,
  "language_info": {
   "name": "python",
   "version": "3.9.6",
   "mimetype": "text/x-python",
   "codemirror_mode": {
    "name": "ipython",
    "version": 3
   },
   "pygments_lexer": "ipython3",
   "nbconvert_exporter": "python",
   "file_extension": ".py"
  },
  "kernelspec": {
   "name": "python3",
   "display_name": "Python 3.9.6 64-bit ('python-programming-Anna-Maria-Sjolund-Htb3K3oR': pipenv)"
  },
  "interpreter": {
   "hash": "d058bb7a222ccb114394dd2dbf09376c772f658c97746095daf69714e9de45e0"
  }
 },
 "nbformat": 4,
 "nbformat_minor": 2
}