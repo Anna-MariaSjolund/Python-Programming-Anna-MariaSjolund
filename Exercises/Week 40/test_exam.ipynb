{
 "cells": [
  {
   "cell_type": "markdown",
   "source": [
    "# Övningsprov"
   ],
   "metadata": {}
  },
  {
   "cell_type": "markdown",
   "source": [
    "## Uppgift 1"
   ],
   "metadata": {}
  },
  {
   "cell_type": "code",
   "execution_count": 1,
   "source": [
    "import matplotlib.pyplot as plt  #Import the package matplotlib.pyplot, which is used for plotting. Import it as plt, so that we do not have to use the full name when we write the code.\n",
    "\n",
    "x = list(range(10)) #Creates a list of 10 numbers, between 0 and 9, and stores them in variable x.\n",
    "y = [i**2 for i in x] #For each number in the list x, raise the number to the power of 2 and store it in a list y.\n",
    "fig, ax = plt.figure(), plt.axes() #plt.figure() creates the figure/background for plotting the values (it is the top level container for all the plot elements). plt.axes() creates the axes for the figure. We can later use ax.plot(), instead of plt.plot(). This is the OOP approach to matplotlib.\n",
    "ax.plot(x,y) #Creates the plot and plots the x values on the x-axis and the y-values on the y-axis. x will have the values 0-9 and y will have the squared values of x: 0, 1, 4, 9, 16, 25, 36, 49, 64, 81. The values will be connected with a line.\n",
    "ax.set(title=\"Plot\", xlabel=\"x\", ylabel=\"y\") #Sets the title to “Plot” and the xlabel and ylabel to “x” and “y” respectively. The title will be shown on the top of the plot and the y-value to the left of the y-axis and the x-label below the x-axis."
   ],
   "outputs": [
    {
     "output_type": "execute_result",
     "data": {
      "text/plain": [
       "[Text(0.5, 1.0, 'Plot'), Text(0.5, 0, 'x'), Text(0, 0.5, 'y')]"
      ]
     },
     "metadata": {},
     "execution_count": 1
    },
    {
     "output_type": "display_data",
     "data": {
      "text/plain": [
       "<Figure size 432x288 with 1 Axes>"
      ],
      "image/svg+xml": "<?xml version=\"1.0\" encoding=\"utf-8\" standalone=\"no\"?>\n<!DOCTYPE svg PUBLIC \"-//W3C//DTD SVG 1.1//EN\"\n  \"http://www.w3.org/Graphics/SVG/1.1/DTD/svg11.dtd\">\n<svg height=\"277.314375pt\" version=\"1.1\" viewBox=\"0 0 382.603125 277.314375\" width=\"382.603125pt\" xmlns=\"http://www.w3.org/2000/svg\" xmlns:xlink=\"http://www.w3.org/1999/xlink\">\n <metadata>\n  <rdf:RDF xmlns:cc=\"http://creativecommons.org/ns#\" xmlns:dc=\"http://purl.org/dc/elements/1.1/\" xmlns:rdf=\"http://www.w3.org/1999/02/22-rdf-syntax-ns#\">\n   <cc:Work>\n    <dc:type rdf:resource=\"http://purl.org/dc/dcmitype/StillImage\"/>\n    <dc:date>2021-10-09T00:52:11.515754</dc:date>\n    <dc:format>image/svg+xml</dc:format>\n    <dc:creator>\n     <cc:Agent>\n      <dc:title>Matplotlib v3.4.3, https://matplotlib.org/</dc:title>\n     </cc:Agent>\n    </dc:creator>\n   </cc:Work>\n  </rdf:RDF>\n </metadata>\n <defs>\n  <style type=\"text/css\">*{stroke-linecap:butt;stroke-linejoin:round;}</style>\n </defs>\n <g id=\"figure_1\">\n  <g id=\"patch_1\">\n   <path d=\"M 0 277.314375 \nL 382.603125 277.314375 \nL 382.603125 0 \nL 0 0 \nz\n\" style=\"fill:none;\"/>\n  </g>\n  <g id=\"axes_1\">\n   <g id=\"patch_2\">\n    <path d=\"M 40.603125 239.758125 \nL 375.403125 239.758125 \nL 375.403125 22.318125 \nL 40.603125 22.318125 \nz\n\" style=\"fill:#ffffff;\"/>\n   </g>\n   <g id=\"matplotlib.axis_1\">\n    <g id=\"xtick_1\">\n     <g id=\"line2d_1\">\n      <defs>\n       <path d=\"M 0 0 \nL 0 3.5 \n\" id=\"m7342054b11\" style=\"stroke:#000000;stroke-width:0.8;\"/>\n      </defs>\n      <g>\n       <use style=\"stroke:#000000;stroke-width:0.8;\" x=\"55.821307\" xlink:href=\"#m7342054b11\" y=\"239.758125\"/>\n      </g>\n     </g>\n     <g id=\"text_1\">\n      <!-- 0 -->\n      <g transform=\"translate(52.640057 254.356562)scale(0.1 -0.1)\">\n       <defs>\n        <path d=\"M 2034 4250 \nQ 1547 4250 1301 3770 \nQ 1056 3291 1056 2328 \nQ 1056 1369 1301 889 \nQ 1547 409 2034 409 \nQ 2525 409 2770 889 \nQ 3016 1369 3016 2328 \nQ 3016 3291 2770 3770 \nQ 2525 4250 2034 4250 \nz\nM 2034 4750 \nQ 2819 4750 3233 4129 \nQ 3647 3509 3647 2328 \nQ 3647 1150 3233 529 \nQ 2819 -91 2034 -91 \nQ 1250 -91 836 529 \nQ 422 1150 422 2328 \nQ 422 3509 836 4129 \nQ 1250 4750 2034 4750 \nz\n\" id=\"DejaVuSans-30\" transform=\"scale(0.015625)\"/>\n       </defs>\n       <use xlink:href=\"#DejaVuSans-30\"/>\n      </g>\n     </g>\n    </g>\n    <g id=\"xtick_2\">\n     <g id=\"line2d_2\">\n      <g>\n       <use style=\"stroke:#000000;stroke-width:0.8;\" x=\"123.45767\" xlink:href=\"#m7342054b11\" y=\"239.758125\"/>\n      </g>\n     </g>\n     <g id=\"text_2\">\n      <!-- 2 -->\n      <g transform=\"translate(120.27642 254.356562)scale(0.1 -0.1)\">\n       <defs>\n        <path d=\"M 1228 531 \nL 3431 531 \nL 3431 0 \nL 469 0 \nL 469 531 \nQ 828 903 1448 1529 \nQ 2069 2156 2228 2338 \nQ 2531 2678 2651 2914 \nQ 2772 3150 2772 3378 \nQ 2772 3750 2511 3984 \nQ 2250 4219 1831 4219 \nQ 1534 4219 1204 4116 \nQ 875 4013 500 3803 \nL 500 4441 \nQ 881 4594 1212 4672 \nQ 1544 4750 1819 4750 \nQ 2544 4750 2975 4387 \nQ 3406 4025 3406 3419 \nQ 3406 3131 3298 2873 \nQ 3191 2616 2906 2266 \nQ 2828 2175 2409 1742 \nQ 1991 1309 1228 531 \nz\n\" id=\"DejaVuSans-32\" transform=\"scale(0.015625)\"/>\n       </defs>\n       <use xlink:href=\"#DejaVuSans-32\"/>\n      </g>\n     </g>\n    </g>\n    <g id=\"xtick_3\">\n     <g id=\"line2d_3\">\n      <g>\n       <use style=\"stroke:#000000;stroke-width:0.8;\" x=\"191.094034\" xlink:href=\"#m7342054b11\" y=\"239.758125\"/>\n      </g>\n     </g>\n     <g id=\"text_3\">\n      <!-- 4 -->\n      <g transform=\"translate(187.912784 254.356562)scale(0.1 -0.1)\">\n       <defs>\n        <path d=\"M 2419 4116 \nL 825 1625 \nL 2419 1625 \nL 2419 4116 \nz\nM 2253 4666 \nL 3047 4666 \nL 3047 1625 \nL 3713 1625 \nL 3713 1100 \nL 3047 1100 \nL 3047 0 \nL 2419 0 \nL 2419 1100 \nL 313 1100 \nL 313 1709 \nL 2253 4666 \nz\n\" id=\"DejaVuSans-34\" transform=\"scale(0.015625)\"/>\n       </defs>\n       <use xlink:href=\"#DejaVuSans-34\"/>\n      </g>\n     </g>\n    </g>\n    <g id=\"xtick_4\">\n     <g id=\"line2d_4\">\n      <g>\n       <use style=\"stroke:#000000;stroke-width:0.8;\" x=\"258.730398\" xlink:href=\"#m7342054b11\" y=\"239.758125\"/>\n      </g>\n     </g>\n     <g id=\"text_4\">\n      <!-- 6 -->\n      <g transform=\"translate(255.549148 254.356562)scale(0.1 -0.1)\">\n       <defs>\n        <path d=\"M 2113 2584 \nQ 1688 2584 1439 2293 \nQ 1191 2003 1191 1497 \nQ 1191 994 1439 701 \nQ 1688 409 2113 409 \nQ 2538 409 2786 701 \nQ 3034 994 3034 1497 \nQ 3034 2003 2786 2293 \nQ 2538 2584 2113 2584 \nz\nM 3366 4563 \nL 3366 3988 \nQ 3128 4100 2886 4159 \nQ 2644 4219 2406 4219 \nQ 1781 4219 1451 3797 \nQ 1122 3375 1075 2522 \nQ 1259 2794 1537 2939 \nQ 1816 3084 2150 3084 \nQ 2853 3084 3261 2657 \nQ 3669 2231 3669 1497 \nQ 3669 778 3244 343 \nQ 2819 -91 2113 -91 \nQ 1303 -91 875 529 \nQ 447 1150 447 2328 \nQ 447 3434 972 4092 \nQ 1497 4750 2381 4750 \nQ 2619 4750 2861 4703 \nQ 3103 4656 3366 4563 \nz\n\" id=\"DejaVuSans-36\" transform=\"scale(0.015625)\"/>\n       </defs>\n       <use xlink:href=\"#DejaVuSans-36\"/>\n      </g>\n     </g>\n    </g>\n    <g id=\"xtick_5\">\n     <g id=\"line2d_5\">\n      <g>\n       <use style=\"stroke:#000000;stroke-width:0.8;\" x=\"326.366761\" xlink:href=\"#m7342054b11\" y=\"239.758125\"/>\n      </g>\n     </g>\n     <g id=\"text_5\">\n      <!-- 8 -->\n      <g transform=\"translate(323.185511 254.356562)scale(0.1 -0.1)\">\n       <defs>\n        <path d=\"M 2034 2216 \nQ 1584 2216 1326 1975 \nQ 1069 1734 1069 1313 \nQ 1069 891 1326 650 \nQ 1584 409 2034 409 \nQ 2484 409 2743 651 \nQ 3003 894 3003 1313 \nQ 3003 1734 2745 1975 \nQ 2488 2216 2034 2216 \nz\nM 1403 2484 \nQ 997 2584 770 2862 \nQ 544 3141 544 3541 \nQ 544 4100 942 4425 \nQ 1341 4750 2034 4750 \nQ 2731 4750 3128 4425 \nQ 3525 4100 3525 3541 \nQ 3525 3141 3298 2862 \nQ 3072 2584 2669 2484 \nQ 3125 2378 3379 2068 \nQ 3634 1759 3634 1313 \nQ 3634 634 3220 271 \nQ 2806 -91 2034 -91 \nQ 1263 -91 848 271 \nQ 434 634 434 1313 \nQ 434 1759 690 2068 \nQ 947 2378 1403 2484 \nz\nM 1172 3481 \nQ 1172 3119 1398 2916 \nQ 1625 2713 2034 2713 \nQ 2441 2713 2670 2916 \nQ 2900 3119 2900 3481 \nQ 2900 3844 2670 4047 \nQ 2441 4250 2034 4250 \nQ 1625 4250 1398 4047 \nQ 1172 3844 1172 3481 \nz\n\" id=\"DejaVuSans-38\" transform=\"scale(0.015625)\"/>\n       </defs>\n       <use xlink:href=\"#DejaVuSans-38\"/>\n      </g>\n     </g>\n    </g>\n    <g id=\"text_6\">\n     <!-- x -->\n     <g transform=\"translate(205.04375 268.034687)scale(0.1 -0.1)\">\n      <defs>\n       <path d=\"M 3513 3500 \nL 2247 1797 \nL 3578 0 \nL 2900 0 \nL 1881 1375 \nL 863 0 \nL 184 0 \nL 1544 1831 \nL 300 3500 \nL 978 3500 \nL 1906 2253 \nL 2834 3500 \nL 3513 3500 \nz\n\" id=\"DejaVuSans-78\" transform=\"scale(0.015625)\"/>\n      </defs>\n      <use xlink:href=\"#DejaVuSans-78\"/>\n     </g>\n    </g>\n   </g>\n   <g id=\"matplotlib.axis_2\">\n    <g id=\"ytick_1\">\n     <g id=\"line2d_6\">\n      <defs>\n       <path d=\"M 0 0 \nL -3.5 0 \n\" id=\"m7c8247f92a\" style=\"stroke:#000000;stroke-width:0.8;\"/>\n      </defs>\n      <g>\n       <use style=\"stroke:#000000;stroke-width:0.8;\" x=\"40.603125\" xlink:href=\"#m7c8247f92a\" y=\"229.874489\"/>\n      </g>\n     </g>\n     <g id=\"text_7\">\n      <!-- 0 -->\n      <g transform=\"translate(27.240625 233.673707)scale(0.1 -0.1)\">\n       <use xlink:href=\"#DejaVuSans-30\"/>\n      </g>\n     </g>\n    </g>\n    <g id=\"ytick_2\">\n     <g id=\"line2d_7\">\n      <g>\n       <use style=\"stroke:#000000;stroke-width:0.8;\" x=\"40.603125\" xlink:href=\"#m7c8247f92a\" y=\"205.470448\"/>\n      </g>\n     </g>\n     <g id=\"text_8\">\n      <!-- 10 -->\n      <g transform=\"translate(20.878125 209.269667)scale(0.1 -0.1)\">\n       <defs>\n        <path d=\"M 794 531 \nL 1825 531 \nL 1825 4091 \nL 703 3866 \nL 703 4441 \nL 1819 4666 \nL 2450 4666 \nL 2450 531 \nL 3481 531 \nL 3481 0 \nL 794 0 \nL 794 531 \nz\n\" id=\"DejaVuSans-31\" transform=\"scale(0.015625)\"/>\n       </defs>\n       <use xlink:href=\"#DejaVuSans-31\"/>\n       <use x=\"63.623047\" xlink:href=\"#DejaVuSans-30\"/>\n      </g>\n     </g>\n    </g>\n    <g id=\"ytick_3\">\n     <g id=\"line2d_8\">\n      <g>\n       <use style=\"stroke:#000000;stroke-width:0.8;\" x=\"40.603125\" xlink:href=\"#m7c8247f92a\" y=\"181.066408\"/>\n      </g>\n     </g>\n     <g id=\"text_9\">\n      <!-- 20 -->\n      <g transform=\"translate(20.878125 184.865627)scale(0.1 -0.1)\">\n       <use xlink:href=\"#DejaVuSans-32\"/>\n       <use x=\"63.623047\" xlink:href=\"#DejaVuSans-30\"/>\n      </g>\n     </g>\n    </g>\n    <g id=\"ytick_4\">\n     <g id=\"line2d_9\">\n      <g>\n       <use style=\"stroke:#000000;stroke-width:0.8;\" x=\"40.603125\" xlink:href=\"#m7c8247f92a\" y=\"156.662367\"/>\n      </g>\n     </g>\n     <g id=\"text_10\">\n      <!-- 30 -->\n      <g transform=\"translate(20.878125 160.461586)scale(0.1 -0.1)\">\n       <defs>\n        <path d=\"M 2597 2516 \nQ 3050 2419 3304 2112 \nQ 3559 1806 3559 1356 \nQ 3559 666 3084 287 \nQ 2609 -91 1734 -91 \nQ 1441 -91 1130 -33 \nQ 819 25 488 141 \nL 488 750 \nQ 750 597 1062 519 \nQ 1375 441 1716 441 \nQ 2309 441 2620 675 \nQ 2931 909 2931 1356 \nQ 2931 1769 2642 2001 \nQ 2353 2234 1838 2234 \nL 1294 2234 \nL 1294 2753 \nL 1863 2753 \nQ 2328 2753 2575 2939 \nQ 2822 3125 2822 3475 \nQ 2822 3834 2567 4026 \nQ 2313 4219 1838 4219 \nQ 1578 4219 1281 4162 \nQ 984 4106 628 3988 \nL 628 4550 \nQ 988 4650 1302 4700 \nQ 1616 4750 1894 4750 \nQ 2613 4750 3031 4423 \nQ 3450 4097 3450 3541 \nQ 3450 3153 3228 2886 \nQ 3006 2619 2597 2516 \nz\n\" id=\"DejaVuSans-33\" transform=\"scale(0.015625)\"/>\n       </defs>\n       <use xlink:href=\"#DejaVuSans-33\"/>\n       <use x=\"63.623047\" xlink:href=\"#DejaVuSans-30\"/>\n      </g>\n     </g>\n    </g>\n    <g id=\"ytick_5\">\n     <g id=\"line2d_10\">\n      <g>\n       <use style=\"stroke:#000000;stroke-width:0.8;\" x=\"40.603125\" xlink:href=\"#m7c8247f92a\" y=\"132.258327\"/>\n      </g>\n     </g>\n     <g id=\"text_11\">\n      <!-- 40 -->\n      <g transform=\"translate(20.878125 136.057546)scale(0.1 -0.1)\">\n       <use xlink:href=\"#DejaVuSans-34\"/>\n       <use x=\"63.623047\" xlink:href=\"#DejaVuSans-30\"/>\n      </g>\n     </g>\n    </g>\n    <g id=\"ytick_6\">\n     <g id=\"line2d_11\">\n      <g>\n       <use style=\"stroke:#000000;stroke-width:0.8;\" x=\"40.603125\" xlink:href=\"#m7c8247f92a\" y=\"107.854287\"/>\n      </g>\n     </g>\n     <g id=\"text_12\">\n      <!-- 50 -->\n      <g transform=\"translate(20.878125 111.653505)scale(0.1 -0.1)\">\n       <defs>\n        <path d=\"M 691 4666 \nL 3169 4666 \nL 3169 4134 \nL 1269 4134 \nL 1269 2991 \nQ 1406 3038 1543 3061 \nQ 1681 3084 1819 3084 \nQ 2600 3084 3056 2656 \nQ 3513 2228 3513 1497 \nQ 3513 744 3044 326 \nQ 2575 -91 1722 -91 \nQ 1428 -91 1123 -41 \nQ 819 9 494 109 \nL 494 744 \nQ 775 591 1075 516 \nQ 1375 441 1709 441 \nQ 2250 441 2565 725 \nQ 2881 1009 2881 1497 \nQ 2881 1984 2565 2268 \nQ 2250 2553 1709 2553 \nQ 1456 2553 1204 2497 \nQ 953 2441 691 2322 \nL 691 4666 \nz\n\" id=\"DejaVuSans-35\" transform=\"scale(0.015625)\"/>\n       </defs>\n       <use xlink:href=\"#DejaVuSans-35\"/>\n       <use x=\"63.623047\" xlink:href=\"#DejaVuSans-30\"/>\n      </g>\n     </g>\n    </g>\n    <g id=\"ytick_7\">\n     <g id=\"line2d_12\">\n      <g>\n       <use style=\"stroke:#000000;stroke-width:0.8;\" x=\"40.603125\" xlink:href=\"#m7c8247f92a\" y=\"83.450246\"/>\n      </g>\n     </g>\n     <g id=\"text_13\">\n      <!-- 60 -->\n      <g transform=\"translate(20.878125 87.249465)scale(0.1 -0.1)\">\n       <use xlink:href=\"#DejaVuSans-36\"/>\n       <use x=\"63.623047\" xlink:href=\"#DejaVuSans-30\"/>\n      </g>\n     </g>\n    </g>\n    <g id=\"ytick_8\">\n     <g id=\"line2d_13\">\n      <g>\n       <use style=\"stroke:#000000;stroke-width:0.8;\" x=\"40.603125\" xlink:href=\"#m7c8247f92a\" y=\"59.046206\"/>\n      </g>\n     </g>\n     <g id=\"text_14\">\n      <!-- 70 -->\n      <g transform=\"translate(20.878125 62.845425)scale(0.1 -0.1)\">\n       <defs>\n        <path d=\"M 525 4666 \nL 3525 4666 \nL 3525 4397 \nL 1831 0 \nL 1172 0 \nL 2766 4134 \nL 525 4134 \nL 525 4666 \nz\n\" id=\"DejaVuSans-37\" transform=\"scale(0.015625)\"/>\n       </defs>\n       <use xlink:href=\"#DejaVuSans-37\"/>\n       <use x=\"63.623047\" xlink:href=\"#DejaVuSans-30\"/>\n      </g>\n     </g>\n    </g>\n    <g id=\"ytick_9\">\n     <g id=\"line2d_14\">\n      <g>\n       <use style=\"stroke:#000000;stroke-width:0.8;\" x=\"40.603125\" xlink:href=\"#m7c8247f92a\" y=\"34.642165\"/>\n      </g>\n     </g>\n     <g id=\"text_15\">\n      <!-- 80 -->\n      <g transform=\"translate(20.878125 38.441384)scale(0.1 -0.1)\">\n       <use xlink:href=\"#DejaVuSans-38\"/>\n       <use x=\"63.623047\" xlink:href=\"#DejaVuSans-30\"/>\n      </g>\n     </g>\n    </g>\n    <g id=\"text_16\">\n     <!-- y -->\n     <g transform=\"translate(14.798438 133.9975)rotate(-90)scale(0.1 -0.1)\">\n      <defs>\n       <path d=\"M 2059 -325 \nQ 1816 -950 1584 -1140 \nQ 1353 -1331 966 -1331 \nL 506 -1331 \nL 506 -850 \nL 844 -850 \nQ 1081 -850 1212 -737 \nQ 1344 -625 1503 -206 \nL 1606 56 \nL 191 3500 \nL 800 3500 \nL 1894 763 \nL 2988 3500 \nL 3597 3500 \nL 2059 -325 \nz\n\" id=\"DejaVuSans-79\" transform=\"scale(0.015625)\"/>\n      </defs>\n      <use xlink:href=\"#DejaVuSans-79\"/>\n     </g>\n    </g>\n   </g>\n   <g id=\"line2d_15\">\n    <path clip-path=\"url(#p42c4701ff4)\" d=\"M 55.821307 229.874489 \nL 89.639489 227.434085 \nL 123.45767 220.112872 \nL 157.275852 207.910852 \nL 191.094034 190.828024 \nL 224.912216 168.864388 \nL 258.730398 142.019943 \nL 292.54858 110.294691 \nL 326.366761 73.68863 \nL 360.184943 32.201761 \n\" style=\"fill:none;stroke:#1f77b4;stroke-linecap:square;stroke-width:1.5;\"/>\n   </g>\n   <g id=\"patch_3\">\n    <path d=\"M 40.603125 239.758125 \nL 40.603125 22.318125 \n\" style=\"fill:none;stroke:#000000;stroke-linecap:square;stroke-linejoin:miter;stroke-width:0.8;\"/>\n   </g>\n   <g id=\"patch_4\">\n    <path d=\"M 375.403125 239.758125 \nL 375.403125 22.318125 \n\" style=\"fill:none;stroke:#000000;stroke-linecap:square;stroke-linejoin:miter;stroke-width:0.8;\"/>\n   </g>\n   <g id=\"patch_5\">\n    <path d=\"M 40.603125 239.758125 \nL 375.403125 239.758125 \n\" style=\"fill:none;stroke:#000000;stroke-linecap:square;stroke-linejoin:miter;stroke-width:0.8;\"/>\n   </g>\n   <g id=\"patch_6\">\n    <path d=\"M 40.603125 22.318125 \nL 375.403125 22.318125 \n\" style=\"fill:none;stroke:#000000;stroke-linecap:square;stroke-linejoin:miter;stroke-width:0.8;\"/>\n   </g>\n   <g id=\"text_17\">\n    <!-- Plot -->\n    <g transform=\"translate(196.695 16.318125)scale(0.12 -0.12)\">\n     <defs>\n      <path d=\"M 1259 4147 \nL 1259 2394 \nL 2053 2394 \nQ 2494 2394 2734 2622 \nQ 2975 2850 2975 3272 \nQ 2975 3691 2734 3919 \nQ 2494 4147 2053 4147 \nL 1259 4147 \nz\nM 628 4666 \nL 2053 4666 \nQ 2838 4666 3239 4311 \nQ 3641 3956 3641 3272 \nQ 3641 2581 3239 2228 \nQ 2838 1875 2053 1875 \nL 1259 1875 \nL 1259 0 \nL 628 0 \nL 628 4666 \nz\n\" id=\"DejaVuSans-50\" transform=\"scale(0.015625)\"/>\n      <path d=\"M 603 4863 \nL 1178 4863 \nL 1178 0 \nL 603 0 \nL 603 4863 \nz\n\" id=\"DejaVuSans-6c\" transform=\"scale(0.015625)\"/>\n      <path d=\"M 1959 3097 \nQ 1497 3097 1228 2736 \nQ 959 2375 959 1747 \nQ 959 1119 1226 758 \nQ 1494 397 1959 397 \nQ 2419 397 2687 759 \nQ 2956 1122 2956 1747 \nQ 2956 2369 2687 2733 \nQ 2419 3097 1959 3097 \nz\nM 1959 3584 \nQ 2709 3584 3137 3096 \nQ 3566 2609 3566 1747 \nQ 3566 888 3137 398 \nQ 2709 -91 1959 -91 \nQ 1206 -91 779 398 \nQ 353 888 353 1747 \nQ 353 2609 779 3096 \nQ 1206 3584 1959 3584 \nz\n\" id=\"DejaVuSans-6f\" transform=\"scale(0.015625)\"/>\n      <path d=\"M 1172 4494 \nL 1172 3500 \nL 2356 3500 \nL 2356 3053 \nL 1172 3053 \nL 1172 1153 \nQ 1172 725 1289 603 \nQ 1406 481 1766 481 \nL 2356 481 \nL 2356 0 \nL 1766 0 \nQ 1100 0 847 248 \nQ 594 497 594 1153 \nL 594 3053 \nL 172 3053 \nL 172 3500 \nL 594 3500 \nL 594 4494 \nL 1172 4494 \nz\n\" id=\"DejaVuSans-74\" transform=\"scale(0.015625)\"/>\n     </defs>\n     <use xlink:href=\"#DejaVuSans-50\"/>\n     <use x=\"60.302734\" xlink:href=\"#DejaVuSans-6c\"/>\n     <use x=\"88.085938\" xlink:href=\"#DejaVuSans-6f\"/>\n     <use x=\"149.267578\" xlink:href=\"#DejaVuSans-74\"/>\n    </g>\n   </g>\n  </g>\n </g>\n <defs>\n  <clipPath id=\"p42c4701ff4\">\n   <rect height=\"217.44\" width=\"334.8\" x=\"40.603125\" y=\"22.318125\"/>\n  </clipPath>\n </defs>\n</svg>\n",
      "image/png": "[encoded data removed]"
     },
     "metadata": {
      "needs_background": "light"
     }
    }
   ],
   "metadata": {}
  },
  {
   "cell_type": "markdown",
   "source": [
    "## Uppgift 2"
   ],
   "metadata": {}
  },
  {
   "cell_type": "code",
   "execution_count": 2,
   "source": [
    "#Version 1\n",
    "\n",
    "import random as rnd\n",
    "dice_rolls_counted = {\"ones\":0, \"twos\":0, \"threes\":0, \"fours\":0, \"fives\":0, \"sixes\":0}\n",
    "\n",
    "for roll in range(1000000):\n",
    "\tresult = rnd.randint(1, 6)\n",
    "\n",
    "\tif result == 1:\n",
    "\t\tdice_rolls_counted[\"ones\"] += 1\n",
    "\tif result == 2:\n",
    "\t\tdice_rolls_counted[\"twos\"] += 1\n",
    "\tif result == 3:\n",
    "\t\tdice_rolls_counted[\"threes\"] += 1\n",
    "\tif result == 4:\n",
    "\t\tdice_rolls_counted[\"fours\"] += 1\n",
    "\tif result == 5:\n",
    "\t\tdice_rolls_counted[\"fives\"] += 1\n",
    "\tif result == 6:\n",
    "\t\tdice_rolls_counted[\"sixes\"] += 1\n",
    "\n",
    "print(dice_rolls_counted)"
   ],
   "outputs": [
    {
     "output_type": "stream",
     "name": "stdout",
     "text": [
      "{'ones': 166516, 'twos': 166766, 'threes': 166323, 'fours': 166818, 'fives': 167165, 'sixes': 166412}\n"
     ]
    }
   ],
   "metadata": {}
  },
  {
   "cell_type": "code",
   "execution_count": 3,
   "source": [
    "#Version 2\n",
    "\n",
    "import random as rnd\n",
    "dice_rolls_counted = {\"1\":0, \"2\":0, \"3\":0, \"4\":0, \"5\":0, \"6\":0}\n",
    "\n",
    "for roll in range(1000000):\n",
    "    result = rnd.randint(1, 6)\n",
    "    dice_rolls_counted[str(result)] += 1\n",
    "\n",
    "print(dice_rolls_counted)"
   ],
   "outputs": [
    {
     "output_type": "stream",
     "name": "stdout",
     "text": [
      "{'1': 166700, '2': 167480, '3': 166320, '4': 166377, '5': 165978, '6': 167145}\n"
     ]
    }
   ],
   "metadata": {}
  },
  {
   "cell_type": "markdown",
   "source": [
    "## Uppgift 3"
   ],
   "metadata": {}
  },
  {
   "cell_type": "code",
   "execution_count": 4,
   "source": [
    "import math\n",
    "\n",
    "def volume_sphere(radius:float) -> float:\n",
    "\t\"\"\"\n",
    "\tCalculates the volume of a sphere.\n",
    "\n",
    "\tParameters\n",
    "\t----------\n",
    "\tradius:float\n",
    "\t\tThe radius of a sphere.\n",
    "\n",
    "\tRaises\n",
    "\t------\n",
    "\tTypeError\n",
    "\t\tIf the value for the radius is not an int or a float.\n",
    "\tValueError\n",
    "\t\tIf the radius is 0 or below\n",
    "\n",
    "\tReturns\n",
    "\t-------\n",
    "\tThe volume of the sphere.\n",
    "\t\"\"\"\n",
    "\n",
    "\tif not isinstance(radius, (int, float)):\n",
    "\t\traise TypeError(f\"The value has to be an int or a float, not {type(radius)}.\")\n",
    "\tif radius <= 0 :\n",
    "\t\traise ValueError(\"The value has to be above 0.\")\n",
    "\treturn (4*math.pi*(radius**3))/3\n",
    "\n",
    "try: \n",
    "\tradius = input(\"Please enter the radius of the sphere.\")\n",
    "\n",
    "\tif not radius.strip(\"-\").isnumeric(): #If we do not use strip \"-\", negative values will not be recognised as numerical.\n",
    "\t\traise TypeError(\"The value has to be numerical.\")\n",
    "\n",
    "\tradius = float(radius)\n",
    "\n",
    "\tif radius <= 0 :\n",
    "\t\t\traise ValueError(\"The value has to be above 0.\")\n",
    "\n",
    "\tprint(f\"The volume of the sphere is: {volume_sphere(radius):.1f}.\")\n",
    "\n",
    "except (ValueError, TypeError) as err: #Both ValueError and TypeError has to be part of the except. Otherwise the program crashes.\n",
    "\tprint(err)"
   ],
   "outputs": [
    {
     "output_type": "stream",
     "name": "stdout",
     "text": [
      "The volume of the sphere is: 904.8.\n"
     ]
    }
   ],
   "metadata": {}
  },
  {
   "cell_type": "markdown",
   "source": [
    "## Uppgift 4"
   ],
   "metadata": {}
  },
  {
   "cell_type": "code",
   "execution_count": 5,
   "source": [
    "with open (\"bamba.txt\", \"r\") as b:\n",
    "    bamba = b.read()\n",
    "\n",
    "print(bamba)"
   ],
   "outputs": [
    {
     "output_type": "stream",
     "name": "stdout",
     "text": [
      "v42\n",
      "Chili sin carne\n",
      "Pannkakor\n",
      "Ärtsoppa\n",
      "Kebab\n",
      "Vegetarisk lasagne\n"
     ]
    }
   ],
   "metadata": {}
  },
  {
   "cell_type": "markdown",
   "source": [
    "## Uppgift 5"
   ],
   "metadata": {}
  },
  {
   "cell_type": "code",
   "execution_count": 6,
   "source": [
    "from math import sqrt\n",
    "\n",
    "path = \"testpoints/testpunkter.txt\"\n",
    "with open (path, \"r\") as t:\n",
    "    test = [line.strip(\"\\n\") for line in t.readlines()] #Reads each line, strips it from \"\\n\" and saves each line in the list test.\n",
    "    test.pop(0) #Removes the heading\n",
    "    test = [line.split(\" \") for line in test] #Split the elements on empty space, so that we create inner lists, consisting of two points\n",
    "    test = [[line[0].replace(\"(\", \"\").replace(\")\", \"\"), line[1].replace(\"(\", \"\").replace(\")\", \"\")] for line in test] #Removes all paranthesis for each item in the inner lists\n",
    "    test = [[line[0].split(\",\"), line[1].split(\",\")] for line in test] #Splits the items in the inner lists into two lists, where each list contains an x and y value \n",
    "    test = [[(int(line[0][0]), int(line[0][1])), (int(line[1][0]), int(line[1][1]))] for line in test] #Changes the x and y values in the inner-inner lists and stores them as tuples (x, y)\n",
    "\n",
    "def eucl_dist(point1:tuple, point2:tuple) -> float:\n",
    "    \"\"\"\n",
    "    Calculates the euclidean distance between two points.\n",
    "\n",
    "    Parameters\n",
    "        ---------------\n",
    "    point1 : tuple\n",
    "    The first point (x, y) for comparison.\n",
    "    point2 : tuple\n",
    "    The second point (x, y) for comparison.\n",
    "\n",
    "    Returns\n",
    "    -----------\n",
    "    The euclidean distance between point 1 and 2.\n",
    "    \"\"\"\n",
    "    \n",
    "    return sqrt((point1[0] - point2[0])**2 + (point1[1] - point2[1])**2)\n",
    "\n",
    "for point in test:\n",
    "    print(f\"The euclidean distance between {point[0]}, {point[1]} is: {eucl_dist(point[0], point[1]):.1f}.\")"
   ],
   "outputs": [
    {
     "output_type": "stream",
     "name": "stdout",
     "text": [
      "The euclidean distance between (1, 2), (0, 0) is: 2.2.\n",
      "The euclidean distance between (2, 0), (3, 5) is: 5.1.\n",
      "The euclidean distance between (-2, -2), (9, 2) is: 11.7.\n"
     ]
    }
   ],
   "metadata": {}
  },
  {
   "cell_type": "markdown",
   "source": [
    "## Uppgift 6"
   ],
   "metadata": {}
  },
  {
   "cell_type": "code",
   "execution_count": 24,
   "source": [
    "import random as rnd #Imports the random package as rnd\n",
    "\n",
    "#Creates a list of lists, where the first number in the list symbolises the card number (between 2 and 14, where 11=Jack, 12=Queen, 13=King and 14=Ace) and the second number symbolises the count of the card (initialised to 4). This is the full deck.\n",
    "deck = [[card_number, 4] for card_number in range(2, 15)]\n",
    "\n",
    "#Creates a list of lists to store the player’s cards (the second element in the inner lists is the number of cards of that type that the player has picked).\n",
    "players_cards = [[card_number, 0] for card_number in range(2, 15)]\n",
    "\n",
    "#Sets the count of the card values for the dealer\n",
    "dealers_card_count = 0\n",
    "\n",
    "#DEALER DRAWS TWO CARDS\n",
    "\n",
    "for draw in range(2):\n",
    "\n",
    "    card_number = rnd.randint(2, 14) #Generates a random number between 2 and 14\n",
    "\n",
    "    if card_number == 11 or card_number == 12 or card_number == 13:\n",
    "\t    dealers_card_count += 10 #Jack, queen and king gives 10 points\n",
    "    elif card_number == 14:\n",
    "\t    dealers_card_count += 11 #Ace gives 11 points\n",
    "    else:\n",
    "\t    dealers_card_count += card_number #The other numbers give their value\n",
    "\t\n",
    "    if draw == 0: #In the first round, the players sees the dealer’s card\t\n",
    "        if card_number == 11:\n",
    "            print(\"The dealer got a Jack, as the first card.\")\n",
    "        elif card_number == 12:\n",
    "            print(\"The dealer got a Queen, as the first card.\")\n",
    "        elif card_number == 13:\n",
    "            print(\"The dealer got a King, as the first card.\")\n",
    "        elif card_number == 14:\n",
    "            print(\"The dealer got an Ace, as the first card.\")\n",
    "        else:\n",
    "            print(f\"The dealer got a {card_number}, as the first card.\")\n",
    "\t\t\n",
    "    deck[card_number-2][1] -= 1 #Removes one from the count of the card number\n",
    "\n",
    "#PLAYER DRAWS TWO CARDS\n",
    "\n",
    "for draw in range(2):\n",
    "    card_number = rnd.randint(2, 14) #Generates a random number, between 2 and 14\n",
    "\n",
    "    while deck[card_number-2][1] == 0: #If the card number is no longer available in the deck, generate a new random number.\n",
    "        card_number = rnd.randint(2, 14)\n",
    "    \n",
    "    if card_number == 11:\n",
    "        print(\"You got a Jack.\")\n",
    "    elif card_number == 12:\n",
    "        print(\"You got a Queen.\")\n",
    "    elif card_number == 13:\n",
    "        print(\"You got a King.\")\n",
    "    elif card_number == 14:\n",
    "        print(\"You got an Ace.\")\n",
    "    else:\n",
    "        print(f\"You got a {card_number}.\")\n",
    "\n",
    "    deck[card_number-2][1] -= 1 #Removes one from the count of the card number\n",
    "    players_cards[card_number-2][1] += 1 #Adds one to the count of the player’s cards for that number.\n",
    "\n",
    "#PLAYER CONTINUES TO DRAW CARDS\n",
    "\n",
    "while(True):\n",
    "    continue_ = input(\"Type 'yes' if you want to draw another card. To finish and count your cards, type 'no'.\")\n",
    "    if continue_ == \"yes\":\n",
    "        card_number = rnd.randint(2, 14)\n",
    "        while deck[card_number-2][1] == 0:\n",
    "            card_number = rnd.randint(2, 14)\n",
    "        \n",
    "        if card_number == 11:\n",
    "            print(\"You got a Jack.\")\n",
    "        elif card_number == 12:\n",
    "            print(\"You got a Queen.\")\n",
    "        elif card_number == 13:\n",
    "            print(\"You got a King.\")\n",
    "        elif card_number == 14:\n",
    "            print(\"You got an Ace.\")\n",
    "        else:\n",
    "            print(f\"You got a {card_number}.\")\n",
    "        \n",
    "        deck[card_number-2][1] -= 1\n",
    "        players_cards[card_number-2][1] += 1\n",
    "\n",
    "    else:\n",
    "\t    break\n",
    "\n",
    "#COUNT PLAYERS CARD\n",
    "\n",
    "players_card_count = 0\n",
    "\n",
    "for card_number in players_cards:\n",
    "    if card_number[0] == 11 or card_number[0] == 12 or card_number[0] == 13:\n",
    "        players_card_count += (card_number[1] * 10)\n",
    "    elif card_number[0] == 14: #This is last in the list and will be run last\n",
    "        if (players_card_count + card_number[1]*11) <= 21:\n",
    "            players_card_count += (card_number[1] * 11)\n",
    "        else:\n",
    "            players_card_count += (card_number[1] * 1)\n",
    "    else:\n",
    "        players_card_count += (card_number[0] * card_number[1])\n",
    "\n",
    "#RESULTS\n",
    "\n",
    "if (players_card_count <= 21 and players_card_count > dealers_card_count):\n",
    "    print(\"Congratulations! You won!\")\n",
    "else:\n",
    "    print(\"You lost!\")"
   ],
   "outputs": [
    {
     "output_type": "stream",
     "name": "stdout",
     "text": [
      "The dealer got a 5, as the first card.\n",
      "You got an Ace.\n",
      "You got a 10.\n",
      "You got a 10.\n",
      "Congratulations! You won!\n"
     ]
    }
   ],
   "metadata": {}
  },
  {
   "cell_type": "markdown",
   "source": [
    "## Uppgift 7"
   ],
   "metadata": {}
  },
  {
   "cell_type": "code",
   "execution_count": 14,
   "source": [
    "import math\n",
    "import matplotlib.pyplot as plt\n",
    "import numpy as np\n",
    "\n",
    "class NormalDist:\n",
    "    def __init__(self, mu:float, sigma:float) -> None:\n",
    "        self.mu = mu\n",
    "        self.sigma = sigma\n",
    "        \n",
    "    @property\n",
    "    def mu(self):\n",
    "        return self._mu\n",
    "    \n",
    "    @property\n",
    "    def sigma(self):\n",
    "        return self._sigma\n",
    "    \n",
    "    @mu.setter\n",
    "    def mu(self, mu):\n",
    "\t    self._mu = NormalDist.is_numerical(mu)\n",
    "    \n",
    "    @sigma.setter\n",
    "    def sigma(self, sigma):\n",
    "        self._sigma = NormalDist.is_numerical(sigma)\n",
    "    \n",
    "    @staticmethod\n",
    "    def is_numerical(value):\n",
    "        if not isinstance(value, (int, float)):\n",
    "            raise ValueError(\"The value has to be numerical.\")\n",
    "        return value\n",
    "        \n",
    "    def pdf(self, x:float) -> float:\n",
    "        formula_part1 = 1/(self.sigma*(math.sqrt(2*math.pi)))\n",
    "        formula_part2 = math.e**(-1/2*((x-self.mu)/self.sigma)**2)\n",
    "        return float(formula_part1*formula_part2)\n",
    "\n",
    "    def plot_pdf(self, x:float) -> None:\n",
    "        fig = plt.figure(dpi=100)\n",
    "        ax = plt.axes()\n",
    "        \n",
    "        x_values = np.arange(-self.sigma*3, self.sigma*3, .001) #Creates a list of x_values between -3 SD and 3 SD, with a step of .001\n",
    "        f_values = [self.pdf(x) for x in x_values] #Run the pdf-function on all the x-values and store them in f_values\n",
    "        ax.plot(x_values, f_values) #Plots the values\n",
    "        ax.scatter(x, self.pdf(x)) #Plots the x-point.\n",
    "        ax.set(title=\"Normal Distribution\", xlabel=\"x\", ylabel=\"y\")\n",
    "        plt.show()\n",
    "\t\t\n",
    "    def __add__(self, other) -> \"NormalDist\":\n",
    "        normal_dist_added = NormalDist((self.mu+other.mu), (self.sigma+other.sigma))\n",
    "        return normal_dist_added\n",
    "    \n",
    "    def __repr__(self):\n",
    "        return f\"A normal distribution with mu={self.mu}, sigma={self.sigma}.\""
   ],
   "outputs": [],
   "metadata": {}
  },
  {
   "cell_type": "code",
   "execution_count": 25,
   "source": [
    "n_dist1 = NormalDist(0, 3)\n",
    "n_dist2 = NormalDist(-2, 5)\n",
    "\n",
    "n_dist3 = n_dist1 + n_dist2\n",
    "print(n_dist3)\n",
    "print(n_dist3.pdf(3))\n",
    "n_dist3.plot_pdf(3)"
   ],
   "outputs": [
    {
     "output_type": "stream",
     "name": "stdout",
     "text": [
      "A normal distribution with mu=-2, sigma=8.\n",
      "0.041020121068796885\n"
     ]
    },
    {
     "output_type": "display_data",
     "data": {
      "text/plain": [
       "<Figure size 600x400 with 1 Axes>"
      ],
      "image/svg+xml": "<?xml version=\"1.0\" encoding=\"utf-8\" standalone=\"no\"?>\n<!DOCTYPE svg PUBLIC \"-//W3C//DTD SVG 1.1//EN\"\n  \"http://www.w3.org/Graphics/SVG/1.1/DTD/svg11.dtd\">\n<svg height=\"277.314375pt\" version=\"1.1\" viewBox=\"0 0 392.14375 277.314375\" width=\"392.14375pt\" xmlns=\"http://www.w3.org/2000/svg\" xmlns:xlink=\"http://www.w3.org/1999/xlink\">\n <metadata>\n  <rdf:RDF xmlns:cc=\"http://creativecommons.org/ns#\" xmlns:dc=\"http://purl.org/dc/elements/1.1/\" xmlns:rdf=\"http://www.w3.org/1999/02/22-rdf-syntax-ns#\">\n   <cc:Work>\n    <dc:type rdf:resource=\"http://purl.org/dc/dcmitype/StillImage\"/>\n    <dc:date>2021-10-09T02:03:13.576219</dc:date>\n    <dc:format>image/svg+xml</dc:format>\n    <dc:creator>\n     <cc:Agent>\n      <dc:title>Matplotlib v3.4.3, https://matplotlib.org/</dc:title>\n     </cc:Agent>\n    </dc:creator>\n   </cc:Work>\n  </rdf:RDF>\n </metadata>\n <defs>\n  <style type=\"text/css\">*{stroke-linecap:butt;stroke-linejoin:round;}</style>\n </defs>\n <g id=\"figure_1\">\n  <g id=\"patch_1\">\n   <path d=\"M 0 277.314375 \nL 392.14375 277.314375 \nL 392.14375 0 \nL 0 0 \nz\n\" style=\"fill:none;\"/>\n  </g>\n  <g id=\"axes_1\">\n   <g id=\"patch_2\">\n    <path d=\"M 50.14375 239.758125 \nL 384.94375 239.758125 \nL 384.94375 22.318125 \nL 50.14375 22.318125 \nz\n\" style=\"fill:#ffffff;\"/>\n   </g>\n   <g id=\"PathCollection_1\">\n    <defs>\n     <path d=\"M 0 3 \nC 0.795609 3 1.55874 2.683901 2.12132 2.12132 \nC 2.683901 1.55874 3 0.795609 3 0 \nC 3 -0.795609 2.683901 -1.55874 2.12132 -2.12132 \nC 1.55874 -2.683901 0.795609 -3 0 -3 \nC -0.795609 -3 -1.55874 -2.683901 -2.12132 -2.12132 \nC -2.683901 -1.55874 -3 -0.795609 -3 0 \nC -3 0.795609 -2.683901 1.55874 -2.12132 2.12132 \nC -1.55874 2.683901 -0.795609 3 0 3 \nz\n\" id=\"m8002d4b3d2\" style=\"stroke:#1f77b4;\"/>\n    </defs>\n    <g clip-path=\"url(#p9ad96dd819)\">\n     <use style=\"fill:#1f77b4;stroke:#1f77b4;\" x=\"236.570044\" xlink:href=\"#m8002d4b3d2\" y=\"67.4527\"/>\n    </g>\n   </g>\n   <g id=\"matplotlib.axis_1\">\n    <g id=\"xtick_1\">\n     <g id=\"line2d_1\">\n      <defs>\n       <path d=\"M 0 0 \nL 0 3.5 \n\" id=\"mff1988c984\" style=\"stroke:#000000;stroke-width:0.8;\"/>\n      </defs>\n      <g>\n       <use style=\"stroke:#000000;stroke-width:0.8;\" x=\"90.726097\" xlink:href=\"#mff1988c984\" y=\"239.758125\"/>\n      </g>\n     </g>\n     <g id=\"text_1\">\n      <!-- −20 -->\n      <g transform=\"translate(80.173753 254.356562)scale(0.1 -0.1)\">\n       <defs>\n        <path d=\"M 678 2272 \nL 4684 2272 \nL 4684 1741 \nL 678 1741 \nL 678 2272 \nz\n\" id=\"DejaVuSans-2212\" transform=\"scale(0.015625)\"/>\n        <path d=\"M 1228 531 \nL 3431 531 \nL 3431 0 \nL 469 0 \nL 469 531 \nQ 828 903 1448 1529 \nQ 2069 2156 2228 2338 \nQ 2531 2678 2651 2914 \nQ 2772 3150 2772 3378 \nQ 2772 3750 2511 3984 \nQ 2250 4219 1831 4219 \nQ 1534 4219 1204 4116 \nQ 875 4013 500 3803 \nL 500 4441 \nQ 881 4594 1212 4672 \nQ 1544 4750 1819 4750 \nQ 2544 4750 2975 4387 \nQ 3406 4025 3406 3419 \nQ 3406 3131 3298 2873 \nQ 3191 2616 2906 2266 \nQ 2828 2175 2409 1742 \nQ 1991 1309 1228 531 \nz\n\" id=\"DejaVuSans-32\" transform=\"scale(0.015625)\"/>\n        <path d=\"M 2034 4250 \nQ 1547 4250 1301 3770 \nQ 1056 3291 1056 2328 \nQ 1056 1369 1301 889 \nQ 1547 409 2034 409 \nQ 2525 409 2770 889 \nQ 3016 1369 3016 2328 \nQ 3016 3291 2770 3770 \nQ 2525 4250 2034 4250 \nz\nM 2034 4750 \nQ 2819 4750 3233 4129 \nQ 3647 3509 3647 2328 \nQ 3647 1150 3233 529 \nQ 2819 -91 2034 -91 \nQ 1250 -91 836 529 \nQ 422 1150 422 2328 \nQ 422 3509 836 4129 \nQ 1250 4750 2034 4750 \nz\n\" id=\"DejaVuSans-30\" transform=\"scale(0.015625)\"/>\n       </defs>\n       <use xlink:href=\"#DejaVuSans-2212\"/>\n       <use x=\"83.789062\" xlink:href=\"#DejaVuSans-32\"/>\n       <use x=\"147.412109\" xlink:href=\"#DejaVuSans-30\"/>\n      </g>\n     </g>\n    </g>\n    <g id=\"xtick_2\">\n     <g id=\"line2d_2\">\n      <g>\n       <use style=\"stroke:#000000;stroke-width:0.8;\" x=\"154.136509\" xlink:href=\"#mff1988c984\" y=\"239.758125\"/>\n      </g>\n     </g>\n     <g id=\"text_2\">\n      <!-- −10 -->\n      <g transform=\"translate(143.584165 254.356562)scale(0.1 -0.1)\">\n       <defs>\n        <path d=\"M 794 531 \nL 1825 531 \nL 1825 4091 \nL 703 3866 \nL 703 4441 \nL 1819 4666 \nL 2450 4666 \nL 2450 531 \nL 3481 531 \nL 3481 0 \nL 794 0 \nL 794 531 \nz\n\" id=\"DejaVuSans-31\" transform=\"scale(0.015625)\"/>\n       </defs>\n       <use xlink:href=\"#DejaVuSans-2212\"/>\n       <use x=\"83.789062\" xlink:href=\"#DejaVuSans-31\"/>\n       <use x=\"147.412109\" xlink:href=\"#DejaVuSans-30\"/>\n      </g>\n     </g>\n    </g>\n    <g id=\"xtick_3\">\n     <g id=\"line2d_3\">\n      <g>\n       <use style=\"stroke:#000000;stroke-width:0.8;\" x=\"217.546921\" xlink:href=\"#mff1988c984\" y=\"239.758125\"/>\n      </g>\n     </g>\n     <g id=\"text_3\">\n      <!-- 0 -->\n      <g transform=\"translate(214.365671 254.356562)scale(0.1 -0.1)\">\n       <use xlink:href=\"#DejaVuSans-30\"/>\n      </g>\n     </g>\n    </g>\n    <g id=\"xtick_4\">\n     <g id=\"line2d_4\">\n      <g>\n       <use style=\"stroke:#000000;stroke-width:0.8;\" x=\"280.957332\" xlink:href=\"#mff1988c984\" y=\"239.758125\"/>\n      </g>\n     </g>\n     <g id=\"text_4\">\n      <!-- 10 -->\n      <g transform=\"translate(274.594832 254.356562)scale(0.1 -0.1)\">\n       <use xlink:href=\"#DejaVuSans-31\"/>\n       <use x=\"63.623047\" xlink:href=\"#DejaVuSans-30\"/>\n      </g>\n     </g>\n    </g>\n    <g id=\"xtick_5\">\n     <g id=\"line2d_5\">\n      <g>\n       <use style=\"stroke:#000000;stroke-width:0.8;\" x=\"344.367744\" xlink:href=\"#mff1988c984\" y=\"239.758125\"/>\n      </g>\n     </g>\n     <g id=\"text_5\">\n      <!-- 20 -->\n      <g transform=\"translate(338.005244 254.356562)scale(0.1 -0.1)\">\n       <use xlink:href=\"#DejaVuSans-32\"/>\n       <use x=\"63.623047\" xlink:href=\"#DejaVuSans-30\"/>\n      </g>\n     </g>\n    </g>\n    <g id=\"text_6\">\n     <!-- x -->\n     <g transform=\"translate(214.584375 268.034687)scale(0.1 -0.1)\">\n      <defs>\n       <path d=\"M 3513 3500 \nL 2247 1797 \nL 3578 0 \nL 2900 0 \nL 1881 1375 \nL 863 0 \nL 184 0 \nL 1544 1831 \nL 300 3500 \nL 978 3500 \nL 1906 2253 \nL 2834 3500 \nL 3513 3500 \nz\n\" id=\"DejaVuSans-78\" transform=\"scale(0.015625)\"/>\n      </defs>\n      <use xlink:href=\"#DejaVuSans-78\"/>\n     </g>\n    </g>\n   </g>\n   <g id=\"matplotlib.axis_2\">\n    <g id=\"ytick_1\">\n     <g id=\"line2d_6\">\n      <defs>\n       <path d=\"M 0 0 \nL -3.5 0 \n\" id=\"mcabd8ee547\" style=\"stroke:#000000;stroke-width:0.8;\"/>\n      </defs>\n      <g>\n       <use style=\"stroke:#000000;stroke-width:0.8;\" x=\"50.14375\" xlink:href=\"#mcabd8ee547\" y=\"230.885418\"/>\n      </g>\n     </g>\n     <g id=\"text_7\">\n      <!-- 0.00 -->\n      <g transform=\"translate(20.878125 234.684637)scale(0.1 -0.1)\">\n       <defs>\n        <path d=\"M 684 794 \nL 1344 794 \nL 1344 0 \nL 684 0 \nL 684 794 \nz\n\" id=\"DejaVuSans-2e\" transform=\"scale(0.015625)\"/>\n       </defs>\n       <use xlink:href=\"#DejaVuSans-30\"/>\n       <use x=\"63.623047\" xlink:href=\"#DejaVuSans-2e\"/>\n       <use x=\"95.410156\" xlink:href=\"#DejaVuSans-30\"/>\n       <use x=\"159.033203\" xlink:href=\"#DejaVuSans-30\"/>\n      </g>\n     </g>\n    </g>\n    <g id=\"ytick_2\">\n     <g id=\"line2d_7\">\n      <g>\n       <use style=\"stroke:#000000;stroke-width:0.8;\" x=\"50.14375\" xlink:href=\"#mcabd8ee547\" y=\"191.043332\"/>\n      </g>\n     </g>\n     <g id=\"text_8\">\n      <!-- 0.01 -->\n      <g transform=\"translate(20.878125 194.842551)scale(0.1 -0.1)\">\n       <use xlink:href=\"#DejaVuSans-30\"/>\n       <use x=\"63.623047\" xlink:href=\"#DejaVuSans-2e\"/>\n       <use x=\"95.410156\" xlink:href=\"#DejaVuSans-30\"/>\n       <use x=\"159.033203\" xlink:href=\"#DejaVuSans-31\"/>\n      </g>\n     </g>\n    </g>\n    <g id=\"ytick_3\">\n     <g id=\"line2d_8\">\n      <g>\n       <use style=\"stroke:#000000;stroke-width:0.8;\" x=\"50.14375\" xlink:href=\"#mcabd8ee547\" y=\"151.201247\"/>\n      </g>\n     </g>\n     <g id=\"text_9\">\n      <!-- 0.02 -->\n      <g transform=\"translate(20.878125 155.000465)scale(0.1 -0.1)\">\n       <use xlink:href=\"#DejaVuSans-30\"/>\n       <use x=\"63.623047\" xlink:href=\"#DejaVuSans-2e\"/>\n       <use x=\"95.410156\" xlink:href=\"#DejaVuSans-30\"/>\n       <use x=\"159.033203\" xlink:href=\"#DejaVuSans-32\"/>\n      </g>\n     </g>\n    </g>\n    <g id=\"ytick_4\">\n     <g id=\"line2d_9\">\n      <g>\n       <use style=\"stroke:#000000;stroke-width:0.8;\" x=\"50.14375\" xlink:href=\"#mcabd8ee547\" y=\"111.359161\"/>\n      </g>\n     </g>\n     <g id=\"text_10\">\n      <!-- 0.03 -->\n      <g transform=\"translate(20.878125 115.15838)scale(0.1 -0.1)\">\n       <defs>\n        <path d=\"M 2597 2516 \nQ 3050 2419 3304 2112 \nQ 3559 1806 3559 1356 \nQ 3559 666 3084 287 \nQ 2609 -91 1734 -91 \nQ 1441 -91 1130 -33 \nQ 819 25 488 141 \nL 488 750 \nQ 750 597 1062 519 \nQ 1375 441 1716 441 \nQ 2309 441 2620 675 \nQ 2931 909 2931 1356 \nQ 2931 1769 2642 2001 \nQ 2353 2234 1838 2234 \nL 1294 2234 \nL 1294 2753 \nL 1863 2753 \nQ 2328 2753 2575 2939 \nQ 2822 3125 2822 3475 \nQ 2822 3834 2567 4026 \nQ 2313 4219 1838 4219 \nQ 1578 4219 1281 4162 \nQ 984 4106 628 3988 \nL 628 4550 \nQ 988 4650 1302 4700 \nQ 1616 4750 1894 4750 \nQ 2613 4750 3031 4423 \nQ 3450 4097 3450 3541 \nQ 3450 3153 3228 2886 \nQ 3006 2619 2597 2516 \nz\n\" id=\"DejaVuSans-33\" transform=\"scale(0.015625)\"/>\n       </defs>\n       <use xlink:href=\"#DejaVuSans-30\"/>\n       <use x=\"63.623047\" xlink:href=\"#DejaVuSans-2e\"/>\n       <use x=\"95.410156\" xlink:href=\"#DejaVuSans-30\"/>\n       <use x=\"159.033203\" xlink:href=\"#DejaVuSans-33\"/>\n      </g>\n     </g>\n    </g>\n    <g id=\"ytick_5\">\n     <g id=\"line2d_10\">\n      <g>\n       <use style=\"stroke:#000000;stroke-width:0.8;\" x=\"50.14375\" xlink:href=\"#mcabd8ee547\" y=\"71.517075\"/>\n      </g>\n     </g>\n     <g id=\"text_11\">\n      <!-- 0.04 -->\n      <g transform=\"translate(20.878125 75.316294)scale(0.1 -0.1)\">\n       <defs>\n        <path d=\"M 2419 4116 \nL 825 1625 \nL 2419 1625 \nL 2419 4116 \nz\nM 2253 4666 \nL 3047 4666 \nL 3047 1625 \nL 3713 1625 \nL 3713 1100 \nL 3047 1100 \nL 3047 0 \nL 2419 0 \nL 2419 1100 \nL 313 1100 \nL 313 1709 \nL 2253 4666 \nz\n\" id=\"DejaVuSans-34\" transform=\"scale(0.015625)\"/>\n       </defs>\n       <use xlink:href=\"#DejaVuSans-30\"/>\n       <use x=\"63.623047\" xlink:href=\"#DejaVuSans-2e\"/>\n       <use x=\"95.410156\" xlink:href=\"#DejaVuSans-30\"/>\n       <use x=\"159.033203\" xlink:href=\"#DejaVuSans-34\"/>\n      </g>\n     </g>\n    </g>\n    <g id=\"ytick_6\">\n     <g id=\"line2d_11\">\n      <g>\n       <use style=\"stroke:#000000;stroke-width:0.8;\" x=\"50.14375\" xlink:href=\"#mcabd8ee547\" y=\"31.674989\"/>\n      </g>\n     </g>\n     <g id=\"text_12\">\n      <!-- 0.05 -->\n      <g transform=\"translate(20.878125 35.474208)scale(0.1 -0.1)\">\n       <defs>\n        <path d=\"M 691 4666 \nL 3169 4666 \nL 3169 4134 \nL 1269 4134 \nL 1269 2991 \nQ 1406 3038 1543 3061 \nQ 1681 3084 1819 3084 \nQ 2600 3084 3056 2656 \nQ 3513 2228 3513 1497 \nQ 3513 744 3044 326 \nQ 2575 -91 1722 -91 \nQ 1428 -91 1123 -41 \nQ 819 9 494 109 \nL 494 744 \nQ 775 591 1075 516 \nQ 1375 441 1709 441 \nQ 2250 441 2565 725 \nQ 2881 1009 2881 1497 \nQ 2881 1984 2565 2268 \nQ 2250 2553 1709 2553 \nQ 1456 2553 1204 2497 \nQ 953 2441 691 2322 \nL 691 4666 \nz\n\" id=\"DejaVuSans-35\" transform=\"scale(0.015625)\"/>\n       </defs>\n       <use xlink:href=\"#DejaVuSans-30\"/>\n       <use x=\"63.623047\" xlink:href=\"#DejaVuSans-2e\"/>\n       <use x=\"95.410156\" xlink:href=\"#DejaVuSans-30\"/>\n       <use x=\"159.033203\" xlink:href=\"#DejaVuSans-35\"/>\n      </g>\n     </g>\n    </g>\n    <g id=\"text_13\">\n     <!-- y -->\n     <g transform=\"translate(14.798438 133.9975)rotate(-90)scale(0.1 -0.1)\">\n      <defs>\n       <path d=\"M 2059 -325 \nQ 1816 -950 1584 -1140 \nQ 1353 -1331 966 -1331 \nL 506 -1331 \nL 506 -850 \nL 844 -850 \nQ 1081 -850 1212 -737 \nQ 1344 -625 1503 -206 \nL 1606 56 \nL 191 3500 \nL 800 3500 \nL 1894 763 \nL 2988 3500 \nL 3597 3500 \nL 2059 -325 \nz\n\" id=\"DejaVuSans-79\" transform=\"scale(0.015625)\"/>\n      </defs>\n      <use xlink:href=\"#DejaVuSans-79\"/>\n     </g>\n    </g>\n   </g>\n   <g id=\"line2d_12\">\n    <path clip-path=\"url(#p9ad96dd819)\" d=\"M 65.361932 226.356587 \nL 69.692863 225.178948 \nL 73.738447 223.850229 \nL 77.555754 222.36381 \nL 81.195512 220.70876 \nL 84.695766 218.873137 \nL 88.088223 216.842589 \nL 91.398247 214.601327 \nL 94.64486 212.133564 \nL 97.853427 209.414083 \nL 101.042971 206.417154 \nL 104.226173 203.118817 \nL 107.422058 199.484614 \nL 110.649648 195.474326 \nL 113.921625 191.050749 \nL 117.263354 186.154486 \nL 120.693857 180.728392 \nL 124.238499 174.699989 \nL 127.941667 167.955775 \nL 131.847749 160.371247 \nL 136.039177 151.736698 \nL 140.668137 141.677592 \nL 146.077045 129.369231 \nL 153.78141 111.221229 \nL 163.774891 87.768215 \nL 168.727244 76.727915 \nL 172.772829 68.234435 \nL 176.304789 61.321595 \nL 179.475309 55.591557 \nL 182.373165 50.801456 \nL 185.055425 46.787318 \nL 187.547455 43.447919 \nL 189.887299 40.675629 \nL 192.08764 38.4052 \nL 194.173843 36.565451 \nL 196.152248 35.110648 \nL 198.048219 33.987468 \nL 199.868098 33.163267 \nL 201.630907 32.605083 \nL 203.35567 32.289666 \nL 205.06141 32.203253 \nL 206.760809 32.340483 \nL 208.46655 32.701913 \nL 210.203995 33.299185 \nL 211.985827 34.149694 \nL 213.83107 35.281143 \nL 215.746065 36.720329 \nL 217.756175 38.514738 \nL 219.867742 40.703731 \nL 222.099788 43.34416 \nL 224.471338 46.501007 \nL 227.007754 50.255955 \nL 229.734402 54.699223 \nL 232.689327 59.949665 \nL 235.93594 66.183749 \nL 239.569357 73.656883 \nL 243.767126 82.818361 \nL 248.979462 94.758173 \nL 257.996422 116.082523 \nL 266.055886 134.900184 \nL 271.414065 146.852728 \nL 276.017661 156.591028 \nL 280.202749 164.934173 \nL 284.115171 172.246338 \nL 287.831021 178.727095 \nL 291.401027 184.512801 \nL 294.856895 189.696226 \nL 298.230329 194.360534 \nL 301.540352 198.562634 \nL 304.812329 202.36069 \nL 308.058943 205.791453 \nL 311.292874 208.88829 \nL 314.539487 211.69153 \nL 317.811464 214.22455 \nL 321.127828 216.512175 \nL 324.513944 218.578544 \nL 327.995176 220.442306 \nL 331.596887 222.117605 \nL 335.350784 223.617435 \nL 339.301253 224.954775 \nL 343.499022 226.138901 \nL 348.007502 227.177104 \nL 352.921809 228.077262 \nL 358.362422 228.843777 \nL 364.519573 229.481703 \nL 369.725568 229.874489 \nL 369.725568 229.874489 \n\" style=\"fill:none;stroke:#1f77b4;stroke-linecap:square;stroke-width:1.5;\"/>\n   </g>\n   <g id=\"patch_3\">\n    <path d=\"M 50.14375 239.758125 \nL 50.14375 22.318125 \n\" style=\"fill:none;stroke:#000000;stroke-linecap:square;stroke-linejoin:miter;stroke-width:0.8;\"/>\n   </g>\n   <g id=\"patch_4\">\n    <path d=\"M 384.94375 239.758125 \nL 384.94375 22.318125 \n\" style=\"fill:none;stroke:#000000;stroke-linecap:square;stroke-linejoin:miter;stroke-width:0.8;\"/>\n   </g>\n   <g id=\"patch_5\">\n    <path d=\"M 50.14375 239.758125 \nL 384.94375 239.758125 \n\" style=\"fill:none;stroke:#000000;stroke-linecap:square;stroke-linejoin:miter;stroke-width:0.8;\"/>\n   </g>\n   <g id=\"patch_6\">\n    <path d=\"M 50.14375 22.318125 \nL 384.94375 22.318125 \n\" style=\"fill:none;stroke:#000000;stroke-linecap:square;stroke-linejoin:miter;stroke-width:0.8;\"/>\n   </g>\n   <g id=\"text_14\">\n    <!-- Normal Distribution -->\n    <g transform=\"translate(158.924688 16.318125)scale(0.12 -0.12)\">\n     <defs>\n      <path d=\"M 628 4666 \nL 1478 4666 \nL 3547 763 \nL 3547 4666 \nL 4159 4666 \nL 4159 0 \nL 3309 0 \nL 1241 3903 \nL 1241 0 \nL 628 0 \nL 628 4666 \nz\n\" id=\"DejaVuSans-4e\" transform=\"scale(0.015625)\"/>\n      <path d=\"M 1959 3097 \nQ 1497 3097 1228 2736 \nQ 959 2375 959 1747 \nQ 959 1119 1226 758 \nQ 1494 397 1959 397 \nQ 2419 397 2687 759 \nQ 2956 1122 2956 1747 \nQ 2956 2369 2687 2733 \nQ 2419 3097 1959 3097 \nz\nM 1959 3584 \nQ 2709 3584 3137 3096 \nQ 3566 2609 3566 1747 \nQ 3566 888 3137 398 \nQ 2709 -91 1959 -91 \nQ 1206 -91 779 398 \nQ 353 888 353 1747 \nQ 353 2609 779 3096 \nQ 1206 3584 1959 3584 \nz\n\" id=\"DejaVuSans-6f\" transform=\"scale(0.015625)\"/>\n      <path d=\"M 2631 2963 \nQ 2534 3019 2420 3045 \nQ 2306 3072 2169 3072 \nQ 1681 3072 1420 2755 \nQ 1159 2438 1159 1844 \nL 1159 0 \nL 581 0 \nL 581 3500 \nL 1159 3500 \nL 1159 2956 \nQ 1341 3275 1631 3429 \nQ 1922 3584 2338 3584 \nQ 2397 3584 2469 3576 \nQ 2541 3569 2628 3553 \nL 2631 2963 \nz\n\" id=\"DejaVuSans-72\" transform=\"scale(0.015625)\"/>\n      <path d=\"M 3328 2828 \nQ 3544 3216 3844 3400 \nQ 4144 3584 4550 3584 \nQ 5097 3584 5394 3201 \nQ 5691 2819 5691 2113 \nL 5691 0 \nL 5113 0 \nL 5113 2094 \nQ 5113 2597 4934 2840 \nQ 4756 3084 4391 3084 \nQ 3944 3084 3684 2787 \nQ 3425 2491 3425 1978 \nL 3425 0 \nL 2847 0 \nL 2847 2094 \nQ 2847 2600 2669 2842 \nQ 2491 3084 2119 3084 \nQ 1678 3084 1418 2786 \nQ 1159 2488 1159 1978 \nL 1159 0 \nL 581 0 \nL 581 3500 \nL 1159 3500 \nL 1159 2956 \nQ 1356 3278 1631 3431 \nQ 1906 3584 2284 3584 \nQ 2666 3584 2933 3390 \nQ 3200 3197 3328 2828 \nz\n\" id=\"DejaVuSans-6d\" transform=\"scale(0.015625)\"/>\n      <path d=\"M 2194 1759 \nQ 1497 1759 1228 1600 \nQ 959 1441 959 1056 \nQ 959 750 1161 570 \nQ 1363 391 1709 391 \nQ 2188 391 2477 730 \nQ 2766 1069 2766 1631 \nL 2766 1759 \nL 2194 1759 \nz\nM 3341 1997 \nL 3341 0 \nL 2766 0 \nL 2766 531 \nQ 2569 213 2275 61 \nQ 1981 -91 1556 -91 \nQ 1019 -91 701 211 \nQ 384 513 384 1019 \nQ 384 1609 779 1909 \nQ 1175 2209 1959 2209 \nL 2766 2209 \nL 2766 2266 \nQ 2766 2663 2505 2880 \nQ 2244 3097 1772 3097 \nQ 1472 3097 1187 3025 \nQ 903 2953 641 2809 \nL 641 3341 \nQ 956 3463 1253 3523 \nQ 1550 3584 1831 3584 \nQ 2591 3584 2966 3190 \nQ 3341 2797 3341 1997 \nz\n\" id=\"DejaVuSans-61\" transform=\"scale(0.015625)\"/>\n      <path d=\"M 603 4863 \nL 1178 4863 \nL 1178 0 \nL 603 0 \nL 603 4863 \nz\n\" id=\"DejaVuSans-6c\" transform=\"scale(0.015625)\"/>\n      <path id=\"DejaVuSans-20\" transform=\"scale(0.015625)\"/>\n      <path d=\"M 1259 4147 \nL 1259 519 \nL 2022 519 \nQ 2988 519 3436 956 \nQ 3884 1394 3884 2338 \nQ 3884 3275 3436 3711 \nQ 2988 4147 2022 4147 \nL 1259 4147 \nz\nM 628 4666 \nL 1925 4666 \nQ 3281 4666 3915 4102 \nQ 4550 3538 4550 2338 \nQ 4550 1131 3912 565 \nQ 3275 0 1925 0 \nL 628 0 \nL 628 4666 \nz\n\" id=\"DejaVuSans-44\" transform=\"scale(0.015625)\"/>\n      <path d=\"M 603 3500 \nL 1178 3500 \nL 1178 0 \nL 603 0 \nL 603 3500 \nz\nM 603 4863 \nL 1178 4863 \nL 1178 4134 \nL 603 4134 \nL 603 4863 \nz\n\" id=\"DejaVuSans-69\" transform=\"scale(0.015625)\"/>\n      <path d=\"M 2834 3397 \nL 2834 2853 \nQ 2591 2978 2328 3040 \nQ 2066 3103 1784 3103 \nQ 1356 3103 1142 2972 \nQ 928 2841 928 2578 \nQ 928 2378 1081 2264 \nQ 1234 2150 1697 2047 \nL 1894 2003 \nQ 2506 1872 2764 1633 \nQ 3022 1394 3022 966 \nQ 3022 478 2636 193 \nQ 2250 -91 1575 -91 \nQ 1294 -91 989 -36 \nQ 684 19 347 128 \nL 347 722 \nQ 666 556 975 473 \nQ 1284 391 1588 391 \nQ 1994 391 2212 530 \nQ 2431 669 2431 922 \nQ 2431 1156 2273 1281 \nQ 2116 1406 1581 1522 \nL 1381 1569 \nQ 847 1681 609 1914 \nQ 372 2147 372 2553 \nQ 372 3047 722 3315 \nQ 1072 3584 1716 3584 \nQ 2034 3584 2315 3537 \nQ 2597 3491 2834 3397 \nz\n\" id=\"DejaVuSans-73\" transform=\"scale(0.015625)\"/>\n      <path d=\"M 1172 4494 \nL 1172 3500 \nL 2356 3500 \nL 2356 3053 \nL 1172 3053 \nL 1172 1153 \nQ 1172 725 1289 603 \nQ 1406 481 1766 481 \nL 2356 481 \nL 2356 0 \nL 1766 0 \nQ 1100 0 847 248 \nQ 594 497 594 1153 \nL 594 3053 \nL 172 3053 \nL 172 3500 \nL 594 3500 \nL 594 4494 \nL 1172 4494 \nz\n\" id=\"DejaVuSans-74\" transform=\"scale(0.015625)\"/>\n      <path d=\"M 3116 1747 \nQ 3116 2381 2855 2742 \nQ 2594 3103 2138 3103 \nQ 1681 3103 1420 2742 \nQ 1159 2381 1159 1747 \nQ 1159 1113 1420 752 \nQ 1681 391 2138 391 \nQ 2594 391 2855 752 \nQ 3116 1113 3116 1747 \nz\nM 1159 2969 \nQ 1341 3281 1617 3432 \nQ 1894 3584 2278 3584 \nQ 2916 3584 3314 3078 \nQ 3713 2572 3713 1747 \nQ 3713 922 3314 415 \nQ 2916 -91 2278 -91 \nQ 1894 -91 1617 61 \nQ 1341 213 1159 525 \nL 1159 0 \nL 581 0 \nL 581 4863 \nL 1159 4863 \nL 1159 2969 \nz\n\" id=\"DejaVuSans-62\" transform=\"scale(0.015625)\"/>\n      <path d=\"M 544 1381 \nL 544 3500 \nL 1119 3500 \nL 1119 1403 \nQ 1119 906 1312 657 \nQ 1506 409 1894 409 \nQ 2359 409 2629 706 \nQ 2900 1003 2900 1516 \nL 2900 3500 \nL 3475 3500 \nL 3475 0 \nL 2900 0 \nL 2900 538 \nQ 2691 219 2414 64 \nQ 2138 -91 1772 -91 \nQ 1169 -91 856 284 \nQ 544 659 544 1381 \nz\nM 1991 3584 \nL 1991 3584 \nz\n\" id=\"DejaVuSans-75\" transform=\"scale(0.015625)\"/>\n      <path d=\"M 3513 2113 \nL 3513 0 \nL 2938 0 \nL 2938 2094 \nQ 2938 2591 2744 2837 \nQ 2550 3084 2163 3084 \nQ 1697 3084 1428 2787 \nQ 1159 2491 1159 1978 \nL 1159 0 \nL 581 0 \nL 581 3500 \nL 1159 3500 \nL 1159 2956 \nQ 1366 3272 1645 3428 \nQ 1925 3584 2291 3584 \nQ 2894 3584 3203 3211 \nQ 3513 2838 3513 2113 \nz\n\" id=\"DejaVuSans-6e\" transform=\"scale(0.015625)\"/>\n     </defs>\n     <use xlink:href=\"#DejaVuSans-4e\"/>\n     <use x=\"74.804688\" xlink:href=\"#DejaVuSans-6f\"/>\n     <use x=\"135.986328\" xlink:href=\"#DejaVuSans-72\"/>\n     <use x=\"175.349609\" xlink:href=\"#DejaVuSans-6d\"/>\n     <use x=\"272.761719\" xlink:href=\"#DejaVuSans-61\"/>\n     <use x=\"334.041016\" xlink:href=\"#DejaVuSans-6c\"/>\n     <use x=\"361.824219\" xlink:href=\"#DejaVuSans-20\"/>\n     <use x=\"393.611328\" xlink:href=\"#DejaVuSans-44\"/>\n     <use x=\"470.613281\" xlink:href=\"#DejaVuSans-69\"/>\n     <use x=\"498.396484\" xlink:href=\"#DejaVuSans-73\"/>\n     <use x=\"550.496094\" xlink:href=\"#DejaVuSans-74\"/>\n     <use x=\"589.705078\" xlink:href=\"#DejaVuSans-72\"/>\n     <use x=\"630.818359\" xlink:href=\"#DejaVuSans-69\"/>\n     <use x=\"658.601562\" xlink:href=\"#DejaVuSans-62\"/>\n     <use x=\"722.078125\" xlink:href=\"#DejaVuSans-75\"/>\n     <use x=\"785.457031\" xlink:href=\"#DejaVuSans-74\"/>\n     <use x=\"824.666016\" xlink:href=\"#DejaVuSans-69\"/>\n     <use x=\"852.449219\" xlink:href=\"#DejaVuSans-6f\"/>\n     <use x=\"913.630859\" xlink:href=\"#DejaVuSans-6e\"/>\n    </g>\n   </g>\n  </g>\n </g>\n <defs>\n  <clipPath id=\"p9ad96dd819\">\n   <rect height=\"217.44\" width=\"334.8\" x=\"50.14375\" y=\"22.318125\"/>\n  </clipPath>\n </defs>\n</svg>\n",
      "image/png": "[encoded data removed]"
     },
     "metadata": {
      "needs_background": "light"
     }
    }
   ],
   "metadata": {}
  }
 ],
 "metadata": {
  "orig_nbformat": 4,
  "language_info": {
   "name": "python",
   "version": "3.9.6",
   "mimetype": "text/x-python",
   "codemirror_mode": {
    "name": "ipython",
    "version": 3
   },
   "pygments_lexer": "ipython3",
   "nbconvert_exporter": "python",
   "file_extension": ".py"
  },
  "kernelspec": {
   "name": "python3",
   "display_name": "Python 3.9.6 64-bit ('python-programming-Anna-Maria-Sjolund-Htb3K3oR': pipenv)"
  },
  "interpreter": {
   "hash": "d058bb7a222ccb114394dd2dbf09376c772f658c97746095daf69714e9de45e0"
  }
 },
 "nbformat": 4,
 "nbformat_minor": 2
}