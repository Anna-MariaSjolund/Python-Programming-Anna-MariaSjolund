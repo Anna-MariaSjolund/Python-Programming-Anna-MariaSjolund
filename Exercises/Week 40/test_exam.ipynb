{
 "cells": [
  {
   "cell_type": "markdown",
   "source": [
    "# Övningsprov"
   ],
   "metadata": {}
  },
  {
   "cell_type": "markdown",
   "source": [
    "## Uppgift 1"
   ],
   "metadata": {}
  },
  {
   "cell_type": "code",
   "execution_count": null,
   "source": [
    "import matplotlib.pyplot as plt  #Import the package matplotlib.pyplot, which is used for plotting. Import it as plt, so that we do not have to use the full name when we write the code.\n",
    "\n",
    "x = list(range(10)) #Creates a list of 10 numbers, between 0 and 9, and stores them in variable x.\n",
    "y = [i**2 for i in x] #For each number in the list x, raise the number to the power of 2 and store it in a list y.\n",
    "fig, ax = plt.figure(), plt.axes() #plt.figure() creates the figure/background for plotting the values (it is the top level container for all the plot elements). plt.axes() creates the axes for the figure. We can later use ax.plot(), instead of plt.plot(). This is the OOP approach to matplotlib.\n",
    "ax.plot(x,y) #Creates the plot and plots the x values on the x-axis and the y-values on the y-axis. x will have the values 0-9 and y will have the squared values of x: 0, 1, 4, 9, 16, 25, 36, 49, 64, 81. The values will be connected with a line.\n",
    "ax.set(title=\"Plot\", xlabel=\"x\", ylabel=\"y\") #Sets the title to “Plot” and the xlabel and ylabel to “x” and “y” respectively. The title will be shown on the top of the plot and the y-value to the left of the y-axis and the x-label below the x-axis."
   ],
   "outputs": [],
   "metadata": {}
  },
  {
   "cell_type": "markdown",
   "source": [
    "## Uppgift 2"
   ],
   "metadata": {}
  },
  {
   "cell_type": "code",
   "execution_count": null,
   "source": [
    "#Version 1\n",
    "\n",
    "import random as rnd\n",
    "dice_rolls_counted = {\"ones\":0, \"twos\":0, \"threes\":0, \"fours\":0, \"fives\":0, \"sixes\":0}\n",
    "\n",
    "for roll in range(1000000):\n",
    "\tresult = rnd.randint(1, 6)\n",
    "\n",
    "\tif result == 1:\n",
    "\t\tdice_rolls_counted[\"ones\"] += 1\n",
    "\tif result == 2:\n",
    "\t\tdice_rolls_counted[\"twos\"] += 1\n",
    "\tif result == 3:\n",
    "\t\tdice_rolls_counted[\"threes\"] += 1\n",
    "\tif result == 4:\n",
    "\t\tdice_rolls_counted[\"fours\"] += 1\n",
    "\tif result == 5:\n",
    "\t\tdice_rolls_counted[\"fives\"] += 1\n",
    "\tif result == 6:\n",
    "\t\tdice_rolls_counted[\"sixes\"] += 1\n",
    "\n",
    "print(dice_rolls_counted)"
   ],
   "outputs": [],
   "metadata": {}
  },
  {
   "cell_type": "code",
   "execution_count": null,
   "source": [
    "#Version 2\n",
    "\n",
    "import random as rnd\n",
    "dice_rolls_counted = {\"1\":0, \"2\":0, \"3\":0, \"4\":0, \"5\":0, \"6\":0}\n",
    "\n",
    "for roll in range(1000000):\n",
    "    result = rnd.randint(1, 6)\n",
    "    dice_rolls_counted[str(result)] += 1\n",
    "\n",
    "print(dice_rolls_counted)"
   ],
   "outputs": [],
   "metadata": {}
  },
  {
   "cell_type": "markdown",
   "source": [
    "## Uppgift 3"
   ],
   "metadata": {}
  },
  {
   "cell_type": "code",
   "execution_count": null,
   "source": [
    "import math\n",
    "\n",
    "def volume_sphere(radius:float) -> float:\n",
    "\t\"\"\"\n",
    "\tCalculates the volume of a sphere.\n",
    "\n",
    "\tParameters\n",
    "\t----------\n",
    "\tradius:float\n",
    "\t\tThe radius of a sphere.\n",
    "\n",
    "\tRaises\n",
    "\t------\n",
    "\tTypeError\n",
    "\t\tIf the value for the radius is not an int or a float.\n",
    "\tValueError\n",
    "\t\tIf the radius is 0 or below\n",
    "\n",
    "\tReturns\n",
    "\t-------\n",
    "\tThe volume of the sphere.\n",
    "\t\"\"\"\n",
    "\n",
    "\tif not isinstance(radius, (int, float)):\n",
    "\t\traise TypeError(f\"The value has to be an int or a float, not {type(radius)}.\")\n",
    "\tif radius <= 0 :\n",
    "\t\traise ValueError(\"The value has to be above 0.\")\n",
    "\treturn (4*math.pi*(radius**3))/3\n",
    "\n",
    "try: \n",
    "\tradius = input(\"Please enter the radius of the sphere.\")\n",
    "\n",
    "\tif not radius.strip(\"-\").isnumeric(): #If we do not use strip \"-\", negative values will not be recognised as numerical.\n",
    "\t\traise TypeError(\"The value has to be numerical.\")\n",
    "\n",
    "\tradius = float(radius)\n",
    "\n",
    "\tif radius <= 0 :\n",
    "\t\t\traise ValueError(\"The value has to be above 0.\")\n",
    "\n",
    "\tprint(f\"The volume of the sphere is: {volume_sphere(radius):.1f}.\")\n",
    "\n",
    "except (ValueError, TypeError) as err: #Both ValueError and TypeError has to be part of the except. Otherwise the program crashes.\n",
    "\tprint(err)"
   ],
   "outputs": [],
   "metadata": {}
  },
  {
   "cell_type": "markdown",
   "source": [
    "## Uppgift 4"
   ],
   "metadata": {}
  },
  {
   "cell_type": "code",
   "execution_count": null,
   "source": [
    "with open (\"bamba.txt\", \"r\") as b:\n",
    "    bamba = b.read()\n",
    "\n",
    "print(bamba)"
   ],
   "outputs": [],
   "metadata": {}
  },
  {
   "cell_type": "markdown",
   "source": [
    "## Uppgift 5"
   ],
   "metadata": {}
  },
  {
   "cell_type": "code",
   "execution_count": null,
   "source": [
    "from math import sqrt\n",
    "\n",
    "path = \"testpoints/testpunkter.txt\"\n",
    "with open (path, \"r\") as t:\n",
    "    test = [line.strip(\"\\n\") for line in t.readlines()] #Reads each line, strips it from \"\\n\" and saves each line in the list test.\n",
    "    test.pop(0) #Removes the heading\n",
    "    test = [line.split(\" \") for line in test] #Split the elements on empty space, so that we create inner lists, consisting of two points\n",
    "    test = [[line[0].replace(\"(\", \"\").replace(\")\", \"\"), line[1].replace(\"(\", \"\").replace(\")\", \"\")] for line in test] #Removes all paranthesis for each item in the inner lists\n",
    "    test = [[line[0].split(\",\"), line[1].split(\",\")] for line in test] #Splits the items in the inner lists into two lists, where each list contains an x and y value \n",
    "    test = [[(int(line[0][0]), int(line[0][1])), (int(line[1][0]), int(line[1][1]))] for line in test] #Changes the x and y values in the inner-inner lists and stores them as tuples (x, y)\n",
    "\n",
    "def eucl_dist(point1:tuple, point2:tuple) -> float:\n",
    "    \"\"\"\n",
    "    Calculates the euclidean distance between two points.\n",
    "\n",
    "    Parameters\n",
    "        ---------------\n",
    "    point1 : tuple\n",
    "    The first point (x, y) for comparison.\n",
    "    point2 : tuple\n",
    "    The second point (x, y) for comparison.\n",
    "\n",
    "    Returns\n",
    "    -----------\n",
    "    The euclidean distance between point 1 and 2.\n",
    "    \"\"\"\n",
    "    \n",
    "    return sqrt((point1[0] - point2[0])**2 + (point1[1] - point2[1])**2)\n",
    "\n",
    "for point in test:\n",
    "    print(f\"The euclidean distance between {point[0]}, {point[1]} is: {eucl_dist(point[0], point[1]):.1f}.\")"
   ],
   "outputs": [],
   "metadata": {}
  },
  {
   "cell_type": "markdown",
   "source": [
    "## Uppgift 6"
   ],
   "metadata": {}
  },
  {
   "cell_type": "code",
   "execution_count": 20,
   "source": [
    "import random as rnd #Imports the random package as rnd\n",
    "\n",
    "def draw(total_cards:list, picked_cards:list, is_player:bool=True, show_card:bool=True) -> list:\t\n",
    "\t\n",
    "\tcard_number = rnd.randint(2, 14) #Generates a random integer between 2 and 14\n",
    "\n",
    "\t#If the card number is no longer available in the deck, generate a new random number.\n",
    "\twhile total_cards[card_number-2][1] == 0: \n",
    "\t\tcard_number = rnd.randint(2, 14)\n",
    "\n",
    "\tdeck[card_number-2][1] -= 1 #Removes one from the count of the card number\n",
    "\n",
    "\t#Player or dealer\n",
    "\tif is_player == True:\n",
    "\t\tplayer = \"You\"\n",
    "\telse:\n",
    "\t\tplayer = \"The dealer\"\n",
    "\n",
    "\t#List of card names\n",
    "\tcard_names = {11:\"Jack\", 12:\"Queen\", 13:\"King\", 14:\"Ace\"}\n",
    "\n",
    "\t#Adds to the picked_cards and gives feedback\n",
    "\tif card_number == 11 or card_number == 12 or card_number == 13 or card_number == 14:\n",
    "\t\tpicked_cards[card_number-2][1] += 1\n",
    "\t\tif show_card == True:\n",
    "\t\t\tprint(f\"{player} got a {card_names[card_number]}!\")\n",
    "\telse:\n",
    "\t\tpicked_cards[card_number-2][1] += 1\n",
    "\t\tif show_card == True:\n",
    "\t\t\tprint(f\"{player} got a {card_number}!\")\n",
    "\t\n",
    "\treturn total_cards, picked_cards"
   ],
   "outputs": [],
   "metadata": {}
  },
  {
   "cell_type": "code",
   "execution_count": null,
   "source": [
    "#COUNT CARDS\n",
    "\n",
    "def count_cards(picked_cards:list) -> int:\n",
    "\tcard_count = 0\n",
    "\tfor card_number in picked_cards:\n",
    "\t\tif card_number[0] == 11 or card_number[0] == 12 or card_number[0] == 13:\n",
    "\t\t\tcard_count += (card_number[1] * 10)\n",
    "\t\telif card_number[0] == 14: \n",
    "\t\t\tif (card_count + card_number[1] * 11) <= 21:\n",
    "\t\t\t\tcard_count += (card_number[1] * 11)\n",
    "\t\t\telse:\n",
    "\t\t\t\tcard_count += (card_number[1]*1)\n",
    "\t\telse:\n",
    "\t\t\tcard_count += (card_number[0] * card_number[1])\n",
    "\treturn card_count"
   ],
   "outputs": [],
   "metadata": {}
  },
  {
   "cell_type": "code",
   "execution_count": 23,
   "source": [
    "#INITIALIZES VALUES\n",
    "\n",
    "#Creates a list of lists, where the first number in the list symbolises the card number (between 2 and 14, where 11=Jack, 12=Queen, 13=King and 14=Ace) and the second number symbolises the count of the card (initialised to 4). This is the full deck.\n",
    "deck = [[card_number, 4] for card_number in range(2, 15)]\n",
    "\n",
    "#Creates a list of lists to store the player’s cards (the second element in the inner lists is the number of cards of that type that the player has picked).\n",
    "players_cards = [[card_number, 0] for card_number in range(2, 15)]\n",
    "\n",
    "#Sets the count of the card values for the dealer\n",
    "dealers_cards = [[card_number, 0] for card_number in range(2, 15)]\n",
    "\n",
    "#DEALER DRAWS TWO CARDS\n",
    "\n",
    "deck, dealers_cards = draw(deck, dealers_cards, is_player=False, show_card=True)\n",
    "deck, dealers_cards = draw(deck, dealers_cards, is_player=False, show_card=False)\n",
    "\n",
    "#PLAYER DRAWS TWO CARDS\n",
    "\n",
    "for _ in range(2):\n",
    "\tdeck, players_cards = draw(deck, players_cards, is_player=True, show_card=True)\n",
    "\n",
    "#PLAYER CONTINUES TO DRAW CARDS\n",
    "\n",
    "while(True):\n",
    "    to_continue = input(\"Type 'yes' if you want to draw another card. To finish and count your cards, type 'no'.\")\n",
    "    to_continue = to_continue.lower()\n",
    "    if to_continue != \"yes\" and to_continue != \"no\":\n",
    "        print(\"You are only allowed to enter 'yes' or 'no'. Please try again.\")\n",
    "    elif to_continue == \"yes\":\n",
    "        deck, players_cards = draw(deck, players_cards, is_player=True, show_card=True)\n",
    "    else: \n",
    "        break\n",
    "\n",
    "#COUNT RESULTS\n",
    "\n",
    "players_result = count_cards(players_cards)\n",
    "dealers_result = count_cards(dealers_cards)\n",
    "\n",
    "if (players_result <= 21 and players_result > dealers_result) or dealers_result  > 21:\n",
    "\tprint(f\"Congratulations! You won! You got {players_result} and the dealer got {dealers_result}.\")\n",
    "else:\n",
    "\tprint(f\"You lost! You got {players_result} and the dealer got {dealers_result}.\")"
   ],
   "outputs": [
    {
     "output_type": "stream",
     "name": "stdout",
     "text": [
      "The dealer got a 5!\n",
      "You got a 2!\n",
      "You got a 3!\n",
      "You got a 10!\n",
      "You got a 9!\n",
      "You lost! You got 24 and the dealer got 15.\n"
     ]
    }
   ],
   "metadata": {}
  },
  {
   "cell_type": "code",
   "execution_count": 27,
   "source": [
    "print(deck)\n",
    "print(dealers_cards)\n",
    "print(players_cards)\n",
    "print(dealers_result)\n",
    "print(players_result)"
   ],
   "outputs": [
    {
     "output_type": "stream",
     "name": "stdout",
     "text": [
      "[[2, 3], [3, 3], [4, 4], [5, 3], [6, 4], [7, 4], [8, 4], [9, 3], [10, 3], [11, 4], [12, 4], [13, 3], [14, 4]]\n",
      "[[2, 0], [3, 0], [4, 0], [5, 1], [6, 0], [7, 0], [8, 0], [9, 0], [10, 0], [11, 0], [12, 0], [13, 1], [14, 0]]\n",
      "[[2, 1], [3, 1], [4, 0], [5, 0], [6, 0], [7, 0], [8, 0], [9, 1], [10, 1], [11, 0], [12, 0], [13, 0], [14, 0]]\n",
      "15\n",
      "24\n"
     ]
    }
   ],
   "metadata": {}
  },
  {
   "cell_type": "markdown",
   "source": [
    "## Uppgift 7"
   ],
   "metadata": {}
  },
  {
   "cell_type": "code",
   "execution_count": null,
   "source": [
    "import math\n",
    "import matplotlib.pyplot as plt\n",
    "import numpy as np\n",
    "\n",
    "class NormalDist:\n",
    "    def __init__(self, mu:float, sigma:float) -> None:\n",
    "        self.mu = mu\n",
    "        self.sigma = sigma\n",
    "        \n",
    "    @property\n",
    "    def mu(self):\n",
    "        return self._mu\n",
    "    \n",
    "    @property\n",
    "    def sigma(self):\n",
    "        return self._sigma\n",
    "    \n",
    "    @mu.setter\n",
    "    def mu(self, mu):\n",
    "\t    self._mu = NormalDist.is_numerical(mu)\n",
    "    \n",
    "    @sigma.setter\n",
    "    def sigma(self, sigma):\n",
    "        self._sigma = NormalDist.is_numerical(sigma)\n",
    "    \n",
    "    @staticmethod\n",
    "    def is_numerical(value):\n",
    "        if not isinstance(value, (int, float)):\n",
    "            raise ValueError(\"The value has to be numerical.\")\n",
    "        return value\n",
    "        \n",
    "    def pdf(self, x:float) -> float:\n",
    "        formula_part1 = 1/(self.sigma*(math.sqrt(2*math.pi)))\n",
    "        formula_part2 = math.e**(-1/2*((x-self.mu)/self.sigma)**2)\n",
    "        return float(formula_part1*formula_part2)\n",
    "\n",
    "    def plot_pdf(self, x:float) -> None:\n",
    "        fig = plt.figure(dpi=100)\n",
    "        ax = plt.axes()\n",
    "        \n",
    "        x_values = np.arange(-self.sigma*3, self.sigma*3, .001) #Creates a list of x_values between -3 SD and 3 SD, with a step of .001\n",
    "        f_values = [self.pdf(x) for x in x_values] #Run the pdf-function on all the x-values and store them in f_values\n",
    "        ax.plot(x_values, f_values) #Plots the values\n",
    "        ax.scatter(x, self.pdf(x)) #Plots the x-point.\n",
    "        ax.set(title=\"Normal Distribution\", xlabel=\"x\", ylabel=\"f(x)\")\n",
    "        plt.show()\n",
    "\t\t\n",
    "    def __add__(self, other) -> \"NormalDist\":\n",
    "        normal_dist_added = NormalDist((self.mu+other.mu), (self.sigma+other.sigma))\n",
    "        return normal_dist_added\n",
    "    \n",
    "    def __repr__(self):\n",
    "        return f\"A normal distribution with mu={self.mu}, sigma={self.sigma}.\""
   ],
   "outputs": [],
   "metadata": {}
  },
  {
   "cell_type": "code",
   "execution_count": null,
   "source": [
    "n_dist1 = NormalDist(0, 3)\n",
    "n_dist2 = NormalDist(-2, 5)\n",
    "\n",
    "n_dist3 = n_dist1 + n_dist2\n",
    "print(n_dist3)\n",
    "print(n_dist3.pdf(3))\n",
    "n_dist3.plot_pdf(3)"
   ],
   "outputs": [],
   "metadata": {}
  }
 ],
 "metadata": {
  "orig_nbformat": 4,
  "language_info": {
   "name": "python",
   "version": "3.9.6",
   "mimetype": "text/x-python",
   "codemirror_mode": {
    "name": "ipython",
    "version": 3
   },
   "pygments_lexer": "ipython3",
   "nbconvert_exporter": "python",
   "file_extension": ".py"
  },
  "kernelspec": {
   "name": "python3",
   "display_name": "Python 3.9.6 64-bit ('python-programming-Anna-Maria-Sjolund-Htb3K3oR': pipenv)"
  },
  "interpreter": {
   "hash": "d058bb7a222ccb114394dd2dbf09376c772f658c97746095daf69714e9de45e0"
  }
 },
 "nbformat": 4,
 "nbformat_minor": 2
}